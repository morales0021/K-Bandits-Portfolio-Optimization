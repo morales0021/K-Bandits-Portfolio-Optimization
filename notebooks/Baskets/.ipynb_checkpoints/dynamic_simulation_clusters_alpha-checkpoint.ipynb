{
 "cells": [
  {
   "cell_type": "code",
   "execution_count": 214,
   "id": "ffe0e652",
   "metadata": {},
   "outputs": [
    {
     "name": "stdout",
     "output_type": "stream",
     "text": [
      "/home/mora/Documents/projects/Bandits\n"
     ]
    }
   ],
   "source": [
    "import os\n",
    "import sys\n",
    "path = '/'.join(os.path.abspath('').split('/')[0:-2])\n",
    "print(path)\n",
    "sys.path.append(path)\n",
    "\n",
    "import pickle\n",
    "import pandas as pd\n",
    "import json\n",
    "import random, tqdm\n",
    "import numpy as np\n",
    "\n",
    "from experts.alpha import alpha\n",
    "from exploration.explore import explore\n",
    "from exploration.outils import stats\n",
    "\n",
    "import plotly.express as px"
   ]
  },
  {
   "cell_type": "code",
   "execution_count": null,
   "id": "6169ddd6",
   "metadata": {},
   "outputs": [],
   "source": [
    "with open('../../../datasharing/tickers.json','r') as file:\n",
    "    tickers = json.load(file)\n",
    "\n",
    "tickers = tickers[\"sp500\"]"
   ]
  },
  {
   "cell_type": "code",
   "execution_count": 36,
   "id": "db77b0fb",
   "metadata": {},
   "outputs": [
    {
     "name": "stderr",
     "output_type": "stream",
     "text": [
      "/tmp/ipykernel_1159462/1425304769.py:14: PerformanceWarning: DataFrame is highly fragmented.  This is usually the result of calling `frame.insert` many times, which has poor performance.  Consider joining all columns at once using pd.concat(axis=1) instead. To get a de-fragmented frame, use `newframe = frame.copy()`\n",
      "  df_close_stocks['date'] = df_close_stocks.index\n",
      "/tmp/ipykernel_1159462/1425304769.py:25: PerformanceWarning: DataFrame is highly fragmented.  This is usually the result of calling `frame.insert` many times, which has poor performance.  Consider joining all columns at once using pd.concat(axis=1) instead. To get a de-fragmented frame, use `newframe = frame.copy()`\n",
      "  df_close_stocks.reset_index(inplace = True)\n",
      "/tmp/ipykernel_1159462/1425304769.py:26: PerformanceWarning: DataFrame is highly fragmented.  This is usually the result of calling `frame.insert` many times, which has poor performance.  Consider joining all columns at once using pd.concat(axis=1) instead. To get a de-fragmented frame, use `newframe = frame.copy()`\n",
      "  df_close_stocks['date'] = pd.to_datetime(df_close_stocks['Date'])\n"
     ]
    }
   ],
   "source": [
    "# Load the pickle file that contains the full data for each stock\n",
    "with open('../../../datasharing/hist_stock_data.pkl','rb') as file:\n",
    "    df_hst_tickers = pickle.load(file)\n",
    "\n",
    "# Chose the label \"Close\" as the main label to analyse the price series\n",
    "label = 'Close'\n",
    "df_close_stocks = pd.DataFrame([])\n",
    "for key, df in df_hst_tickers.items():\n",
    "    df_close_stocks = pd.concat([df_close_stocks,\n",
    "                                 df[label]], axis = 1)\n",
    "\n",
    "# Create a single data frame that cotains the series data from all the SP500 stocks\n",
    "df_close_stocks.columns = list(df_hst_tickers.keys())\n",
    "df_close_stocks['date'] = df_close_stocks.index\n",
    "df_close_stocks.index = pd.to_datetime(df_close_stocks['date'])\n",
    "\n",
    "\n",
    "df_close_stocks = pd.DataFrame()\n",
    "\n",
    "for ticker in tickers:\n",
    "    srs = df_hst_tickers[ticker][['Close']]\n",
    "    srs.columns = [ticker]\n",
    "    df_close_stocks = pd.concat([df_close_stocks,srs], axis = 1)\n",
    "    \n",
    "df_close_stocks.reset_index(inplace = True)\n",
    "df_close_stocks['date'] = pd.to_datetime(df_close_stocks['Date'])\n",
    "\n",
    "df_close_stocks.set_index('date', inplace = True)\n",
    "df_2w = df_close_stocks.resample(\"2W\").last()"
   ]
  },
  {
   "cell_type": "code",
   "execution_count": 218,
   "id": "d9d26a75",
   "metadata": {},
   "outputs": [],
   "source": [
    "# Creating the function that compute the statistics\n",
    "def get_stats(df_close_stocks, tickers, years = None, inter = None, freq = 'M', min_els = 6):\n",
    "    \"\"\"\n",
    "    This function produces some statistics using a dataframe fille with stocks.\n",
    "    Precisely the average mean return and the sharpe ratio.\n",
    "    Args:\n",
    "        df_hst_tickers (dict) - contains dataframes for multiple stocks\n",
    "        tickers (list) - the list of tickers to compute the statistics \n",
    "        years (list) - the list of years to compute the statistics\n",
    "        inter (slice) - A slice that precises the data indexs to compute the statistics\n",
    "        freq (str) - the frequency for the statistics (Y,M,W,2W, ...)\n",
    "        min_els(int) - the minimum quantity of elements in the series required\n",
    "            after the frequency postprocessing.\n",
    "    \"\"\"\n",
    "    st_stats = {}\n",
    "    for ticker in tickers:\n",
    "        if years:\n",
    "            tmp_df = df_close_stocks[df_close_stocks['Date'].dt.year.isin(years)]\n",
    "        elif inter:\n",
    "            tmp_df = df_close_stocks.iloc[inter]\n",
    "\n",
    "        pc_m = tmp_df[ticker].pct_change(periods = 1, freq = freq).dropna()\n",
    "\n",
    "        # discart ticket if not enough data\n",
    "        if pc_m.shape[0] < min_els:\n",
    "            continue\n",
    "            \n",
    "        av_ret = pc_m.mean()\n",
    "        sr = av_ret / pc_m.std()\n",
    "        st_stats[ticker] = {\"sr\":sr, 'av_ret':av_ret}\n",
    "            \n",
    "    return st_stats\n",
    "\n",
    "def df_and_sort(st_stats, col):\n",
    "    \"\"\"\n",
    "    Function that creates a dataframe using a dictionary with of stocks with statistics\n",
    "    metrics and sort the dataframe based on the column name precised.\n",
    "    Args:\n",
    "        st_stats (dict) - The dictionary containing the statistics.\n",
    "        col (str) - The name of the column for sorting.\n",
    "    \"\"\"\n",
    "    df_stats = pd.DataFrame(st_stats).transpose()\n",
    "    df_stats.sort_values(by=col, inplace = True, ascending = False)\n",
    "    return df_stats\n",
    "\n",
    "\n",
    "def create_stock_groups(lst_stocks: list, basket_size: int,\n",
    "                        max_stocks: int):\n",
    "    \"\"\"\n",
    "    Create multiple group of stocks with basket_size elements\n",
    "    inside each group.\n",
    "    Args:\n",
    "        lst_stocks (list) : List of stocks\n",
    "        basket_size (int): The total element of stocks in\n",
    "            each basket.\n",
    "    \"\"\"\n",
    "    \n",
    "    random.shuffle(tst)\n",
    "    stcks = {'stocks_dict':list(tst), 'groups':{}}\n",
    "\n",
    "    for i in range(0,max_stocks,basket_size):\n",
    "        stcks['groups'].update({i:list(tst[i:i+basket_size])})\n",
    "    \n",
    "    return stcks\n",
    "\n",
    "\n",
    "def simulate_year(df_series, years: list, n_sims: int,\n",
    "                  stock_groups: dict, exploration_rate: float,\n",
    "                  p_alpha: float):\n",
    "\n",
    "    df_test = df_series[df_series['Date'].dt.year.isin(years)]\n",
    "    lines = []\n",
    "\n",
    "    for group, lst_stocks in stock_groups['groups'].items():\n",
    "\n",
    "        df_bandits = df_test[lst_stocks].pct_change(1).dropna()\n",
    "\n",
    "        if df_bandits.shape[0] == 0:\n",
    "            continue\n",
    "\n",
    "        arguments = {\"exploration_rate\": exploration_rate,\n",
    "                     \"n_bandit\":df_bandits.shape[1],\n",
    "                     \"steps\":df_bandits.shape[0],\n",
    "                     \"alpha\":p_alpha,\n",
    "                     \"df_bandits\":df_bandits\n",
    "                    }\n",
    "\n",
    "\n",
    "        exp = explore(alpha.execute)\n",
    "        exp.execute(n_sims, **arguments)\n",
    "        mean, std = stats(exp.rets_compo)\n",
    "        line = [arguments[\"alpha\"],\n",
    "                arguments[\"exploration_rate\"],\n",
    "                mean,\n",
    "                std]\n",
    "\n",
    "        lines.append(line)\n",
    "\n",
    "    df_rets = pd.DataFrame(lines)\n",
    "    df_rets.columns = [\"alpha\", \"expl\", \"mean\", \"std\"]\n",
    "    \n",
    "    return df_rets.mean()"
   ]
  },
  {
   "cell_type": "code",
   "execution_count": 267,
   "id": "f6be7e88",
   "metadata": {},
   "outputs": [
    {
     "name": "stderr",
     "output_type": "stream",
     "text": [
      "100%|███████████████████████████████████████████| 11/11 [00:45<00:00,  4.09s/it]\n"
     ]
    }
   ],
   "source": [
    "# Create a group of stocks\n",
    "max_stocks = 120\n",
    "stock_groups = {}\n",
    "basket_size = 5\n",
    "metric = 'sr' # choose between 'av_ret' or 'sr'\n",
    "\n",
    "for year in tqdm.tqdm(range(2013,2024)):\n",
    "\n",
    "    years_tr = list(range(year - 10, year))\n",
    "    stats_tr = get_stats(df_close_stocks, tickers, years = years_tr)\n",
    "    df_stats_tr = df_and_sort(stats_tr, metric)\n",
    "    tst = df_stats_tr.index[0:max_stocks].values\n",
    "    stock_groups[year] = create_stock_groups(tickers,\n",
    "                                             basket_size,\n",
    "                                             max_stocks)"
   ]
  },
  {
   "cell_type": "code",
   "execution_count": 268,
   "id": "91fa51d0",
   "metadata": {},
   "outputs": [
    {
     "name": "stderr",
     "output_type": "stream",
     "text": [
      "100%|███████████████████████████████████████████| 11/11 [09:16<00:00, 50.63s/it]\n"
     ]
    }
   ],
   "source": [
    "final_stats = []\n",
    "\n",
    "for year in tqdm.tqdm(range(2013,2024)):\n",
    "    for exploration_rate in np.arange(0.01,0.15,0.01):\n",
    "        for p_alpha in np.arange(0.005,0.15,0.005):\n",
    "            st_year = simulate_year(df_2w, [year], n_sims = 5,\n",
    "                                    stock_groups = stock_groups[year],\n",
    "                                    exploration_rate = exploration_rate,\n",
    "                                    p_alpha = p_alpha\n",
    "                                   )\n",
    "            tmp_year = {\"year\":year,\"ex_rate\":exploration_rate,\n",
    "                        \"alpha\":p_alpha, \"return\": st_year['mean']}\n",
    "            final_stats.append(tmp_year)"
   ]
  },
  {
   "cell_type": "code",
   "execution_count": 258,
   "id": "59163596",
   "metadata": {},
   "outputs": [],
   "source": [
    "df_res = pd.DataFrame(final_stats)\n",
    "df_groups = df_res.groupby(by=['ex_rate','alpha']).mean()['return'].reset_index()"
   ]
  },
  {
   "cell_type": "code",
   "execution_count": 264,
   "id": "fa08c9b4",
   "metadata": {},
   "outputs": [
    {
     "data": {
      "text/html": [
       "<div>\n",
       "<style scoped>\n",
       "    .dataframe tbody tr th:only-of-type {\n",
       "        vertical-align: middle;\n",
       "    }\n",
       "\n",
       "    .dataframe tbody tr th {\n",
       "        vertical-align: top;\n",
       "    }\n",
       "\n",
       "    .dataframe thead th {\n",
       "        text-align: right;\n",
       "    }\n",
       "</style>\n",
       "<table border=\"1\" class=\"dataframe\">\n",
       "  <thead>\n",
       "    <tr style=\"text-align: right;\">\n",
       "      <th></th>\n",
       "      <th>ex_rate</th>\n",
       "      <th>alpha</th>\n",
       "      <th>return</th>\n",
       "    </tr>\n",
       "  </thead>\n",
       "  <tbody>\n",
       "    <tr>\n",
       "      <th>0</th>\n",
       "      <td>0.01</td>\n",
       "      <td>0.005</td>\n",
       "      <td>0.191300</td>\n",
       "    </tr>\n",
       "    <tr>\n",
       "      <th>1</th>\n",
       "      <td>0.01</td>\n",
       "      <td>0.010</td>\n",
       "      <td>0.189720</td>\n",
       "    </tr>\n",
       "    <tr>\n",
       "      <th>2</th>\n",
       "      <td>0.01</td>\n",
       "      <td>0.015</td>\n",
       "      <td>0.188493</td>\n",
       "    </tr>\n",
       "    <tr>\n",
       "      <th>3</th>\n",
       "      <td>0.01</td>\n",
       "      <td>0.020</td>\n",
       "      <td>0.195731</td>\n",
       "    </tr>\n",
       "    <tr>\n",
       "      <th>4</th>\n",
       "      <td>0.01</td>\n",
       "      <td>0.025</td>\n",
       "      <td>0.192923</td>\n",
       "    </tr>\n",
       "  </tbody>\n",
       "</table>\n",
       "</div>"
      ],
      "text/plain": [
       "   ex_rate  alpha    return\n",
       "0     0.01  0.005  0.191300\n",
       "1     0.01  0.010  0.189720\n",
       "2     0.01  0.015  0.188493\n",
       "3     0.01  0.020  0.195731\n",
       "4     0.01  0.025  0.192923"
      ]
     },
     "execution_count": 264,
     "metadata": {},
     "output_type": "execute_result"
    }
   ],
   "source": [
    "path_csv = '../../../datasharing/df_groups_alpha.csv'\n",
    "df_groups.to_csv(path_csv,index = False)\n",
    "df_groups = pd.read_csv(path_csv)\n",
    "df_groups.head()"
   ]
  },
  {
   "cell_type": "code",
   "execution_count": 265,
   "id": "a711ce64",
   "metadata": {},
   "outputs": [
    {
     "data": {
      "text/plain": [
       "<AxesSubplot: >"
      ]
     },
     "execution_count": 265,
     "metadata": {},
     "output_type": "execute_result"
    },
    {
     "data": {
      "image/png": "[encoded data removed]",
      "text/plain": [
       "<Figure size 640x480 with 1 Axes>"
      ]
     },
     "metadata": {},
     "output_type": "display_data"
    }
   ],
   "source": [
    "df_groups['return'].plot()"
   ]
  },
  {
   "cell_type": "code",
   "execution_count": 266,
   "id": "c129f40c",
   "metadata": {},
   "outputs": [
    {
     "data": {
      "application/vnd.plotly.v1+json": {
       "config": {
        "plotlyServerURL": "https://plot.ly"
       },
       "data": [
        {
         "coloraxis": "coloraxis",
         "histfunc": "avg",
         "hovertemplate": "ex_rate=%{x}<br>alpha=%{y}<br>avg of return=%{z}<extra></extra>",
         "name": "",
         "type": "histogram2d",
         "x": [
          0.01,
          0.01,
          0.01,
          0.01,
          0.01,
          0.01,
          0.01,
          0.01,
          0.01,
          0.01,
          0.01,
          0.01,
          0.01,
          0.01,
          0.01,
          0.01,
          0.01,
          0.01,
          0.01,
          0.01,
          0.01,
          0.01,
          0.01,
          0.01,
          0.01,
          0.01,
          0.01,
          0.01,
          0.01,
          0.02,
          0.02,
          0.02,
          0.02,
          0.02,
          0.02,
          0.02,
          0.02,
          0.02,
          0.02,
          0.02,
          0.02,
          0.02,
          0.02,
          0.02,
          0.02,
          0.02,
          0.02,
          0.02,
          0.02,
          0.02,
          0.02,
          0.02,
          0.02,
          0.02,
          0.02,
          0.02,
          0.02,
          0.02,
          0.03,
          0.03,
          0.03,
          0.03,
          0.03,
          0.03,
          0.03,
          0.03,
          0.03,
          0.03,
          0.03,
          0.03,
          0.03,
          0.03,
          0.03,
          0.03,
          0.03,
          0.03,
          0.03,
          0.03,
          0.03,
          0.03,
          0.03,
          0.03,
          0.03,
          0.03,
          0.03,
          0.03,
          0.03,
          0.04,
          0.04,
          0.04,
          0.04,
          0.04,
          0.04,
          0.04,
          0.04,
          0.04,
          0.04,
          0.04,
          0.04,
          0.04,
          0.04,
          0.04,
          0.04,
          0.04,
          0.04,
          0.04,
          0.04,
          0.04,
          0.04,
          0.04,
          0.04,
          0.04,
          0.04,
          0.04,
          0.04,
          0.04,
          0.05,
          0.05,
          0.05,
          0.05,
          0.05,
          0.05,
          0.05,
          0.05,
          0.05,
          0.05,
          0.05,
          0.05,
          0.05,
          0.05,
          0.05,
          0.05,
          0.05,
          0.05,
          0.05,
          0.05,
          0.05,
          0.05,
          0.05,
          0.05,
          0.05,
          0.05,
          0.05,
          0.05,
          0.05,
          0.06,
          0.06,
          0.06,
          0.06,
          0.06,
          0.06,
          0.06,
          0.06,
          0.06,
          0.06,
          0.06,
          0.06,
          0.06,
          0.06,
          0.06,
          0.06,
          0.06,
          0.06,
          0.06,
          0.06,
          0.06,
          0.06,
          0.06,
          0.06,
          0.06,
          0.06,
          0.06,
          0.06,
          0.06,
          0.0699999999999999,
          0.0699999999999999,
          0.0699999999999999,
          0.0699999999999999,
          0.0699999999999999,
          0.0699999999999999,
          0.0699999999999999,
          0.0699999999999999,
          0.0699999999999999,
          0.0699999999999999,
          0.0699999999999999,
          0.0699999999999999,
          0.0699999999999999,
          0.0699999999999999,
          0.0699999999999999,
          0.0699999999999999,
          0.0699999999999999,
          0.0699999999999999,
          0.0699999999999999,
          0.0699999999999999,
          0.0699999999999999,
          0.0699999999999999,
          0.0699999999999999,
          0.0699999999999999,
          0.0699999999999999,
          0.0699999999999999,
          0.0699999999999999,
          0.0699999999999999,
          0.0699999999999999,
          0.08,
          0.08,
          0.08,
          0.08,
          0.08,
          0.08,
          0.08,
          0.08,
          0.08,
          0.08,
          0.08,
          0.08,
          0.08,
          0.08,
          0.08,
          0.08,
          0.08,
          0.08,
          0.08,
          0.08,
          0.08,
          0.08,
          0.08,
          0.08,
          0.08,
          0.08,
          0.08,
          0.08,
          0.08,
          0.09,
          0.09,
          0.09,
          0.09,
          0.09,
          0.09,
          0.09,
          0.09,
          0.09,
          0.09,
          0.09,
          0.09,
          0.09,
          0.09,
          0.09,
          0.09,
          0.09,
          0.09,
          0.09,
          0.09,
          0.09,
          0.09,
          0.09,
          0.09,
          0.09,
          0.09,
          0.09,
          0.09,
          0.09,
          0.0999999999999999,
          0.0999999999999999,
          0.0999999999999999,
          0.0999999999999999,
          0.0999999999999999,
          0.0999999999999999,
          0.0999999999999999,
          0.0999999999999999,
          0.0999999999999999,
          0.0999999999999999,
          0.0999999999999999,
          0.0999999999999999,
          0.0999999999999999,
          0.0999999999999999,
          0.0999999999999999,
          0.0999999999999999,
          0.0999999999999999,
          0.0999999999999999,
          0.0999999999999999,
          0.0999999999999999,
          0.0999999999999999,
          0.0999999999999999,
          0.0999999999999999,
          0.0999999999999999,
          0.0999999999999999,
          0.0999999999999999,
          0.0999999999999999,
          0.0999999999999999,
          0.0999999999999999,
          0.11,
          0.11,
          0.11,
          0.11,
          0.11,
          0.11,
          0.11,
          0.11,
          0.11,
          0.11,
          0.11,
          0.11,
          0.11,
          0.11,
          0.11,
          0.11,
          0.11,
          0.11,
          0.11,
          0.11,
          0.11,
          0.11,
          0.11,
          0.11,
          0.11,
          0.11,
          0.11,
          0.11,
          0.11,
          0.12,
          0.12,
          0.12,
          0.12,
          0.12,
          0.12,
          0.12,
          0.12,
          0.12,
          0.12,
          0.12,
          0.12,
          0.12,
          0.12,
          0.12,
          0.12,
          0.12,
          0.12,
          0.12,
          0.12,
          0.12,
          0.12,
          0.12,
          0.12,
          0.12,
          0.12,
          0.12,
          0.12,
          0.12,
          0.13,
          0.13,
          0.13,
          0.13,
          0.13,
          0.13,
          0.13,
          0.13,
          0.13,
          0.13,
          0.13,
          0.13,
          0.13,
          0.13,
          0.13,
          0.13,
          0.13,
          0.13,
          0.13,
          0.13,
          0.13,
          0.13,
          0.13,
          0.13,
          0.13,
          0.13,
          0.13,
          0.13,
          0.13,
          0.14,
          0.14,
          0.14,
          0.14,
          0.14,
          0.14,
          0.14,
          0.14,
          0.14,
          0.14,
          0.14,
          0.14,
          0.14,
          0.14,
          0.14,
          0.14,
          0.14,
          0.14,
          0.14,
          0.14,
          0.14,
          0.14,
          0.14,
          0.14,
          0.14,
          0.14,
          0.14,
          0.14,
          0.14
         ],
         "xaxis": "x",
         "xbingroup": "x",
         "y": [
          0.005,
          0.01,
          0.015,
          0.02,
          0.025,
          0.03,
          0.0349999999999999,
          0.04,
          0.045,
          0.0499999999999999,
          0.055,
          0.06,
          0.065,
          0.07,
          0.075,
          0.08,
          0.085,
          0.09,
          0.095,
          0.1,
          0.105,
          0.11,
          0.115,
          0.12,
          0.125,
          0.13,
          0.135,
          0.14,
          0.145,
          0.005,
          0.01,
          0.015,
          0.02,
          0.025,
          0.03,
          0.0349999999999999,
          0.04,
          0.045,
          0.0499999999999999,
          0.055,
          0.06,
          0.065,
          0.07,
          0.075,
          0.08,
          0.085,
          0.09,
          0.095,
          0.1,
          0.105,
          0.11,
          0.115,
          0.12,
          0.125,
          0.13,
          0.135,
          0.14,
          0.145,
          0.005,
          0.01,
          0.015,
          0.02,
          0.025,
          0.03,
          0.0349999999999999,
          0.04,
          0.045,
          0.0499999999999999,
          0.055,
          0.06,
          0.065,
          0.07,
          0.075,
          0.08,
          0.085,
          0.09,
          0.095,
          0.1,
          0.105,
          0.11,
          0.115,
          0.12,
          0.125,
          0.13,
          0.135,
          0.14,
          0.145,
          0.005,
          0.01,
          0.015,
          0.02,
          0.025,
          0.03,
          0.0349999999999999,
          0.04,
          0.045,
          0.0499999999999999,
          0.055,
          0.06,
          0.065,
          0.07,
          0.075,
          0.08,
          0.085,
          0.09,
          0.095,
          0.1,
          0.105,
          0.11,
          0.115,
          0.12,
          0.125,
          0.13,
          0.135,
          0.14,
          0.145,
          0.005,
          0.01,
          0.015,
          0.02,
          0.025,
          0.03,
          0.0349999999999999,
          0.04,
          0.045,
          0.0499999999999999,
          0.055,
          0.06,
          0.065,
          0.07,
          0.075,
          0.08,
          0.085,
          0.09,
          0.095,
          0.1,
          0.105,
          0.11,
          0.115,
          0.12,
          0.125,
          0.13,
          0.135,
          0.14,
          0.145,
          0.005,
          0.01,
          0.015,
          0.02,
          0.025,
          0.03,
          0.0349999999999999,
          0.04,
          0.045,
          0.0499999999999999,
          0.055,
          0.06,
          0.065,
          0.07,
          0.075,
          0.08,
          0.085,
          0.09,
          0.095,
          0.1,
          0.105,
          0.11,
          0.115,
          0.12,
          0.125,
          0.13,
          0.135,
          0.14,
          0.145,
          0.005,
          0.01,
          0.015,
          0.02,
          0.025,
          0.03,
          0.0349999999999999,
          0.04,
          0.045,
          0.0499999999999999,
          0.055,
          0.06,
          0.065,
          0.07,
          0.075,
          0.08,
          0.085,
          0.09,
          0.095,
          0.1,
          0.105,
          0.11,
          0.115,
          0.12,
          0.125,
          0.13,
          0.135,
          0.14,
          0.145,
          0.005,
          0.01,
          0.015,
          0.02,
          0.025,
          0.03,
          0.0349999999999999,
          0.04,
          0.045,
          0.0499999999999999,
          0.055,
          0.06,
          0.065,
          0.07,
          0.075,
          0.08,
          0.085,
          0.09,
          0.095,
          0.1,
          0.105,
          0.11,
          0.115,
          0.12,
          0.125,
          0.13,
          0.135,
          0.14,
          0.145,
          0.005,
          0.01,
          0.015,
          0.02,
          0.025,
          0.03,
          0.0349999999999999,
          0.04,
          0.045,
          0.0499999999999999,
          0.055,
          0.06,
          0.065,
          0.07,
          0.075,
          0.08,
          0.085,
          0.09,
          0.095,
          0.1,
          0.105,
          0.11,
          0.115,
          0.12,
          0.125,
          0.13,
          0.135,
          0.14,
          0.145,
          0.005,
          0.01,
          0.015,
          0.02,
          0.025,
          0.03,
          0.0349999999999999,
          0.04,
          0.045,
          0.0499999999999999,
          0.055,
          0.06,
          0.065,
          0.07,
          0.075,
          0.08,
          0.085,
          0.09,
          0.095,
          0.1,
          0.105,
          0.11,
          0.115,
          0.12,
          0.125,
          0.13,
          0.135,
          0.14,
          0.145,
          0.005,
          0.01,
          0.015,
          0.02,
          0.025,
          0.03,
          0.0349999999999999,
          0.04,
          0.045,
          0.0499999999999999,
          0.055,
          0.06,
          0.065,
          0.07,
          0.075,
          0.08,
          0.085,
          0.09,
          0.095,
          0.1,
          0.105,
          0.11,
          0.115,
          0.12,
          0.125,
          0.13,
          0.135,
          0.14,
          0.145,
          0.005,
          0.01,
          0.015,
          0.02,
          0.025,
          0.03,
          0.0349999999999999,
          0.04,
          0.045,
          0.0499999999999999,
          0.055,
          0.06,
          0.065,
          0.07,
          0.075,
          0.08,
          0.085,
          0.09,
          0.095,
          0.1,
          0.105,
          0.11,
          0.115,
          0.12,
          0.125,
          0.13,
          0.135,
          0.14,
          0.145,
          0.005,
          0.01,
          0.015,
          0.02,
          0.025,
          0.03,
          0.0349999999999999,
          0.04,
          0.045,
          0.0499999999999999,
          0.055,
          0.06,
          0.065,
          0.07,
          0.075,
          0.08,
          0.085,
          0.09,
          0.095,
          0.1,
          0.105,
          0.11,
          0.115,
          0.12,
          0.125,
          0.13,
          0.135,
          0.14,
          0.145,
          0.005,
          0.01,
          0.015,
          0.02,
          0.025,
          0.03,
          0.0349999999999999,
          0.04,
          0.045,
          0.0499999999999999,
          0.055,
          0.06,
          0.065,
          0.07,
          0.075,
          0.08,
          0.085,
          0.09,
          0.095,
          0.1,
          0.105,
          0.11,
          0.115,
          0.12,
          0.125,
          0.13,
          0.135,
          0.14,
          0.145
         ],
         "yaxis": "y",
         "ybingroup": "y",
         "z": [
          0.1913003223062847,
          0.1897200065312106,
          0.1884931376505871,
          0.1957311859547549,
          0.1929225397928621,
          0.1936106527788351,
          0.192624789294589,
          0.1978117017946668,
          0.1927537401705859,
          0.1956356558254283,
          0.1921837230306484,
          0.1961656320253972,
          0.1963580160063514,
          0.1964598875800175,
          0.1781033322630885,
          0.180717712313343,
          0.1793174489075587,
          0.1821898699899382,
          0.1780979177207006,
          0.1833312139801962,
          0.1788246838428154,
          0.181425263280466,
          0.1752940464963176,
          0.1760496401495573,
          0.1713190792012002,
          0.1697914844772822,
          0.1753267123135409,
          0.1762554037397296,
          0.1731371860856406,
          0.1881651050098551,
          0.1938355882644511,
          0.1857513181991595,
          0.1939714112825157,
          0.1961310124697036,
          0.1887302907041715,
          0.1944460246707006,
          0.1916699351987152,
          0.1891152201163101,
          0.1890836062646311,
          0.1965925138226623,
          0.1936168986045427,
          0.1935044745418579,
          0.1957925071424511,
          0.1779478205981292,
          0.1787315021932045,
          0.1795821036748504,
          0.180795117765705,
          0.1789797517274339,
          0.1834980349629058,
          0.184009511483994,
          0.1777684255952921,
          0.1730873327968538,
          0.1728357632696033,
          0.1780383664436341,
          0.1699232982459074,
          0.1743981382048346,
          0.1714295449014845,
          0.1773893229227744,
          0.1883518431652835,
          0.1936314110423442,
          0.1949798432360767,
          0.1883017371882928,
          0.1945136823013391,
          0.196275525987989,
          0.1914774776921358,
          0.1892624191822481,
          0.1947413333252082,
          0.1991032497188497,
          0.1843526661658323,
          0.190939818161719,
          0.1871256239893179,
          0.1914492784427152,
          0.1771189155268936,
          0.181612717591696,
          0.1799215956585003,
          0.1793519050000691,
          0.1847143671221394,
          0.1763052302514955,
          0.1811822908824629,
          0.1788001582848778,
          0.1824342600203689,
          0.1775337504555239,
          0.1739698038964332,
          0.167313641706876,
          0.1699443560058149,
          0.1620643007296475,
          0.1699334942878283,
          0.188537371671227,
          0.183277536111668,
          0.1831106982223322,
          0.1877770721029649,
          0.1903984332182316,
          0.1884972644957019,
          0.1911416711992987,
          0.1885562799176644,
          0.1917857431824975,
          0.1896104378307044,
          0.1915543369325451,
          0.1970551313589912,
          0.1909947170117175,
          0.1967589352787707,
          0.1791402280013163,
          0.1831414932629826,
          0.1773983311412738,
          0.1796040850405997,
          0.1810932671161764,
          0.1740578526783373,
          0.1811095289287003,
          0.1808003621573095,
          0.1779965829569708,
          0.171863125722676,
          0.165230089656744,
          0.1695833282481318,
          0.1700687745482178,
          0.1786314767769042,
          0.1784612106019169,
          0.1919599594210728,
          0.1858428226700086,
          0.1810486067066122,
          0.1930813882244269,
          0.1869205509060906,
          0.187994047489208,
          0.200066394667077,
          0.1969205695393201,
          0.1963497413323159,
          0.1878254365996202,
          0.1894277750398179,
          0.1939483361614133,
          0.1898368939538736,
          0.1881156525605436,
          0.175657962154412,
          0.1861436104826356,
          0.1762353023689437,
          0.1768194828696032,
          0.1831415102895364,
          0.1720613973975745,
          0.1758434157775457,
          0.1720368689782032,
          0.1707099537310862,
          0.174761953761457,
          0.1649701292890519,
          0.1730747543992397,
          0.1806906757394041,
          0.165739459676058,
          0.1677547362282436,
          0.1918937810187332,
          0.1827773525476767,
          0.1855218409778795,
          0.188685155773109,
          0.1938705518277464,
          0.1946663366873605,
          0.19050118619721,
          0.1914871828214817,
          0.1900695991224876,
          0.1905208464160454,
          0.1927912030779723,
          0.1867149436150969,
          0.1907885082564428,
          0.1826378190817316,
          0.1761770189782576,
          0.1764796942619715,
          0.178216753985405,
          0.1737019828286352,
          0.1693359736820523,
          0.1779021127705507,
          0.1776144066108962,
          0.175956019511232,
          0.1728743161641389,
          0.1663882843747166,
          0.1716002726694583,
          0.16921725507476,
          0.170561030937485,
          0.1640232707503207,
          0.1628377241130882,
          0.1886760015058619,
          0.1824295622236553,
          0.1915524506306772,
          0.1870523851004937,
          0.1893933604667415,
          0.1849386837890826,
          0.197506026162614,
          0.1817196833724041,
          0.1913568241054015,
          0.1973010205462489,
          0.1879858563857772,
          0.1963471233745211,
          0.1874358245855703,
          0.1976787626788962,
          0.1711413604734693,
          0.1814955581931895,
          0.1805406841465474,
          0.1699173872735035,
          0.184273190446013,
          0.1716190732448025,
          0.1807057971687775,
          0.1766876376089398,
          0.1800182125136204,
          0.1732548954881094,
          0.1769687649130902,
          0.1746418737938497,
          0.1777576408151248,
          0.1696756818789668,
          0.1718964864916419,
          0.1871856586054065,
          0.1867411959779822,
          0.1842958265557961,
          0.1875453722111031,
          0.1935732768942206,
          0.19186416687989,
          0.1928082224804504,
          0.1871176938303309,
          0.1921542332408733,
          0.1869910346399856,
          0.185976594867961,
          0.1927364605458854,
          0.1858568060729847,
          0.1914387817945211,
          0.1749514023008627,
          0.1740826889829817,
          0.1779078069232546,
          0.174885856359435,
          0.171222778392501,
          0.1686405711222421,
          0.1713759322995387,
          0.1687883802221668,
          0.1677509672215006,
          0.1658111005942415,
          0.1771957032841268,
          0.1667205673350463,
          0.166217348880766,
          0.1578986954482049,
          0.1784205703750852,
          0.1851746002181011,
          0.1789936094654387,
          0.1823160037702784,
          0.1760402030585849,
          0.1832583723233827,
          0.1901711449829345,
          0.1882909809442246,
          0.1926727322941778,
          0.1856316854201741,
          0.1901471898654546,
          0.1768176750718603,
          0.1826663648651513,
          0.1752651081600807,
          0.1896845959911653,
          0.1724687865959144,
          0.1795021488394143,
          0.1774284532111446,
          0.1749951357727889,
          0.1662447686453021,
          0.1769928779899246,
          0.1714235128759806,
          0.1630148213489979,
          0.1773486596950432,
          0.1630995482150023,
          0.1705382826866766,
          0.1716502189799462,
          0.1716864726878022,
          0.1711739170469692,
          0.1669079439339783,
          0.1850593438643513,
          0.1884298101964383,
          0.187323935505558,
          0.1896955621452242,
          0.1927450017768282,
          0.190244926576119,
          0.1741015362473246,
          0.1709592839120577,
          0.1864248428654705,
          0.1888366604456638,
          0.1879335832540178,
          0.1790877395454041,
          0.1918203153785444,
          0.1873753605756656,
          0.1794277098497415,
          0.1776651188405905,
          0.1769049586172657,
          0.1838485907286738,
          0.1783190393735104,
          0.1727673690214585,
          0.1718244544019168,
          0.1736466701342104,
          0.1806709098757349,
          0.171497119372028,
          0.1735051278324424,
          0.1684557615703865,
          0.1714621517221192,
          0.1657121969914002,
          0.1576167141401914,
          0.1982236984327857,
          0.1960815002850778,
          0.1891063768764889,
          0.1799817128281183,
          0.17981429351564,
          0.179407156358855,
          0.19280686917495,
          0.1793054945943704,
          0.1837645949487522,
          0.1823352302494698,
          0.1767567250431222,
          0.1838404671664676,
          0.1865510386004776,
          0.1846295638078474,
          0.1801544514872351,
          0.1681759767771716,
          0.1686837491203301,
          0.1761136429847877,
          0.1738718783523188,
          0.1707957935445239,
          0.1679958899686628,
          0.174443513635611,
          0.1766613953396682,
          0.1700058737292255,
          0.1706303201130181,
          0.1823124041822904,
          0.174534044278145,
          0.1703424250408155,
          0.1722259813040811,
          0.173833621156894,
          0.1779872187343809,
          0.1775364024371495,
          0.1882121701737691,
          0.184103401478908,
          0.1847335547937233,
          0.192776735571405,
          0.1854875811584257,
          0.1919923156225889,
          0.1826357791435506,
          0.1983247324258444,
          0.183267287279027,
          0.1850097210023414,
          0.1872280360361441,
          0.1779449696070979,
          0.1841044642043498,
          0.1760792524734735,
          0.1773718176419912,
          0.1736116877172027,
          0.178774414077415,
          0.1722992149186598,
          0.17604599231926,
          0.1678874226737892,
          0.1714578892775406,
          0.1777073191020481,
          0.1748424449311699,
          0.1704295550986736,
          0.1779917682873507,
          0.1689143415024198,
          0.1865617297621876,
          0.1797570437362566,
          0.1911067359500159,
          0.188592708700841,
          0.1745489929306211,
          0.1857897805418489,
          0.1666000553243291,
          0.1904123803007515,
          0.1880411569578695,
          0.178878059026385,
          0.1958891451525943,
          0.1778230935869545,
          0.1742498124136663,
          0.1797335771140713,
          0.1793867637718844,
          0.1730987916300119,
          0.1778501692293841,
          0.1705492174195393,
          0.1737094934816895,
          0.1635835052660668,
          0.1715347954596845,
          0.1749064277028047,
          0.1717395810257403,
          0.1729431266911523,
          0.155653167654535,
          0.1695249015604041,
          0.168818666421202,
          0.1726016690953942,
          0.1724694872194701,
          0.1846360293088567,
          0.174655028766809,
          0.1711701995518478,
          0.1820062004287905,
          0.1914236081573458,
          0.1916153364126992,
          0.1812463805628513,
          0.1889438299394093,
          0.1795705596614978,
          0.189487124798042,
          0.1904597060475403,
          0.1831056690916655,
          0.1848656930053435,
          0.1799415449151589,
          0.1707239217538687,
          0.1797367320946407,
          0.1728968739694459,
          0.1731250480277157,
          0.1670620256102922,
          0.1717441768920297,
          0.1772079415762572,
          0.169351818652105,
          0.1626828780160308,
          0.1580271651121405,
          0.1785059335924927,
          0.1746039596706683,
          0.1635196167979382,
          0.1723231835742364,
          0.1761349513661873
         ]
        }
       ],
       "layout": {
        "coloraxis": {
         "colorbar": {
          "title": {
           "text": "avg of return"
          }
         },
         "colorscale": [
          [
           0,
           "#0d0887"
          ],
          [
           0.1111111111111111,
           "#46039f"
          ],
          [
           0.2222222222222222,
           "#7201a8"
          ],
          [
           0.3333333333333333,
           "#9c179e"
          ],
          [
           0.4444444444444444,
           "#bd3786"
          ],
          [
           0.5555555555555556,
           "#d8576b"
          ],
          [
           0.6666666666666666,
           "#ed7953"
          ],
          [
           0.7777777777777778,
           "#fb9f3a"
          ],
          [
           0.8888888888888888,
           "#fdca26"
          ],
          [
           1,
           "#f0f921"
          ]
         ]
        },
        "legend": {
         "tracegroupgap": 0
        },
        "margin": {
         "t": 60
        },
        "template": {
         "data": {
          "bar": [
           {
            "error_x": {
             "color": "#2a3f5f"
            },
            "error_y": {
             "color": "#2a3f5f"
            },
            "marker": {
             "line": {
              "color": "#E5ECF6",
              "width": 0.5
             },
             "pattern": {
              "fillmode": "overlay",
              "size": 10,
              "solidity": 0.2
             }
            },
            "type": "bar"
           }
          ],
          "barpolar": [
           {
            "marker": {
             "line": {
              "color": "#E5ECF6",
              "width": 0.5
             },
             "pattern": {
              "fillmode": "overlay",
              "size": 10,
              "solidity": 0.2
             }
            },
            "type": "barpolar"
           }
          ],
          "carpet": [
           {
            "aaxis": {
             "endlinecolor": "#2a3f5f",
             "gridcolor": "white",
             "linecolor": "white",
             "minorgridcolor": "white",
             "startlinecolor": "#2a3f5f"
            },
            "baxis": {
             "endlinecolor": "#2a3f5f",
             "gridcolor": "white",
             "linecolor": "white",
             "minorgridcolor": "white",
             "startlinecolor": "#2a3f5f"
            },
            "type": "carpet"
           }
          ],
          "choropleth": [
           {
            "colorbar": {
             "outlinewidth": 0,
             "ticks": ""
            },
            "type": "choropleth"
           }
          ],
          "contour": [
           {
            "colorbar": {
             "outlinewidth": 0,
             "ticks": ""
            },
            "colorscale": [
             [
              0,
              "#0d0887"
             ],
             [
              0.1111111111111111,
              "#46039f"
             ],
             [
              0.2222222222222222,
              "#7201a8"
             ],
             [
              0.3333333333333333,
              "#9c179e"
             ],
             [
              0.4444444444444444,
              "#bd3786"
             ],
             [
              0.5555555555555556,
              "#d8576b"
             ],
             [
              0.6666666666666666,
              "#ed7953"
             ],
             [
              0.7777777777777778,
              "#fb9f3a"
             ],
             [
              0.8888888888888888,
              "#fdca26"
             ],
             [
              1,
              "#f0f921"
             ]
            ],
            "type": "contour"
           }
          ],
          "contourcarpet": [
           {
            "colorbar": {
             "outlinewidth": 0,
             "ticks": ""
            },
            "type": "contourcarpet"
           }
          ],
          "heatmap": [
           {
            "colorbar": {
             "outlinewidth": 0,
             "ticks": ""
            },
            "colorscale": [
             [
              0,
              "#0d0887"
             ],
             [
              0.1111111111111111,
              "#46039f"
             ],
             [
              0.2222222222222222,
              "#7201a8"
             ],
             [
              0.3333333333333333,
              "#9c179e"
             ],
             [
              0.4444444444444444,
              "#bd3786"
             ],
             [
              0.5555555555555556,
              "#d8576b"
             ],
             [
              0.6666666666666666,
              "#ed7953"
             ],
             [
              0.7777777777777778,
              "#fb9f3a"
             ],
             [
              0.8888888888888888,
              "#fdca26"
             ],
             [
              1,
              "#f0f921"
             ]
            ],
            "type": "heatmap"
           }
          ],
          "heatmapgl": [
           {
            "colorbar": {
             "outlinewidth": 0,
             "ticks": ""
            },
            "colorscale": [
             [
              0,
              "#0d0887"
             ],
             [
              0.1111111111111111,
              "#46039f"
             ],
             [
              0.2222222222222222,
              "#7201a8"
             ],
             [
              0.3333333333333333,
              "#9c179e"
             ],
             [
              0.4444444444444444,
              "#bd3786"
             ],
             [
              0.5555555555555556,
              "#d8576b"
             ],
             [
              0.6666666666666666,
              "#ed7953"
             ],
             [
              0.7777777777777778,
              "#fb9f3a"
             ],
             [
              0.8888888888888888,
              "#fdca26"
             ],
             [
              1,
              "#f0f921"
             ]
            ],
            "type": "heatmapgl"
           }
          ],
          "histogram": [
           {
            "marker": {
             "pattern": {
              "fillmode": "overlay",
              "size": 10,
              "solidity": 0.2
             }
            },
            "type": "histogram"
           }
          ],
          "histogram2d": [
           {
            "colorbar": {
             "outlinewidth": 0,
             "ticks": ""
            },
            "colorscale": [
             [
              0,
              "#0d0887"
             ],
             [
              0.1111111111111111,
              "#46039f"
             ],
             [
              0.2222222222222222,
              "#7201a8"
             ],
             [
              0.3333333333333333,
              "#9c179e"
             ],
             [
              0.4444444444444444,
              "#bd3786"
             ],
             [
              0.5555555555555556,
              "#d8576b"
             ],
             [
              0.6666666666666666,
              "#ed7953"
             ],
             [
              0.7777777777777778,
              "#fb9f3a"
             ],
             [
              0.8888888888888888,
              "#fdca26"
             ],
             [
              1,
              "#f0f921"
             ]
            ],
            "type": "histogram2d"
           }
          ],
          "histogram2dcontour": [
           {
            "colorbar": {
             "outlinewidth": 0,
             "ticks": ""
            },
            "colorscale": [
             [
              0,
              "#0d0887"
             ],
             [
              0.1111111111111111,
              "#46039f"
             ],
             [
              0.2222222222222222,
              "#7201a8"
             ],
             [
              0.3333333333333333,
              "#9c179e"
             ],
             [
              0.4444444444444444,
              "#bd3786"
             ],
             [
              0.5555555555555556,
              "#d8576b"
             ],
             [
              0.6666666666666666,
              "#ed7953"
             ],
             [
              0.7777777777777778,
              "#fb9f3a"
             ],
             [
              0.8888888888888888,
              "#fdca26"
             ],
             [
              1,
              "#f0f921"
             ]
            ],
            "type": "histogram2dcontour"
           }
          ],
          "mesh3d": [
           {
            "colorbar": {
             "outlinewidth": 0,
             "ticks": ""
            },
            "type": "mesh3d"
           }
          ],
          "parcoords": [
           {
            "line": {
             "colorbar": {
              "outlinewidth": 0,
              "ticks": ""
             }
            },
            "type": "parcoords"
           }
          ],
          "pie": [
           {
            "automargin": true,
            "type": "pie"
           }
          ],
          "scatter": [
           {
            "fillpattern": {
             "fillmode": "overlay",
             "size": 10,
             "solidity": 0.2
            },
            "type": "scatter"
           }
          ],
          "scatter3d": [
           {
            "line": {
             "colorbar": {
              "outlinewidth": 0,
              "ticks": ""
             }
            },
            "marker": {
             "colorbar": {
              "outlinewidth": 0,
              "ticks": ""
             }
            },
            "type": "scatter3d"
           }
          ],
          "scattercarpet": [
           {
            "marker": {
             "colorbar": {
              "outlinewidth": 0,
              "ticks": ""
             }
            },
            "type": "scattercarpet"
           }
          ],
          "scattergeo": [
           {
            "marker": {
             "colorbar": {
              "outlinewidth": 0,
              "ticks": ""
             }
            },
            "type": "scattergeo"
           }
          ],
          "scattergl": [
           {
            "marker": {
             "colorbar": {
              "outlinewidth": 0,
              "ticks": ""
             }
            },
            "type": "scattergl"
           }
          ],
          "scattermapbox": [
           {
            "marker": {
             "colorbar": {
              "outlinewidth": 0,
              "ticks": ""
             }
            },
            "type": "scattermapbox"
           }
          ],
          "scatterpolar": [
           {
            "marker": {
             "colorbar": {
              "outlinewidth": 0,
              "ticks": ""
             }
            },
            "type": "scatterpolar"
           }
          ],
          "scatterpolargl": [
           {
            "marker": {
             "colorbar": {
              "outlinewidth": 0,
              "ticks": ""
             }
            },
            "type": "scatterpolargl"
           }
          ],
          "scatterternary": [
           {
            "marker": {
             "colorbar": {
              "outlinewidth": 0,
              "ticks": ""
             }
            },
            "type": "scatterternary"
           }
          ],
          "surface": [
           {
            "colorbar": {
             "outlinewidth": 0,
             "ticks": ""
            },
            "colorscale": [
             [
              0,
              "#0d0887"
             ],
             [
              0.1111111111111111,
              "#46039f"
             ],
             [
              0.2222222222222222,
              "#7201a8"
             ],
             [
              0.3333333333333333,
              "#9c179e"
             ],
             [
              0.4444444444444444,
              "#bd3786"
             ],
             [
              0.5555555555555556,
              "#d8576b"
             ],
             [
              0.6666666666666666,
              "#ed7953"
             ],
             [
              0.7777777777777778,
              "#fb9f3a"
             ],
             [
              0.8888888888888888,
              "#fdca26"
             ],
             [
              1,
              "#f0f921"
             ]
            ],
            "type": "surface"
           }
          ],
          "table": [
           {
            "cells": {
             "fill": {
              "color": "#EBF0F8"
             },
             "line": {
              "color": "white"
             }
            },
            "header": {
             "fill": {
              "color": "#C8D4E3"
             },
             "line": {
              "color": "white"
             }
            },
            "type": "table"
           }
          ]
         },
         "layout": {
          "annotationdefaults": {
           "arrowcolor": "#2a3f5f",
           "arrowhead": 0,
           "arrowwidth": 1
          },
          "autotypenumbers": "strict",
          "coloraxis": {
           "colorbar": {
            "outlinewidth": 0,
            "ticks": ""
           }
          },
          "colorscale": {
           "diverging": [
            [
             0,
             "#8e0152"
            ],
            [
             0.1,
             "#c51b7d"
            ],
            [
             0.2,
             "#de77ae"
            ],
            [
             0.3,
             "#f1b6da"
            ],
            [
             0.4,
             "#fde0ef"
            ],
            [
             0.5,
             "#f7f7f7"
            ],
            [
             0.6,
             "#e6f5d0"
            ],
            [
             0.7,
             "#b8e186"
            ],
            [
             0.8,
             "#7fbc41"
            ],
            [
             0.9,
             "#4d9221"
            ],
            [
             1,
             "#276419"
            ]
           ],
           "sequential": [
            [
             0,
             "#0d0887"
            ],
            [
             0.1111111111111111,
             "#46039f"
            ],
            [
             0.2222222222222222,
             "#7201a8"
            ],
            [
             0.3333333333333333,
             "#9c179e"
            ],
            [
             0.4444444444444444,
             "#bd3786"
            ],
            [
             0.5555555555555556,
             "#d8576b"
            ],
            [
             0.6666666666666666,
             "#ed7953"
            ],
            [
             0.7777777777777778,
             "#fb9f3a"
            ],
            [
             0.8888888888888888,
             "#fdca26"
            ],
            [
             1,
             "#f0f921"
            ]
           ],
           "sequentialminus": [
            [
             0,
             "#0d0887"
            ],
            [
             0.1111111111111111,
             "#46039f"
            ],
            [
             0.2222222222222222,
             "#7201a8"
            ],
            [
             0.3333333333333333,
             "#9c179e"
            ],
            [
             0.4444444444444444,
             "#bd3786"
            ],
            [
             0.5555555555555556,
             "#d8576b"
            ],
            [
             0.6666666666666666,
             "#ed7953"
            ],
            [
             0.7777777777777778,
             "#fb9f3a"
            ],
            [
             0.8888888888888888,
             "#fdca26"
            ],
            [
             1,
             "#f0f921"
            ]
           ]
          },
          "colorway": [
           "#636efa",
           "#EF553B",
           "#00cc96",
           "#ab63fa",
           "#FFA15A",
           "#19d3f3",
           "#FF6692",
           "#B6E880",
           "#FF97FF",
           "#FECB52"
          ],
          "font": {
           "color": "#2a3f5f"
          },
          "geo": {
           "bgcolor": "white",
           "lakecolor": "white",
           "landcolor": "#E5ECF6",
           "showlakes": true,
           "showland": true,
           "subunitcolor": "white"
          },
          "hoverlabel": {
           "align": "left"
          },
          "hovermode": "closest",
          "mapbox": {
           "style": "light"
          },
          "paper_bgcolor": "white",
          "plot_bgcolor": "#E5ECF6",
          "polar": {
           "angularaxis": {
            "gridcolor": "white",
            "linecolor": "white",
            "ticks": ""
           },
           "bgcolor": "#E5ECF6",
           "radialaxis": {
            "gridcolor": "white",
            "linecolor": "white",
            "ticks": ""
           }
          },
          "scene": {
           "xaxis": {
            "backgroundcolor": "#E5ECF6",
            "gridcolor": "white",
            "gridwidth": 2,
            "linecolor": "white",
            "showbackground": true,
            "ticks": "",
            "zerolinecolor": "white"
           },
           "yaxis": {
            "backgroundcolor": "#E5ECF6",
            "gridcolor": "white",
            "gridwidth": 2,
            "linecolor": "white",
            "showbackground": true,
            "ticks": "",
            "zerolinecolor": "white"
           },
           "zaxis": {
            "backgroundcolor": "#E5ECF6",
            "gridcolor": "white",
            "gridwidth": 2,
            "linecolor": "white",
            "showbackground": true,
            "ticks": "",
            "zerolinecolor": "white"
           }
          },
          "shapedefaults": {
           "line": {
            "color": "#2a3f5f"
           }
          },
          "ternary": {
           "aaxis": {
            "gridcolor": "white",
            "linecolor": "white",
            "ticks": ""
           },
           "baxis": {
            "gridcolor": "white",
            "linecolor": "white",
            "ticks": ""
           },
           "bgcolor": "#E5ECF6",
           "caxis": {
            "gridcolor": "white",
            "linecolor": "white",
            "ticks": ""
           }
          },
          "title": {
           "x": 0.05
          },
          "xaxis": {
           "automargin": true,
           "gridcolor": "white",
           "linecolor": "white",
           "ticks": "",
           "title": {
            "standoff": 15
           },
           "zerolinecolor": "white",
           "zerolinewidth": 2
          },
          "yaxis": {
           "automargin": true,
           "gridcolor": "white",
           "linecolor": "white",
           "ticks": "",
           "title": {
            "standoff": 15
           },
           "zerolinecolor": "white",
           "zerolinewidth": 2
          }
         }
        },
        "xaxis": {
         "anchor": "y",
         "domain": [
          0,
          1
         ],
         "title": {
          "text": "ex_rate"
         }
        },
        "yaxis": {
         "anchor": "x",
         "domain": [
          0,
          1
         ],
         "title": {
          "text": "alpha"
         }
        }
       }
      },
      "text/html": [
       "<div>                            <div id=\"19c299ae-a262-4347-81b0-fb25dab22464\" class=\"plotly-graph-div\" style=\"height:525px; width:100%;\"></div>            <script type=\"text/javascript\">                require([\"plotly\"], function(Plotly) {                    window.PLOTLYENV=window.PLOTLYENV || {};                                    if (document.getElementById(\"19c299ae-a262-4347-81b0-fb25dab22464\")) {                    Plotly.newPlot(                        \"19c299ae-a262-4347-81b0-fb25dab22464\",                        [{\"coloraxis\":\"coloraxis\",\"histfunc\":\"avg\",\"hovertemplate\":\"ex_rate=%{x}\\u003cbr\\u003ealpha=%{y}\\u003cbr\\u003eavg of return=%{z}\\u003cextra\\u003e\\u003c\\u002fextra\\u003e\",\"name\":\"\",\"x\":[0.01,0.01,0.01,0.01,0.01,0.01,0.01,0.01,0.01,0.01,0.01,0.01,0.01,0.01,0.01,0.01,0.01,0.01,0.01,0.01,0.01,0.01,0.01,0.01,0.01,0.01,0.01,0.01,0.01,0.02,0.02,0.02,0.02,0.02,0.02,0.02,0.02,0.02,0.02,0.02,0.02,0.02,0.02,0.02,0.02,0.02,0.02,0.02,0.02,0.02,0.02,0.02,0.02,0.02,0.02,0.02,0.02,0.02,0.03,0.03,0.03,0.03,0.03,0.03,0.03,0.03,0.03,0.03,0.03,0.03,0.03,0.03,0.03,0.03,0.03,0.03,0.03,0.03,0.03,0.03,0.03,0.03,0.03,0.03,0.03,0.03,0.03,0.04,0.04,0.04,0.04,0.04,0.04,0.04,0.04,0.04,0.04,0.04,0.04,0.04,0.04,0.04,0.04,0.04,0.04,0.04,0.04,0.04,0.04,0.04,0.04,0.04,0.04,0.04,0.04,0.04,0.05,0.05,0.05,0.05,0.05,0.05,0.05,0.05,0.05,0.05,0.05,0.05,0.05,0.05,0.05,0.05,0.05,0.05,0.05,0.05,0.05,0.05,0.05,0.05,0.05,0.05,0.05,0.05,0.05,0.06,0.06,0.06,0.06,0.06,0.06,0.06,0.06,0.06,0.06,0.06,0.06,0.06,0.06,0.06,0.06,0.06,0.06,0.06,0.06,0.06,0.06,0.06,0.06,0.06,0.06,0.06,0.06,0.06,0.0699999999999999,0.0699999999999999,0.0699999999999999,0.0699999999999999,0.0699999999999999,0.0699999999999999,0.0699999999999999,0.0699999999999999,0.0699999999999999,0.0699999999999999,0.0699999999999999,0.0699999999999999,0.0699999999999999,0.0699999999999999,0.0699999999999999,0.0699999999999999,0.0699999999999999,0.0699999999999999,0.0699999999999999,0.0699999999999999,0.0699999999999999,0.0699999999999999,0.0699999999999999,0.0699999999999999,0.0699999999999999,0.0699999999999999,0.0699999999999999,0.0699999999999999,0.0699999999999999,0.08,0.08,0.08,0.08,0.08,0.08,0.08,0.08,0.08,0.08,0.08,0.08,0.08,0.08,0.08,0.08,0.08,0.08,0.08,0.08,0.08,0.08,0.08,0.08,0.08,0.08,0.08,0.08,0.08,0.09,0.09,0.09,0.09,0.09,0.09,0.09,0.09,0.09,0.09,0.09,0.09,0.09,0.09,0.09,0.09,0.09,0.09,0.09,0.09,0.09,0.09,0.09,0.09,0.09,0.09,0.09,0.09,0.09,0.0999999999999999,0.0999999999999999,0.0999999999999999,0.0999999999999999,0.0999999999999999,0.0999999999999999,0.0999999999999999,0.0999999999999999,0.0999999999999999,0.0999999999999999,0.0999999999999999,0.0999999999999999,0.0999999999999999,0.0999999999999999,0.0999999999999999,0.0999999999999999,0.0999999999999999,0.0999999999999999,0.0999999999999999,0.0999999999999999,0.0999999999999999,0.0999999999999999,0.0999999999999999,0.0999999999999999,0.0999999999999999,0.0999999999999999,0.0999999999999999,0.0999999999999999,0.0999999999999999,0.11,0.11,0.11,0.11,0.11,0.11,0.11,0.11,0.11,0.11,0.11,0.11,0.11,0.11,0.11,0.11,0.11,0.11,0.11,0.11,0.11,0.11,0.11,0.11,0.11,0.11,0.11,0.11,0.11,0.12,0.12,0.12,0.12,0.12,0.12,0.12,0.12,0.12,0.12,0.12,0.12,0.12,0.12,0.12,0.12,0.12,0.12,0.12,0.12,0.12,0.12,0.12,0.12,0.12,0.12,0.12,0.12,0.12,0.13,0.13,0.13,0.13,0.13,0.13,0.13,0.13,0.13,0.13,0.13,0.13,0.13,0.13,0.13,0.13,0.13,0.13,0.13,0.13,0.13,0.13,0.13,0.13,0.13,0.13,0.13,0.13,0.13,0.14,0.14,0.14,0.14,0.14,0.14,0.14,0.14,0.14,0.14,0.14,0.14,0.14,0.14,0.14,0.14,0.14,0.14,0.14,0.14,0.14,0.14,0.14,0.14,0.14,0.14,0.14,0.14,0.14],\"xaxis\":\"x\",\"xbingroup\":\"x\",\"y\":[0.005,0.01,0.015,0.02,0.025,0.03,0.0349999999999999,0.04,0.045,0.0499999999999999,0.055,0.06,0.065,0.07,0.075,0.08,0.085,0.09,0.095,0.1,0.105,0.11,0.115,0.12,0.125,0.13,0.135,0.14,0.145,0.005,0.01,0.015,0.02,0.025,0.03,0.0349999999999999,0.04,0.045,0.0499999999999999,0.055,0.06,0.065,0.07,0.075,0.08,0.085,0.09,0.095,0.1,0.105,0.11,0.115,0.12,0.125,0.13,0.135,0.14,0.145,0.005,0.01,0.015,0.02,0.025,0.03,0.0349999999999999,0.04,0.045,0.0499999999999999,0.055,0.06,0.065,0.07,0.075,0.08,0.085,0.09,0.095,0.1,0.105,0.11,0.115,0.12,0.125,0.13,0.135,0.14,0.145,0.005,0.01,0.015,0.02,0.025,0.03,0.0349999999999999,0.04,0.045,0.0499999999999999,0.055,0.06,0.065,0.07,0.075,0.08,0.085,0.09,0.095,0.1,0.105,0.11,0.115,0.12,0.125,0.13,0.135,0.14,0.145,0.005,0.01,0.015,0.02,0.025,0.03,0.0349999999999999,0.04,0.045,0.0499999999999999,0.055,0.06,0.065,0.07,0.075,0.08,0.085,0.09,0.095,0.1,0.105,0.11,0.115,0.12,0.125,0.13,0.135,0.14,0.145,0.005,0.01,0.015,0.02,0.025,0.03,0.0349999999999999,0.04,0.045,0.0499999999999999,0.055,0.06,0.065,0.07,0.075,0.08,0.085,0.09,0.095,0.1,0.105,0.11,0.115,0.12,0.125,0.13,0.135,0.14,0.145,0.005,0.01,0.015,0.02,0.025,0.03,0.0349999999999999,0.04,0.045,0.0499999999999999,0.055,0.06,0.065,0.07,0.075,0.08,0.085,0.09,0.095,0.1,0.105,0.11,0.115,0.12,0.125,0.13,0.135,0.14,0.145,0.005,0.01,0.015,0.02,0.025,0.03,0.0349999999999999,0.04,0.045,0.0499999999999999,0.055,0.06,0.065,0.07,0.075,0.08,0.085,0.09,0.095,0.1,0.105,0.11,0.115,0.12,0.125,0.13,0.135,0.14,0.145,0.005,0.01,0.015,0.02,0.025,0.03,0.0349999999999999,0.04,0.045,0.0499999999999999,0.055,0.06,0.065,0.07,0.075,0.08,0.085,0.09,0.095,0.1,0.105,0.11,0.115,0.12,0.125,0.13,0.135,0.14,0.145,0.005,0.01,0.015,0.02,0.025,0.03,0.0349999999999999,0.04,0.045,0.0499999999999999,0.055,0.06,0.065,0.07,0.075,0.08,0.085,0.09,0.095,0.1,0.105,0.11,0.115,0.12,0.125,0.13,0.135,0.14,0.145,0.005,0.01,0.015,0.02,0.025,0.03,0.0349999999999999,0.04,0.045,0.0499999999999999,0.055,0.06,0.065,0.07,0.075,0.08,0.085,0.09,0.095,0.1,0.105,0.11,0.115,0.12,0.125,0.13,0.135,0.14,0.145,0.005,0.01,0.015,0.02,0.025,0.03,0.0349999999999999,0.04,0.045,0.0499999999999999,0.055,0.06,0.065,0.07,0.075,0.08,0.085,0.09,0.095,0.1,0.105,0.11,0.115,0.12,0.125,0.13,0.135,0.14,0.145,0.005,0.01,0.015,0.02,0.025,0.03,0.0349999999999999,0.04,0.045,0.0499999999999999,0.055,0.06,0.065,0.07,0.075,0.08,0.085,0.09,0.095,0.1,0.105,0.11,0.115,0.12,0.125,0.13,0.135,0.14,0.145,0.005,0.01,0.015,0.02,0.025,0.03,0.0349999999999999,0.04,0.045,0.0499999999999999,0.055,0.06,0.065,0.07,0.075,0.08,0.085,0.09,0.095,0.1,0.105,0.11,0.115,0.12,0.125,0.13,0.135,0.14,0.145],\"yaxis\":\"y\",\"ybingroup\":\"y\",\"z\":[0.1913003223062847,0.1897200065312106,0.1884931376505871,0.1957311859547549,0.1929225397928621,0.1936106527788351,0.192624789294589,0.1978117017946668,0.1927537401705859,0.1956356558254283,0.1921837230306484,0.1961656320253972,0.1963580160063514,0.1964598875800175,0.1781033322630885,0.180717712313343,0.1793174489075587,0.1821898699899382,0.1780979177207006,0.1833312139801962,0.1788246838428154,0.181425263280466,0.1752940464963176,0.1760496401495573,0.1713190792012002,0.1697914844772822,0.1753267123135409,0.1762554037397296,0.1731371860856406,0.1881651050098551,0.1938355882644511,0.1857513181991595,0.1939714112825157,0.1961310124697036,0.1887302907041715,0.1944460246707006,0.1916699351987152,0.1891152201163101,0.1890836062646311,0.1965925138226623,0.1936168986045427,0.1935044745418579,0.1957925071424511,0.1779478205981292,0.1787315021932045,0.1795821036748504,0.180795117765705,0.1789797517274339,0.1834980349629058,0.184009511483994,0.1777684255952921,0.1730873327968538,0.1728357632696033,0.1780383664436341,0.1699232982459074,0.1743981382048346,0.1714295449014845,0.1773893229227744,0.1883518431652835,0.1936314110423442,0.1949798432360767,0.1883017371882928,0.1945136823013391,0.196275525987989,0.1914774776921358,0.1892624191822481,0.1947413333252082,0.1991032497188497,0.1843526661658323,0.190939818161719,0.1871256239893179,0.1914492784427152,0.1771189155268936,0.181612717591696,0.1799215956585003,0.1793519050000691,0.1847143671221394,0.1763052302514955,0.1811822908824629,0.1788001582848778,0.1824342600203689,0.1775337504555239,0.1739698038964332,0.167313641706876,0.1699443560058149,0.1620643007296475,0.1699334942878283,0.188537371671227,0.183277536111668,0.1831106982223322,0.1877770721029649,0.1903984332182316,0.1884972644957019,0.1911416711992987,0.1885562799176644,0.1917857431824975,0.1896104378307044,0.1915543369325451,0.1970551313589912,0.1909947170117175,0.1967589352787707,0.1791402280013163,0.1831414932629826,0.1773983311412738,0.1796040850405997,0.1810932671161764,0.1740578526783373,0.1811095289287003,0.1808003621573095,0.1779965829569708,0.171863125722676,0.165230089656744,0.1695833282481318,0.1700687745482178,0.1786314767769042,0.1784612106019169,0.1919599594210728,0.1858428226700086,0.1810486067066122,0.1930813882244269,0.1869205509060906,0.187994047489208,0.200066394667077,0.1969205695393201,0.1963497413323159,0.1878254365996202,0.1894277750398179,0.1939483361614133,0.1898368939538736,0.1881156525605436,0.175657962154412,0.1861436104826356,0.1762353023689437,0.1768194828696032,0.1831415102895364,0.1720613973975745,0.1758434157775457,0.1720368689782032,0.1707099537310862,0.174761953761457,0.1649701292890519,0.1730747543992397,0.1806906757394041,0.165739459676058,0.1677547362282436,0.1918937810187332,0.1827773525476767,0.1855218409778795,0.188685155773109,0.1938705518277464,0.1946663366873605,0.19050118619721,0.1914871828214817,0.1900695991224876,0.1905208464160454,0.1927912030779723,0.1867149436150969,0.1907885082564428,0.1826378190817316,0.1761770189782576,0.1764796942619715,0.178216753985405,0.1737019828286352,0.1693359736820523,0.1779021127705507,0.1776144066108962,0.175956019511232,0.1728743161641389,0.1663882843747166,0.1716002726694583,0.16921725507476,0.170561030937485,0.1640232707503207,0.1628377241130882,0.1886760015058619,0.1824295622236553,0.1915524506306772,0.1870523851004937,0.1893933604667415,0.1849386837890826,0.197506026162614,0.1817196833724041,0.1913568241054015,0.1973010205462489,0.1879858563857772,0.1963471233745211,0.1874358245855703,0.1976787626788962,0.1711413604734693,0.1814955581931895,0.1805406841465474,0.1699173872735035,0.184273190446013,0.1716190732448025,0.1807057971687775,0.1766876376089398,0.1800182125136204,0.1732548954881094,0.1769687649130902,0.1746418737938497,0.1777576408151248,0.1696756818789668,0.1718964864916419,0.1871856586054065,0.1867411959779822,0.1842958265557961,0.1875453722111031,0.1935732768942206,0.19186416687989,0.1928082224804504,0.1871176938303309,0.1921542332408733,0.1869910346399856,0.185976594867961,0.1927364605458854,0.1858568060729847,0.1914387817945211,0.1749514023008627,0.1740826889829817,0.1779078069232546,0.174885856359435,0.171222778392501,0.1686405711222421,0.1713759322995387,0.1687883802221668,0.1677509672215006,0.1658111005942415,0.1771957032841268,0.1667205673350463,0.166217348880766,0.1578986954482049,0.1784205703750852,0.1851746002181011,0.1789936094654387,0.1823160037702784,0.1760402030585849,0.1832583723233827,0.1901711449829345,0.1882909809442246,0.1926727322941778,0.1856316854201741,0.1901471898654546,0.1768176750718603,0.1826663648651513,0.1752651081600807,0.1896845959911653,0.1724687865959144,0.1795021488394143,0.1774284532111446,0.1749951357727889,0.1662447686453021,0.1769928779899246,0.1714235128759806,0.1630148213489979,0.1773486596950432,0.1630995482150023,0.1705382826866766,0.1716502189799462,0.1716864726878022,0.1711739170469692,0.1669079439339783,0.1850593438643513,0.1884298101964383,0.187323935505558,0.1896955621452242,0.1927450017768282,0.190244926576119,0.1741015362473246,0.1709592839120577,0.1864248428654705,0.1888366604456638,0.1879335832540178,0.1790877395454041,0.1918203153785444,0.1873753605756656,0.1794277098497415,0.1776651188405905,0.1769049586172657,0.1838485907286738,0.1783190393735104,0.1727673690214585,0.1718244544019168,0.1736466701342104,0.1806709098757349,0.171497119372028,0.1735051278324424,0.1684557615703865,0.1714621517221192,0.1657121969914002,0.1576167141401914,0.1982236984327857,0.1960815002850778,0.1891063768764889,0.1799817128281183,0.17981429351564,0.179407156358855,0.19280686917495,0.1793054945943704,0.1837645949487522,0.1823352302494698,0.1767567250431222,0.1838404671664676,0.1865510386004776,0.1846295638078474,0.1801544514872351,0.1681759767771716,0.1686837491203301,0.1761136429847877,0.1738718783523188,0.1707957935445239,0.1679958899686628,0.174443513635611,0.1766613953396682,0.1700058737292255,0.1706303201130181,0.1823124041822904,0.174534044278145,0.1703424250408155,0.1722259813040811,0.173833621156894,0.1779872187343809,0.1775364024371495,0.1882121701737691,0.184103401478908,0.1847335547937233,0.192776735571405,0.1854875811584257,0.1919923156225889,0.1826357791435506,0.1983247324258444,0.183267287279027,0.1850097210023414,0.1872280360361441,0.1779449696070979,0.1841044642043498,0.1760792524734735,0.1773718176419912,0.1736116877172027,0.178774414077415,0.1722992149186598,0.17604599231926,0.1678874226737892,0.1714578892775406,0.1777073191020481,0.1748424449311699,0.1704295550986736,0.1779917682873507,0.1689143415024198,0.1865617297621876,0.1797570437362566,0.1911067359500159,0.188592708700841,0.1745489929306211,0.1857897805418489,0.1666000553243291,0.1904123803007515,0.1880411569578695,0.178878059026385,0.1958891451525943,0.1778230935869545,0.1742498124136663,0.1797335771140713,0.1793867637718844,0.1730987916300119,0.1778501692293841,0.1705492174195393,0.1737094934816895,0.1635835052660668,0.1715347954596845,0.1749064277028047,0.1717395810257403,0.1729431266911523,0.155653167654535,0.1695249015604041,0.168818666421202,0.1726016690953942,0.1724694872194701,0.1846360293088567,0.174655028766809,0.1711701995518478,0.1820062004287905,0.1914236081573458,0.1916153364126992,0.1812463805628513,0.1889438299394093,0.1795705596614978,0.189487124798042,0.1904597060475403,0.1831056690916655,0.1848656930053435,0.1799415449151589,0.1707239217538687,0.1797367320946407,0.1728968739694459,0.1731250480277157,0.1670620256102922,0.1717441768920297,0.1772079415762572,0.169351818652105,0.1626828780160308,0.1580271651121405,0.1785059335924927,0.1746039596706683,0.1635196167979382,0.1723231835742364,0.1761349513661873],\"type\":\"histogram2d\"}],                        {\"template\":{\"data\":{\"histogram2dcontour\":[{\"type\":\"histogram2dcontour\",\"colorbar\":{\"outlinewidth\":0,\"ticks\":\"\"},\"colorscale\":[[0.0,\"#0d0887\"],[0.1111111111111111,\"#46039f\"],[0.2222222222222222,\"#7201a8\"],[0.3333333333333333,\"#9c179e\"],[0.4444444444444444,\"#bd3786\"],[0.5555555555555556,\"#d8576b\"],[0.6666666666666666,\"#ed7953\"],[0.7777777777777778,\"#fb9f3a\"],[0.8888888888888888,\"#fdca26\"],[1.0,\"#f0f921\"]]}],\"choropleth\":[{\"type\":\"choropleth\",\"colorbar\":{\"outlinewidth\":0,\"ticks\":\"\"}}],\"histogram2d\":[{\"type\":\"histogram2d\",\"colorbar\":{\"outlinewidth\":0,\"ticks\":\"\"},\"colorscale\":[[0.0,\"#0d0887\"],[0.1111111111111111,\"#46039f\"],[0.2222222222222222,\"#7201a8\"],[0.3333333333333333,\"#9c179e\"],[0.4444444444444444,\"#bd3786\"],[0.5555555555555556,\"#d8576b\"],[0.6666666666666666,\"#ed7953\"],[0.7777777777777778,\"#fb9f3a\"],[0.8888888888888888,\"#fdca26\"],[1.0,\"#f0f921\"]]}],\"heatmap\":[{\"type\":\"heatmap\",\"colorbar\":{\"outlinewidth\":0,\"ticks\":\"\"},\"colorscale\":[[0.0,\"#0d0887\"],[0.1111111111111111,\"#46039f\"],[0.2222222222222222,\"#7201a8\"],[0.3333333333333333,\"#9c179e\"],[0.4444444444444444,\"#bd3786\"],[0.5555555555555556,\"#d8576b\"],[0.6666666666666666,\"#ed7953\"],[0.7777777777777778,\"#fb9f3a\"],[0.8888888888888888,\"#fdca26\"],[1.0,\"#f0f921\"]]}],\"heatmapgl\":[{\"type\":\"heatmapgl\",\"colorbar\":{\"outlinewidth\":0,\"ticks\":\"\"},\"colorscale\":[[0.0,\"#0d0887\"],[0.1111111111111111,\"#46039f\"],[0.2222222222222222,\"#7201a8\"],[0.3333333333333333,\"#9c179e\"],[0.4444444444444444,\"#bd3786\"],[0.5555555555555556,\"#d8576b\"],[0.6666666666666666,\"#ed7953\"],[0.7777777777777778,\"#fb9f3a\"],[0.8888888888888888,\"#fdca26\"],[1.0,\"#f0f921\"]]}],\"contourcarpet\":[{\"type\":\"contourcarpet\",\"colorbar\":{\"outlinewidth\":0,\"ticks\":\"\"}}],\"contour\":[{\"type\":\"contour\",\"colorbar\":{\"outlinewidth\":0,\"ticks\":\"\"},\"colorscale\":[[0.0,\"#0d0887\"],[0.1111111111111111,\"#46039f\"],[0.2222222222222222,\"#7201a8\"],[0.3333333333333333,\"#9c179e\"],[0.4444444444444444,\"#bd3786\"],[0.5555555555555556,\"#d8576b\"],[0.6666666666666666,\"#ed7953\"],[0.7777777777777778,\"#fb9f3a\"],[0.8888888888888888,\"#fdca26\"],[1.0,\"#f0f921\"]]}],\"surface\":[{\"type\":\"surface\",\"colorbar\":{\"outlinewidth\":0,\"ticks\":\"\"},\"colorscale\":[[0.0,\"#0d0887\"],[0.1111111111111111,\"#46039f\"],[0.2222222222222222,\"#7201a8\"],[0.3333333333333333,\"#9c179e\"],[0.4444444444444444,\"#bd3786\"],[0.5555555555555556,\"#d8576b\"],[0.6666666666666666,\"#ed7953\"],[0.7777777777777778,\"#fb9f3a\"],[0.8888888888888888,\"#fdca26\"],[1.0,\"#f0f921\"]]}],\"mesh3d\":[{\"type\":\"mesh3d\",\"colorbar\":{\"outlinewidth\":0,\"ticks\":\"\"}}],\"scatter\":[{\"fillpattern\":{\"fillmode\":\"overlay\",\"size\":10,\"solidity\":0.2},\"type\":\"scatter\"}],\"parcoords\":[{\"type\":\"parcoords\",\"line\":{\"colorbar\":{\"outlinewidth\":0,\"ticks\":\"\"}}}],\"scatterpolargl\":[{\"type\":\"scatterpolargl\",\"marker\":{\"colorbar\":{\"outlinewidth\":0,\"ticks\":\"\"}}}],\"bar\":[{\"error_x\":{\"color\":\"#2a3f5f\"},\"error_y\":{\"color\":\"#2a3f5f\"},\"marker\":{\"line\":{\"color\":\"#E5ECF6\",\"width\":0.5},\"pattern\":{\"fillmode\":\"overlay\",\"size\":10,\"solidity\":0.2}},\"type\":\"bar\"}],\"scattergeo\":[{\"type\":\"scattergeo\",\"marker\":{\"colorbar\":{\"outlinewidth\":0,\"ticks\":\"\"}}}],\"scatterpolar\":[{\"type\":\"scatterpolar\",\"marker\":{\"colorbar\":{\"outlinewidth\":0,\"ticks\":\"\"}}}],\"histogram\":[{\"marker\":{\"pattern\":{\"fillmode\":\"overlay\",\"size\":10,\"solidity\":0.2}},\"type\":\"histogram\"}],\"scattergl\":[{\"type\":\"scattergl\",\"marker\":{\"colorbar\":{\"outlinewidth\":0,\"ticks\":\"\"}}}],\"scatter3d\":[{\"type\":\"scatter3d\",\"line\":{\"colorbar\":{\"outlinewidth\":0,\"ticks\":\"\"}},\"marker\":{\"colorbar\":{\"outlinewidth\":0,\"ticks\":\"\"}}}],\"scattermapbox\":[{\"type\":\"scattermapbox\",\"marker\":{\"colorbar\":{\"outlinewidth\":0,\"ticks\":\"\"}}}],\"scatterternary\":[{\"type\":\"scatterternary\",\"marker\":{\"colorbar\":{\"outlinewidth\":0,\"ticks\":\"\"}}}],\"scattercarpet\":[{\"type\":\"scattercarpet\",\"marker\":{\"colorbar\":{\"outlinewidth\":0,\"ticks\":\"\"}}}],\"carpet\":[{\"aaxis\":{\"endlinecolor\":\"#2a3f5f\",\"gridcolor\":\"white\",\"linecolor\":\"white\",\"minorgridcolor\":\"white\",\"startlinecolor\":\"#2a3f5f\"},\"baxis\":{\"endlinecolor\":\"#2a3f5f\",\"gridcolor\":\"white\",\"linecolor\":\"white\",\"minorgridcolor\":\"white\",\"startlinecolor\":\"#2a3f5f\"},\"type\":\"carpet\"}],\"table\":[{\"cells\":{\"fill\":{\"color\":\"#EBF0F8\"},\"line\":{\"color\":\"white\"}},\"header\":{\"fill\":{\"color\":\"#C8D4E3\"},\"line\":{\"color\":\"white\"}},\"type\":\"table\"}],\"barpolar\":[{\"marker\":{\"line\":{\"color\":\"#E5ECF6\",\"width\":0.5},\"pattern\":{\"fillmode\":\"overlay\",\"size\":10,\"solidity\":0.2}},\"type\":\"barpolar\"}],\"pie\":[{\"automargin\":true,\"type\":\"pie\"}]},\"layout\":{\"autotypenumbers\":\"strict\",\"colorway\":[\"#636efa\",\"#EF553B\",\"#00cc96\",\"#ab63fa\",\"#FFA15A\",\"#19d3f3\",\"#FF6692\",\"#B6E880\",\"#FF97FF\",\"#FECB52\"],\"font\":{\"color\":\"#2a3f5f\"},\"hovermode\":\"closest\",\"hoverlabel\":{\"align\":\"left\"},\"paper_bgcolor\":\"white\",\"plot_bgcolor\":\"#E5ECF6\",\"polar\":{\"bgcolor\":\"#E5ECF6\",\"angularaxis\":{\"gridcolor\":\"white\",\"linecolor\":\"white\",\"ticks\":\"\"},\"radialaxis\":{\"gridcolor\":\"white\",\"linecolor\":\"white\",\"ticks\":\"\"}},\"ternary\":{\"bgcolor\":\"#E5ECF6\",\"aaxis\":{\"gridcolor\":\"white\",\"linecolor\":\"white\",\"ticks\":\"\"},\"baxis\":{\"gridcolor\":\"white\",\"linecolor\":\"white\",\"ticks\":\"\"},\"caxis\":{\"gridcolor\":\"white\",\"linecolor\":\"white\",\"ticks\":\"\"}},\"coloraxis\":{\"colorbar\":{\"outlinewidth\":0,\"ticks\":\"\"}},\"colorscale\":{\"sequential\":[[0.0,\"#0d0887\"],[0.1111111111111111,\"#46039f\"],[0.2222222222222222,\"#7201a8\"],[0.3333333333333333,\"#9c179e\"],[0.4444444444444444,\"#bd3786\"],[0.5555555555555556,\"#d8576b\"],[0.6666666666666666,\"#ed7953\"],[0.7777777777777778,\"#fb9f3a\"],[0.8888888888888888,\"#fdca26\"],[1.0,\"#f0f921\"]],\"sequentialminus\":[[0.0,\"#0d0887\"],[0.1111111111111111,\"#46039f\"],[0.2222222222222222,\"#7201a8\"],[0.3333333333333333,\"#9c179e\"],[0.4444444444444444,\"#bd3786\"],[0.5555555555555556,\"#d8576b\"],[0.6666666666666666,\"#ed7953\"],[0.7777777777777778,\"#fb9f3a\"],[0.8888888888888888,\"#fdca26\"],[1.0,\"#f0f921\"]],\"diverging\":[[0,\"#8e0152\"],[0.1,\"#c51b7d\"],[0.2,\"#de77ae\"],[0.3,\"#f1b6da\"],[0.4,\"#fde0ef\"],[0.5,\"#f7f7f7\"],[0.6,\"#e6f5d0\"],[0.7,\"#b8e186\"],[0.8,\"#7fbc41\"],[0.9,\"#4d9221\"],[1,\"#276419\"]]},\"xaxis\":{\"gridcolor\":\"white\",\"linecolor\":\"white\",\"ticks\":\"\",\"title\":{\"standoff\":15},\"zerolinecolor\":\"white\",\"automargin\":true,\"zerolinewidth\":2},\"yaxis\":{\"gridcolor\":\"white\",\"linecolor\":\"white\",\"ticks\":\"\",\"title\":{\"standoff\":15},\"zerolinecolor\":\"white\",\"automargin\":true,\"zerolinewidth\":2},\"scene\":{\"xaxis\":{\"backgroundcolor\":\"#E5ECF6\",\"gridcolor\":\"white\",\"linecolor\":\"white\",\"showbackground\":true,\"ticks\":\"\",\"zerolinecolor\":\"white\",\"gridwidth\":2},\"yaxis\":{\"backgroundcolor\":\"#E5ECF6\",\"gridcolor\":\"white\",\"linecolor\":\"white\",\"showbackground\":true,\"ticks\":\"\",\"zerolinecolor\":\"white\",\"gridwidth\":2},\"zaxis\":{\"backgroundcolor\":\"#E5ECF6\",\"gridcolor\":\"white\",\"linecolor\":\"white\",\"showbackground\":true,\"ticks\":\"\",\"zerolinecolor\":\"white\",\"gridwidth\":2}},\"shapedefaults\":{\"line\":{\"color\":\"#2a3f5f\"}},\"annotationdefaults\":{\"arrowcolor\":\"#2a3f5f\",\"arrowhead\":0,\"arrowwidth\":1},\"geo\":{\"bgcolor\":\"white\",\"landcolor\":\"#E5ECF6\",\"subunitcolor\":\"white\",\"showland\":true,\"showlakes\":true,\"lakecolor\":\"white\"},\"title\":{\"x\":0.05},\"mapbox\":{\"style\":\"light\"}}},\"xaxis\":{\"anchor\":\"y\",\"domain\":[0.0,1.0],\"title\":{\"text\":\"ex_rate\"}},\"yaxis\":{\"anchor\":\"x\",\"domain\":[0.0,1.0],\"title\":{\"text\":\"alpha\"}},\"coloraxis\":{\"colorbar\":{\"title\":{\"text\":\"avg of return\"}},\"colorscale\":[[0.0,\"#0d0887\"],[0.1111111111111111,\"#46039f\"],[0.2222222222222222,\"#7201a8\"],[0.3333333333333333,\"#9c179e\"],[0.4444444444444444,\"#bd3786\"],[0.5555555555555556,\"#d8576b\"],[0.6666666666666666,\"#ed7953\"],[0.7777777777777778,\"#fb9f3a\"],[0.8888888888888888,\"#fdca26\"],[1.0,\"#f0f921\"]]},\"legend\":{\"tracegroupgap\":0},\"margin\":{\"t\":60}},                        {\"responsive\": true}                    ).then(function(){\n",
       "                            \n",
       "var gd = document.getElementById('19c299ae-a262-4347-81b0-fb25dab22464');\n",
       "var x = new MutationObserver(function (mutations, observer) {{\n",
       "        var display = window.getComputedStyle(gd).display;\n",
       "        if (!display || display === 'none') {{\n",
       "            console.log([gd, 'removed!']);\n",
       "            Plotly.purge(gd);\n",
       "            observer.disconnect();\n",
       "        }}\n",
       "}});\n",
       "\n",
       "// Listen for the removal of the full notebook cells\n",
       "var notebookContainer = gd.closest('#notebook-container');\n",
       "if (notebookContainer) {{\n",
       "    x.observe(notebookContainer, {childList: true});\n",
       "}}\n",
       "\n",
       "// Listen for the clearing of the current output cell\n",
       "var outputEl = gd.closest('.output');\n",
       "if (outputEl) {{\n",
       "    x.observe(outputEl, {childList: true});\n",
       "}}\n",
       "\n",
       "                        })                };                });            </script>        </div>"
      ]
     },
     "metadata": {},
     "output_type": "display_data"
    }
   ],
   "source": [
    "fig = px.density_heatmap(df_groups, x=\"ex_rate\", y=\"alpha\", z=\"return\",\n",
    "                         histfunc=\"avg\"\n",
    "                        )\n",
    "fig.show()"
   ]
  },
  {
   "cell_type": "code",
   "execution_count": 305,
   "id": "14ab2314",
   "metadata": {},
   "outputs": [
    {
     "name": "stderr",
     "output_type": "stream",
     "text": [
      "100%|███████████████████████████████████████████| 11/11 [00:01<00:00,  7.93it/s]\n"
     ]
    }
   ],
   "source": [
    "exploration_rate = 0.01\n",
    "p_alpha = 0.05\n",
    "\n",
    "s_final_state = []\n",
    "for year in tqdm.tqdm(range(2013,2024)):\n",
    "    st_year = simulate_year(df_2w, [year], n_sims = 5,\n",
    "                            stock_groups = stock_groups[year],\n",
    "                            exploration_rate = exploration_rate,\n",
    "                            p_alpha = p_alpha\n",
    "                           )\n",
    "    s_final_state.append(st_year)"
   ]
  },
  {
   "cell_type": "code",
   "execution_count": 306,
   "id": "bcff50c8",
   "metadata": {},
   "outputs": [],
   "source": [
    "df_year = pd.DataFrame(s_final_state)"
   ]
  },
  {
   "cell_type": "code",
   "execution_count": 307,
   "id": "ef2d489d",
   "metadata": {},
   "outputs": [],
   "source": [
    "mean_year = df_year['mean'].mean()\n",
    "std_year = df_year['mean'].std()\n",
    "com_ret = (df_year['mean'] + 1).cumprod()\n",
    "com_ret_last = com_ret.iloc[-1]"
   ]
  },
  {
   "cell_type": "code",
   "execution_count": 308,
   "id": "55a86582",
   "metadata": {},
   "outputs": [
    {
     "name": "stdout",
     "output_type": "stream",
     "text": [
      "Mean average return per year  0.17227109647731986\n",
      "Mean average std per year  0.15056541462476097\n",
      "Return final year  5.2624738285834685\n"
     ]
    },
    {
     "data": {
      "text/plain": [
       "<AxesSubplot: >"
      ]
     },
     "execution_count": 308,
     "metadata": {},
     "output_type": "execute_result"
    },
    {
     "data": {
      "image/png": "[encoded data removed]",
      "text/plain": [
       "<Figure size 640x480 with 1 Axes>"
      ]
     },
     "metadata": {},
     "output_type": "display_data"
    }
   ],
   "source": [
    "print(\"Mean average return per year \", mean_year)\n",
    "print(\"Mean average std per year \", std_year)\n",
    "print(\"Return final year \", com_ret_last)\n",
    "com_ret.plot()"
   ]
  }
 ],
 "metadata": {
  "kernelspec": {
   "display_name": "Python 3 (ipykernel)",
   "language": "python",
   "name": "python3"
  },
  "language_info": {
   "codemirror_mode": {
    "name": "ipython",
    "version": 3
   },
   "file_extension": ".py",
   "mimetype": "text/x-python",
   "name": "python",
   "nbconvert_exporter": "python",
   "pygments_lexer": "ipython3",
   "version": "3.10.6"
  }
 },
 "nbformat": 4,
 "nbformat_minor": 5
}
