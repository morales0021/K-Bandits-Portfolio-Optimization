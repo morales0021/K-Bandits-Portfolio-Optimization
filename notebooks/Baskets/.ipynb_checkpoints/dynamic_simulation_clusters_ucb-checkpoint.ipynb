{
 "cells": [
  {
   "cell_type": "code",
   "execution_count": 1,
   "id": "07a11d82",
   "metadata": {},
   "outputs": [
    {
     "name": "stdout",
     "output_type": "stream",
     "text": [
      "/home/mora/Documents/projects/Bandits\n"
     ]
    }
   ],
   "source": [
    "import os\n",
    "import sys\n",
    "path = '/'.join(os.path.abspath('').split('/')[0:-2])\n",
    "print(path)\n",
    "sys.path.append(path)\n",
    "\n",
    "import pickle\n",
    "import pandas as pd\n",
    "import json\n",
    "import random, tqdm\n",
    "import numpy as np\n",
    "\n",
    "from experts.ucb import ucb\n",
    "from exploration.explore import explore\n",
    "from exploration.outils import stats\n",
    "\n",
    "import plotly.express as px"
   ]
  },
  {
   "cell_type": "code",
   "execution_count": 3,
   "id": "d0c325a6",
   "metadata": {},
   "outputs": [],
   "source": [
    "with open('../../../datasharing/tickers.json','r') as file:\n",
    "    tickers = json.load(file)\n",
    "\n",
    "tickers = tickers[\"sp500\"]"
   ]
  },
  {
   "cell_type": "code",
   "execution_count": 4,
   "id": "7a0390c8",
   "metadata": {},
   "outputs": [
    {
     "name": "stderr",
     "output_type": "stream",
     "text": [
      "/tmp/ipykernel_1406571/1425304769.py:14: PerformanceWarning: DataFrame is highly fragmented.  This is usually the result of calling `frame.insert` many times, which has poor performance.  Consider joining all columns at once using pd.concat(axis=1) instead. To get a de-fragmented frame, use `newframe = frame.copy()`\n",
      "  df_close_stocks['date'] = df_close_stocks.index\n",
      "/tmp/ipykernel_1406571/1425304769.py:25: PerformanceWarning: DataFrame is highly fragmented.  This is usually the result of calling `frame.insert` many times, which has poor performance.  Consider joining all columns at once using pd.concat(axis=1) instead. To get a de-fragmented frame, use `newframe = frame.copy()`\n",
      "  df_close_stocks.reset_index(inplace = True)\n",
      "/tmp/ipykernel_1406571/1425304769.py:26: PerformanceWarning: DataFrame is highly fragmented.  This is usually the result of calling `frame.insert` many times, which has poor performance.  Consider joining all columns at once using pd.concat(axis=1) instead. To get a de-fragmented frame, use `newframe = frame.copy()`\n",
      "  df_close_stocks['date'] = pd.to_datetime(df_close_stocks['Date'])\n"
     ]
    }
   ],
   "source": [
    "# Load the pickle file that contains the full data for each stock\n",
    "with open('../../../datasharing/hist_stock_data.pkl','rb') as file:\n",
    "    df_hst_tickers = pickle.load(file)\n",
    "\n",
    "# Chose the label \"Close\" as the main label to analyse the price series\n",
    "label = 'Close'\n",
    "df_close_stocks = pd.DataFrame([])\n",
    "for key, df in df_hst_tickers.items():\n",
    "    df_close_stocks = pd.concat([df_close_stocks,\n",
    "                                 df[label]], axis = 1)\n",
    "\n",
    "# Create a single data frame that cotains the series data from all the SP500 stocks\n",
    "df_close_stocks.columns = list(df_hst_tickers.keys())\n",
    "df_close_stocks['date'] = df_close_stocks.index\n",
    "df_close_stocks.index = pd.to_datetime(df_close_stocks['date'])\n",
    "\n",
    "\n",
    "df_close_stocks = pd.DataFrame()\n",
    "\n",
    "for ticker in tickers:\n",
    "    srs = df_hst_tickers[ticker][['Close']]\n",
    "    srs.columns = [ticker]\n",
    "    df_close_stocks = pd.concat([df_close_stocks,srs], axis = 1)\n",
    "    \n",
    "df_close_stocks.reset_index(inplace = True)\n",
    "df_close_stocks['date'] = pd.to_datetime(df_close_stocks['Date'])\n",
    "\n",
    "df_close_stocks.set_index('date', inplace = True)\n",
    "df_2w = df_close_stocks.resample(\"2W\").last()"
   ]
  },
  {
   "cell_type": "code",
   "execution_count": 5,
   "id": "34f4b989",
   "metadata": {},
   "outputs": [],
   "source": [
    "# Creating the function that compute the statistics\n",
    "def get_stats(df_close_stocks, tickers, years = None, inter = None, freq = 'M', min_els = 6):\n",
    "    \"\"\"\n",
    "    This function produces some statistics using a dataframe fille with stocks.\n",
    "    Precisely the average mean return and the sharpe ratio.\n",
    "    Args:\n",
    "        df_hst_tickers (dict) - contains dataframes for multiple stocks\n",
    "        tickers (list) - the list of tickers to compute the statistics \n",
    "        years (list) - the list of years to compute the statistics\n",
    "        inter (slice) - A slice that precises the data indexs to compute the statistics\n",
    "        freq (str) - the frequency for the statistics (Y,M,W,2W, ...)\n",
    "        min_els(int) - the minimum quantity of elements in the series required\n",
    "            after the frequency postprocessing.\n",
    "    \"\"\"\n",
    "    st_stats = {}\n",
    "    for ticker in tickers:\n",
    "        if years:\n",
    "            tmp_df = df_close_stocks[df_close_stocks['Date'].dt.year.isin(years)]\n",
    "        elif inter:\n",
    "            tmp_df = df_close_stocks.iloc[inter]\n",
    "\n",
    "        pc_m = tmp_df[ticker].pct_change(periods = 1, freq = freq).dropna()\n",
    "\n",
    "        # discart ticket if not enough data\n",
    "        if pc_m.shape[0] < min_els:\n",
    "            continue\n",
    "            \n",
    "        av_ret = pc_m.mean()\n",
    "        sr = av_ret / pc_m.std()\n",
    "        st_stats[ticker] = {\"sr\":sr, 'av_ret':av_ret}\n",
    "            \n",
    "    return st_stats\n",
    "\n",
    "def df_and_sort(st_stats, col):\n",
    "    \"\"\"\n",
    "    Function that creates a dataframe using a dictionary with of stocks with statistics\n",
    "    metrics and sort the dataframe based on the column name precised.\n",
    "    Args:\n",
    "        st_stats (dict) - The dictionary containing the statistics.\n",
    "        col (str) - The name of the column for sorting.\n",
    "    \"\"\"\n",
    "    df_stats = pd.DataFrame(st_stats).transpose()\n",
    "    df_stats.sort_values(by=col, inplace = True, ascending = False)\n",
    "    return df_stats\n",
    "\n",
    "\n",
    "def create_stock_groups(lst_stocks: list, basket_size: int,\n",
    "                        max_stocks: int):\n",
    "    \"\"\"\n",
    "    Create multiple group of stocks with basket_size elements\n",
    "    inside each group.\n",
    "    Args:\n",
    "        lst_stocks (list) : List of stocks\n",
    "        basket_size (int): The total element of stocks in\n",
    "            each basket.\n",
    "    \"\"\"\n",
    "    \n",
    "    random.shuffle(tst)\n",
    "    stcks = {'stocks_dict':list(tst), 'groups':{}}\n",
    "\n",
    "    for i in range(0,max_stocks,basket_size):\n",
    "        stcks['groups'].update({i:list(tst[i:i+basket_size])})\n",
    "    \n",
    "    return stcks\n",
    "\n",
    "\n",
    "def simulate_year(df_series, years: list, n_sims: int,\n",
    "                  stock_groups: dict, exploration_rate: float,\n",
    "                  p_c: float):\n",
    "\n",
    "    df_test = df_series[df_series['Date'].dt.year.isin(years)]\n",
    "    lines = []\n",
    "\n",
    "    for group, lst_stocks in stock_groups['groups'].items():\n",
    "\n",
    "        df_bandits = df_test[lst_stocks].pct_change(1).dropna()\n",
    "\n",
    "        if df_bandits.shape[0] == 0:\n",
    "            continue\n",
    "\n",
    "        arguments = {\"exploration_rate\": exploration_rate,\n",
    "                     \"n_bandit\":df_bandits.shape[1],\n",
    "                     \"steps\":df_bandits.shape[0],\n",
    "                     \"c\":p_c,\n",
    "                     \"df_bandits\":df_bandits\n",
    "                    }\n",
    "\n",
    "\n",
    "        exp = explore(ucb.execute)\n",
    "        exp.execute(n_sims, **arguments)\n",
    "        mean, std = stats(exp.rets_compo)\n",
    "        line = [arguments[\"c\"],\n",
    "                arguments[\"exploration_rate\"],\n",
    "                mean,\n",
    "                std]\n",
    "\n",
    "        lines.append(line)\n",
    "\n",
    "    df_rets = pd.DataFrame(lines)\n",
    "    df_rets.columns = [\"c\", \"expl\", \"mean\", \"std\"]\n",
    "    \n",
    "    return df_rets.mean()"
   ]
  },
  {
   "cell_type": "code",
   "execution_count": 13,
   "id": "fa732495",
   "metadata": {},
   "outputs": [
    {
     "name": "stderr",
     "output_type": "stream",
     "text": [
      "100%|███████████████████████████████████████████| 11/11 [00:43<00:00,  3.95s/it]\n"
     ]
    }
   ],
   "source": [
    "max_stocks = 120\n",
    "stock_groups = {}\n",
    "basket_size = 5\n",
    "metric = 'sr' # choose between 'av_ret' or 'sr'\n",
    "\n",
    "for year in tqdm.tqdm(range(2013,2024)):\n",
    "\n",
    "    years_tr = list(range(year - 10, year))\n",
    "    stats_tr = get_stats(df_close_stocks, tickers, years = years_tr)\n",
    "    df_stats_tr = df_and_sort(stats_tr, metric)\n",
    "    tst = df_stats_tr.index[0:max_stocks].values\n",
    "    stock_groups[year] = create_stock_groups(tickers,\n",
    "                                             basket_size,\n",
    "                                             max_stocks)"
   ]
  },
  {
   "cell_type": "code",
   "execution_count": 15,
   "id": "9db31c49",
   "metadata": {},
   "outputs": [
    {
     "name": "stderr",
     "output_type": "stream",
     "text": [
      "100%|███████████████████████████████████████████| 11/11 [13:56<00:00, 76.08s/it]\n"
     ]
    }
   ],
   "source": [
    "final_stats = []\n",
    "\n",
    "for year in tqdm.tqdm(range(2013,2024)):\n",
    "    for exploration_rate in np.arange(0.01,0.15,0.01):\n",
    "        for p_c in np.arange(0.05,2.0,0.05):\n",
    "            st_year = simulate_year(df_2w, [year], n_sims = 5,\n",
    "                                    stock_groups = stock_groups[year],\n",
    "                                    exploration_rate = exploration_rate,\n",
    "                                    p_c = p_c\n",
    "                                   )\n",
    "            tmp_year = {\"year\":year,\"ex_rate\":exploration_rate,\n",
    "                        \"c\":p_c, \"return\": st_year['mean']}\n",
    "            final_stats.append(tmp_year)"
   ]
  },
  {
   "cell_type": "code",
   "execution_count": 16,
   "id": "6a0b3f2d",
   "metadata": {},
   "outputs": [],
   "source": [
    "df_res = pd.DataFrame(final_stats)\n",
    "df_groups = df_res.groupby(by=['ex_rate','c']).mean()['return'].reset_index()"
   ]
  },
  {
   "cell_type": "code",
   "execution_count": 17,
   "id": "2ca66a84",
   "metadata": {},
   "outputs": [
    {
     "data": {
      "text/plain": [
       "<AxesSubplot: >"
      ]
     },
     "execution_count": 17,
     "metadata": {},
     "output_type": "execute_result"
    },
    {
     "data": {
      "image/png": "[encoded data removed]",
      "text/plain": [
       "<Figure size 640x480 with 1 Axes>"
      ]
     },
     "metadata": {},
     "output_type": "display_data"
    }
   ],
   "source": [
    "df_groups['return'].plot()"
   ]
  },
  {
   "cell_type": "code",
   "execution_count": 18,
   "id": "e5ccacaf",
   "metadata": {},
   "outputs": [
    {
     "data": {
      "text/html": [
       "<div>\n",
       "<style scoped>\n",
       "    .dataframe tbody tr th:only-of-type {\n",
       "        vertical-align: middle;\n",
       "    }\n",
       "\n",
       "    .dataframe tbody tr th {\n",
       "        vertical-align: top;\n",
       "    }\n",
       "\n",
       "    .dataframe thead th {\n",
       "        text-align: right;\n",
       "    }\n",
       "</style>\n",
       "<table border=\"1\" class=\"dataframe\">\n",
       "  <thead>\n",
       "    <tr style=\"text-align: right;\">\n",
       "      <th></th>\n",
       "      <th>ex_rate</th>\n",
       "      <th>c</th>\n",
       "      <th>return</th>\n",
       "    </tr>\n",
       "  </thead>\n",
       "  <tbody>\n",
       "    <tr>\n",
       "      <th>0</th>\n",
       "      <td>0.01</td>\n",
       "      <td>0.05</td>\n",
       "      <td>0.144340</td>\n",
       "    </tr>\n",
       "    <tr>\n",
       "      <th>1</th>\n",
       "      <td>0.01</td>\n",
       "      <td>0.10</td>\n",
       "      <td>0.127051</td>\n",
       "    </tr>\n",
       "    <tr>\n",
       "      <th>2</th>\n",
       "      <td>0.01</td>\n",
       "      <td>0.15</td>\n",
       "      <td>0.155370</td>\n",
       "    </tr>\n",
       "    <tr>\n",
       "      <th>3</th>\n",
       "      <td>0.01</td>\n",
       "      <td>0.20</td>\n",
       "      <td>0.168918</td>\n",
       "    </tr>\n",
       "    <tr>\n",
       "      <th>4</th>\n",
       "      <td>0.01</td>\n",
       "      <td>0.25</td>\n",
       "      <td>0.160964</td>\n",
       "    </tr>\n",
       "  </tbody>\n",
       "</table>\n",
       "</div>"
      ],
      "text/plain": [
       "   ex_rate     c    return\n",
       "0     0.01  0.05  0.144340\n",
       "1     0.01  0.10  0.127051\n",
       "2     0.01  0.15  0.155370\n",
       "3     0.01  0.20  0.168918\n",
       "4     0.01  0.25  0.160964"
      ]
     },
     "execution_count": 18,
     "metadata": {},
     "output_type": "execute_result"
    }
   ],
   "source": [
    "path_csv = '../../../datasharing/df_groups_c.csv'\n",
    "df_groups.to_csv(path_csv,index = False)\n",
    "df_groups = pd.read_csv(path_csv)\n",
    "df_groups.head()"
   ]
  },
  {
   "cell_type": "code",
   "execution_count": 21,
   "id": "3edec0b3",
   "metadata": {},
   "outputs": [
    {
     "data": {
      "application/vnd.plotly.v1+json": {
       "config": {
        "plotlyServerURL": "https://plot.ly"
       },
       "data": [
        {
         "coloraxis": "coloraxis",
         "histfunc": "avg",
         "hovertemplate": "ex_rate=%{x}<br>c=%{y}<br>avg of return=%{z}<extra></extra>",
         "name": "",
         "type": "histogram2d",
         "x": [
          0.01,
          0.01,
          0.01,
          0.01,
          0.01,
          0.01,
          0.01,
          0.01,
          0.01,
          0.01,
          0.01,
          0.01,
          0.01,
          0.01,
          0.01,
          0.01,
          0.01,
          0.01,
          0.01,
          0.01,
          0.01,
          0.01,
          0.01,
          0.01,
          0.01,
          0.01,
          0.01,
          0.01,
          0.01,
          0.01,
          0.01,
          0.01,
          0.01,
          0.01,
          0.01,
          0.01,
          0.01,
          0.01,
          0.01,
          0.02,
          0.02,
          0.02,
          0.02,
          0.02,
          0.02,
          0.02,
          0.02,
          0.02,
          0.02,
          0.02,
          0.02,
          0.02,
          0.02,
          0.02,
          0.02,
          0.02,
          0.02,
          0.02,
          0.02,
          0.02,
          0.02,
          0.02,
          0.02,
          0.02,
          0.02,
          0.02,
          0.02,
          0.02,
          0.02,
          0.02,
          0.02,
          0.02,
          0.02,
          0.02,
          0.02,
          0.02,
          0.02,
          0.02,
          0.03,
          0.03,
          0.03,
          0.03,
          0.03,
          0.03,
          0.03,
          0.03,
          0.03,
          0.03,
          0.03,
          0.03,
          0.03,
          0.03,
          0.03,
          0.03,
          0.03,
          0.03,
          0.03,
          0.03,
          0.03,
          0.03,
          0.03,
          0.03,
          0.03,
          0.03,
          0.03,
          0.03,
          0.03,
          0.03,
          0.03,
          0.03,
          0.03,
          0.03,
          0.03,
          0.03,
          0.03,
          0.03,
          0.03,
          0.04,
          0.04,
          0.04,
          0.04,
          0.04,
          0.04,
          0.04,
          0.04,
          0.04,
          0.04,
          0.04,
          0.04,
          0.04,
          0.04,
          0.04,
          0.04,
          0.04,
          0.04,
          0.04,
          0.04,
          0.04,
          0.04,
          0.04,
          0.04,
          0.04,
          0.04,
          0.04,
          0.04,
          0.04,
          0.04,
          0.04,
          0.04,
          0.04,
          0.04,
          0.04,
          0.04,
          0.04,
          0.04,
          0.04,
          0.05,
          0.05,
          0.05,
          0.05,
          0.05,
          0.05,
          0.05,
          0.05,
          0.05,
          0.05,
          0.05,
          0.05,
          0.05,
          0.05,
          0.05,
          0.05,
          0.05,
          0.05,
          0.05,
          0.05,
          0.05,
          0.05,
          0.05,
          0.05,
          0.05,
          0.05,
          0.05,
          0.05,
          0.05,
          0.05,
          0.05,
          0.05,
          0.05,
          0.05,
          0.05,
          0.05,
          0.05,
          0.05,
          0.05,
          0.06,
          0.06,
          0.06,
          0.06,
          0.06,
          0.06,
          0.06,
          0.06,
          0.06,
          0.06,
          0.06,
          0.06,
          0.06,
          0.06,
          0.06,
          0.06,
          0.06,
          0.06,
          0.06,
          0.06,
          0.06,
          0.06,
          0.06,
          0.06,
          0.06,
          0.06,
          0.06,
          0.06,
          0.06,
          0.06,
          0.06,
          0.06,
          0.06,
          0.06,
          0.06,
          0.06,
          0.06,
          0.06,
          0.06,
          0.0699999999999999,
          0.0699999999999999,
          0.0699999999999999,
          0.0699999999999999,
          0.0699999999999999,
          0.0699999999999999,
          0.0699999999999999,
          0.0699999999999999,
          0.0699999999999999,
          0.0699999999999999,
          0.0699999999999999,
          0.0699999999999999,
          0.0699999999999999,
          0.0699999999999999,
          0.0699999999999999,
          0.0699999999999999,
          0.0699999999999999,
          0.0699999999999999,
          0.0699999999999999,
          0.0699999999999999,
          0.0699999999999999,
          0.0699999999999999,
          0.0699999999999999,
          0.0699999999999999,
          0.0699999999999999,
          0.0699999999999999,
          0.0699999999999999,
          0.0699999999999999,
          0.0699999999999999,
          0.0699999999999999,
          0.0699999999999999,
          0.0699999999999999,
          0.0699999999999999,
          0.0699999999999999,
          0.0699999999999999,
          0.0699999999999999,
          0.0699999999999999,
          0.0699999999999999,
          0.0699999999999999,
          0.08,
          0.08,
          0.08,
          0.08,
          0.08,
          0.08,
          0.08,
          0.08,
          0.08,
          0.08,
          0.08,
          0.08,
          0.08,
          0.08,
          0.08,
          0.08,
          0.08,
          0.08,
          0.08,
          0.08,
          0.08,
          0.08,
          0.08,
          0.08,
          0.08,
          0.08,
          0.08,
          0.08,
          0.08,
          0.08,
          0.08,
          0.08,
          0.08,
          0.08,
          0.08,
          0.08,
          0.08,
          0.08,
          0.08,
          0.09,
          0.09,
          0.09,
          0.09,
          0.09,
          0.09,
          0.09,
          0.09,
          0.09,
          0.09,
          0.09,
          0.09,
          0.09,
          0.09,
          0.09,
          0.09,
          0.09,
          0.09,
          0.09,
          0.09,
          0.09,
          0.09,
          0.09,
          0.09,
          0.09,
          0.09,
          0.09,
          0.09,
          0.09,
          0.09,
          0.09,
          0.09,
          0.09,
          0.09,
          0.09,
          0.09,
          0.09,
          0.09,
          0.09,
          0.0999999999999999,
          0.0999999999999999,
          0.0999999999999999,
          0.0999999999999999,
          0.0999999999999999,
          0.0999999999999999,
          0.0999999999999999,
          0.0999999999999999,
          0.0999999999999999,
          0.0999999999999999,
          0.0999999999999999,
          0.0999999999999999,
          0.0999999999999999,
          0.0999999999999999,
          0.0999999999999999,
          0.0999999999999999,
          0.0999999999999999,
          0.0999999999999999,
          0.0999999999999999,
          0.0999999999999999,
          0.0999999999999999,
          0.0999999999999999,
          0.0999999999999999,
          0.0999999999999999,
          0.0999999999999999,
          0.0999999999999999,
          0.0999999999999999,
          0.0999999999999999,
          0.0999999999999999,
          0.0999999999999999,
          0.0999999999999999,
          0.0999999999999999,
          0.0999999999999999,
          0.0999999999999999,
          0.0999999999999999,
          0.0999999999999999,
          0.0999999999999999,
          0.0999999999999999,
          0.0999999999999999,
          0.11,
          0.11,
          0.11,
          0.11,
          0.11,
          0.11,
          0.11,
          0.11,
          0.11,
          0.11,
          0.11,
          0.11,
          0.11,
          0.11,
          0.11,
          0.11,
          0.11,
          0.11,
          0.11,
          0.11,
          0.11,
          0.11,
          0.11,
          0.11,
          0.11,
          0.11,
          0.11,
          0.11,
          0.11,
          0.11,
          0.11,
          0.11,
          0.11,
          0.11,
          0.11,
          0.11,
          0.11,
          0.11,
          0.11,
          0.12,
          0.12,
          0.12,
          0.12,
          0.12,
          0.12,
          0.12,
          0.12,
          0.12,
          0.12,
          0.12,
          0.12,
          0.12,
          0.12,
          0.12,
          0.12,
          0.12,
          0.12,
          0.12,
          0.12,
          0.12,
          0.12,
          0.12,
          0.12,
          0.12,
          0.12,
          0.12,
          0.12,
          0.12,
          0.12,
          0.12,
          0.12,
          0.12,
          0.12,
          0.12,
          0.12,
          0.12,
          0.12,
          0.12,
          0.13,
          0.13,
          0.13,
          0.13,
          0.13,
          0.13,
          0.13,
          0.13,
          0.13,
          0.13,
          0.13,
          0.13,
          0.13,
          0.13,
          0.13,
          0.13,
          0.13,
          0.13,
          0.13,
          0.13,
          0.13,
          0.13,
          0.13,
          0.13,
          0.13,
          0.13,
          0.13,
          0.13,
          0.13,
          0.13,
          0.13,
          0.13,
          0.13,
          0.13,
          0.13,
          0.13,
          0.13,
          0.13,
          0.13,
          0.14,
          0.14,
          0.14,
          0.14,
          0.14,
          0.14,
          0.14,
          0.14,
          0.14,
          0.14,
          0.14,
          0.14,
          0.14,
          0.14,
          0.14,
          0.14,
          0.14,
          0.14,
          0.14,
          0.14,
          0.14,
          0.14,
          0.14,
          0.14,
          0.14,
          0.14,
          0.14,
          0.14,
          0.14,
          0.14,
          0.14,
          0.14,
          0.14,
          0.14,
          0.14,
          0.14,
          0.14,
          0.14,
          0.14
         ],
         "xaxis": "x",
         "xbingroup": "x",
         "y": [
          0.05,
          0.1,
          0.15,
          0.2,
          0.25,
          0.3,
          0.35,
          0.4,
          0.45,
          0.5,
          0.55,
          0.6000000000000001,
          0.6500000000000001,
          0.7000000000000001,
          0.7500000000000001,
          0.8,
          0.8500000000000001,
          0.9000000000000001,
          0.95,
          1,
          1.05,
          1.1,
          1.15,
          1.2000000000000002,
          1.2500000000000002,
          1.3,
          1.35,
          1.4,
          1.4500000000000002,
          1.5000000000000002,
          1.55,
          1.6,
          1.65,
          1.7000000000000002,
          1.7500000000000002,
          1.8,
          1.85,
          1.9,
          1.95,
          0.05,
          0.1,
          0.15,
          0.2,
          0.25,
          0.3,
          0.35,
          0.4,
          0.45,
          0.5,
          0.55,
          0.6000000000000001,
          0.6500000000000001,
          0.7000000000000001,
          0.7500000000000001,
          0.8,
          0.8500000000000001,
          0.9000000000000001,
          0.95,
          1,
          1.05,
          1.1,
          1.15,
          1.2000000000000002,
          1.2500000000000002,
          1.3,
          1.35,
          1.4,
          1.4500000000000002,
          1.5000000000000002,
          1.55,
          1.6,
          1.65,
          1.7000000000000002,
          1.7500000000000002,
          1.8,
          1.85,
          1.9,
          1.95,
          0.05,
          0.1,
          0.15,
          0.2,
          0.25,
          0.3,
          0.35,
          0.4,
          0.45,
          0.5,
          0.55,
          0.6000000000000001,
          0.6500000000000001,
          0.7000000000000001,
          0.7500000000000001,
          0.8,
          0.8500000000000001,
          0.9000000000000001,
          0.95,
          1,
          1.05,
          1.1,
          1.15,
          1.2000000000000002,
          1.2500000000000002,
          1.3,
          1.35,
          1.4,
          1.4500000000000002,
          1.5000000000000002,
          1.55,
          1.6,
          1.65,
          1.7000000000000002,
          1.7500000000000002,
          1.8,
          1.85,
          1.9,
          1.95,
          0.05,
          0.1,
          0.15,
          0.2,
          0.25,
          0.3,
          0.35,
          0.4,
          0.45,
          0.5,
          0.55,
          0.6000000000000001,
          0.6500000000000001,
          0.7000000000000001,
          0.7500000000000001,
          0.8,
          0.8500000000000001,
          0.9000000000000001,
          0.95,
          1,
          1.05,
          1.1,
          1.15,
          1.2000000000000002,
          1.2500000000000002,
          1.3,
          1.35,
          1.4,
          1.4500000000000002,
          1.5000000000000002,
          1.55,
          1.6,
          1.65,
          1.7000000000000002,
          1.7500000000000002,
          1.8,
          1.85,
          1.9,
          1.95,
          0.05,
          0.1,
          0.15,
          0.2,
          0.25,
          0.3,
          0.35,
          0.4,
          0.45,
          0.5,
          0.55,
          0.6000000000000001,
          0.6500000000000001,
          0.7000000000000001,
          0.7500000000000001,
          0.8,
          0.8500000000000001,
          0.9000000000000001,
          0.95,
          1,
          1.05,
          1.1,
          1.15,
          1.2000000000000002,
          1.2500000000000002,
          1.3,
          1.35,
          1.4,
          1.4500000000000002,
          1.5000000000000002,
          1.55,
          1.6,
          1.65,
          1.7000000000000002,
          1.7500000000000002,
          1.8,
          1.85,
          1.9,
          1.95,
          0.05,
          0.1,
          0.15,
          0.2,
          0.25,
          0.3,
          0.35,
          0.4,
          0.45,
          0.5,
          0.55,
          0.6000000000000001,
          0.6500000000000001,
          0.7000000000000001,
          0.7500000000000001,
          0.8,
          0.8500000000000001,
          0.9000000000000001,
          0.95,
          1,
          1.05,
          1.1,
          1.15,
          1.2000000000000002,
          1.2500000000000002,
          1.3,
          1.35,
          1.4,
          1.4500000000000002,
          1.5000000000000002,
          1.55,
          1.6,
          1.65,
          1.7000000000000002,
          1.7500000000000002,
          1.8,
          1.85,
          1.9,
          1.95,
          0.05,
          0.1,
          0.15,
          0.2,
          0.25,
          0.3,
          0.35,
          0.4,
          0.45,
          0.5,
          0.55,
          0.6000000000000001,
          0.6500000000000001,
          0.7000000000000001,
          0.7500000000000001,
          0.8,
          0.8500000000000001,
          0.9000000000000001,
          0.95,
          1,
          1.05,
          1.1,
          1.15,
          1.2000000000000002,
          1.2500000000000002,
          1.3,
          1.35,
          1.4,
          1.4500000000000002,
          1.5000000000000002,
          1.55,
          1.6,
          1.65,
          1.7000000000000002,
          1.7500000000000002,
          1.8,
          1.85,
          1.9,
          1.95,
          0.05,
          0.1,
          0.15,
          0.2,
          0.25,
          0.3,
          0.35,
          0.4,
          0.45,
          0.5,
          0.55,
          0.6000000000000001,
          0.6500000000000001,
          0.7000000000000001,
          0.7500000000000001,
          0.8,
          0.8500000000000001,
          0.9000000000000001,
          0.95,
          1,
          1.05,
          1.1,
          1.15,
          1.2000000000000002,
          1.2500000000000002,
          1.3,
          1.35,
          1.4,
          1.4500000000000002,
          1.5000000000000002,
          1.55,
          1.6,
          1.65,
          1.7000000000000002,
          1.7500000000000002,
          1.8,
          1.85,
          1.9,
          1.95,
          0.05,
          0.1,
          0.15,
          0.2,
          0.25,
          0.3,
          0.35,
          0.4,
          0.45,
          0.5,
          0.55,
          0.6000000000000001,
          0.6500000000000001,
          0.7000000000000001,
          0.7500000000000001,
          0.8,
          0.8500000000000001,
          0.9000000000000001,
          0.95,
          1,
          1.05,
          1.1,
          1.15,
          1.2000000000000002,
          1.2500000000000002,
          1.3,
          1.35,
          1.4,
          1.4500000000000002,
          1.5000000000000002,
          1.55,
          1.6,
          1.65,
          1.7000000000000002,
          1.7500000000000002,
          1.8,
          1.85,
          1.9,
          1.95,
          0.05,
          0.1,
          0.15,
          0.2,
          0.25,
          0.3,
          0.35,
          0.4,
          0.45,
          0.5,
          0.55,
          0.6000000000000001,
          0.6500000000000001,
          0.7000000000000001,
          0.7500000000000001,
          0.8,
          0.8500000000000001,
          0.9000000000000001,
          0.95,
          1,
          1.05,
          1.1,
          1.15,
          1.2000000000000002,
          1.2500000000000002,
          1.3,
          1.35,
          1.4,
          1.4500000000000002,
          1.5000000000000002,
          1.55,
          1.6,
          1.65,
          1.7000000000000002,
          1.7500000000000002,
          1.8,
          1.85,
          1.9,
          1.95,
          0.05,
          0.1,
          0.15,
          0.2,
          0.25,
          0.3,
          0.35,
          0.4,
          0.45,
          0.5,
          0.55,
          0.6000000000000001,
          0.6500000000000001,
          0.7000000000000001,
          0.7500000000000001,
          0.8,
          0.8500000000000001,
          0.9000000000000001,
          0.95,
          1,
          1.05,
          1.1,
          1.15,
          1.2000000000000002,
          1.2500000000000002,
          1.3,
          1.35,
          1.4,
          1.4500000000000002,
          1.5000000000000002,
          1.55,
          1.6,
          1.65,
          1.7000000000000002,
          1.7500000000000002,
          1.8,
          1.85,
          1.9,
          1.95,
          0.05,
          0.1,
          0.15,
          0.2,
          0.25,
          0.3,
          0.35,
          0.4,
          0.45,
          0.5,
          0.55,
          0.6000000000000001,
          0.6500000000000001,
          0.7000000000000001,
          0.7500000000000001,
          0.8,
          0.8500000000000001,
          0.9000000000000001,
          0.95,
          1,
          1.05,
          1.1,
          1.15,
          1.2000000000000002,
          1.2500000000000002,
          1.3,
          1.35,
          1.4,
          1.4500000000000002,
          1.5000000000000002,
          1.55,
          1.6,
          1.65,
          1.7000000000000002,
          1.7500000000000002,
          1.8,
          1.85,
          1.9,
          1.95,
          0.05,
          0.1,
          0.15,
          0.2,
          0.25,
          0.3,
          0.35,
          0.4,
          0.45,
          0.5,
          0.55,
          0.6000000000000001,
          0.6500000000000001,
          0.7000000000000001,
          0.7500000000000001,
          0.8,
          0.8500000000000001,
          0.9000000000000001,
          0.95,
          1,
          1.05,
          1.1,
          1.15,
          1.2000000000000002,
          1.2500000000000002,
          1.3,
          1.35,
          1.4,
          1.4500000000000002,
          1.5000000000000002,
          1.55,
          1.6,
          1.65,
          1.7000000000000002,
          1.7500000000000002,
          1.8,
          1.85,
          1.9,
          1.95,
          0.05,
          0.1,
          0.15,
          0.2,
          0.25,
          0.3,
          0.35,
          0.4,
          0.45,
          0.5,
          0.55,
          0.6000000000000001,
          0.6500000000000001,
          0.7000000000000001,
          0.7500000000000001,
          0.8,
          0.8500000000000001,
          0.9000000000000001,
          0.95,
          1,
          1.05,
          1.1,
          1.15,
          1.2000000000000002,
          1.2500000000000002,
          1.3,
          1.35,
          1.4,
          1.4500000000000002,
          1.5000000000000002,
          1.55,
          1.6,
          1.65,
          1.7000000000000002,
          1.7500000000000002,
          1.8,
          1.85,
          1.9,
          1.95
         ],
         "yaxis": "y",
         "ybingroup": "y",
         "z": [
          0.1443395726480678,
          0.1270511034122748,
          0.1553700077645228,
          0.1689182433861271,
          0.1609637976824009,
          0.1695094421699718,
          0.1710128214777851,
          0.164220100323437,
          0.1596614004193312,
          0.1697030296222884,
          0.1714389769594244,
          0.17523307868789,
          0.1665409241088283,
          0.1716242347132157,
          0.1830043730701862,
          0.1685289711284704,
          0.1675968099925729,
          0.1732342406508135,
          0.1905621283865705,
          0.1838464611679352,
          0.1770002913828144,
          0.1701741422040834,
          0.1849476115624684,
          0.1861391269406654,
          0.1752187677741061,
          0.1714996329125237,
          0.1708827154265244,
          0.1709828285382983,
          0.1755171692680035,
          0.1758404455959016,
          0.1770879122764108,
          0.1763144985996182,
          0.1739844099424627,
          0.1691139618094253,
          0.1738501534344115,
          0.1734494691304886,
          0.1710849790661703,
          0.1682934266544878,
          0.1729729232636468,
          0.1458434355680785,
          0.1289115885521102,
          0.1501390788687968,
          0.1672926547125318,
          0.1608643958049504,
          0.1698552098080583,
          0.168964878428197,
          0.1753760545444344,
          0.1622979972523364,
          0.1663639887983567,
          0.1744215238765954,
          0.1709803282397907,
          0.171939452129447,
          0.1756803343838314,
          0.1881381630180359,
          0.1734387194532096,
          0.1668125524350863,
          0.1750716291489437,
          0.1808860470590247,
          0.1827280032789264,
          0.1711083235996973,
          0.1756655751793936,
          0.1821217653159093,
          0.1820316612933371,
          0.1799447942800156,
          0.180625046217982,
          0.1734507727444794,
          0.1717630180160532,
          0.1743271110493599,
          0.1735202014226129,
          0.1751882203717572,
          0.1802441914975126,
          0.1712492068645735,
          0.1743029875115194,
          0.1797111954869878,
          0.1799017510639659,
          0.163416491408867,
          0.1735177980028328,
          0.1710643096159546,
          0.1481983709636007,
          0.1357426765057444,
          0.1610096348816319,
          0.168150463826753,
          0.1656514031772035,
          0.1702580955731824,
          0.1685804700116621,
          0.1675637334909812,
          0.1639390895911153,
          0.1715273440981836,
          0.1805705014958858,
          0.1755550058781741,
          0.1641605677424285,
          0.1767601587121297,
          0.1874830948032723,
          0.1783968957534106,
          0.1777310823260889,
          0.1786741903769755,
          0.1833135664038506,
          0.1800921978205033,
          0.1729677714782008,
          0.1848967425088689,
          0.191321788024636,
          0.1847356871204749,
          0.1711011929818658,
          0.1746161717661309,
          0.1693655796023289,
          0.1668954409368485,
          0.1785811429771377,
          0.1744949799676391,
          0.1849517498884663,
          0.17036698061251,
          0.183702961875438,
          0.1725208088982038,
          0.1712089522021202,
          0.1664542177912912,
          0.1764936107489826,
          0.1774503639168992,
          0.1697104819206734,
          0.1473457183569725,
          0.1364021274294832,
          0.1601692417008478,
          0.1689451949293017,
          0.1669932231273775,
          0.1597226495512342,
          0.17109790653892,
          0.155870984599185,
          0.167356750643953,
          0.1622182176947492,
          0.175836702213449,
          0.1750391492702998,
          0.1714816376304558,
          0.1776484372922248,
          0.1818920215998624,
          0.1737249300981978,
          0.1821671367883444,
          0.175918616460754,
          0.1823760647459703,
          0.1810052302802212,
          0.180908455057232,
          0.1746631831682886,
          0.1844586539911335,
          0.1816314308796024,
          0.1717936380757814,
          0.1686608698243993,
          0.1787215609514754,
          0.1724222864200361,
          0.1765827751659983,
          0.1775509012913939,
          0.1699971902688231,
          0.1758191522576554,
          0.1737175726247886,
          0.1713389445709022,
          0.1703103241657424,
          0.1663500478699749,
          0.1733882131905099,
          0.1777280100536013,
          0.1748508707597233,
          0.1478427912632711,
          0.1397595937944944,
          0.1614360228777571,
          0.1630969364503185,
          0.1688912874966304,
          0.1643549918963733,
          0.1748790835932593,
          0.1637673023253707,
          0.1684921183363807,
          0.1774456826369419,
          0.1764172659941195,
          0.1685249977886297,
          0.1685859416048497,
          0.1764498961384395,
          0.1804205035277831,
          0.1795837226257741,
          0.1742644407685576,
          0.1674885546411835,
          0.1799860580262343,
          0.1812707779221938,
          0.1735977043744898,
          0.175180137484111,
          0.17458420142896,
          0.1829196453685092,
          0.1684060190065192,
          0.1682212720706846,
          0.1788276623691064,
          0.1770105139331136,
          0.1753303585882042,
          0.1791870340623438,
          0.1769283672843651,
          0.1786636488132141,
          0.1743502007515079,
          0.1890970928788358,
          0.1743309913004116,
          0.1795912009996258,
          0.1690778093384063,
          0.1761495585912301,
          0.1747261167606315,
          0.1534289913627109,
          0.1450527714045738,
          0.1513984217432661,
          0.1689724030940197,
          0.1613261287566434,
          0.1772416414535316,
          0.1645041605842655,
          0.1772200246145469,
          0.1677279801542713,
          0.1788720409648171,
          0.168874122680724,
          0.1614310841042158,
          0.1763869190852302,
          0.1887401727966569,
          0.1830964376391351,
          0.1776117503925622,
          0.1811396471142802,
          0.1674943549304783,
          0.191205234660611,
          0.1787479866508449,
          0.1854277895842581,
          0.1811932840540533,
          0.1884502323209267,
          0.1911007119334029,
          0.1802286863955463,
          0.1799446226520881,
          0.1727541264270161,
          0.173287057775288,
          0.1743839967388949,
          0.1709968421354798,
          0.1800679134833162,
          0.1768971766636615,
          0.1739947198024844,
          0.1783232386847987,
          0.1754200332831315,
          0.175553607101225,
          0.176423722343322,
          0.1837440609719416,
          0.1763743039691398,
          0.1478550046462257,
          0.1382994571956547,
          0.1553931004922316,
          0.1650916931212448,
          0.1669023474300007,
          0.1703938386734518,
          0.1662335936424528,
          0.1576691599202195,
          0.1653145365259402,
          0.1766070526940687,
          0.1731722623989555,
          0.1755081474664563,
          0.1784615130755013,
          0.1878807682417655,
          0.1927768555749988,
          0.1827394418518369,
          0.1692647794989102,
          0.1699831820973862,
          0.1732742010626199,
          0.1784330331636116,
          0.1733877099466106,
          0.1702093110926741,
          0.1734909061997336,
          0.1810784453860127,
          0.1777689324492523,
          0.1828745250194121,
          0.1690865728581408,
          0.1695354973585764,
          0.1719201110875538,
          0.1798110645885315,
          0.1787172436980537,
          0.1742826575875841,
          0.1810401374302387,
          0.1871018961506855,
          0.1729454004821075,
          0.1751355648499597,
          0.1695850397798294,
          0.1733912996006323,
          0.1770641234782699,
          0.1510101187716748,
          0.1444174653739104,
          0.1701912601694131,
          0.1713484138494222,
          0.1668541855043942,
          0.1729964162120149,
          0.1750055438644363,
          0.1619888238509562,
          0.1608354628653279,
          0.1788289959503139,
          0.1698111382468436,
          0.1762644764584915,
          0.1787926114437673,
          0.1854098303966679,
          0.1791646786906906,
          0.1689597075024956,
          0.1759540577064133,
          0.1819366019526898,
          0.1770584677345929,
          0.1754481385179791,
          0.1836224910868736,
          0.1824122010296943,
          0.1904040380488282,
          0.1880152440962649,
          0.1848268018608152,
          0.1705628982378471,
          0.1665952691786349,
          0.1762993378817458,
          0.1694823218332158,
          0.1738060185313616,
          0.1690012057984915,
          0.1870448449685864,
          0.1772272284940339,
          0.1734642740766463,
          0.1683783996399755,
          0.1763064833236488,
          0.1798116009059887,
          0.1759335042081623,
          0.1798274344668034,
          0.1516622969608441,
          0.1452263199253636,
          0.1707054008763757,
          0.1511111732539752,
          0.1681494366156311,
          0.1774806587282579,
          0.1708021258488079,
          0.1806550629717447,
          0.1701621470234728,
          0.1769016831448047,
          0.1703814944193771,
          0.1747841194585719,
          0.1788403698116547,
          0.1827700546595072,
          0.1912960512137951,
          0.1778710186306895,
          0.1826879529336174,
          0.1771513172439533,
          0.1855287099587384,
          0.1821503888130598,
          0.1805363637635767,
          0.1857604750700011,
          0.1728389729382972,
          0.1891677962563438,
          0.1744608835573038,
          0.1727654294369967,
          0.1902448591266608,
          0.179074287438064,
          0.1744613657789554,
          0.1702837578410927,
          0.1762532405377426,
          0.1732574187622231,
          0.1788032279310931,
          0.1823499727238467,
          0.1764144183603279,
          0.1785548808445,
          0.1812312595995311,
          0.1700866608111958,
          0.1679115049569476,
          0.1507860946554026,
          0.147289762759931,
          0.1691056790605223,
          0.1725611578107834,
          0.1819514605855255,
          0.1798890550004558,
          0.174078997992418,
          0.1671896660347745,
          0.1742663334219618,
          0.1846089650207835,
          0.19058059111094,
          0.1748593735052308,
          0.1678183626063253,
          0.1764475867987151,
          0.1839459132706788,
          0.183001977745402,
          0.1663998380108347,
          0.1805997238273655,
          0.1785550097335186,
          0.1818290670918048,
          0.1814421278340669,
          0.1783411978385463,
          0.1791932730449802,
          0.1902450983645471,
          0.1839333129633025,
          0.1723005344403651,
          0.1818916517584456,
          0.1858559915816202,
          0.182537545871066,
          0.1784493424601412,
          0.1780346101055963,
          0.1727331877101326,
          0.1845317722846094,
          0.1803967812498544,
          0.1696923125331784,
          0.175300448835993,
          0.1783741847083711,
          0.1779852083841763,
          0.1714827694428711,
          0.1508857570924856,
          0.1608687112937668,
          0.1615471849117749,
          0.1625062455648199,
          0.1625363936944218,
          0.1636188035898387,
          0.1708165019478018,
          0.1756326790741548,
          0.1564141174415455,
          0.1676772827804781,
          0.183942870737384,
          0.1742269041630346,
          0.1830884306156686,
          0.1790979948937017,
          0.189541901824145,
          0.1710553350204162,
          0.1717062344046675,
          0.1731652546690235,
          0.1892840246886154,
          0.1787249964322878,
          0.1787371449635403,
          0.1743084122474518,
          0.1821342243303813,
          0.1896929385574216,
          0.1853576123381367,
          0.1752608054695558,
          0.1797544829722433,
          0.1837019838162503,
          0.17013073816708,
          0.1766270572802323,
          0.173074282288912,
          0.174989435809488,
          0.1701448863499185,
          0.1741614270322318,
          0.1771186028647162,
          0.1765029321015983,
          0.1765307116261769,
          0.1725267999823723,
          0.1764884901055278,
          0.1522242537174888,
          0.1519539428078725,
          0.1584413895568424,
          0.1718765540673179,
          0.1682827556005864,
          0.1639525907317435,
          0.1624846208534639,
          0.170669484334193,
          0.176698232447018,
          0.1696120002612403,
          0.1747623921076934,
          0.1783345561826475,
          0.1732922479557749,
          0.1760515027528741,
          0.1874100035282806,
          0.183336875275567,
          0.1739246953138734,
          0.1889565742673548,
          0.1757365743943672,
          0.1889529045753209,
          0.1831339552269859,
          0.1671342324807599,
          0.1812369416137312,
          0.171828565237175,
          0.1756206338029546,
          0.1848633972520092,
          0.1710318676066637,
          0.1834135330060276,
          0.1792104180270155,
          0.1766532708024814,
          0.184126054195429,
          0.1763473449976284,
          0.1753475885005142,
          0.1796013477251049,
          0.1833650553563684,
          0.1887337155486697,
          0.1788708540237931,
          0.1816885407815605,
          0.1706885559878533,
          0.1550481556979535,
          0.1522281378186406,
          0.1606034823467821,
          0.1709806012137434,
          0.1685154306211828,
          0.1741381671213813,
          0.1690186002184205,
          0.1764704791653053,
          0.1785563433302109,
          0.1854855041346955,
          0.1676041408283465,
          0.1666697477595281,
          0.1763573191112407,
          0.1694877826572125,
          0.1930380319086489,
          0.1851824606198625,
          0.1737753567793921,
          0.1813610936717098,
          0.1642898420005837,
          0.1772171122230709,
          0.1760261818238866,
          0.1727790612498952,
          0.1829592152251443,
          0.1748658214194573,
          0.1743237065764232,
          0.1839500162820857,
          0.1753010867489853,
          0.1766137644754338,
          0.1800705775551629,
          0.1811086849244584,
          0.1790915775448208,
          0.1789339293088172,
          0.1725888219597816,
          0.1775389465697464,
          0.1768514893906766,
          0.188432219820539,
          0.1714092786469364,
          0.1761050000182536,
          0.1872062415050249,
          0.1569903664463136,
          0.1594652106667778,
          0.1527964897946798,
          0.1696111446349383,
          0.1775009445708885,
          0.1663699008178346,
          0.1775141472828935,
          0.1674207408392501,
          0.1698609551404579,
          0.1772413591979097,
          0.1720931168701445,
          0.1792429780344204,
          0.1764388103941246,
          0.170602036725677,
          0.1899946892878316,
          0.1801179179135953,
          0.1727374114357012,
          0.1723886449199433,
          0.1695046575104768,
          0.1877407413058501,
          0.162014498547429,
          0.1869294061081413,
          0.1792339073384164,
          0.182287672930321,
          0.1769308423616643,
          0.1753261903782486,
          0.1891121248523778,
          0.166562798225068,
          0.1736186024958551,
          0.1789240567359952,
          0.1814751518751109,
          0.1672095340645064,
          0.1692113107609474,
          0.1875323650423979,
          0.1769217853727036,
          0.1828176774829824,
          0.1711460938422907,
          0.179624074092989,
          0.1793370027353092
         ]
        }
       ],
       "layout": {
        "coloraxis": {
         "colorbar": {
          "title": {
           "text": "avg of return"
          }
         },
         "colorscale": [
          [
           0,
           "#0d0887"
          ],
          [
           0.1111111111111111,
           "#46039f"
          ],
          [
           0.2222222222222222,
           "#7201a8"
          ],
          [
           0.3333333333333333,
           "#9c179e"
          ],
          [
           0.4444444444444444,
           "#bd3786"
          ],
          [
           0.5555555555555556,
           "#d8576b"
          ],
          [
           0.6666666666666666,
           "#ed7953"
          ],
          [
           0.7777777777777778,
           "#fb9f3a"
          ],
          [
           0.8888888888888888,
           "#fdca26"
          ],
          [
           1,
           "#f0f921"
          ]
         ]
        },
        "legend": {
         "tracegroupgap": 0
        },
        "margin": {
         "t": 60
        },
        "template": {
         "data": {
          "bar": [
           {
            "error_x": {
             "color": "#2a3f5f"
            },
            "error_y": {
             "color": "#2a3f5f"
            },
            "marker": {
             "line": {
              "color": "#E5ECF6",
              "width": 0.5
             },
             "pattern": {
              "fillmode": "overlay",
              "size": 10,
              "solidity": 0.2
             }
            },
            "type": "bar"
           }
          ],
          "barpolar": [
           {
            "marker": {
             "line": {
              "color": "#E5ECF6",
              "width": 0.5
             },
             "pattern": {
              "fillmode": "overlay",
              "size": 10,
              "solidity": 0.2
             }
            },
            "type": "barpolar"
           }
          ],
          "carpet": [
           {
            "aaxis": {
             "endlinecolor": "#2a3f5f",
             "gridcolor": "white",
             "linecolor": "white",
             "minorgridcolor": "white",
             "startlinecolor": "#2a3f5f"
            },
            "baxis": {
             "endlinecolor": "#2a3f5f",
             "gridcolor": "white",
             "linecolor": "white",
             "minorgridcolor": "white",
             "startlinecolor": "#2a3f5f"
            },
            "type": "carpet"
           }
          ],
          "choropleth": [
           {
            "colorbar": {
             "outlinewidth": 0,
             "ticks": ""
            },
            "type": "choropleth"
           }
          ],
          "contour": [
           {
            "colorbar": {
             "outlinewidth": 0,
             "ticks": ""
            },
            "colorscale": [
             [
              0,
              "#0d0887"
             ],
             [
              0.1111111111111111,
              "#46039f"
             ],
             [
              0.2222222222222222,
              "#7201a8"
             ],
             [
              0.3333333333333333,
              "#9c179e"
             ],
             [
              0.4444444444444444,
              "#bd3786"
             ],
             [
              0.5555555555555556,
              "#d8576b"
             ],
             [
              0.6666666666666666,
              "#ed7953"
             ],
             [
              0.7777777777777778,
              "#fb9f3a"
             ],
             [
              0.8888888888888888,
              "#fdca26"
             ],
             [
              1,
              "#f0f921"
             ]
            ],
            "type": "contour"
           }
          ],
          "contourcarpet": [
           {
            "colorbar": {
             "outlinewidth": 0,
             "ticks": ""
            },
            "type": "contourcarpet"
           }
          ],
          "heatmap": [
           {
            "colorbar": {
             "outlinewidth": 0,
             "ticks": ""
            },
            "colorscale": [
             [
              0,
              "#0d0887"
             ],
             [
              0.1111111111111111,
              "#46039f"
             ],
             [
              0.2222222222222222,
              "#7201a8"
             ],
             [
              0.3333333333333333,
              "#9c179e"
             ],
             [
              0.4444444444444444,
              "#bd3786"
             ],
             [
              0.5555555555555556,
              "#d8576b"
             ],
             [
              0.6666666666666666,
              "#ed7953"
             ],
             [
              0.7777777777777778,
              "#fb9f3a"
             ],
             [
              0.8888888888888888,
              "#fdca26"
             ],
             [
              1,
              "#f0f921"
             ]
            ],
            "type": "heatmap"
           }
          ],
          "heatmapgl": [
           {
            "colorbar": {
             "outlinewidth": 0,
             "ticks": ""
            },
            "colorscale": [
             [
              0,
              "#0d0887"
             ],
             [
              0.1111111111111111,
              "#46039f"
             ],
             [
              0.2222222222222222,
              "#7201a8"
             ],
             [
              0.3333333333333333,
              "#9c179e"
             ],
             [
              0.4444444444444444,
              "#bd3786"
             ],
             [
              0.5555555555555556,
              "#d8576b"
             ],
             [
              0.6666666666666666,
              "#ed7953"
             ],
             [
              0.7777777777777778,
              "#fb9f3a"
             ],
             [
              0.8888888888888888,
              "#fdca26"
             ],
             [
              1,
              "#f0f921"
             ]
            ],
            "type": "heatmapgl"
           }
          ],
          "histogram": [
           {
            "marker": {
             "pattern": {
              "fillmode": "overlay",
              "size": 10,
              "solidity": 0.2
             }
            },
            "type": "histogram"
           }
          ],
          "histogram2d": [
           {
            "colorbar": {
             "outlinewidth": 0,
             "ticks": ""
            },
            "colorscale": [
             [
              0,
              "#0d0887"
             ],
             [
              0.1111111111111111,
              "#46039f"
             ],
             [
              0.2222222222222222,
              "#7201a8"
             ],
             [
              0.3333333333333333,
              "#9c179e"
             ],
             [
              0.4444444444444444,
              "#bd3786"
             ],
             [
              0.5555555555555556,
              "#d8576b"
             ],
             [
              0.6666666666666666,
              "#ed7953"
             ],
             [
              0.7777777777777778,
              "#fb9f3a"
             ],
             [
              0.8888888888888888,
              "#fdca26"
             ],
             [
              1,
              "#f0f921"
             ]
            ],
            "type": "histogram2d"
           }
          ],
          "histogram2dcontour": [
           {
            "colorbar": {
             "outlinewidth": 0,
             "ticks": ""
            },
            "colorscale": [
             [
              0,
              "#0d0887"
             ],
             [
              0.1111111111111111,
              "#46039f"
             ],
             [
              0.2222222222222222,
              "#7201a8"
             ],
             [
              0.3333333333333333,
              "#9c179e"
             ],
             [
              0.4444444444444444,
              "#bd3786"
             ],
             [
              0.5555555555555556,
              "#d8576b"
             ],
             [
              0.6666666666666666,
              "#ed7953"
             ],
             [
              0.7777777777777778,
              "#fb9f3a"
             ],
             [
              0.8888888888888888,
              "#fdca26"
             ],
             [
              1,
              "#f0f921"
             ]
            ],
            "type": "histogram2dcontour"
           }
          ],
          "mesh3d": [
           {
            "colorbar": {
             "outlinewidth": 0,
             "ticks": ""
            },
            "type": "mesh3d"
           }
          ],
          "parcoords": [
           {
            "line": {
             "colorbar": {
              "outlinewidth": 0,
              "ticks": ""
             }
            },
            "type": "parcoords"
           }
          ],
          "pie": [
           {
            "automargin": true,
            "type": "pie"
           }
          ],
          "scatter": [
           {
            "fillpattern": {
             "fillmode": "overlay",
             "size": 10,
             "solidity": 0.2
            },
            "type": "scatter"
           }
          ],
          "scatter3d": [
           {
            "line": {
             "colorbar": {
              "outlinewidth": 0,
              "ticks": ""
             }
            },
            "marker": {
             "colorbar": {
              "outlinewidth": 0,
              "ticks": ""
             }
            },
            "type": "scatter3d"
           }
          ],
          "scattercarpet": [
           {
            "marker": {
             "colorbar": {
              "outlinewidth": 0,
              "ticks": ""
             }
            },
            "type": "scattercarpet"
           }
          ],
          "scattergeo": [
           {
            "marker": {
             "colorbar": {
              "outlinewidth": 0,
              "ticks": ""
             }
            },
            "type": "scattergeo"
           }
          ],
          "scattergl": [
           {
            "marker": {
             "colorbar": {
              "outlinewidth": 0,
              "ticks": ""
             }
            },
            "type": "scattergl"
           }
          ],
          "scattermapbox": [
           {
            "marker": {
             "colorbar": {
              "outlinewidth": 0,
              "ticks": ""
             }
            },
            "type": "scattermapbox"
           }
          ],
          "scatterpolar": [
           {
            "marker": {
             "colorbar": {
              "outlinewidth": 0,
              "ticks": ""
             }
            },
            "type": "scatterpolar"
           }
          ],
          "scatterpolargl": [
           {
            "marker": {
             "colorbar": {
              "outlinewidth": 0,
              "ticks": ""
             }
            },
            "type": "scatterpolargl"
           }
          ],
          "scatterternary": [
           {
            "marker": {
             "colorbar": {
              "outlinewidth": 0,
              "ticks": ""
             }
            },
            "type": "scatterternary"
           }
          ],
          "surface": [
           {
            "colorbar": {
             "outlinewidth": 0,
             "ticks": ""
            },
            "colorscale": [
             [
              0,
              "#0d0887"
             ],
             [
              0.1111111111111111,
              "#46039f"
             ],
             [
              0.2222222222222222,
              "#7201a8"
             ],
             [
              0.3333333333333333,
              "#9c179e"
             ],
             [
              0.4444444444444444,
              "#bd3786"
             ],
             [
              0.5555555555555556,
              "#d8576b"
             ],
             [
              0.6666666666666666,
              "#ed7953"
             ],
             [
              0.7777777777777778,
              "#fb9f3a"
             ],
             [
              0.8888888888888888,
              "#fdca26"
             ],
             [
              1,
              "#f0f921"
             ]
            ],
            "type": "surface"
           }
          ],
          "table": [
           {
            "cells": {
             "fill": {
              "color": "#EBF0F8"
             },
             "line": {
              "color": "white"
             }
            },
            "header": {
             "fill": {
              "color": "#C8D4E3"
             },
             "line": {
              "color": "white"
             }
            },
            "type": "table"
           }
          ]
         },
         "layout": {
          "annotationdefaults": {
           "arrowcolor": "#2a3f5f",
           "arrowhead": 0,
           "arrowwidth": 1
          },
          "autotypenumbers": "strict",
          "coloraxis": {
           "colorbar": {
            "outlinewidth": 0,
            "ticks": ""
           }
          },
          "colorscale": {
           "diverging": [
            [
             0,
             "#8e0152"
            ],
            [
             0.1,
             "#c51b7d"
            ],
            [
             0.2,
             "#de77ae"
            ],
            [
             0.3,
             "#f1b6da"
            ],
            [
             0.4,
             "#fde0ef"
            ],
            [
             0.5,
             "#f7f7f7"
            ],
            [
             0.6,
             "#e6f5d0"
            ],
            [
             0.7,
             "#b8e186"
            ],
            [
             0.8,
             "#7fbc41"
            ],
            [
             0.9,
             "#4d9221"
            ],
            [
             1,
             "#276419"
            ]
           ],
           "sequential": [
            [
             0,
             "#0d0887"
            ],
            [
             0.1111111111111111,
             "#46039f"
            ],
            [
             0.2222222222222222,
             "#7201a8"
            ],
            [
             0.3333333333333333,
             "#9c179e"
            ],
            [
             0.4444444444444444,
             "#bd3786"
            ],
            [
             0.5555555555555556,
             "#d8576b"
            ],
            [
             0.6666666666666666,
             "#ed7953"
            ],
            [
             0.7777777777777778,
             "#fb9f3a"
            ],
            [
             0.8888888888888888,
             "#fdca26"
            ],
            [
             1,
             "#f0f921"
            ]
           ],
           "sequentialminus": [
            [
             0,
             "#0d0887"
            ],
            [
             0.1111111111111111,
             "#46039f"
            ],
            [
             0.2222222222222222,
             "#7201a8"
            ],
            [
             0.3333333333333333,
             "#9c179e"
            ],
            [
             0.4444444444444444,
             "#bd3786"
            ],
            [
             0.5555555555555556,
             "#d8576b"
            ],
            [
             0.6666666666666666,
             "#ed7953"
            ],
            [
             0.7777777777777778,
             "#fb9f3a"
            ],
            [
             0.8888888888888888,
             "#fdca26"
            ],
            [
             1,
             "#f0f921"
            ]
           ]
          },
          "colorway": [
           "#636efa",
           "#EF553B",
           "#00cc96",
           "#ab63fa",
           "#FFA15A",
           "#19d3f3",
           "#FF6692",
           "#B6E880",
           "#FF97FF",
           "#FECB52"
          ],
          "font": {
           "color": "#2a3f5f"
          },
          "geo": {
           "bgcolor": "white",
           "lakecolor": "white",
           "landcolor": "#E5ECF6",
           "showlakes": true,
           "showland": true,
           "subunitcolor": "white"
          },
          "hoverlabel": {
           "align": "left"
          },
          "hovermode": "closest",
          "mapbox": {
           "style": "light"
          },
          "paper_bgcolor": "white",
          "plot_bgcolor": "#E5ECF6",
          "polar": {
           "angularaxis": {
            "gridcolor": "white",
            "linecolor": "white",
            "ticks": ""
           },
           "bgcolor": "#E5ECF6",
           "radialaxis": {
            "gridcolor": "white",
            "linecolor": "white",
            "ticks": ""
           }
          },
          "scene": {
           "xaxis": {
            "backgroundcolor": "#E5ECF6",
            "gridcolor": "white",
            "gridwidth": 2,
            "linecolor": "white",
            "showbackground": true,
            "ticks": "",
            "zerolinecolor": "white"
           },
           "yaxis": {
            "backgroundcolor": "#E5ECF6",
            "gridcolor": "white",
            "gridwidth": 2,
            "linecolor": "white",
            "showbackground": true,
            "ticks": "",
            "zerolinecolor": "white"
           },
           "zaxis": {
            "backgroundcolor": "#E5ECF6",
            "gridcolor": "white",
            "gridwidth": 2,
            "linecolor": "white",
            "showbackground": true,
            "ticks": "",
            "zerolinecolor": "white"
           }
          },
          "shapedefaults": {
           "line": {
            "color": "#2a3f5f"
           }
          },
          "ternary": {
           "aaxis": {
            "gridcolor": "white",
            "linecolor": "white",
            "ticks": ""
           },
           "baxis": {
            "gridcolor": "white",
            "linecolor": "white",
            "ticks": ""
           },
           "bgcolor": "#E5ECF6",
           "caxis": {
            "gridcolor": "white",
            "linecolor": "white",
            "ticks": ""
           }
          },
          "title": {
           "x": 0.05
          },
          "xaxis": {
           "automargin": true,
           "gridcolor": "white",
           "linecolor": "white",
           "ticks": "",
           "title": {
            "standoff": 15
           },
           "zerolinecolor": "white",
           "zerolinewidth": 2
          },
          "yaxis": {
           "automargin": true,
           "gridcolor": "white",
           "linecolor": "white",
           "ticks": "",
           "title": {
            "standoff": 15
           },
           "zerolinecolor": "white",
           "zerolinewidth": 2
          }
         }
        },
        "xaxis": {
         "anchor": "y",
         "domain": [
          0,
          1
         ],
         "title": {
          "text": "ex_rate"
         }
        },
        "yaxis": {
         "anchor": "x",
         "domain": [
          0,
          1
         ],
         "title": {
          "text": "c"
         }
        }
       }
      },
      "text/html": [
       "<div>                            <div id=\"af4d70be-4f7c-4563-a745-5ee3d4f1ecce\" class=\"plotly-graph-div\" style=\"height:525px; width:100%;\"></div>            <script type=\"text/javascript\">                require([\"plotly\"], function(Plotly) {                    window.PLOTLYENV=window.PLOTLYENV || {};                                    if (document.getElementById(\"af4d70be-4f7c-4563-a745-5ee3d4f1ecce\")) {                    Plotly.newPlot(                        \"af4d70be-4f7c-4563-a745-5ee3d4f1ecce\",                        [{\"coloraxis\":\"coloraxis\",\"histfunc\":\"avg\",\"hovertemplate\":\"ex_rate=%{x}\\u003cbr\\u003ec=%{y}\\u003cbr\\u003eavg of return=%{z}\\u003cextra\\u003e\\u003c\\u002fextra\\u003e\",\"name\":\"\",\"x\":[0.01,0.01,0.01,0.01,0.01,0.01,0.01,0.01,0.01,0.01,0.01,0.01,0.01,0.01,0.01,0.01,0.01,0.01,0.01,0.01,0.01,0.01,0.01,0.01,0.01,0.01,0.01,0.01,0.01,0.01,0.01,0.01,0.01,0.01,0.01,0.01,0.01,0.01,0.01,0.02,0.02,0.02,0.02,0.02,0.02,0.02,0.02,0.02,0.02,0.02,0.02,0.02,0.02,0.02,0.02,0.02,0.02,0.02,0.02,0.02,0.02,0.02,0.02,0.02,0.02,0.02,0.02,0.02,0.02,0.02,0.02,0.02,0.02,0.02,0.02,0.02,0.02,0.02,0.03,0.03,0.03,0.03,0.03,0.03,0.03,0.03,0.03,0.03,0.03,0.03,0.03,0.03,0.03,0.03,0.03,0.03,0.03,0.03,0.03,0.03,0.03,0.03,0.03,0.03,0.03,0.03,0.03,0.03,0.03,0.03,0.03,0.03,0.03,0.03,0.03,0.03,0.03,0.04,0.04,0.04,0.04,0.04,0.04,0.04,0.04,0.04,0.04,0.04,0.04,0.04,0.04,0.04,0.04,0.04,0.04,0.04,0.04,0.04,0.04,0.04,0.04,0.04,0.04,0.04,0.04,0.04,0.04,0.04,0.04,0.04,0.04,0.04,0.04,0.04,0.04,0.04,0.05,0.05,0.05,0.05,0.05,0.05,0.05,0.05,0.05,0.05,0.05,0.05,0.05,0.05,0.05,0.05,0.05,0.05,0.05,0.05,0.05,0.05,0.05,0.05,0.05,0.05,0.05,0.05,0.05,0.05,0.05,0.05,0.05,0.05,0.05,0.05,0.05,0.05,0.05,0.06,0.06,0.06,0.06,0.06,0.06,0.06,0.06,0.06,0.06,0.06,0.06,0.06,0.06,0.06,0.06,0.06,0.06,0.06,0.06,0.06,0.06,0.06,0.06,0.06,0.06,0.06,0.06,0.06,0.06,0.06,0.06,0.06,0.06,0.06,0.06,0.06,0.06,0.06,0.0699999999999999,0.0699999999999999,0.0699999999999999,0.0699999999999999,0.0699999999999999,0.0699999999999999,0.0699999999999999,0.0699999999999999,0.0699999999999999,0.0699999999999999,0.0699999999999999,0.0699999999999999,0.0699999999999999,0.0699999999999999,0.0699999999999999,0.0699999999999999,0.0699999999999999,0.0699999999999999,0.0699999999999999,0.0699999999999999,0.0699999999999999,0.0699999999999999,0.0699999999999999,0.0699999999999999,0.0699999999999999,0.0699999999999999,0.0699999999999999,0.0699999999999999,0.0699999999999999,0.0699999999999999,0.0699999999999999,0.0699999999999999,0.0699999999999999,0.0699999999999999,0.0699999999999999,0.0699999999999999,0.0699999999999999,0.0699999999999999,0.0699999999999999,0.08,0.08,0.08,0.08,0.08,0.08,0.08,0.08,0.08,0.08,0.08,0.08,0.08,0.08,0.08,0.08,0.08,0.08,0.08,0.08,0.08,0.08,0.08,0.08,0.08,0.08,0.08,0.08,0.08,0.08,0.08,0.08,0.08,0.08,0.08,0.08,0.08,0.08,0.08,0.09,0.09,0.09,0.09,0.09,0.09,0.09,0.09,0.09,0.09,0.09,0.09,0.09,0.09,0.09,0.09,0.09,0.09,0.09,0.09,0.09,0.09,0.09,0.09,0.09,0.09,0.09,0.09,0.09,0.09,0.09,0.09,0.09,0.09,0.09,0.09,0.09,0.09,0.09,0.0999999999999999,0.0999999999999999,0.0999999999999999,0.0999999999999999,0.0999999999999999,0.0999999999999999,0.0999999999999999,0.0999999999999999,0.0999999999999999,0.0999999999999999,0.0999999999999999,0.0999999999999999,0.0999999999999999,0.0999999999999999,0.0999999999999999,0.0999999999999999,0.0999999999999999,0.0999999999999999,0.0999999999999999,0.0999999999999999,0.0999999999999999,0.0999999999999999,0.0999999999999999,0.0999999999999999,0.0999999999999999,0.0999999999999999,0.0999999999999999,0.0999999999999999,0.0999999999999999,0.0999999999999999,0.0999999999999999,0.0999999999999999,0.0999999999999999,0.0999999999999999,0.0999999999999999,0.0999999999999999,0.0999999999999999,0.0999999999999999,0.0999999999999999,0.11,0.11,0.11,0.11,0.11,0.11,0.11,0.11,0.11,0.11,0.11,0.11,0.11,0.11,0.11,0.11,0.11,0.11,0.11,0.11,0.11,0.11,0.11,0.11,0.11,0.11,0.11,0.11,0.11,0.11,0.11,0.11,0.11,0.11,0.11,0.11,0.11,0.11,0.11,0.12,0.12,0.12,0.12,0.12,0.12,0.12,0.12,0.12,0.12,0.12,0.12,0.12,0.12,0.12,0.12,0.12,0.12,0.12,0.12,0.12,0.12,0.12,0.12,0.12,0.12,0.12,0.12,0.12,0.12,0.12,0.12,0.12,0.12,0.12,0.12,0.12,0.12,0.12,0.13,0.13,0.13,0.13,0.13,0.13,0.13,0.13,0.13,0.13,0.13,0.13,0.13,0.13,0.13,0.13,0.13,0.13,0.13,0.13,0.13,0.13,0.13,0.13,0.13,0.13,0.13,0.13,0.13,0.13,0.13,0.13,0.13,0.13,0.13,0.13,0.13,0.13,0.13,0.14,0.14,0.14,0.14,0.14,0.14,0.14,0.14,0.14,0.14,0.14,0.14,0.14,0.14,0.14,0.14,0.14,0.14,0.14,0.14,0.14,0.14,0.14,0.14,0.14,0.14,0.14,0.14,0.14,0.14,0.14,0.14,0.14,0.14,0.14,0.14,0.14,0.14,0.14],\"xaxis\":\"x\",\"xbingroup\":\"x\",\"y\":[0.05,0.1,0.15,0.2,0.25,0.3,0.35,0.4,0.45,0.5,0.55,0.6000000000000001,0.6500000000000001,0.7000000000000001,0.7500000000000001,0.8,0.8500000000000001,0.9000000000000001,0.95,1.0,1.05,1.1,1.15,1.2000000000000002,1.2500000000000002,1.3,1.35,1.4,1.4500000000000002,1.5000000000000002,1.55,1.6,1.65,1.7000000000000002,1.7500000000000002,1.8,1.85,1.9,1.95,0.05,0.1,0.15,0.2,0.25,0.3,0.35,0.4,0.45,0.5,0.55,0.6000000000000001,0.6500000000000001,0.7000000000000001,0.7500000000000001,0.8,0.8500000000000001,0.9000000000000001,0.95,1.0,1.05,1.1,1.15,1.2000000000000002,1.2500000000000002,1.3,1.35,1.4,1.4500000000000002,1.5000000000000002,1.55,1.6,1.65,1.7000000000000002,1.7500000000000002,1.8,1.85,1.9,1.95,0.05,0.1,0.15,0.2,0.25,0.3,0.35,0.4,0.45,0.5,0.55,0.6000000000000001,0.6500000000000001,0.7000000000000001,0.7500000000000001,0.8,0.8500000000000001,0.9000000000000001,0.95,1.0,1.05,1.1,1.15,1.2000000000000002,1.2500000000000002,1.3,1.35,1.4,1.4500000000000002,1.5000000000000002,1.55,1.6,1.65,1.7000000000000002,1.7500000000000002,1.8,1.85,1.9,1.95,0.05,0.1,0.15,0.2,0.25,0.3,0.35,0.4,0.45,0.5,0.55,0.6000000000000001,0.6500000000000001,0.7000000000000001,0.7500000000000001,0.8,0.8500000000000001,0.9000000000000001,0.95,1.0,1.05,1.1,1.15,1.2000000000000002,1.2500000000000002,1.3,1.35,1.4,1.4500000000000002,1.5000000000000002,1.55,1.6,1.65,1.7000000000000002,1.7500000000000002,1.8,1.85,1.9,1.95,0.05,0.1,0.15,0.2,0.25,0.3,0.35,0.4,0.45,0.5,0.55,0.6000000000000001,0.6500000000000001,0.7000000000000001,0.7500000000000001,0.8,0.8500000000000001,0.9000000000000001,0.95,1.0,1.05,1.1,1.15,1.2000000000000002,1.2500000000000002,1.3,1.35,1.4,1.4500000000000002,1.5000000000000002,1.55,1.6,1.65,1.7000000000000002,1.7500000000000002,1.8,1.85,1.9,1.95,0.05,0.1,0.15,0.2,0.25,0.3,0.35,0.4,0.45,0.5,0.55,0.6000000000000001,0.6500000000000001,0.7000000000000001,0.7500000000000001,0.8,0.8500000000000001,0.9000000000000001,0.95,1.0,1.05,1.1,1.15,1.2000000000000002,1.2500000000000002,1.3,1.35,1.4,1.4500000000000002,1.5000000000000002,1.55,1.6,1.65,1.7000000000000002,1.7500000000000002,1.8,1.85,1.9,1.95,0.05,0.1,0.15,0.2,0.25,0.3,0.35,0.4,0.45,0.5,0.55,0.6000000000000001,0.6500000000000001,0.7000000000000001,0.7500000000000001,0.8,0.8500000000000001,0.9000000000000001,0.95,1.0,1.05,1.1,1.15,1.2000000000000002,1.2500000000000002,1.3,1.35,1.4,1.4500000000000002,1.5000000000000002,1.55,1.6,1.65,1.7000000000000002,1.7500000000000002,1.8,1.85,1.9,1.95,0.05,0.1,0.15,0.2,0.25,0.3,0.35,0.4,0.45,0.5,0.55,0.6000000000000001,0.6500000000000001,0.7000000000000001,0.7500000000000001,0.8,0.8500000000000001,0.9000000000000001,0.95,1.0,1.05,1.1,1.15,1.2000000000000002,1.2500000000000002,1.3,1.35,1.4,1.4500000000000002,1.5000000000000002,1.55,1.6,1.65,1.7000000000000002,1.7500000000000002,1.8,1.85,1.9,1.95,0.05,0.1,0.15,0.2,0.25,0.3,0.35,0.4,0.45,0.5,0.55,0.6000000000000001,0.6500000000000001,0.7000000000000001,0.7500000000000001,0.8,0.8500000000000001,0.9000000000000001,0.95,1.0,1.05,1.1,1.15,1.2000000000000002,1.2500000000000002,1.3,1.35,1.4,1.4500000000000002,1.5000000000000002,1.55,1.6,1.65,1.7000000000000002,1.7500000000000002,1.8,1.85,1.9,1.95,0.05,0.1,0.15,0.2,0.25,0.3,0.35,0.4,0.45,0.5,0.55,0.6000000000000001,0.6500000000000001,0.7000000000000001,0.7500000000000001,0.8,0.8500000000000001,0.9000000000000001,0.95,1.0,1.05,1.1,1.15,1.2000000000000002,1.2500000000000002,1.3,1.35,1.4,1.4500000000000002,1.5000000000000002,1.55,1.6,1.65,1.7000000000000002,1.7500000000000002,1.8,1.85,1.9,1.95,0.05,0.1,0.15,0.2,0.25,0.3,0.35,0.4,0.45,0.5,0.55,0.6000000000000001,0.6500000000000001,0.7000000000000001,0.7500000000000001,0.8,0.8500000000000001,0.9000000000000001,0.95,1.0,1.05,1.1,1.15,1.2000000000000002,1.2500000000000002,1.3,1.35,1.4,1.4500000000000002,1.5000000000000002,1.55,1.6,1.65,1.7000000000000002,1.7500000000000002,1.8,1.85,1.9,1.95,0.05,0.1,0.15,0.2,0.25,0.3,0.35,0.4,0.45,0.5,0.55,0.6000000000000001,0.6500000000000001,0.7000000000000001,0.7500000000000001,0.8,0.8500000000000001,0.9000000000000001,0.95,1.0,1.05,1.1,1.15,1.2000000000000002,1.2500000000000002,1.3,1.35,1.4,1.4500000000000002,1.5000000000000002,1.55,1.6,1.65,1.7000000000000002,1.7500000000000002,1.8,1.85,1.9,1.95,0.05,0.1,0.15,0.2,0.25,0.3,0.35,0.4,0.45,0.5,0.55,0.6000000000000001,0.6500000000000001,0.7000000000000001,0.7500000000000001,0.8,0.8500000000000001,0.9000000000000001,0.95,1.0,1.05,1.1,1.15,1.2000000000000002,1.2500000000000002,1.3,1.35,1.4,1.4500000000000002,1.5000000000000002,1.55,1.6,1.65,1.7000000000000002,1.7500000000000002,1.8,1.85,1.9,1.95,0.05,0.1,0.15,0.2,0.25,0.3,0.35,0.4,0.45,0.5,0.55,0.6000000000000001,0.6500000000000001,0.7000000000000001,0.7500000000000001,0.8,0.8500000000000001,0.9000000000000001,0.95,1.0,1.05,1.1,1.15,1.2000000000000002,1.2500000000000002,1.3,1.35,1.4,1.4500000000000002,1.5000000000000002,1.55,1.6,1.65,1.7000000000000002,1.7500000000000002,1.8,1.85,1.9,1.95],\"yaxis\":\"y\",\"ybingroup\":\"y\",\"z\":[0.1443395726480678,0.1270511034122748,0.1553700077645228,0.1689182433861271,0.1609637976824009,0.1695094421699718,0.1710128214777851,0.164220100323437,0.1596614004193312,0.1697030296222884,0.1714389769594244,0.17523307868789,0.1665409241088283,0.1716242347132157,0.1830043730701862,0.1685289711284704,0.1675968099925729,0.1732342406508135,0.1905621283865705,0.1838464611679352,0.1770002913828144,0.1701741422040834,0.1849476115624684,0.1861391269406654,0.1752187677741061,0.1714996329125237,0.1708827154265244,0.1709828285382983,0.1755171692680035,0.1758404455959016,0.1770879122764108,0.1763144985996182,0.1739844099424627,0.1691139618094253,0.1738501534344115,0.1734494691304886,0.1710849790661703,0.1682934266544878,0.1729729232636468,0.1458434355680785,0.1289115885521102,0.1501390788687968,0.1672926547125318,0.1608643958049504,0.1698552098080583,0.168964878428197,0.1753760545444344,0.1622979972523364,0.1663639887983567,0.1744215238765954,0.1709803282397907,0.171939452129447,0.1756803343838314,0.1881381630180359,0.1734387194532096,0.1668125524350863,0.1750716291489437,0.1808860470590247,0.1827280032789264,0.1711083235996973,0.1756655751793936,0.1821217653159093,0.1820316612933371,0.1799447942800156,0.180625046217982,0.1734507727444794,0.1717630180160532,0.1743271110493599,0.1735202014226129,0.1751882203717572,0.1802441914975126,0.1712492068645735,0.1743029875115194,0.1797111954869878,0.1799017510639659,0.163416491408867,0.1735177980028328,0.1710643096159546,0.1481983709636007,0.1357426765057444,0.1610096348816319,0.168150463826753,0.1656514031772035,0.1702580955731824,0.1685804700116621,0.1675637334909812,0.1639390895911153,0.1715273440981836,0.1805705014958858,0.1755550058781741,0.1641605677424285,0.1767601587121297,0.1874830948032723,0.1783968957534106,0.1777310823260889,0.1786741903769755,0.1833135664038506,0.1800921978205033,0.1729677714782008,0.1848967425088689,0.191321788024636,0.1847356871204749,0.1711011929818658,0.1746161717661309,0.1693655796023289,0.1668954409368485,0.1785811429771377,0.1744949799676391,0.1849517498884663,0.17036698061251,0.183702961875438,0.1725208088982038,0.1712089522021202,0.1664542177912912,0.1764936107489826,0.1774503639168992,0.1697104819206734,0.1473457183569725,0.1364021274294832,0.1601692417008478,0.1689451949293017,0.1669932231273775,0.1597226495512342,0.17109790653892,0.155870984599185,0.167356750643953,0.1622182176947492,0.175836702213449,0.1750391492702998,0.1714816376304558,0.1776484372922248,0.1818920215998624,0.1737249300981978,0.1821671367883444,0.175918616460754,0.1823760647459703,0.1810052302802212,0.180908455057232,0.1746631831682886,0.1844586539911335,0.1816314308796024,0.1717936380757814,0.1686608698243993,0.1787215609514754,0.1724222864200361,0.1765827751659983,0.1775509012913939,0.1699971902688231,0.1758191522576554,0.1737175726247886,0.1713389445709022,0.1703103241657424,0.1663500478699749,0.1733882131905099,0.1777280100536013,0.1748508707597233,0.1478427912632711,0.1397595937944944,0.1614360228777571,0.1630969364503185,0.1688912874966304,0.1643549918963733,0.1748790835932593,0.1637673023253707,0.1684921183363807,0.1774456826369419,0.1764172659941195,0.1685249977886297,0.1685859416048497,0.1764498961384395,0.1804205035277831,0.1795837226257741,0.1742644407685576,0.1674885546411835,0.1799860580262343,0.1812707779221938,0.1735977043744898,0.175180137484111,0.17458420142896,0.1829196453685092,0.1684060190065192,0.1682212720706846,0.1788276623691064,0.1770105139331136,0.1753303585882042,0.1791870340623438,0.1769283672843651,0.1786636488132141,0.1743502007515079,0.1890970928788358,0.1743309913004116,0.1795912009996258,0.1690778093384063,0.1761495585912301,0.1747261167606315,0.1534289913627109,0.1450527714045738,0.1513984217432661,0.1689724030940197,0.1613261287566434,0.1772416414535316,0.1645041605842655,0.1772200246145469,0.1677279801542713,0.1788720409648171,0.168874122680724,0.1614310841042158,0.1763869190852302,0.1887401727966569,0.1830964376391351,0.1776117503925622,0.1811396471142802,0.1674943549304783,0.191205234660611,0.1787479866508449,0.1854277895842581,0.1811932840540533,0.1884502323209267,0.1911007119334029,0.1802286863955463,0.1799446226520881,0.1727541264270161,0.173287057775288,0.1743839967388949,0.1709968421354798,0.1800679134833162,0.1768971766636615,0.1739947198024844,0.1783232386847987,0.1754200332831315,0.175553607101225,0.176423722343322,0.1837440609719416,0.1763743039691398,0.1478550046462257,0.1382994571956547,0.1553931004922316,0.1650916931212448,0.1669023474300007,0.1703938386734518,0.1662335936424528,0.1576691599202195,0.1653145365259402,0.1766070526940687,0.1731722623989555,0.1755081474664563,0.1784615130755013,0.1878807682417655,0.1927768555749988,0.1827394418518369,0.1692647794989102,0.1699831820973862,0.1732742010626199,0.1784330331636116,0.1733877099466106,0.1702093110926741,0.1734909061997336,0.1810784453860127,0.1777689324492523,0.1828745250194121,0.1690865728581408,0.1695354973585764,0.1719201110875538,0.1798110645885315,0.1787172436980537,0.1742826575875841,0.1810401374302387,0.1871018961506855,0.1729454004821075,0.1751355648499597,0.1695850397798294,0.1733912996006323,0.1770641234782699,0.1510101187716748,0.1444174653739104,0.1701912601694131,0.1713484138494222,0.1668541855043942,0.1729964162120149,0.1750055438644363,0.1619888238509562,0.1608354628653279,0.1788289959503139,0.1698111382468436,0.1762644764584915,0.1787926114437673,0.1854098303966679,0.1791646786906906,0.1689597075024956,0.1759540577064133,0.1819366019526898,0.1770584677345929,0.1754481385179791,0.1836224910868736,0.1824122010296943,0.1904040380488282,0.1880152440962649,0.1848268018608152,0.1705628982378471,0.1665952691786349,0.1762993378817458,0.1694823218332158,0.1738060185313616,0.1690012057984915,0.1870448449685864,0.1772272284940339,0.1734642740766463,0.1683783996399755,0.1763064833236488,0.1798116009059887,0.1759335042081623,0.1798274344668034,0.1516622969608441,0.1452263199253636,0.1707054008763757,0.1511111732539752,0.1681494366156311,0.1774806587282579,0.1708021258488079,0.1806550629717447,0.1701621470234728,0.1769016831448047,0.1703814944193771,0.1747841194585719,0.1788403698116547,0.1827700546595072,0.1912960512137951,0.1778710186306895,0.1826879529336174,0.1771513172439533,0.1855287099587384,0.1821503888130598,0.1805363637635767,0.1857604750700011,0.1728389729382972,0.1891677962563438,0.1744608835573038,0.1727654294369967,0.1902448591266608,0.179074287438064,0.1744613657789554,0.1702837578410927,0.1762532405377426,0.1732574187622231,0.1788032279310931,0.1823499727238467,0.1764144183603279,0.1785548808445,0.1812312595995311,0.1700866608111958,0.1679115049569476,0.1507860946554026,0.147289762759931,0.1691056790605223,0.1725611578107834,0.1819514605855255,0.1798890550004558,0.174078997992418,0.1671896660347745,0.1742663334219618,0.1846089650207835,0.19058059111094,0.1748593735052308,0.1678183626063253,0.1764475867987151,0.1839459132706788,0.183001977745402,0.1663998380108347,0.1805997238273655,0.1785550097335186,0.1818290670918048,0.1814421278340669,0.1783411978385463,0.1791932730449802,0.1902450983645471,0.1839333129633025,0.1723005344403651,0.1818916517584456,0.1858559915816202,0.182537545871066,0.1784493424601412,0.1780346101055963,0.1727331877101326,0.1845317722846094,0.1803967812498544,0.1696923125331784,0.175300448835993,0.1783741847083711,0.1779852083841763,0.1714827694428711,0.1508857570924856,0.1608687112937668,0.1615471849117749,0.1625062455648199,0.1625363936944218,0.1636188035898387,0.1708165019478018,0.1756326790741548,0.1564141174415455,0.1676772827804781,0.183942870737384,0.1742269041630346,0.1830884306156686,0.1790979948937017,0.189541901824145,0.1710553350204162,0.1717062344046675,0.1731652546690235,0.1892840246886154,0.1787249964322878,0.1787371449635403,0.1743084122474518,0.1821342243303813,0.1896929385574216,0.1853576123381367,0.1752608054695558,0.1797544829722433,0.1837019838162503,0.17013073816708,0.1766270572802323,0.173074282288912,0.174989435809488,0.1701448863499185,0.1741614270322318,0.1771186028647162,0.1765029321015983,0.1765307116261769,0.1725267999823723,0.1764884901055278,0.1522242537174888,0.1519539428078725,0.1584413895568424,0.1718765540673179,0.1682827556005864,0.1639525907317435,0.1624846208534639,0.170669484334193,0.176698232447018,0.1696120002612403,0.1747623921076934,0.1783345561826475,0.1732922479557749,0.1760515027528741,0.1874100035282806,0.183336875275567,0.1739246953138734,0.1889565742673548,0.1757365743943672,0.1889529045753209,0.1831339552269859,0.1671342324807599,0.1812369416137312,0.171828565237175,0.1756206338029546,0.1848633972520092,0.1710318676066637,0.1834135330060276,0.1792104180270155,0.1766532708024814,0.184126054195429,0.1763473449976284,0.1753475885005142,0.1796013477251049,0.1833650553563684,0.1887337155486697,0.1788708540237931,0.1816885407815605,0.1706885559878533,0.1550481556979535,0.1522281378186406,0.1606034823467821,0.1709806012137434,0.1685154306211828,0.1741381671213813,0.1690186002184205,0.1764704791653053,0.1785563433302109,0.1854855041346955,0.1676041408283465,0.1666697477595281,0.1763573191112407,0.1694877826572125,0.1930380319086489,0.1851824606198625,0.1737753567793921,0.1813610936717098,0.1642898420005837,0.1772171122230709,0.1760261818238866,0.1727790612498952,0.1829592152251443,0.1748658214194573,0.1743237065764232,0.1839500162820857,0.1753010867489853,0.1766137644754338,0.1800705775551629,0.1811086849244584,0.1790915775448208,0.1789339293088172,0.1725888219597816,0.1775389465697464,0.1768514893906766,0.188432219820539,0.1714092786469364,0.1761050000182536,0.1872062415050249,0.1569903664463136,0.1594652106667778,0.1527964897946798,0.1696111446349383,0.1775009445708885,0.1663699008178346,0.1775141472828935,0.1674207408392501,0.1698609551404579,0.1772413591979097,0.1720931168701445,0.1792429780344204,0.1764388103941246,0.170602036725677,0.1899946892878316,0.1801179179135953,0.1727374114357012,0.1723886449199433,0.1695046575104768,0.1877407413058501,0.162014498547429,0.1869294061081413,0.1792339073384164,0.182287672930321,0.1769308423616643,0.1753261903782486,0.1891121248523778,0.166562798225068,0.1736186024958551,0.1789240567359952,0.1814751518751109,0.1672095340645064,0.1692113107609474,0.1875323650423979,0.1769217853727036,0.1828176774829824,0.1711460938422907,0.179624074092989,0.1793370027353092],\"type\":\"histogram2d\"}],                        {\"template\":{\"data\":{\"histogram2dcontour\":[{\"type\":\"histogram2dcontour\",\"colorbar\":{\"outlinewidth\":0,\"ticks\":\"\"},\"colorscale\":[[0.0,\"#0d0887\"],[0.1111111111111111,\"#46039f\"],[0.2222222222222222,\"#7201a8\"],[0.3333333333333333,\"#9c179e\"],[0.4444444444444444,\"#bd3786\"],[0.5555555555555556,\"#d8576b\"],[0.6666666666666666,\"#ed7953\"],[0.7777777777777778,\"#fb9f3a\"],[0.8888888888888888,\"#fdca26\"],[1.0,\"#f0f921\"]]}],\"choropleth\":[{\"type\":\"choropleth\",\"colorbar\":{\"outlinewidth\":0,\"ticks\":\"\"}}],\"histogram2d\":[{\"type\":\"histogram2d\",\"colorbar\":{\"outlinewidth\":0,\"ticks\":\"\"},\"colorscale\":[[0.0,\"#0d0887\"],[0.1111111111111111,\"#46039f\"],[0.2222222222222222,\"#7201a8\"],[0.3333333333333333,\"#9c179e\"],[0.4444444444444444,\"#bd3786\"],[0.5555555555555556,\"#d8576b\"],[0.6666666666666666,\"#ed7953\"],[0.7777777777777778,\"#fb9f3a\"],[0.8888888888888888,\"#fdca26\"],[1.0,\"#f0f921\"]]}],\"heatmap\":[{\"type\":\"heatmap\",\"colorbar\":{\"outlinewidth\":0,\"ticks\":\"\"},\"colorscale\":[[0.0,\"#0d0887\"],[0.1111111111111111,\"#46039f\"],[0.2222222222222222,\"#7201a8\"],[0.3333333333333333,\"#9c179e\"],[0.4444444444444444,\"#bd3786\"],[0.5555555555555556,\"#d8576b\"],[0.6666666666666666,\"#ed7953\"],[0.7777777777777778,\"#fb9f3a\"],[0.8888888888888888,\"#fdca26\"],[1.0,\"#f0f921\"]]}],\"heatmapgl\":[{\"type\":\"heatmapgl\",\"colorbar\":{\"outlinewidth\":0,\"ticks\":\"\"},\"colorscale\":[[0.0,\"#0d0887\"],[0.1111111111111111,\"#46039f\"],[0.2222222222222222,\"#7201a8\"],[0.3333333333333333,\"#9c179e\"],[0.4444444444444444,\"#bd3786\"],[0.5555555555555556,\"#d8576b\"],[0.6666666666666666,\"#ed7953\"],[0.7777777777777778,\"#fb9f3a\"],[0.8888888888888888,\"#fdca26\"],[1.0,\"#f0f921\"]]}],\"contourcarpet\":[{\"type\":\"contourcarpet\",\"colorbar\":{\"outlinewidth\":0,\"ticks\":\"\"}}],\"contour\":[{\"type\":\"contour\",\"colorbar\":{\"outlinewidth\":0,\"ticks\":\"\"},\"colorscale\":[[0.0,\"#0d0887\"],[0.1111111111111111,\"#46039f\"],[0.2222222222222222,\"#7201a8\"],[0.3333333333333333,\"#9c179e\"],[0.4444444444444444,\"#bd3786\"],[0.5555555555555556,\"#d8576b\"],[0.6666666666666666,\"#ed7953\"],[0.7777777777777778,\"#fb9f3a\"],[0.8888888888888888,\"#fdca26\"],[1.0,\"#f0f921\"]]}],\"surface\":[{\"type\":\"surface\",\"colorbar\":{\"outlinewidth\":0,\"ticks\":\"\"},\"colorscale\":[[0.0,\"#0d0887\"],[0.1111111111111111,\"#46039f\"],[0.2222222222222222,\"#7201a8\"],[0.3333333333333333,\"#9c179e\"],[0.4444444444444444,\"#bd3786\"],[0.5555555555555556,\"#d8576b\"],[0.6666666666666666,\"#ed7953\"],[0.7777777777777778,\"#fb9f3a\"],[0.8888888888888888,\"#fdca26\"],[1.0,\"#f0f921\"]]}],\"mesh3d\":[{\"type\":\"mesh3d\",\"colorbar\":{\"outlinewidth\":0,\"ticks\":\"\"}}],\"scatter\":[{\"fillpattern\":{\"fillmode\":\"overlay\",\"size\":10,\"solidity\":0.2},\"type\":\"scatter\"}],\"parcoords\":[{\"type\":\"parcoords\",\"line\":{\"colorbar\":{\"outlinewidth\":0,\"ticks\":\"\"}}}],\"scatterpolargl\":[{\"type\":\"scatterpolargl\",\"marker\":{\"colorbar\":{\"outlinewidth\":0,\"ticks\":\"\"}}}],\"bar\":[{\"error_x\":{\"color\":\"#2a3f5f\"},\"error_y\":{\"color\":\"#2a3f5f\"},\"marker\":{\"line\":{\"color\":\"#E5ECF6\",\"width\":0.5},\"pattern\":{\"fillmode\":\"overlay\",\"size\":10,\"solidity\":0.2}},\"type\":\"bar\"}],\"scattergeo\":[{\"type\":\"scattergeo\",\"marker\":{\"colorbar\":{\"outlinewidth\":0,\"ticks\":\"\"}}}],\"scatterpolar\":[{\"type\":\"scatterpolar\",\"marker\":{\"colorbar\":{\"outlinewidth\":0,\"ticks\":\"\"}}}],\"histogram\":[{\"marker\":{\"pattern\":{\"fillmode\":\"overlay\",\"size\":10,\"solidity\":0.2}},\"type\":\"histogram\"}],\"scattergl\":[{\"type\":\"scattergl\",\"marker\":{\"colorbar\":{\"outlinewidth\":0,\"ticks\":\"\"}}}],\"scatter3d\":[{\"type\":\"scatter3d\",\"line\":{\"colorbar\":{\"outlinewidth\":0,\"ticks\":\"\"}},\"marker\":{\"colorbar\":{\"outlinewidth\":0,\"ticks\":\"\"}}}],\"scattermapbox\":[{\"type\":\"scattermapbox\",\"marker\":{\"colorbar\":{\"outlinewidth\":0,\"ticks\":\"\"}}}],\"scatterternary\":[{\"type\":\"scatterternary\",\"marker\":{\"colorbar\":{\"outlinewidth\":0,\"ticks\":\"\"}}}],\"scattercarpet\":[{\"type\":\"scattercarpet\",\"marker\":{\"colorbar\":{\"outlinewidth\":0,\"ticks\":\"\"}}}],\"carpet\":[{\"aaxis\":{\"endlinecolor\":\"#2a3f5f\",\"gridcolor\":\"white\",\"linecolor\":\"white\",\"minorgridcolor\":\"white\",\"startlinecolor\":\"#2a3f5f\"},\"baxis\":{\"endlinecolor\":\"#2a3f5f\",\"gridcolor\":\"white\",\"linecolor\":\"white\",\"minorgridcolor\":\"white\",\"startlinecolor\":\"#2a3f5f\"},\"type\":\"carpet\"}],\"table\":[{\"cells\":{\"fill\":{\"color\":\"#EBF0F8\"},\"line\":{\"color\":\"white\"}},\"header\":{\"fill\":{\"color\":\"#C8D4E3\"},\"line\":{\"color\":\"white\"}},\"type\":\"table\"}],\"barpolar\":[{\"marker\":{\"line\":{\"color\":\"#E5ECF6\",\"width\":0.5},\"pattern\":{\"fillmode\":\"overlay\",\"size\":10,\"solidity\":0.2}},\"type\":\"barpolar\"}],\"pie\":[{\"automargin\":true,\"type\":\"pie\"}]},\"layout\":{\"autotypenumbers\":\"strict\",\"colorway\":[\"#636efa\",\"#EF553B\",\"#00cc96\",\"#ab63fa\",\"#FFA15A\",\"#19d3f3\",\"#FF6692\",\"#B6E880\",\"#FF97FF\",\"#FECB52\"],\"font\":{\"color\":\"#2a3f5f\"},\"hovermode\":\"closest\",\"hoverlabel\":{\"align\":\"left\"},\"paper_bgcolor\":\"white\",\"plot_bgcolor\":\"#E5ECF6\",\"polar\":{\"bgcolor\":\"#E5ECF6\",\"angularaxis\":{\"gridcolor\":\"white\",\"linecolor\":\"white\",\"ticks\":\"\"},\"radialaxis\":{\"gridcolor\":\"white\",\"linecolor\":\"white\",\"ticks\":\"\"}},\"ternary\":{\"bgcolor\":\"#E5ECF6\",\"aaxis\":{\"gridcolor\":\"white\",\"linecolor\":\"white\",\"ticks\":\"\"},\"baxis\":{\"gridcolor\":\"white\",\"linecolor\":\"white\",\"ticks\":\"\"},\"caxis\":{\"gridcolor\":\"white\",\"linecolor\":\"white\",\"ticks\":\"\"}},\"coloraxis\":{\"colorbar\":{\"outlinewidth\":0,\"ticks\":\"\"}},\"colorscale\":{\"sequential\":[[0.0,\"#0d0887\"],[0.1111111111111111,\"#46039f\"],[0.2222222222222222,\"#7201a8\"],[0.3333333333333333,\"#9c179e\"],[0.4444444444444444,\"#bd3786\"],[0.5555555555555556,\"#d8576b\"],[0.6666666666666666,\"#ed7953\"],[0.7777777777777778,\"#fb9f3a\"],[0.8888888888888888,\"#fdca26\"],[1.0,\"#f0f921\"]],\"sequentialminus\":[[0.0,\"#0d0887\"],[0.1111111111111111,\"#46039f\"],[0.2222222222222222,\"#7201a8\"],[0.3333333333333333,\"#9c179e\"],[0.4444444444444444,\"#bd3786\"],[0.5555555555555556,\"#d8576b\"],[0.6666666666666666,\"#ed7953\"],[0.7777777777777778,\"#fb9f3a\"],[0.8888888888888888,\"#fdca26\"],[1.0,\"#f0f921\"]],\"diverging\":[[0,\"#8e0152\"],[0.1,\"#c51b7d\"],[0.2,\"#de77ae\"],[0.3,\"#f1b6da\"],[0.4,\"#fde0ef\"],[0.5,\"#f7f7f7\"],[0.6,\"#e6f5d0\"],[0.7,\"#b8e186\"],[0.8,\"#7fbc41\"],[0.9,\"#4d9221\"],[1,\"#276419\"]]},\"xaxis\":{\"gridcolor\":\"white\",\"linecolor\":\"white\",\"ticks\":\"\",\"title\":{\"standoff\":15},\"zerolinecolor\":\"white\",\"automargin\":true,\"zerolinewidth\":2},\"yaxis\":{\"gridcolor\":\"white\",\"linecolor\":\"white\",\"ticks\":\"\",\"title\":{\"standoff\":15},\"zerolinecolor\":\"white\",\"automargin\":true,\"zerolinewidth\":2},\"scene\":{\"xaxis\":{\"backgroundcolor\":\"#E5ECF6\",\"gridcolor\":\"white\",\"linecolor\":\"white\",\"showbackground\":true,\"ticks\":\"\",\"zerolinecolor\":\"white\",\"gridwidth\":2},\"yaxis\":{\"backgroundcolor\":\"#E5ECF6\",\"gridcolor\":\"white\",\"linecolor\":\"white\",\"showbackground\":true,\"ticks\":\"\",\"zerolinecolor\":\"white\",\"gridwidth\":2},\"zaxis\":{\"backgroundcolor\":\"#E5ECF6\",\"gridcolor\":\"white\",\"linecolor\":\"white\",\"showbackground\":true,\"ticks\":\"\",\"zerolinecolor\":\"white\",\"gridwidth\":2}},\"shapedefaults\":{\"line\":{\"color\":\"#2a3f5f\"}},\"annotationdefaults\":{\"arrowcolor\":\"#2a3f5f\",\"arrowhead\":0,\"arrowwidth\":1},\"geo\":{\"bgcolor\":\"white\",\"landcolor\":\"#E5ECF6\",\"subunitcolor\":\"white\",\"showland\":true,\"showlakes\":true,\"lakecolor\":\"white\"},\"title\":{\"x\":0.05},\"mapbox\":{\"style\":\"light\"}}},\"xaxis\":{\"anchor\":\"y\",\"domain\":[0.0,1.0],\"title\":{\"text\":\"ex_rate\"}},\"yaxis\":{\"anchor\":\"x\",\"domain\":[0.0,1.0],\"title\":{\"text\":\"c\"}},\"coloraxis\":{\"colorbar\":{\"title\":{\"text\":\"avg of return\"}},\"colorscale\":[[0.0,\"#0d0887\"],[0.1111111111111111,\"#46039f\"],[0.2222222222222222,\"#7201a8\"],[0.3333333333333333,\"#9c179e\"],[0.4444444444444444,\"#bd3786\"],[0.5555555555555556,\"#d8576b\"],[0.6666666666666666,\"#ed7953\"],[0.7777777777777778,\"#fb9f3a\"],[0.8888888888888888,\"#fdca26\"],[1.0,\"#f0f921\"]]},\"legend\":{\"tracegroupgap\":0},\"margin\":{\"t\":60}},                        {\"responsive\": true}                    ).then(function(){\n",
       "                            \n",
       "var gd = document.getElementById('af4d70be-4f7c-4563-a745-5ee3d4f1ecce');\n",
       "var x = new MutationObserver(function (mutations, observer) {{\n",
       "        var display = window.getComputedStyle(gd).display;\n",
       "        if (!display || display === 'none') {{\n",
       "            console.log([gd, 'removed!']);\n",
       "            Plotly.purge(gd);\n",
       "            observer.disconnect();\n",
       "        }}\n",
       "}});\n",
       "\n",
       "// Listen for the removal of the full notebook cells\n",
       "var notebookContainer = gd.closest('#notebook-container');\n",
       "if (notebookContainer) {{\n",
       "    x.observe(notebookContainer, {childList: true});\n",
       "}}\n",
       "\n",
       "// Listen for the clearing of the current output cell\n",
       "var outputEl = gd.closest('.output');\n",
       "if (outputEl) {{\n",
       "    x.observe(outputEl, {childList: true});\n",
       "}}\n",
       "\n",
       "                        })                };                });            </script>        </div>"
      ]
     },
     "metadata": {},
     "output_type": "display_data"
    }
   ],
   "source": [
    "fig = px.density_heatmap(df_groups, x=\"ex_rate\", y=\"c\", z=\"return\",\n",
    "                         histfunc=\"avg\"\n",
    "                        )\n",
    "fig.show()"
   ]
  },
  {
   "cell_type": "code",
   "execution_count": 26,
   "id": "13dbf2c3",
   "metadata": {},
   "outputs": [
    {
     "name": "stderr",
     "output_type": "stream",
     "text": [
      "100%|███████████████████████████████████████████| 11/11 [00:01<00:00,  7.11it/s]\n"
     ]
    }
   ],
   "source": [
    "exploration_rate = 0.1\n",
    "p_c = 1.00\n",
    "\n",
    "s_final_state = []\n",
    "for year in tqdm.tqdm(range(2013,2024)):\n",
    "    st_year = simulate_year(df_2w, [year], n_sims = 5,\n",
    "                            stock_groups = stock_groups[year],\n",
    "                            exploration_rate = exploration_rate,\n",
    "                            p_c = p_c\n",
    "                           )\n",
    "    s_final_state.append(st_year)"
   ]
  },
  {
   "cell_type": "code",
   "execution_count": 27,
   "id": "746ac8c6",
   "metadata": {},
   "outputs": [],
   "source": [
    "df_year = pd.DataFrame(s_final_state)"
   ]
  },
  {
   "cell_type": "code",
   "execution_count": 28,
   "id": "7654ca1e",
   "metadata": {},
   "outputs": [],
   "source": [
    "mean_year = df_year['mean'].mean()\n",
    "std_year = df_year['mean'].std()\n",
    "com_ret = (df_year['mean'] + 1).cumprod()\n",
    "com_ret_last = com_ret.iloc[-1]"
   ]
  },
  {
   "cell_type": "code",
   "execution_count": 29,
   "id": "f4f49c3c",
   "metadata": {},
   "outputs": [
    {
     "name": "stdout",
     "output_type": "stream",
     "text": [
      "Mean average return per year  0.18058997501936852\n",
      "Mean average std per year  0.1587038841635369\n",
      "Return final year  5.644756763910612\n"
     ]
    },
    {
     "data": {
      "text/plain": [
       "<AxesSubplot: >"
      ]
     },
     "execution_count": 29,
     "metadata": {},
     "output_type": "execute_result"
    },
    {
     "data": {
      "image/png": "[encoded data removed]",
      "text/plain": [
       "<Figure size 640x480 with 1 Axes>"
      ]
     },
     "metadata": {},
     "output_type": "display_data"
    }
   ],
   "source": [
    "print(\"Mean average return per year \", mean_year)\n",
    "print(\"Mean average std per year \", std_year)\n",
    "print(\"Return final year \", com_ret_last)\n",
    "com_ret.plot()"
   ]
  }
 ],
 "metadata": {
  "kernelspec": {
   "display_name": "Python 3 (ipykernel)",
   "language": "python",
   "name": "python3"
  },
  "language_info": {
   "codemirror_mode": {
    "name": "ipython",
    "version": 3
   },
   "file_extension": ".py",
   "mimetype": "text/x-python",
   "name": "python",
   "nbconvert_exporter": "python",
   "pygments_lexer": "ipython3",
   "version": "3.10.6"
  }
 },
 "nbformat": 4,
 "nbformat_minor": 5
}
