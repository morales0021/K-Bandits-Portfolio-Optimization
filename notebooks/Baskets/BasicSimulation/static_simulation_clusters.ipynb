{
 "cells": [
  {
   "cell_type": "code",
   "execution_count": 191,
   "id": "d57bdcb8",
   "metadata": {},
   "outputs": [
    {
     "name": "stdout",
     "output_type": "stream",
     "text": [
      "/home/mora/Documents/projects/Bandits\n"
     ]
    }
   ],
   "source": [
    "import os\n",
    "import sys\n",
    "path = '/'.join(os.path.abspath('').split('/')[0:-2])\n",
    "print(path)\n",
    "sys.path.append(path)"
   ]
  },
  {
   "cell_type": "code",
   "execution_count": 192,
   "id": "3d6ce596",
   "metadata": {},
   "outputs": [],
   "source": [
    "import pandas as pd\n",
    "import numpy as np\n",
    "import tqdm\n",
    "import pickle, json\n",
    "\n",
    "from experts.alpha import alpha\n",
    "from exploration.explore import explore\n",
    "from exploration.outils import stats"
   ]
  },
  {
   "cell_type": "code",
   "execution_count": 193,
   "id": "265f6d5b",
   "metadata": {},
   "outputs": [],
   "source": [
    "with open('../../../datasharing/hist_stock_data.pkl','rb') as file:\n",
    "    df_hst_tickers = pickle.load(file)"
   ]
  },
  {
   "cell_type": "code",
   "execution_count": 194,
   "id": "81e45f96",
   "metadata": {},
   "outputs": [],
   "source": [
    "tickers = df_hst_tickers.keys()"
   ]
  },
  {
   "cell_type": "code",
   "execution_count": 195,
   "id": "68d5f0fd",
   "metadata": {},
   "outputs": [
    {
     "name": "stderr",
     "output_type": "stream",
     "text": [
      "/tmp/ipykernel_910249/4281973882.py:8: PerformanceWarning: DataFrame is highly fragmented.  This is usually the result of calling `frame.insert` many times, which has poor performance.  Consider joining all columns at once using pd.concat(axis=1) instead. To get a de-fragmented frame, use `newframe = frame.copy()`\n",
      "  df_close_stocks.reset_index(inplace = True)\n",
      "/tmp/ipykernel_910249/4281973882.py:9: PerformanceWarning: DataFrame is highly fragmented.  This is usually the result of calling `frame.insert` many times, which has poor performance.  Consider joining all columns at once using pd.concat(axis=1) instead. To get a de-fragmented frame, use `newframe = frame.copy()`\n",
      "  df_close_stocks['date'] = pd.to_datetime(df_close_stocks['Date'])\n"
     ]
    }
   ],
   "source": [
    "df_close_stocks = pd.DataFrame()\n",
    "\n",
    "for ticker in tickers:\n",
    "    srs = df_hst_tickers[ticker][['Close']]\n",
    "    srs.columns = [ticker]\n",
    "    df_close_stocks = pd.concat([df_close_stocks,srs], axis = 1)\n",
    "    \n",
    "df_close_stocks.reset_index(inplace = True)\n",
    "df_close_stocks['date'] = pd.to_datetime(df_close_stocks['Date'])\n",
    "\n",
    "df_close_stocks.set_index('date', inplace = True)\n",
    "df_2w = df_close_stocks.resample(\"2W\").last()"
   ]
  },
  {
   "cell_type": "markdown",
   "id": "1e3d73e1",
   "metadata": {},
   "source": [
    "## Bandit Simulation"
   ]
  },
  {
   "cell_type": "code",
   "execution_count": 196,
   "id": "db5317ba",
   "metadata": {},
   "outputs": [],
   "source": [
    "with open('../../../datasharing/stock_tst_group.json', 'r') as file:\n",
    "    stock_groups = json.load(file)"
   ]
  },
  {
   "cell_type": "code",
   "execution_count": 197,
   "id": "e2250c9a",
   "metadata": {},
   "outputs": [
    {
     "data": {
      "text/plain": [
       "{'stocks_dict': ['TYL',\n",
       "  'SRE',\n",
       "  'VRSK',\n",
       "  'MTD',\n",
       "  'ILMN',\n",
       "  'ROST',\n",
       "  'ROL',\n",
       "  'TRMB',\n",
       "  'FTNT',\n",
       "  'YUM',\n",
       "  'WRB',\n",
       "  'ATO',\n",
       "  'ROK',\n",
       "  'LKQ',\n",
       "  'GILD',\n",
       "  'SBAC',\n",
       "  'ICE',\n",
       "  'NKE',\n",
       "  'CMG',\n",
       "  'TSCO',\n",
       "  'CHD',\n",
       "  'BKNG',\n",
       "  'DFS',\n",
       "  'ANSS',\n",
       "  'V',\n",
       "  'HAS',\n",
       "  'PSA',\n",
       "  'ZTS',\n",
       "  'MA',\n",
       "  'ABBV',\n",
       "  'MMM',\n",
       "  'O',\n",
       "  'PPG',\n",
       "  'LYB',\n",
       "  'AAPL',\n",
       "  'FANG',\n",
       "  'MNST',\n",
       "  'ACGL',\n",
       "  'NDSN',\n",
       "  'NOW',\n",
       "  'PNR',\n",
       "  'ODFL',\n",
       "  'UNP',\n",
       "  'SHW',\n",
       "  'TDY',\n",
       "  'AWK',\n",
       "  'HCA',\n",
       "  'ACN',\n",
       "  'FLT',\n",
       "  'WMB',\n",
       "  'NEE',\n",
       "  'ORLY',\n",
       "  'OKE',\n",
       "  'AMT',\n",
       "  'DLR',\n",
       "  'PSX',\n",
       "  'NFLX',\n",
       "  'WYNN',\n",
       "  'DVA',\n",
       "  'IDXX',\n",
       "  'WAB',\n",
       "  'EXR',\n",
       "  'APD',\n",
       "  'CPB',\n",
       "  'NCLH',\n",
       "  'WST',\n",
       "  'GWW',\n",
       "  'GNRC',\n",
       "  'AVGO',\n",
       "  'CRM',\n",
       "  'EVRG',\n",
       "  'ROP',\n",
       "  'APTV',\n",
       "  'CB',\n",
       "  'JKHY',\n",
       "  'AMZN',\n",
       "  'HUBB',\n",
       "  'CAT',\n",
       "  'AME',\n",
       "  'CCI',\n",
       "  'TDG',\n",
       "  'FAST',\n",
       "  'JBHT',\n",
       "  'NSC',\n",
       "  'FSLR',\n",
       "  'CSX',\n",
       "  'NXPI',\n",
       "  'CHTR',\n",
       "  'AON',\n",
       "  'LIN',\n",
       "  'AMCR',\n",
       "  'TSLA',\n",
       "  'RTX',\n",
       "  'FRT',\n",
       "  'ECL',\n",
       "  'ESS',\n",
       "  'CTRA',\n",
       "  'TRGP',\n",
       "  'WEC',\n",
       "  'XEL'],\n",
       " 'groups': {'0': ['TYL', 'SRE', 'VRSK', 'MTD', 'ILMN'],\n",
       "  '5': ['ROST', 'ROL', 'TRMB', 'FTNT', 'YUM'],\n",
       "  '10': ['WRB', 'ATO', 'ROK', 'LKQ', 'GILD'],\n",
       "  '15': ['SBAC', 'ICE', 'NKE', 'CMG', 'TSCO'],\n",
       "  '20': ['CHD', 'BKNG', 'DFS', 'ANSS', 'V'],\n",
       "  '25': ['HAS', 'PSA', 'ZTS', 'MA', 'ABBV'],\n",
       "  '30': ['MMM', 'O', 'PPG', 'LYB', 'AAPL'],\n",
       "  '35': ['FANG', 'MNST', 'ACGL', 'NDSN', 'NOW'],\n",
       "  '40': ['PNR', 'ODFL', 'UNP', 'SHW', 'TDY'],\n",
       "  '45': ['AWK', 'HCA', 'ACN', 'FLT', 'WMB'],\n",
       "  '50': ['NEE', 'ORLY', 'OKE', 'AMT', 'DLR'],\n",
       "  '55': ['PSX', 'NFLX', 'WYNN', 'DVA', 'IDXX'],\n",
       "  '60': ['WAB', 'EXR', 'APD', 'CPB', 'NCLH'],\n",
       "  '65': ['WST', 'GWW', 'GNRC', 'AVGO', 'CRM'],\n",
       "  '70': ['EVRG', 'ROP', 'APTV', 'CB', 'JKHY'],\n",
       "  '75': ['AMZN', 'HUBB', 'CAT', 'AME', 'CCI'],\n",
       "  '80': ['TDG', 'FAST', 'JBHT', 'NSC', 'FSLR'],\n",
       "  '85': ['CSX', 'NXPI', 'CHTR', 'AON', 'LIN'],\n",
       "  '90': ['AMCR', 'TSLA', 'RTX', 'FRT', 'ECL'],\n",
       "  '95': ['ESS', 'CTRA', 'TRGP', 'WEC', 'XEL']}}"
      ]
     },
     "execution_count": 197,
     "metadata": {},
     "output_type": "execute_result"
    }
   ],
   "source": [
    "stock_groups"
   ]
  },
  {
   "cell_type": "code",
   "execution_count": 198,
   "id": "f1e306bf",
   "metadata": {},
   "outputs": [],
   "source": [
    "def simulate_year(df_series, years: list, n_sims: int,\n",
    "                  stock_groups: dict):\n",
    "\n",
    "    df_test = df_series[df_series['Date'].dt.year.isin(years)]\n",
    "    lines = []\n",
    "\n",
    "    for group, lst_stocks in stock_groups['groups'].items():\n",
    "\n",
    "        df_bandits = df_test[lst_stocks].pct_change(1).dropna()\n",
    "\n",
    "        if df_bandits.shape[0] == 0:\n",
    "            continue\n",
    "\n",
    "        arguments = {\"exploration_rate\": 0.05,\n",
    "                     \"n_bandit\":df_bandits.shape[1],\n",
    "                     \"steps\":df_bandits.shape[0],\n",
    "                     \"alpha\":0.025,\n",
    "                     \"df_bandits\":df_bandits\n",
    "                    }\n",
    "\n",
    "\n",
    "        exp = explore(alpha.execute)\n",
    "        exp.execute(n_sims, **arguments)\n",
    "        mean, std = stats(exp.rets_compo)\n",
    "        line = [arguments[\"alpha\"],\n",
    "                arguments[\"exploration_rate\"],\n",
    "                mean,\n",
    "                std]\n",
    "\n",
    "        lines.append(line)\n",
    "\n",
    "    df_rets = pd.DataFrame(lines)\n",
    "    df_rets.columns = [\"alpha\", \"expl\", \"mean\", \"std\"]\n",
    "    \n",
    "    return df_rets.mean()"
   ]
  },
  {
   "cell_type": "code",
   "execution_count": 207,
   "id": "4e810845",
   "metadata": {},
   "outputs": [],
   "source": [
    "stats_years = []\n",
    "years = range(2013,2024)\n",
    "#years = [2013,2014,2015]\n",
    "for year in years:\n",
    "    st_year = simulate_year(df_2w, [year], n_sims = 1)\n",
    "    stats_years.append(st_year)"
   ]
  },
  {
   "cell_type": "code",
   "execution_count": 208,
   "id": "4418c060",
   "metadata": {},
   "outputs": [],
   "source": [
    "df_perf = pd.DataFrame(stats_years)\n",
    "df_perf.index = years"
   ]
  },
  {
   "cell_type": "code",
   "execution_count": 209,
   "id": "d2fd381f",
   "metadata": {},
   "outputs": [
    {
     "data": {
      "text/plain": [
       "<AxesSubplot: >"
      ]
     },
     "execution_count": 209,
     "metadata": {},
     "output_type": "execute_result"
    },
    {
     "data": {
      "image/png": "[encoded data removed]",
      "text/plain": [
       "<Figure size 640x480 with 1 Axes>"
      ]
     },
     "metadata": {},
     "output_type": "display_data"
    }
   ],
   "source": [
    "df_perf['mean'].plot.bar()"
   ]
  },
  {
   "cell_type": "code",
   "execution_count": 210,
   "id": "702a8739",
   "metadata": {},
   "outputs": [
    {
     "data": {
      "text/plain": [
       "<AxesSubplot: >"
      ]
     },
     "execution_count": 210,
     "metadata": {},
     "output_type": "execute_result"
    },
    {
     "data": {
      "image/png": "[encoded data removed]",
      "text/plain": [
       "<Figure size 640x480 with 1 Axes>"
      ]
     },
     "metadata": {},
     "output_type": "display_data"
    }
   ],
   "source": [
    "(df_perf['mean'] + 1).cumprod().plot()"
   ]
  },
  {
   "cell_type": "code",
   "execution_count": 211,
   "id": "8a735a4b",
   "metadata": {},
   "outputs": [
    {
     "data": {
      "text/plain": [
       "1.1767413513587295"
      ]
     },
     "execution_count": 211,
     "metadata": {},
     "output_type": "execute_result"
    }
   ],
   "source": [
    "(df_perf['mean'] + 1).mean()"
   ]
  },
  {
   "cell_type": "code",
   "execution_count": null,
   "id": "82958057",
   "metadata": {},
   "outputs": [],
   "source": []
  }
 ],
 "metadata": {
  "kernelspec": {
   "display_name": "Python 3 (ipykernel)",
   "language": "python",
   "name": "python3"
  },
  "language_info": {
   "codemirror_mode": {
    "name": "ipython",
    "version": 3
   },
   "file_extension": ".py",
   "mimetype": "text/x-python",
   "name": "python",
   "nbconvert_exporter": "python",
   "pygments_lexer": "ipython3",
   "version": "3.10.6"
  }
 },
 "nbformat": 4,
 "nbformat_minor": 5
}
