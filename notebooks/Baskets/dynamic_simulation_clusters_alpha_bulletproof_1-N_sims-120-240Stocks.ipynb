{
 "cells": [
  {
   "cell_type": "markdown",
   "id": "ae85e9d2",
   "metadata": {},
   "source": [
    "# Research Bandits\n",
    "\n",
    "- This notebook analyses porfolio performance of 24 stocks from 2013 to 2023.\n",
    "- The 24 stocks are selected dynamically every two weeks w.r.t to a group of clusters.\n",
    "- The clusters are recreated every year w.r.t the 120-240 more performing stocks from the previous year.\n",
    "That is for such simulation we take into consideration not the best performing stocks, but the ones that are between 120 and 240.\n",
    "\n",
    "Note : In this notebook we consider 20 simulations per year in the bandit selection criteria"
   ]
  },
  {
   "cell_type": "code",
   "execution_count": 1,
   "id": "ffe0e652",
   "metadata": {},
   "outputs": [
    {
     "name": "stdout",
     "output_type": "stream",
     "text": [
      "/home/mora/Documents/projects/Bandits\n"
     ]
    }
   ],
   "source": [
    "import os\n",
    "import sys\n",
    "path = '/'.join(os.path.abspath('').split('/')[0:-2])\n",
    "print(path)\n",
    "sys.path.append(path)\n",
    "\n",
    "import pickle\n",
    "import pandas as pd\n",
    "import json\n",
    "import random, tqdm\n",
    "import numpy as np\n",
    "\n",
    "from experts.alpha import alpha\n",
    "from exploration.explore import explore\n",
    "from exploration.outils import stats\n",
    "\n",
    "import plotly.express as px"
   ]
  },
  {
   "cell_type": "code",
   "execution_count": 2,
   "id": "714cd4b2",
   "metadata": {},
   "outputs": [],
   "source": [
    "N_SIMS = 20"
   ]
  },
  {
   "cell_type": "code",
   "execution_count": 3,
   "id": "6169ddd6",
   "metadata": {},
   "outputs": [],
   "source": [
    "with open('../../../datasharing/tickers.json','r') as file:\n",
    "    tickers = json.load(file)\n",
    "\n",
    "tickers = tickers[\"sp500\"]"
   ]
  },
  {
   "cell_type": "code",
   "execution_count": 4,
   "id": "db77b0fb",
   "metadata": {},
   "outputs": [],
   "source": [
    "# Load the pickle file that contains the full data for each stock\n",
    "with open('../../../datasharing/hist_stock_data.pkl','rb') as file:\n",
    "    df_hst_tickers = pickle.load(file)\n",
    "\n",
    "# Chose the label \"Close\" as the main label to analyse the price series\n",
    "label = 'Close'\n",
    "df_close_stocks = pd.DataFrame([])\n",
    "for key, df in df_hst_tickers.items():\n",
    "    df_close_stocks = pd.concat([df_close_stocks,\n",
    "                                 df[label]], axis = 1)\n",
    "\n",
    "# Create a single data frame that cotains the series data from all the SP500 stocks\n",
    "df_close_stocks.columns = list(df_hst_tickers.keys())\n",
    "df_close_stocks['date'] = df_close_stocks.index\n",
    "df_close_stocks.index = pd.to_datetime(df_close_stocks['date'])\n",
    "\n",
    "\n",
    "df_close_stocks = pd.DataFrame()\n",
    "\n",
    "for ticker in tickers:\n",
    "    srs = df_hst_tickers[ticker][['Close']]\n",
    "    srs.columns = [ticker]\n",
    "    df_close_stocks = pd.concat([df_close_stocks,srs], axis = 1)\n",
    "    \n",
    "df_close_stocks.reset_index(inplace = True)\n",
    "df_close_stocks['date'] = pd.to_datetime(df_close_stocks['Date'])\n",
    "\n",
    "# Resample series in terms of 2Weeks\n",
    "df_close_stocks.set_index('date', inplace = True)\n",
    "df_2w = df_close_stocks.resample(\"2W\").last()"
   ]
  },
  {
   "cell_type": "code",
   "execution_count": 17,
   "id": "1c34cb0f",
   "metadata": {},
   "outputs": [],
   "source": [
    "import pdb"
   ]
  },
  {
   "cell_type": "code",
   "execution_count": 18,
   "id": "d9d26a75",
   "metadata": {},
   "outputs": [],
   "source": [
    "# Creating the function that compute the statistics\n",
    "def get_stats(df_close_stocks, tickers: dict, years: list = None,\n",
    "              inter = None, freq:str = 'M', min_els:int = 6) -> dict:\n",
    "    \"\"\"\n",
    "    This function produces some statistics using a dataframe fille with stocks.\n",
    "    Precisely the average mean return and the sharpe ratio.\n",
    "    Args:\n",
    "        df_hst_tickers (dict) - contains dataframes for multiple stocks\n",
    "        tickers (list) - the list of tickers to compute the statistics \n",
    "        years (list) - the list of years to compute the statistics\n",
    "        inter (slice) - A slice that precises the data indexs to compute the statistics\n",
    "        freq (str) - the frequency for the statistics (Y,M,W,2W, ...)\n",
    "        min_els(int) - the minimum quantity of elements in the series required\n",
    "            after the frequency postprocessing.\n",
    "    \"\"\"\n",
    "    st_stats = {}\n",
    "    for ticker in tickers:\n",
    "        if years:\n",
    "            tmp_df = df_close_stocks[df_close_stocks['Date'].dt.year.isin(years)]\n",
    "        elif inter:\n",
    "            tmp_df = df_close_stocks.iloc[inter]\n",
    "\n",
    "        pc_m = tmp_df[ticker].pct_change(periods = 1, freq = freq).dropna()\n",
    "\n",
    "        # discart ticket if not enough data\n",
    "        if pc_m.shape[0] < min_els:\n",
    "            continue\n",
    "            \n",
    "        av_ret = pc_m.mean()\n",
    "        sr = av_ret / pc_m.std()\n",
    "        st_stats[ticker] = {\"sr\":sr, 'av_ret':av_ret}\n",
    "            \n",
    "    return st_stats\n",
    "\n",
    "def df_and_sort(st_stats: dict, col: str) -> pd.DataFrame :\n",
    "    \"\"\"\n",
    "    Function that creates a dataframe using a dictionary of stocks with statistics\n",
    "    metrics and sort the dataframe based on the column name precised.\n",
    "    Args:\n",
    "        st_stats (dict) - The dictionary containing the statistics.\n",
    "        col (str) - The name of the column for sorting.\n",
    "    \"\"\"\n",
    "    df_stats = pd.DataFrame(st_stats).transpose()\n",
    "    df_stats.sort_values(by=col, inplace = True, ascending = False)\n",
    "    return df_stats\n",
    "\n",
    "\n",
    "def create_stock_groups(lst_stocks: list, basket_size: int,\n",
    "                        max_stocks: int):\n",
    "    \"\"\"\n",
    "    Create multiple group of stocks with basket_size elements\n",
    "    inside each group.\n",
    "    Args:\n",
    "        lst_stocks (list) : List of stocks\n",
    "        basket_size (int): The total element of stocks in\n",
    "            each basket.\n",
    "    \"\"\"\n",
    "    \n",
    "    random.shuffle(lst_stocks)\n",
    "    stcks = {'stocks_dict':list(lst_stocks), 'groups':{}}\n",
    "    for i in range(0,max_stocks,basket_size):\n",
    "        stcks['groups'].update({i:list(lst_stocks[i:i+basket_size])})\n",
    "    \n",
    "    return stcks\n",
    "\n",
    "\n",
    "def simulate_year(df_series, years: list, n_sims: int,\n",
    "                  stock_groups: dict, exploration_rate: float,\n",
    "                  p_alpha: float):\n",
    "\n",
    "    df_test = df_series[df_series['Date'].dt.year.isin(years)]\n",
    "    lines = []\n",
    "\n",
    "    for group, lst_stocks in stock_groups['groups'].items():\n",
    "\n",
    "        df_bandits = df_test[lst_stocks].pct_change(1).dropna()\n",
    "\n",
    "        if df_bandits.shape[0] == 0 or df_bandits.shape[1]==0:\n",
    "            continue\n",
    "\n",
    "        arguments = {\"exploration_rate\": exploration_rate,\n",
    "                     \"n_bandit\":df_bandits.shape[1],\n",
    "                     \"steps\":df_bandits.shape[0],\n",
    "                     \"alpha\":p_alpha,\n",
    "                     \"df_bandits\":df_bandits\n",
    "                    }\n",
    "\n",
    "\n",
    "        exp = explore(alpha.execute)\n",
    "        exp.execute(n_sims, **arguments)\n",
    "        mean, std = stats(exp.rets_compo)\n",
    "        line = [arguments[\"alpha\"],\n",
    "                arguments[\"exploration_rate\"],\n",
    "                mean,\n",
    "                std]\n",
    "\n",
    "        lines.append(line)\n",
    "        \n",
    "    df_rets = pd.DataFrame(lines)\n",
    "    df_rets.columns = [\"alpha\", \"expl\", \"mean\", \"std\"]\n",
    "    \n",
    "    return df_rets.mean()"
   ]
  },
  {
   "cell_type": "code",
   "execution_count": 22,
   "id": "f6be7e88",
   "metadata": {
    "scrolled": true
   },
   "outputs": [
    {
     "name": "stderr",
     "output_type": "stream",
     "text": [
      "  0%|                                                    | 0/12 [00:00<?, ?it/s]/tmp/ipykernel_2801194/1320677068.py:23: FutureWarning: The default fill_method='pad' in Series.pct_change is deprecated and will be removed in a future version. Either fill in any non-leading NA values prior to calling pct_change or specify 'fill_method=None' to not fill NA values.\n",
      "  pc_m = tmp_df[ticker].pct_change(periods = 1, freq = freq).dropna()\n",
      "/tmp/ipykernel_2801194/1320677068.py:23: FutureWarning: The default fill_method='pad' in Series.pct_change is deprecated and will be removed in a future version. Either fill in any non-leading NA values prior to calling pct_change or specify 'fill_method=None' to not fill NA values.\n",
      "  pc_m = tmp_df[ticker].pct_change(periods = 1, freq = freq).dropna()\n",
      "/tmp/ipykernel_2801194/1320677068.py:23: FutureWarning: The default fill_method='pad' in Series.pct_change is deprecated and will be removed in a future version. Either fill in any non-leading NA values prior to calling pct_change or specify 'fill_method=None' to not fill NA values.\n",
      "  pc_m = tmp_df[ticker].pct_change(periods = 1, freq = freq).dropna()\n",
      "/tmp/ipykernel_2801194/1320677068.py:23: FutureWarning: The default fill_method='pad' in Series.pct_change is deprecated and will be removed in a future version. Either fill in any non-leading NA values prior to calling pct_change or specify 'fill_method=None' to not fill NA values.\n",
      "  pc_m = tmp_df[ticker].pct_change(periods = 1, freq = freq).dropna()\n",
      "/tmp/ipykernel_2801194/1320677068.py:23: FutureWarning: The default fill_method='pad' in Series.pct_change is deprecated and will be removed in a future version. Either fill in any non-leading NA values prior to calling pct_change or specify 'fill_method=None' to not fill NA values.\n",
      "  pc_m = tmp_df[ticker].pct_change(periods = 1, freq = freq).dropna()\n",
      "/tmp/ipykernel_2801194/1320677068.py:23: FutureWarning: The default fill_method='pad' in Series.pct_change is deprecated and will be removed in a future version. Either fill in any non-leading NA values prior to calling pct_change or specify 'fill_method=None' to not fill NA values.\n",
      "  pc_m = tmp_df[ticker].pct_change(periods = 1, freq = freq).dropna()\n",
      "/tmp/ipykernel_2801194/1320677068.py:23: FutureWarning: The default fill_method='pad' in Series.pct_change is deprecated and will be removed in a future version. Either fill in any non-leading NA values prior to calling pct_change or specify 'fill_method=None' to not fill NA values.\n",
      "  pc_m = tmp_df[ticker].pct_change(periods = 1, freq = freq).dropna()\n",
      "/tmp/ipykernel_2801194/1320677068.py:23: FutureWarning: The default fill_method='pad' in Series.pct_change is deprecated and will be removed in a future version. Either fill in any non-leading NA values prior to calling pct_change or specify 'fill_method=None' to not fill NA values.\n",
      "  pc_m = tmp_df[ticker].pct_change(periods = 1, freq = freq).dropna()\n",
      "/tmp/ipykernel_2801194/1320677068.py:23: FutureWarning: The default fill_method='pad' in Series.pct_change is deprecated and will be removed in a future version. Either fill in any non-leading NA values prior to calling pct_change or specify 'fill_method=None' to not fill NA values.\n",
      "  pc_m = tmp_df[ticker].pct_change(periods = 1, freq = freq).dropna()\n",
      "/tmp/ipykernel_2801194/1320677068.py:23: FutureWarning: The default fill_method='pad' in Series.pct_change is deprecated and will be removed in a future version. Either fill in any non-leading NA values prior to calling pct_change or specify 'fill_method=None' to not fill NA values.\n",
      "  pc_m = tmp_df[ticker].pct_change(periods = 1, freq = freq).dropna()\n",
      "/tmp/ipykernel_2801194/1320677068.py:23: FutureWarning: The default fill_method='pad' in Series.pct_change is deprecated and will be removed in a future version. Either fill in any non-leading NA values prior to calling pct_change or specify 'fill_method=None' to not fill NA values.\n",
      "  pc_m = tmp_df[ticker].pct_change(periods = 1, freq = freq).dropna()\n",
      "/tmp/ipykernel_2801194/1320677068.py:23: FutureWarning: The default fill_method='pad' in Series.pct_change is deprecated and will be removed in a future version. Either fill in any non-leading NA values prior to calling pct_change or specify 'fill_method=None' to not fill NA values.\n",
      "  pc_m = tmp_df[ticker].pct_change(periods = 1, freq = freq).dropna()\n",
      "/tmp/ipykernel_2801194/1320677068.py:23: FutureWarning: The default fill_method='pad' in Series.pct_change is deprecated and will be removed in a future version. Either fill in any non-leading NA values prior to calling pct_change or specify 'fill_method=None' to not fill NA values.\n",
      "  pc_m = tmp_df[ticker].pct_change(periods = 1, freq = freq).dropna()\n",
      "/tmp/ipykernel_2801194/1320677068.py:23: FutureWarning: The default fill_method='pad' in Series.pct_change is deprecated and will be removed in a future version. Either fill in any non-leading NA values prior to calling pct_change or specify 'fill_method=None' to not fill NA values.\n",
      "  pc_m = tmp_df[ticker].pct_change(periods = 1, freq = freq).dropna()\n",
      "/tmp/ipykernel_2801194/1320677068.py:23: FutureWarning: The default fill_method='pad' in Series.pct_change is deprecated and will be removed in a future version. Either fill in any non-leading NA values prior to calling pct_change or specify 'fill_method=None' to not fill NA values.\n",
      "  pc_m = tmp_df[ticker].pct_change(periods = 1, freq = freq).dropna()\n",
      "/tmp/ipykernel_2801194/1320677068.py:23: FutureWarning: The default fill_method='pad' in Series.pct_change is deprecated and will be removed in a future version. Either fill in any non-leading NA values prior to calling pct_change or specify 'fill_method=None' to not fill NA values.\n",
      "  pc_m = tmp_df[ticker].pct_change(periods = 1, freq = freq).dropna()\n",
      "/tmp/ipykernel_2801194/1320677068.py:23: FutureWarning: The default fill_method='pad' in Series.pct_change is deprecated and will be removed in a future version. Either fill in any non-leading NA values prior to calling pct_change or specify 'fill_method=None' to not fill NA values.\n",
      "  pc_m = tmp_df[ticker].pct_change(periods = 1, freq = freq).dropna()\n",
      "/tmp/ipykernel_2801194/1320677068.py:23: FutureWarning: The default fill_method='pad' in Series.pct_change is deprecated and will be removed in a future version. Either fill in any non-leading NA values prior to calling pct_change or specify 'fill_method=None' to not fill NA values.\n",
      "  pc_m = tmp_df[ticker].pct_change(periods = 1, freq = freq).dropna()\n",
      "/tmp/ipykernel_2801194/1320677068.py:23: FutureWarning: The default fill_method='pad' in Series.pct_change is deprecated and will be removed in a future version. Either fill in any non-leading NA values prior to calling pct_change or specify 'fill_method=None' to not fill NA values.\n",
      "  pc_m = tmp_df[ticker].pct_change(periods = 1, freq = freq).dropna()\n",
      "/tmp/ipykernel_2801194/1320677068.py:23: FutureWarning: The default fill_method='pad' in Series.pct_change is deprecated and will be removed in a future version. Either fill in any non-leading NA values prior to calling pct_change or specify 'fill_method=None' to not fill NA values.\n",
      "  pc_m = tmp_df[ticker].pct_change(periods = 1, freq = freq).dropna()\n",
      "/tmp/ipykernel_2801194/1320677068.py:23: FutureWarning: The default fill_method='pad' in Series.pct_change is deprecated and will be removed in a future version. Either fill in any non-leading NA values prior to calling pct_change or specify 'fill_method=None' to not fill NA values.\n",
      "  pc_m = tmp_df[ticker].pct_change(periods = 1, freq = freq).dropna()\n",
      "/tmp/ipykernel_2801194/1320677068.py:23: FutureWarning: The default fill_method='pad' in Series.pct_change is deprecated and will be removed in a future version. Either fill in any non-leading NA values prior to calling pct_change or specify 'fill_method=None' to not fill NA values.\n",
      "  pc_m = tmp_df[ticker].pct_change(periods = 1, freq = freq).dropna()\n",
      "/tmp/ipykernel_2801194/1320677068.py:23: FutureWarning: The default fill_method='pad' in Series.pct_change is deprecated and will be removed in a future version. Either fill in any non-leading NA values prior to calling pct_change or specify 'fill_method=None' to not fill NA values.\n",
      "  pc_m = tmp_df[ticker].pct_change(periods = 1, freq = freq).dropna()\n",
      "/tmp/ipykernel_2801194/1320677068.py:23: FutureWarning: The default fill_method='pad' in Series.pct_change is deprecated and will be removed in a future version. Either fill in any non-leading NA values prior to calling pct_change or specify 'fill_method=None' to not fill NA values.\n",
      "  pc_m = tmp_df[ticker].pct_change(periods = 1, freq = freq).dropna()\n"
     ]
    },
    {
     "name": "stderr",
     "output_type": "stream",
     "text": [
      "/tmp/ipykernel_2801194/1320677068.py:23: FutureWarning: The default fill_method='pad' in Series.pct_change is deprecated and will be removed in a future version. Either fill in any non-leading NA values prior to calling pct_change or specify 'fill_method=None' to not fill NA values.\n",
      "  pc_m = tmp_df[ticker].pct_change(periods = 1, freq = freq).dropna()\n",
      "/tmp/ipykernel_2801194/1320677068.py:23: FutureWarning: The default fill_method='pad' in Series.pct_change is deprecated and will be removed in a future version. Either fill in any non-leading NA values prior to calling pct_change or specify 'fill_method=None' to not fill NA values.\n",
      "  pc_m = tmp_df[ticker].pct_change(periods = 1, freq = freq).dropna()\n",
      "/tmp/ipykernel_2801194/1320677068.py:23: FutureWarning: The default fill_method='pad' in Series.pct_change is deprecated and will be removed in a future version. Either fill in any non-leading NA values prior to calling pct_change or specify 'fill_method=None' to not fill NA values.\n",
      "  pc_m = tmp_df[ticker].pct_change(periods = 1, freq = freq).dropna()\n",
      "/tmp/ipykernel_2801194/1320677068.py:23: FutureWarning: The default fill_method='pad' in Series.pct_change is deprecated and will be removed in a future version. Either fill in any non-leading NA values prior to calling pct_change or specify 'fill_method=None' to not fill NA values.\n",
      "  pc_m = tmp_df[ticker].pct_change(periods = 1, freq = freq).dropna()\n",
      "/tmp/ipykernel_2801194/1320677068.py:23: FutureWarning: The default fill_method='pad' in Series.pct_change is deprecated and will be removed in a future version. Either fill in any non-leading NA values prior to calling pct_change or specify 'fill_method=None' to not fill NA values.\n",
      "  pc_m = tmp_df[ticker].pct_change(periods = 1, freq = freq).dropna()\n",
      "/tmp/ipykernel_2801194/1320677068.py:23: FutureWarning: The default fill_method='pad' in Series.pct_change is deprecated and will be removed in a future version. Either fill in any non-leading NA values prior to calling pct_change or specify 'fill_method=None' to not fill NA values.\n",
      "  pc_m = tmp_df[ticker].pct_change(periods = 1, freq = freq).dropna()\n",
      "/tmp/ipykernel_2801194/1320677068.py:23: FutureWarning: The default fill_method='pad' in Series.pct_change is deprecated and will be removed in a future version. Either fill in any non-leading NA values prior to calling pct_change or specify 'fill_method=None' to not fill NA values.\n",
      "  pc_m = tmp_df[ticker].pct_change(periods = 1, freq = freq).dropna()\n",
      "/tmp/ipykernel_2801194/1320677068.py:23: FutureWarning: The default fill_method='pad' in Series.pct_change is deprecated and will be removed in a future version. Either fill in any non-leading NA values prior to calling pct_change or specify 'fill_method=None' to not fill NA values.\n",
      "  pc_m = tmp_df[ticker].pct_change(periods = 1, freq = freq).dropna()\n",
      "/tmp/ipykernel_2801194/1320677068.py:23: FutureWarning: The default fill_method='pad' in Series.pct_change is deprecated and will be removed in a future version. Either fill in any non-leading NA values prior to calling pct_change or specify 'fill_method=None' to not fill NA values.\n",
      "  pc_m = tmp_df[ticker].pct_change(periods = 1, freq = freq).dropna()\n",
      "/tmp/ipykernel_2801194/1320677068.py:23: FutureWarning: The default fill_method='pad' in Series.pct_change is deprecated and will be removed in a future version. Either fill in any non-leading NA values prior to calling pct_change or specify 'fill_method=None' to not fill NA values.\n",
      "  pc_m = tmp_df[ticker].pct_change(periods = 1, freq = freq).dropna()\n",
      "/tmp/ipykernel_2801194/1320677068.py:23: FutureWarning: The default fill_method='pad' in Series.pct_change is deprecated and will be removed in a future version. Either fill in any non-leading NA values prior to calling pct_change or specify 'fill_method=None' to not fill NA values.\n",
      "  pc_m = tmp_df[ticker].pct_change(periods = 1, freq = freq).dropna()\n",
      "/tmp/ipykernel_2801194/1320677068.py:23: FutureWarning: The default fill_method='pad' in Series.pct_change is deprecated and will be removed in a future version. Either fill in any non-leading NA values prior to calling pct_change or specify 'fill_method=None' to not fill NA values.\n",
      "  pc_m = tmp_df[ticker].pct_change(periods = 1, freq = freq).dropna()\n",
      "/tmp/ipykernel_2801194/1320677068.py:23: FutureWarning: The default fill_method='pad' in Series.pct_change is deprecated and will be removed in a future version. Either fill in any non-leading NA values prior to calling pct_change or specify 'fill_method=None' to not fill NA values.\n",
      "  pc_m = tmp_df[ticker].pct_change(periods = 1, freq = freq).dropna()\n",
      "/tmp/ipykernel_2801194/1320677068.py:23: FutureWarning: The default fill_method='pad' in Series.pct_change is deprecated and will be removed in a future version. Either fill in any non-leading NA values prior to calling pct_change or specify 'fill_method=None' to not fill NA values.\n",
      "  pc_m = tmp_df[ticker].pct_change(periods = 1, freq = freq).dropna()\n",
      "/tmp/ipykernel_2801194/1320677068.py:23: FutureWarning: The default fill_method='pad' in Series.pct_change is deprecated and will be removed in a future version. Either fill in any non-leading NA values prior to calling pct_change or specify 'fill_method=None' to not fill NA values.\n",
      "  pc_m = tmp_df[ticker].pct_change(periods = 1, freq = freq).dropna()\n",
      "/tmp/ipykernel_2801194/1320677068.py:23: FutureWarning: The default fill_method='pad' in Series.pct_change is deprecated and will be removed in a future version. Either fill in any non-leading NA values prior to calling pct_change or specify 'fill_method=None' to not fill NA values.\n",
      "  pc_m = tmp_df[ticker].pct_change(periods = 1, freq = freq).dropna()\n",
      "/tmp/ipykernel_2801194/1320677068.py:23: FutureWarning: The default fill_method='pad' in Series.pct_change is deprecated and will be removed in a future version. Either fill in any non-leading NA values prior to calling pct_change or specify 'fill_method=None' to not fill NA values.\n",
      "  pc_m = tmp_df[ticker].pct_change(periods = 1, freq = freq).dropna()\n",
      "/tmp/ipykernel_2801194/1320677068.py:23: FutureWarning: The default fill_method='pad' in Series.pct_change is deprecated and will be removed in a future version. Either fill in any non-leading NA values prior to calling pct_change or specify 'fill_method=None' to not fill NA values.\n",
      "  pc_m = tmp_df[ticker].pct_change(periods = 1, freq = freq).dropna()\n",
      "/tmp/ipykernel_2801194/1320677068.py:23: FutureWarning: The default fill_method='pad' in Series.pct_change is deprecated and will be removed in a future version. Either fill in any non-leading NA values prior to calling pct_change or specify 'fill_method=None' to not fill NA values.\n",
      "  pc_m = tmp_df[ticker].pct_change(periods = 1, freq = freq).dropna()\n",
      "/tmp/ipykernel_2801194/1320677068.py:23: FutureWarning: The default fill_method='pad' in Series.pct_change is deprecated and will be removed in a future version. Either fill in any non-leading NA values prior to calling pct_change or specify 'fill_method=None' to not fill NA values.\n",
      "  pc_m = tmp_df[ticker].pct_change(periods = 1, freq = freq).dropna()\n",
      "/tmp/ipykernel_2801194/1320677068.py:23: FutureWarning: The default fill_method='pad' in Series.pct_change is deprecated and will be removed in a future version. Either fill in any non-leading NA values prior to calling pct_change or specify 'fill_method=None' to not fill NA values.\n",
      "  pc_m = tmp_df[ticker].pct_change(periods = 1, freq = freq).dropna()\n",
      "/tmp/ipykernel_2801194/1320677068.py:23: FutureWarning: The default fill_method='pad' in Series.pct_change is deprecated and will be removed in a future version. Either fill in any non-leading NA values prior to calling pct_change or specify 'fill_method=None' to not fill NA values.\n",
      "  pc_m = tmp_df[ticker].pct_change(periods = 1, freq = freq).dropna()\n",
      "/tmp/ipykernel_2801194/1320677068.py:23: FutureWarning: The default fill_method='pad' in Series.pct_change is deprecated and will be removed in a future version. Either fill in any non-leading NA values prior to calling pct_change or specify 'fill_method=None' to not fill NA values.\n",
      "  pc_m = tmp_df[ticker].pct_change(periods = 1, freq = freq).dropna()\n",
      "/tmp/ipykernel_2801194/1320677068.py:23: FutureWarning: The default fill_method='pad' in Series.pct_change is deprecated and will be removed in a future version. Either fill in any non-leading NA values prior to calling pct_change or specify 'fill_method=None' to not fill NA values.\n",
      "  pc_m = tmp_df[ticker].pct_change(periods = 1, freq = freq).dropna()\n"
     ]
    },
    {
     "name": "stderr",
     "output_type": "stream",
     "text": [
      "/tmp/ipykernel_2801194/1320677068.py:23: FutureWarning: The default fill_method='pad' in Series.pct_change is deprecated and will be removed in a future version. Either fill in any non-leading NA values prior to calling pct_change or specify 'fill_method=None' to not fill NA values.\n",
      "  pc_m = tmp_df[ticker].pct_change(periods = 1, freq = freq).dropna()\n",
      "/tmp/ipykernel_2801194/1320677068.py:23: FutureWarning: The default fill_method='pad' in Series.pct_change is deprecated and will be removed in a future version. Either fill in any non-leading NA values prior to calling pct_change or specify 'fill_method=None' to not fill NA values.\n",
      "  pc_m = tmp_df[ticker].pct_change(periods = 1, freq = freq).dropna()\n",
      "/tmp/ipykernel_2801194/1320677068.py:23: FutureWarning: The default fill_method='pad' in Series.pct_change is deprecated and will be removed in a future version. Either fill in any non-leading NA values prior to calling pct_change or specify 'fill_method=None' to not fill NA values.\n",
      "  pc_m = tmp_df[ticker].pct_change(periods = 1, freq = freq).dropna()\n",
      "/tmp/ipykernel_2801194/1320677068.py:23: FutureWarning: The default fill_method='pad' in Series.pct_change is deprecated and will be removed in a future version. Either fill in any non-leading NA values prior to calling pct_change or specify 'fill_method=None' to not fill NA values.\n",
      "  pc_m = tmp_df[ticker].pct_change(periods = 1, freq = freq).dropna()\n",
      "  8%|███▋                                        | 1/12 [00:01<00:16,  1.52s/it]/tmp/ipykernel_2801194/1320677068.py:23: FutureWarning: The default fill_method='pad' in Series.pct_change is deprecated and will be removed in a future version. Either fill in any non-leading NA values prior to calling pct_change or specify 'fill_method=None' to not fill NA values.\n",
      "  pc_m = tmp_df[ticker].pct_change(periods = 1, freq = freq).dropna()\n",
      "/tmp/ipykernel_2801194/1320677068.py:23: FutureWarning: The default fill_method='pad' in Series.pct_change is deprecated and will be removed in a future version. Either fill in any non-leading NA values prior to calling pct_change or specify 'fill_method=None' to not fill NA values.\n",
      "  pc_m = tmp_df[ticker].pct_change(periods = 1, freq = freq).dropna()\n",
      "/tmp/ipykernel_2801194/1320677068.py:23: FutureWarning: The default fill_method='pad' in Series.pct_change is deprecated and will be removed in a future version. Either fill in any non-leading NA values prior to calling pct_change or specify 'fill_method=None' to not fill NA values.\n",
      "  pc_m = tmp_df[ticker].pct_change(periods = 1, freq = freq).dropna()\n",
      "/tmp/ipykernel_2801194/1320677068.py:23: FutureWarning: The default fill_method='pad' in Series.pct_change is deprecated and will be removed in a future version. Either fill in any non-leading NA values prior to calling pct_change or specify 'fill_method=None' to not fill NA values.\n",
      "  pc_m = tmp_df[ticker].pct_change(periods = 1, freq = freq).dropna()\n"
     ]
    },
    {
     "name": "stdout",
     "output_type": "stream",
     "text": [
      "year {'stocks_dict': ['DLTR', 'BDX', 'L', 'WDC', 'CLX', 'AAL', 'IFF', 'VFC', 'TJX', 'PCAR', 'UAL', 'PRU', 'PAYX', 'EMR', 'MMC', 'MOH', 'DTE', 'STE', 'PG', 'SJM', 'MTD', 'HST', 'UPS', 'AXON', 'DPZ', 'AMP', 'NDAQ', 'BR', 'POOL', 'FDS', 'PARA', 'RCL', 'AFL', 'ALB', 'BLK', 'MCK', 'AIZ', 'MPWR', 'EVRG', 'APH', 'CMI', 'LH', 'DGX', 'MHK', 'VLO', 'COST', 'KMB', 'HOLX', 'FE', 'BALL', 'STX', 'MAR', 'EXPD', 'WTW', 'FMC', 'ACN', 'AOS', 'EG', 'NRG', 'DVN', 'MCD', 'UNH', 'UHS', 'PLD', 'BKNG', 'PKG', 'CCI', 'ARE', 'PNC', 'HAS', 'DIS', 'APA', 'TECH', 'CE', 'COR', 'XOM', 'GPN', 'LVS', 'RJF', 'PXD', 'IEX', 'VRTX', 'HRL', 'REG', 'GOOGL', 'MSCI', 'FFIV', 'TDG', 'PNR', 'AJG', 'J', 'ROP', 'ADM', 'BEN', 'SRE', 'HAL', 'V', 'WST', 'CVX', 'GIS', 'CF', 'DE', 'GOOG', 'PEP', 'FDX', 'PGR', 'PPG', 'LYV', 'KIM', 'TEL', 'GPC', 'GL', 'EXC', 'MRO', 'CPB', 'USB', 'ZBH', 'BBWI', 'MTB', 'CI'], 'groups': {0: ['DLTR', 'BDX', 'L', 'WDC', 'CLX'], 5: ['AAL', 'IFF', 'VFC', 'TJX', 'PCAR'], 10: ['UAL', 'PRU', 'PAYX', 'EMR', 'MMC'], 15: ['MOH', 'DTE', 'STE', 'PG', 'SJM'], 20: ['MTD', 'HST', 'UPS', 'AXON', 'DPZ'], 25: ['AMP', 'NDAQ', 'BR', 'POOL', 'FDS'], 30: ['PARA', 'RCL', 'AFL', 'ALB', 'BLK'], 35: ['MCK', 'AIZ', 'MPWR', 'EVRG', 'APH'], 40: ['CMI', 'LH', 'DGX', 'MHK', 'VLO'], 45: ['COST', 'KMB', 'HOLX', 'FE', 'BALL'], 50: ['STX', 'MAR', 'EXPD', 'WTW', 'FMC'], 55: ['ACN', 'AOS', 'EG', 'NRG', 'DVN'], 60: ['MCD', 'UNH', 'UHS', 'PLD', 'BKNG'], 65: ['PKG', 'CCI', 'ARE', 'PNC', 'HAS'], 70: ['DIS', 'APA', 'TECH', 'CE', 'COR'], 75: ['XOM', 'GPN', 'LVS', 'RJF', 'PXD'], 80: ['IEX', 'VRTX', 'HRL', 'REG', 'GOOGL'], 85: ['MSCI', 'FFIV', 'TDG', 'PNR', 'AJG'], 90: ['J', 'ROP', 'ADM', 'BEN', 'SRE'], 95: ['HAL', 'V', 'WST', 'CVX', 'GIS'], 100: ['CF', 'DE', 'GOOG', 'PEP', 'FDX'], 105: ['PGR', 'PPG', 'LYV', 'KIM', 'TEL'], 110: ['GPC', 'GL', 'EXC', 'MRO', 'CPB'], 115: ['USB', 'ZBH', 'BBWI', 'MTB', 'CI']}}\n"
     ]
    },
    {
     "name": "stderr",
     "output_type": "stream",
     "text": [
      "/tmp/ipykernel_2801194/1320677068.py:23: FutureWarning: The default fill_method='pad' in Series.pct_change is deprecated and will be removed in a future version. Either fill in any non-leading NA values prior to calling pct_change or specify 'fill_method=None' to not fill NA values.\n",
      "  pc_m = tmp_df[ticker].pct_change(periods = 1, freq = freq).dropna()\n",
      "/tmp/ipykernel_2801194/1320677068.py:23: FutureWarning: The default fill_method='pad' in Series.pct_change is deprecated and will be removed in a future version. Either fill in any non-leading NA values prior to calling pct_change or specify 'fill_method=None' to not fill NA values.\n",
      "  pc_m = tmp_df[ticker].pct_change(periods = 1, freq = freq).dropna()\n",
      "/tmp/ipykernel_2801194/1320677068.py:23: FutureWarning: The default fill_method='pad' in Series.pct_change is deprecated and will be removed in a future version. Either fill in any non-leading NA values prior to calling pct_change or specify 'fill_method=None' to not fill NA values.\n",
      "  pc_m = tmp_df[ticker].pct_change(periods = 1, freq = freq).dropna()\n",
      "/tmp/ipykernel_2801194/1320677068.py:23: FutureWarning: The default fill_method='pad' in Series.pct_change is deprecated and will be removed in a future version. Either fill in any non-leading NA values prior to calling pct_change or specify 'fill_method=None' to not fill NA values.\n",
      "  pc_m = tmp_df[ticker].pct_change(periods = 1, freq = freq).dropna()\n",
      "/tmp/ipykernel_2801194/1320677068.py:23: FutureWarning: The default fill_method='pad' in Series.pct_change is deprecated and will be removed in a future version. Either fill in any non-leading NA values prior to calling pct_change or specify 'fill_method=None' to not fill NA values.\n",
      "  pc_m = tmp_df[ticker].pct_change(periods = 1, freq = freq).dropna()\n",
      "/tmp/ipykernel_2801194/1320677068.py:23: FutureWarning: The default fill_method='pad' in Series.pct_change is deprecated and will be removed in a future version. Either fill in any non-leading NA values prior to calling pct_change or specify 'fill_method=None' to not fill NA values.\n",
      "  pc_m = tmp_df[ticker].pct_change(periods = 1, freq = freq).dropna()\n",
      "/tmp/ipykernel_2801194/1320677068.py:23: FutureWarning: The default fill_method='pad' in Series.pct_change is deprecated and will be removed in a future version. Either fill in any non-leading NA values prior to calling pct_change or specify 'fill_method=None' to not fill NA values.\n",
      "  pc_m = tmp_df[ticker].pct_change(periods = 1, freq = freq).dropna()\n",
      "/tmp/ipykernel_2801194/1320677068.py:23: FutureWarning: The default fill_method='pad' in Series.pct_change is deprecated and will be removed in a future version. Either fill in any non-leading NA values prior to calling pct_change or specify 'fill_method=None' to not fill NA values.\n",
      "  pc_m = tmp_df[ticker].pct_change(periods = 1, freq = freq).dropna()\n",
      "/tmp/ipykernel_2801194/1320677068.py:23: FutureWarning: The default fill_method='pad' in Series.pct_change is deprecated and will be removed in a future version. Either fill in any non-leading NA values prior to calling pct_change or specify 'fill_method=None' to not fill NA values.\n",
      "  pc_m = tmp_df[ticker].pct_change(periods = 1, freq = freq).dropna()\n",
      "/tmp/ipykernel_2801194/1320677068.py:23: FutureWarning: The default fill_method='pad' in Series.pct_change is deprecated and will be removed in a future version. Either fill in any non-leading NA values prior to calling pct_change or specify 'fill_method=None' to not fill NA values.\n",
      "  pc_m = tmp_df[ticker].pct_change(periods = 1, freq = freq).dropna()\n",
      "/tmp/ipykernel_2801194/1320677068.py:23: FutureWarning: The default fill_method='pad' in Series.pct_change is deprecated and will be removed in a future version. Either fill in any non-leading NA values prior to calling pct_change or specify 'fill_method=None' to not fill NA values.\n",
      "  pc_m = tmp_df[ticker].pct_change(periods = 1, freq = freq).dropna()\n",
      "/tmp/ipykernel_2801194/1320677068.py:23: FutureWarning: The default fill_method='pad' in Series.pct_change is deprecated and will be removed in a future version. Either fill in any non-leading NA values prior to calling pct_change or specify 'fill_method=None' to not fill NA values.\n",
      "  pc_m = tmp_df[ticker].pct_change(periods = 1, freq = freq).dropna()\n",
      "/tmp/ipykernel_2801194/1320677068.py:23: FutureWarning: The default fill_method='pad' in Series.pct_change is deprecated and will be removed in a future version. Either fill in any non-leading NA values prior to calling pct_change or specify 'fill_method=None' to not fill NA values.\n",
      "  pc_m = tmp_df[ticker].pct_change(periods = 1, freq = freq).dropna()\n",
      "/tmp/ipykernel_2801194/1320677068.py:23: FutureWarning: The default fill_method='pad' in Series.pct_change is deprecated and will be removed in a future version. Either fill in any non-leading NA values prior to calling pct_change or specify 'fill_method=None' to not fill NA values.\n",
      "  pc_m = tmp_df[ticker].pct_change(periods = 1, freq = freq).dropna()\n",
      "/tmp/ipykernel_2801194/1320677068.py:23: FutureWarning: The default fill_method='pad' in Series.pct_change is deprecated and will be removed in a future version. Either fill in any non-leading NA values prior to calling pct_change or specify 'fill_method=None' to not fill NA values.\n",
      "  pc_m = tmp_df[ticker].pct_change(periods = 1, freq = freq).dropna()\n",
      "/tmp/ipykernel_2801194/1320677068.py:23: FutureWarning: The default fill_method='pad' in Series.pct_change is deprecated and will be removed in a future version. Either fill in any non-leading NA values prior to calling pct_change or specify 'fill_method=None' to not fill NA values.\n",
      "  pc_m = tmp_df[ticker].pct_change(periods = 1, freq = freq).dropna()\n",
      "/tmp/ipykernel_2801194/1320677068.py:23: FutureWarning: The default fill_method='pad' in Series.pct_change is deprecated and will be removed in a future version. Either fill in any non-leading NA values prior to calling pct_change or specify 'fill_method=None' to not fill NA values.\n",
      "  pc_m = tmp_df[ticker].pct_change(periods = 1, freq = freq).dropna()\n",
      "/tmp/ipykernel_2801194/1320677068.py:23: FutureWarning: The default fill_method='pad' in Series.pct_change is deprecated and will be removed in a future version. Either fill in any non-leading NA values prior to calling pct_change or specify 'fill_method=None' to not fill NA values.\n",
      "  pc_m = tmp_df[ticker].pct_change(periods = 1, freq = freq).dropna()\n",
      "/tmp/ipykernel_2801194/1320677068.py:23: FutureWarning: The default fill_method='pad' in Series.pct_change is deprecated and will be removed in a future version. Either fill in any non-leading NA values prior to calling pct_change or specify 'fill_method=None' to not fill NA values.\n",
      "  pc_m = tmp_df[ticker].pct_change(periods = 1, freq = freq).dropna()\n",
      "/tmp/ipykernel_2801194/1320677068.py:23: FutureWarning: The default fill_method='pad' in Series.pct_change is deprecated and will be removed in a future version. Either fill in any non-leading NA values prior to calling pct_change or specify 'fill_method=None' to not fill NA values.\n",
      "  pc_m = tmp_df[ticker].pct_change(periods = 1, freq = freq).dropna()\n",
      "/tmp/ipykernel_2801194/1320677068.py:23: FutureWarning: The default fill_method='pad' in Series.pct_change is deprecated and will be removed in a future version. Either fill in any non-leading NA values prior to calling pct_change or specify 'fill_method=None' to not fill NA values.\n",
      "  pc_m = tmp_df[ticker].pct_change(periods = 1, freq = freq).dropna()\n",
      "/tmp/ipykernel_2801194/1320677068.py:23: FutureWarning: The default fill_method='pad' in Series.pct_change is deprecated and will be removed in a future version. Either fill in any non-leading NA values prior to calling pct_change or specify 'fill_method=None' to not fill NA values.\n",
      "  pc_m = tmp_df[ticker].pct_change(periods = 1, freq = freq).dropna()\n",
      "/tmp/ipykernel_2801194/1320677068.py:23: FutureWarning: The default fill_method='pad' in Series.pct_change is deprecated and will be removed in a future version. Either fill in any non-leading NA values prior to calling pct_change or specify 'fill_method=None' to not fill NA values.\n",
      "  pc_m = tmp_df[ticker].pct_change(periods = 1, freq = freq).dropna()\n",
      "/tmp/ipykernel_2801194/1320677068.py:23: FutureWarning: The default fill_method='pad' in Series.pct_change is deprecated and will be removed in a future version. Either fill in any non-leading NA values prior to calling pct_change or specify 'fill_method=None' to not fill NA values.\n",
      "  pc_m = tmp_df[ticker].pct_change(periods = 1, freq = freq).dropna()\n",
      "/tmp/ipykernel_2801194/1320677068.py:23: FutureWarning: The default fill_method='pad' in Series.pct_change is deprecated and will be removed in a future version. Either fill in any non-leading NA values prior to calling pct_change or specify 'fill_method=None' to not fill NA values.\n",
      "  pc_m = tmp_df[ticker].pct_change(periods = 1, freq = freq).dropna()\n",
      "/tmp/ipykernel_2801194/1320677068.py:23: FutureWarning: The default fill_method='pad' in Series.pct_change is deprecated and will be removed in a future version. Either fill in any non-leading NA values prior to calling pct_change or specify 'fill_method=None' to not fill NA values.\n",
      "  pc_m = tmp_df[ticker].pct_change(periods = 1, freq = freq).dropna()\n"
     ]
    },
    {
     "name": "stderr",
     "output_type": "stream",
     "text": [
      "/tmp/ipykernel_2801194/1320677068.py:23: FutureWarning: The default fill_method='pad' in Series.pct_change is deprecated and will be removed in a future version. Either fill in any non-leading NA values prior to calling pct_change or specify 'fill_method=None' to not fill NA values.\n",
      "  pc_m = tmp_df[ticker].pct_change(periods = 1, freq = freq).dropna()\n",
      "/tmp/ipykernel_2801194/1320677068.py:23: FutureWarning: The default fill_method='pad' in Series.pct_change is deprecated and will be removed in a future version. Either fill in any non-leading NA values prior to calling pct_change or specify 'fill_method=None' to not fill NA values.\n",
      "  pc_m = tmp_df[ticker].pct_change(periods = 1, freq = freq).dropna()\n",
      "/tmp/ipykernel_2801194/1320677068.py:23: FutureWarning: The default fill_method='pad' in Series.pct_change is deprecated and will be removed in a future version. Either fill in any non-leading NA values prior to calling pct_change or specify 'fill_method=None' to not fill NA values.\n",
      "  pc_m = tmp_df[ticker].pct_change(periods = 1, freq = freq).dropna()\n",
      "/tmp/ipykernel_2801194/1320677068.py:23: FutureWarning: The default fill_method='pad' in Series.pct_change is deprecated and will be removed in a future version. Either fill in any non-leading NA values prior to calling pct_change or specify 'fill_method=None' to not fill NA values.\n",
      "  pc_m = tmp_df[ticker].pct_change(periods = 1, freq = freq).dropna()\n",
      "/tmp/ipykernel_2801194/1320677068.py:23: FutureWarning: The default fill_method='pad' in Series.pct_change is deprecated and will be removed in a future version. Either fill in any non-leading NA values prior to calling pct_change or specify 'fill_method=None' to not fill NA values.\n",
      "  pc_m = tmp_df[ticker].pct_change(periods = 1, freq = freq).dropna()\n",
      "/tmp/ipykernel_2801194/1320677068.py:23: FutureWarning: The default fill_method='pad' in Series.pct_change is deprecated and will be removed in a future version. Either fill in any non-leading NA values prior to calling pct_change or specify 'fill_method=None' to not fill NA values.\n",
      "  pc_m = tmp_df[ticker].pct_change(periods = 1, freq = freq).dropna()\n",
      "/tmp/ipykernel_2801194/1320677068.py:23: FutureWarning: The default fill_method='pad' in Series.pct_change is deprecated and will be removed in a future version. Either fill in any non-leading NA values prior to calling pct_change or specify 'fill_method=None' to not fill NA values.\n",
      "  pc_m = tmp_df[ticker].pct_change(periods = 1, freq = freq).dropna()\n",
      "/tmp/ipykernel_2801194/1320677068.py:23: FutureWarning: The default fill_method='pad' in Series.pct_change is deprecated and will be removed in a future version. Either fill in any non-leading NA values prior to calling pct_change or specify 'fill_method=None' to not fill NA values.\n",
      "  pc_m = tmp_df[ticker].pct_change(periods = 1, freq = freq).dropna()\n",
      "/tmp/ipykernel_2801194/1320677068.py:23: FutureWarning: The default fill_method='pad' in Series.pct_change is deprecated and will be removed in a future version. Either fill in any non-leading NA values prior to calling pct_change or specify 'fill_method=None' to not fill NA values.\n",
      "  pc_m = tmp_df[ticker].pct_change(periods = 1, freq = freq).dropna()\n",
      "/tmp/ipykernel_2801194/1320677068.py:23: FutureWarning: The default fill_method='pad' in Series.pct_change is deprecated and will be removed in a future version. Either fill in any non-leading NA values prior to calling pct_change or specify 'fill_method=None' to not fill NA values.\n",
      "  pc_m = tmp_df[ticker].pct_change(periods = 1, freq = freq).dropna()\n",
      "/tmp/ipykernel_2801194/1320677068.py:23: FutureWarning: The default fill_method='pad' in Series.pct_change is deprecated and will be removed in a future version. Either fill in any non-leading NA values prior to calling pct_change or specify 'fill_method=None' to not fill NA values.\n",
      "  pc_m = tmp_df[ticker].pct_change(periods = 1, freq = freq).dropna()\n",
      "/tmp/ipykernel_2801194/1320677068.py:23: FutureWarning: The default fill_method='pad' in Series.pct_change is deprecated and will be removed in a future version. Either fill in any non-leading NA values prior to calling pct_change or specify 'fill_method=None' to not fill NA values.\n",
      "  pc_m = tmp_df[ticker].pct_change(periods = 1, freq = freq).dropna()\n",
      "/tmp/ipykernel_2801194/1320677068.py:23: FutureWarning: The default fill_method='pad' in Series.pct_change is deprecated and will be removed in a future version. Either fill in any non-leading NA values prior to calling pct_change or specify 'fill_method=None' to not fill NA values.\n",
      "  pc_m = tmp_df[ticker].pct_change(periods = 1, freq = freq).dropna()\n",
      "/tmp/ipykernel_2801194/1320677068.py:23: FutureWarning: The default fill_method='pad' in Series.pct_change is deprecated and will be removed in a future version. Either fill in any non-leading NA values prior to calling pct_change or specify 'fill_method=None' to not fill NA values.\n",
      "  pc_m = tmp_df[ticker].pct_change(periods = 1, freq = freq).dropna()\n",
      " 17%|███████▎                                    | 2/12 [00:03<00:15,  1.51s/it]/tmp/ipykernel_2801194/1320677068.py:23: FutureWarning: The default fill_method='pad' in Series.pct_change is deprecated and will be removed in a future version. Either fill in any non-leading NA values prior to calling pct_change or specify 'fill_method=None' to not fill NA values.\n",
      "  pc_m = tmp_df[ticker].pct_change(periods = 1, freq = freq).dropna()\n",
      "/tmp/ipykernel_2801194/1320677068.py:23: FutureWarning: The default fill_method='pad' in Series.pct_change is deprecated and will be removed in a future version. Either fill in any non-leading NA values prior to calling pct_change or specify 'fill_method=None' to not fill NA values.\n",
      "  pc_m = tmp_df[ticker].pct_change(periods = 1, freq = freq).dropna()\n",
      "/tmp/ipykernel_2801194/1320677068.py:23: FutureWarning: The default fill_method='pad' in Series.pct_change is deprecated and will be removed in a future version. Either fill in any non-leading NA values prior to calling pct_change or specify 'fill_method=None' to not fill NA values.\n",
      "  pc_m = tmp_df[ticker].pct_change(periods = 1, freq = freq).dropna()\n"
     ]
    },
    {
     "name": "stdout",
     "output_type": "stream",
     "text": [
      "year {'stocks_dict': ['USB', 'BRO', 'RJF', 'CMCSA', 'HSIC', 'KIM', 'EG', 'AXON', 'EMR', 'DE', 'IEX', 'DG', 'PAYX', 'NDAQ', 'JNJ', 'L', 'HUM', 'FFIV', 'IRM', 'LUV', 'STX', 'DIS', 'TPR', 'HD', 'ALB', 'GPN', 'TJX', 'FDS', 'COP', 'TECH', 'NVR', 'J', 'KMB', 'IFF', 'DHR', 'LMT', 'DUK', 'PKG', 'HCA', 'DPZ', 'FMC', 'ATO', 'ITW', 'LNT', 'ARE', 'UAL', 'WDC', 'AAL', 'MAA', 'VRTX', 'NI', 'RL', 'TSLA', 'CTSH', 'CVS', 'APD', 'MTB', 'REGN', 'BAX', 'PXD', 'AZO', 'HON', 'BIO', 'BALL', 'MAR', 'AJG', 'WST', 'CSGP', 'HAL', 'AOS', 'PCAR', 'BBWI', 'VFC', 'GIS', 'PNC', 'EMN', 'DOV', 'BEN', 'PM', 'SBUX', 'STLD', 'MCK', 'MMM', 'PARA', 'OXY', 'MO', 'COR', 'HOLX', 'BLK', 'POOL', 'NRG', 'CF', 'SO', 'ES', 'QCOM', 'EQIX', 'WFC', 'MPWR', 'PNW', 'AES', 'WHR', 'EQT', 'CE', 'CVX', 'MOH', 'RMD', 'PGR', 'MRO', 'D', 'MHK', 'MMC', 'UDR', 'LRCX', 'ED', 'PLD', 'SNA', 'SYK', 'GL', 'TEL', 'IT'], 'groups': {0: ['USB', 'BRO', 'RJF', 'CMCSA', 'HSIC'], 5: ['KIM', 'EG', 'AXON', 'EMR', 'DE'], 10: ['IEX', 'DG', 'PAYX', 'NDAQ', 'JNJ'], 15: ['L', 'HUM', 'FFIV', 'IRM', 'LUV'], 20: ['STX', 'DIS', 'TPR', 'HD', 'ALB'], 25: ['GPN', 'TJX', 'FDS', 'COP', 'TECH'], 30: ['NVR', 'J', 'KMB', 'IFF', 'DHR'], 35: ['LMT', 'DUK', 'PKG', 'HCA', 'DPZ'], 40: ['FMC', 'ATO', 'ITW', 'LNT', 'ARE'], 45: ['UAL', 'WDC', 'AAL', 'MAA', 'VRTX'], 50: ['NI', 'RL', 'TSLA', 'CTSH', 'CVS'], 55: ['APD', 'MTB', 'REGN', 'BAX', 'PXD'], 60: ['AZO', 'HON', 'BIO', 'BALL', 'MAR'], 65: ['AJG', 'WST', 'CSGP', 'HAL', 'AOS'], 70: ['PCAR', 'BBWI', 'VFC', 'GIS', 'PNC'], 75: ['EMN', 'DOV', 'BEN', 'PM', 'SBUX'], 80: ['STLD', 'MCK', 'MMM', 'PARA', 'OXY'], 85: ['MO', 'COR', 'HOLX', 'BLK', 'POOL'], 90: ['NRG', 'CF', 'SO', 'ES', 'QCOM'], 95: ['EQIX', 'WFC', 'MPWR', 'PNW', 'AES'], 100: ['WHR', 'EQT', 'CE', 'CVX', 'MOH'], 105: ['RMD', 'PGR', 'MRO', 'D', 'MHK'], 110: ['MMC', 'UDR', 'LRCX', 'ED', 'PLD'], 115: ['SNA', 'SYK', 'GL', 'TEL', 'IT']}}\n"
     ]
    },
    {
     "name": "stderr",
     "output_type": "stream",
     "text": [
      "/tmp/ipykernel_2801194/1320677068.py:23: FutureWarning: The default fill_method='pad' in Series.pct_change is deprecated and will be removed in a future version. Either fill in any non-leading NA values prior to calling pct_change or specify 'fill_method=None' to not fill NA values.\n",
      "  pc_m = tmp_df[ticker].pct_change(periods = 1, freq = freq).dropna()\n",
      "/tmp/ipykernel_2801194/1320677068.py:23: FutureWarning: The default fill_method='pad' in Series.pct_change is deprecated and will be removed in a future version. Either fill in any non-leading NA values prior to calling pct_change or specify 'fill_method=None' to not fill NA values.\n",
      "  pc_m = tmp_df[ticker].pct_change(periods = 1, freq = freq).dropna()\n",
      "/tmp/ipykernel_2801194/1320677068.py:23: FutureWarning: The default fill_method='pad' in Series.pct_change is deprecated and will be removed in a future version. Either fill in any non-leading NA values prior to calling pct_change or specify 'fill_method=None' to not fill NA values.\n",
      "  pc_m = tmp_df[ticker].pct_change(periods = 1, freq = freq).dropna()\n",
      "/tmp/ipykernel_2801194/1320677068.py:23: FutureWarning: The default fill_method='pad' in Series.pct_change is deprecated and will be removed in a future version. Either fill in any non-leading NA values prior to calling pct_change or specify 'fill_method=None' to not fill NA values.\n",
      "  pc_m = tmp_df[ticker].pct_change(periods = 1, freq = freq).dropna()\n",
      "/tmp/ipykernel_2801194/1320677068.py:23: FutureWarning: The default fill_method='pad' in Series.pct_change is deprecated and will be removed in a future version. Either fill in any non-leading NA values prior to calling pct_change or specify 'fill_method=None' to not fill NA values.\n",
      "  pc_m = tmp_df[ticker].pct_change(periods = 1, freq = freq).dropna()\n",
      "/tmp/ipykernel_2801194/1320677068.py:23: FutureWarning: The default fill_method='pad' in Series.pct_change is deprecated and will be removed in a future version. Either fill in any non-leading NA values prior to calling pct_change or specify 'fill_method=None' to not fill NA values.\n",
      "  pc_m = tmp_df[ticker].pct_change(periods = 1, freq = freq).dropna()\n",
      "/tmp/ipykernel_2801194/1320677068.py:23: FutureWarning: The default fill_method='pad' in Series.pct_change is deprecated and will be removed in a future version. Either fill in any non-leading NA values prior to calling pct_change or specify 'fill_method=None' to not fill NA values.\n",
      "  pc_m = tmp_df[ticker].pct_change(periods = 1, freq = freq).dropna()\n",
      "/tmp/ipykernel_2801194/1320677068.py:23: FutureWarning: The default fill_method='pad' in Series.pct_change is deprecated and will be removed in a future version. Either fill in any non-leading NA values prior to calling pct_change or specify 'fill_method=None' to not fill NA values.\n",
      "  pc_m = tmp_df[ticker].pct_change(periods = 1, freq = freq).dropna()\n",
      "/tmp/ipykernel_2801194/1320677068.py:23: FutureWarning: The default fill_method='pad' in Series.pct_change is deprecated and will be removed in a future version. Either fill in any non-leading NA values prior to calling pct_change or specify 'fill_method=None' to not fill NA values.\n",
      "  pc_m = tmp_df[ticker].pct_change(periods = 1, freq = freq).dropna()\n",
      "/tmp/ipykernel_2801194/1320677068.py:23: FutureWarning: The default fill_method='pad' in Series.pct_change is deprecated and will be removed in a future version. Either fill in any non-leading NA values prior to calling pct_change or specify 'fill_method=None' to not fill NA values.\n",
      "  pc_m = tmp_df[ticker].pct_change(periods = 1, freq = freq).dropna()\n",
      "/tmp/ipykernel_2801194/1320677068.py:23: FutureWarning: The default fill_method='pad' in Series.pct_change is deprecated and will be removed in a future version. Either fill in any non-leading NA values prior to calling pct_change or specify 'fill_method=None' to not fill NA values.\n",
      "  pc_m = tmp_df[ticker].pct_change(periods = 1, freq = freq).dropna()\n",
      "/tmp/ipykernel_2801194/1320677068.py:23: FutureWarning: The default fill_method='pad' in Series.pct_change is deprecated and will be removed in a future version. Either fill in any non-leading NA values prior to calling pct_change or specify 'fill_method=None' to not fill NA values.\n",
      "  pc_m = tmp_df[ticker].pct_change(periods = 1, freq = freq).dropna()\n",
      "/tmp/ipykernel_2801194/1320677068.py:23: FutureWarning: The default fill_method='pad' in Series.pct_change is deprecated and will be removed in a future version. Either fill in any non-leading NA values prior to calling pct_change or specify 'fill_method=None' to not fill NA values.\n",
      "  pc_m = tmp_df[ticker].pct_change(periods = 1, freq = freq).dropna()\n",
      "/tmp/ipykernel_2801194/1320677068.py:23: FutureWarning: The default fill_method='pad' in Series.pct_change is deprecated and will be removed in a future version. Either fill in any non-leading NA values prior to calling pct_change or specify 'fill_method=None' to not fill NA values.\n",
      "  pc_m = tmp_df[ticker].pct_change(periods = 1, freq = freq).dropna()\n",
      "/tmp/ipykernel_2801194/1320677068.py:23: FutureWarning: The default fill_method='pad' in Series.pct_change is deprecated and will be removed in a future version. Either fill in any non-leading NA values prior to calling pct_change or specify 'fill_method=None' to not fill NA values.\n",
      "  pc_m = tmp_df[ticker].pct_change(periods = 1, freq = freq).dropna()\n",
      "/tmp/ipykernel_2801194/1320677068.py:23: FutureWarning: The default fill_method='pad' in Series.pct_change is deprecated and will be removed in a future version. Either fill in any non-leading NA values prior to calling pct_change or specify 'fill_method=None' to not fill NA values.\n",
      "  pc_m = tmp_df[ticker].pct_change(periods = 1, freq = freq).dropna()\n",
      "/tmp/ipykernel_2801194/1320677068.py:23: FutureWarning: The default fill_method='pad' in Series.pct_change is deprecated and will be removed in a future version. Either fill in any non-leading NA values prior to calling pct_change or specify 'fill_method=None' to not fill NA values.\n",
      "  pc_m = tmp_df[ticker].pct_change(periods = 1, freq = freq).dropna()\n",
      "/tmp/ipykernel_2801194/1320677068.py:23: FutureWarning: The default fill_method='pad' in Series.pct_change is deprecated and will be removed in a future version. Either fill in any non-leading NA values prior to calling pct_change or specify 'fill_method=None' to not fill NA values.\n",
      "  pc_m = tmp_df[ticker].pct_change(periods = 1, freq = freq).dropna()\n",
      "/tmp/ipykernel_2801194/1320677068.py:23: FutureWarning: The default fill_method='pad' in Series.pct_change is deprecated and will be removed in a future version. Either fill in any non-leading NA values prior to calling pct_change or specify 'fill_method=None' to not fill NA values.\n",
      "  pc_m = tmp_df[ticker].pct_change(periods = 1, freq = freq).dropna()\n",
      "/tmp/ipykernel_2801194/1320677068.py:23: FutureWarning: The default fill_method='pad' in Series.pct_change is deprecated and will be removed in a future version. Either fill in any non-leading NA values prior to calling pct_change or specify 'fill_method=None' to not fill NA values.\n",
      "  pc_m = tmp_df[ticker].pct_change(periods = 1, freq = freq).dropna()\n",
      "/tmp/ipykernel_2801194/1320677068.py:23: FutureWarning: The default fill_method='pad' in Series.pct_change is deprecated and will be removed in a future version. Either fill in any non-leading NA values prior to calling pct_change or specify 'fill_method=None' to not fill NA values.\n",
      "  pc_m = tmp_df[ticker].pct_change(periods = 1, freq = freq).dropna()\n",
      "/tmp/ipykernel_2801194/1320677068.py:23: FutureWarning: The default fill_method='pad' in Series.pct_change is deprecated and will be removed in a future version. Either fill in any non-leading NA values prior to calling pct_change or specify 'fill_method=None' to not fill NA values.\n",
      "  pc_m = tmp_df[ticker].pct_change(periods = 1, freq = freq).dropna()\n",
      "/tmp/ipykernel_2801194/1320677068.py:23: FutureWarning: The default fill_method='pad' in Series.pct_change is deprecated and will be removed in a future version. Either fill in any non-leading NA values prior to calling pct_change or specify 'fill_method=None' to not fill NA values.\n",
      "  pc_m = tmp_df[ticker].pct_change(periods = 1, freq = freq).dropna()\n",
      "/tmp/ipykernel_2801194/1320677068.py:23: FutureWarning: The default fill_method='pad' in Series.pct_change is deprecated and will be removed in a future version. Either fill in any non-leading NA values prior to calling pct_change or specify 'fill_method=None' to not fill NA values.\n",
      "  pc_m = tmp_df[ticker].pct_change(periods = 1, freq = freq).dropna()\n",
      "/tmp/ipykernel_2801194/1320677068.py:23: FutureWarning: The default fill_method='pad' in Series.pct_change is deprecated and will be removed in a future version. Either fill in any non-leading NA values prior to calling pct_change or specify 'fill_method=None' to not fill NA values.\n",
      "  pc_m = tmp_df[ticker].pct_change(periods = 1, freq = freq).dropna()\n",
      "/tmp/ipykernel_2801194/1320677068.py:23: FutureWarning: The default fill_method='pad' in Series.pct_change is deprecated and will be removed in a future version. Either fill in any non-leading NA values prior to calling pct_change or specify 'fill_method=None' to not fill NA values.\n",
      "  pc_m = tmp_df[ticker].pct_change(periods = 1, freq = freq).dropna()\n"
     ]
    },
    {
     "name": "stderr",
     "output_type": "stream",
     "text": [
      "/tmp/ipykernel_2801194/1320677068.py:23: FutureWarning: The default fill_method='pad' in Series.pct_change is deprecated and will be removed in a future version. Either fill in any non-leading NA values prior to calling pct_change or specify 'fill_method=None' to not fill NA values.\n",
      "  pc_m = tmp_df[ticker].pct_change(periods = 1, freq = freq).dropna()\n",
      "/tmp/ipykernel_2801194/1320677068.py:23: FutureWarning: The default fill_method='pad' in Series.pct_change is deprecated and will be removed in a future version. Either fill in any non-leading NA values prior to calling pct_change or specify 'fill_method=None' to not fill NA values.\n",
      "  pc_m = tmp_df[ticker].pct_change(periods = 1, freq = freq).dropna()\n",
      "/tmp/ipykernel_2801194/1320677068.py:23: FutureWarning: The default fill_method='pad' in Series.pct_change is deprecated and will be removed in a future version. Either fill in any non-leading NA values prior to calling pct_change or specify 'fill_method=None' to not fill NA values.\n",
      "  pc_m = tmp_df[ticker].pct_change(periods = 1, freq = freq).dropna()\n",
      "/tmp/ipykernel_2801194/1320677068.py:23: FutureWarning: The default fill_method='pad' in Series.pct_change is deprecated and will be removed in a future version. Either fill in any non-leading NA values prior to calling pct_change or specify 'fill_method=None' to not fill NA values.\n",
      "  pc_m = tmp_df[ticker].pct_change(periods = 1, freq = freq).dropna()\n",
      "/tmp/ipykernel_2801194/1320677068.py:23: FutureWarning: The default fill_method='pad' in Series.pct_change is deprecated and will be removed in a future version. Either fill in any non-leading NA values prior to calling pct_change or specify 'fill_method=None' to not fill NA values.\n",
      "  pc_m = tmp_df[ticker].pct_change(periods = 1, freq = freq).dropna()\n",
      "/tmp/ipykernel_2801194/1320677068.py:23: FutureWarning: The default fill_method='pad' in Series.pct_change is deprecated and will be removed in a future version. Either fill in any non-leading NA values prior to calling pct_change or specify 'fill_method=None' to not fill NA values.\n",
      "  pc_m = tmp_df[ticker].pct_change(periods = 1, freq = freq).dropna()\n",
      " 25%|███████████                                 | 3/12 [00:04<00:13,  1.51s/it]/tmp/ipykernel_2801194/1320677068.py:23: FutureWarning: The default fill_method='pad' in Series.pct_change is deprecated and will be removed in a future version. Either fill in any non-leading NA values prior to calling pct_change or specify 'fill_method=None' to not fill NA values.\n",
      "  pc_m = tmp_df[ticker].pct_change(periods = 1, freq = freq).dropna()\n"
     ]
    },
    {
     "name": "stdout",
     "output_type": "stream",
     "text": [
      "year {'stocks_dict': ['BIO', 'BXP', 'MMM', 'CME', 'PEAK', 'DAL', 'K', 'GPN', 'WM', 'DG', 'FDS', 'OXY', 'CI', 'UDR', 'VTR', 'PNC', 'COST', 'CTSH', 'FRT', 'KDP', 'EL', 'HRL', 'JNJ', 'BAX', 'WELL', 'XEL', 'NFLX', 'STLD', 'AAL', 'GL', 'ALB', 'ULTA', 'RMD', 'IT', 'MCD', 'CPT', 'NI', 'UHS', 'PKG', 'CNC', 'HAL', 'BLK', 'DHR', 'NVR', 'MAR', 'T', 'MCHP', 'KMB', 'WMB', 'PXD', 'CAT', 'DPZ', 'WHR', 'META', 'EIX', 'VLO', 'IFF', 'PAYX', 'CF', 'ORCL', 'PANW', 'ES', 'TROW', 'MAA', 'LULU', 'HOLX', 'WFC', 'AVB', 'PARA', 'RL', 'CSGP', 'L', 'CNP', 'ED', 'APH', 'CBRE', 'FDX', 'EVRG', 'EQT', 'DOV', 'MRO', 'BRO', 'NOC', 'CL', 'SBUX', 'ITW', 'D', 'SO', 'SJM', 'HD', 'MHK', 'EMN', 'AIZ', 'VRTX', 'PWR', 'MCK', 'CVS', 'CMI', 'SYK', 'MPWR', 'AMZN', 'PH', 'HON', 'CMS', 'SPG', 'WDC', 'PM', 'LUV', 'LNT', 'IRM', 'ADM', 'HSIC', 'AVY', 'DTE', 'EQR', 'DIS', 'CVX', 'HAS', 'BEN', 'SLB'], 'groups': {0: ['BIO', 'BXP', 'MMM', 'CME', 'PEAK'], 5: ['DAL', 'K', 'GPN', 'WM', 'DG'], 10: ['FDS', 'OXY', 'CI', 'UDR', 'VTR'], 15: ['PNC', 'COST', 'CTSH', 'FRT', 'KDP'], 20: ['EL', 'HRL', 'JNJ', 'BAX', 'WELL'], 25: ['XEL', 'NFLX', 'STLD', 'AAL', 'GL'], 30: ['ALB', 'ULTA', 'RMD', 'IT', 'MCD'], 35: ['CPT', 'NI', 'UHS', 'PKG', 'CNC'], 40: ['HAL', 'BLK', 'DHR', 'NVR', 'MAR'], 45: ['T', 'MCHP', 'KMB', 'WMB', 'PXD'], 50: ['CAT', 'DPZ', 'WHR', 'META', 'EIX'], 55: ['VLO', 'IFF', 'PAYX', 'CF', 'ORCL'], 60: ['PANW', 'ES', 'TROW', 'MAA', 'LULU'], 65: ['HOLX', 'WFC', 'AVB', 'PARA', 'RL'], 70: ['CSGP', 'L', 'CNP', 'ED', 'APH'], 75: ['CBRE', 'FDX', 'EVRG', 'EQT', 'DOV'], 80: ['MRO', 'BRO', 'NOC', 'CL', 'SBUX'], 85: ['ITW', 'D', 'SO', 'SJM', 'HD'], 90: ['MHK', 'EMN', 'AIZ', 'VRTX', 'PWR'], 95: ['MCK', 'CVS', 'CMI', 'SYK', 'MPWR'], 100: ['AMZN', 'PH', 'HON', 'CMS', 'SPG'], 105: ['WDC', 'PM', 'LUV', 'LNT', 'IRM'], 110: ['ADM', 'HSIC', 'AVY', 'DTE', 'EQR'], 115: ['DIS', 'CVX', 'HAS', 'BEN', 'SLB']}}\n"
     ]
    },
    {
     "name": "stderr",
     "output_type": "stream",
     "text": [
      "/tmp/ipykernel_2801194/1320677068.py:23: FutureWarning: The default fill_method='pad' in Series.pct_change is deprecated and will be removed in a future version. Either fill in any non-leading NA values prior to calling pct_change or specify 'fill_method=None' to not fill NA values.\n",
      "  pc_m = tmp_df[ticker].pct_change(periods = 1, freq = freq).dropna()\n",
      "/tmp/ipykernel_2801194/1320677068.py:23: FutureWarning: The default fill_method='pad' in Series.pct_change is deprecated and will be removed in a future version. Either fill in any non-leading NA values prior to calling pct_change or specify 'fill_method=None' to not fill NA values.\n",
      "  pc_m = tmp_df[ticker].pct_change(periods = 1, freq = freq).dropna()\n",
      "/tmp/ipykernel_2801194/1320677068.py:23: FutureWarning: The default fill_method='pad' in Series.pct_change is deprecated and will be removed in a future version. Either fill in any non-leading NA values prior to calling pct_change or specify 'fill_method=None' to not fill NA values.\n",
      "  pc_m = tmp_df[ticker].pct_change(periods = 1, freq = freq).dropna()\n",
      "/tmp/ipykernel_2801194/1320677068.py:23: FutureWarning: The default fill_method='pad' in Series.pct_change is deprecated and will be removed in a future version. Either fill in any non-leading NA values prior to calling pct_change or specify 'fill_method=None' to not fill NA values.\n",
      "  pc_m = tmp_df[ticker].pct_change(periods = 1, freq = freq).dropna()\n",
      "/tmp/ipykernel_2801194/1320677068.py:23: FutureWarning: The default fill_method='pad' in Series.pct_change is deprecated and will be removed in a future version. Either fill in any non-leading NA values prior to calling pct_change or specify 'fill_method=None' to not fill NA values.\n",
      "  pc_m = tmp_df[ticker].pct_change(periods = 1, freq = freq).dropna()\n",
      "/tmp/ipykernel_2801194/1320677068.py:23: FutureWarning: The default fill_method='pad' in Series.pct_change is deprecated and will be removed in a future version. Either fill in any non-leading NA values prior to calling pct_change or specify 'fill_method=None' to not fill NA values.\n",
      "  pc_m = tmp_df[ticker].pct_change(periods = 1, freq = freq).dropna()\n",
      "/tmp/ipykernel_2801194/1320677068.py:23: FutureWarning: The default fill_method='pad' in Series.pct_change is deprecated and will be removed in a future version. Either fill in any non-leading NA values prior to calling pct_change or specify 'fill_method=None' to not fill NA values.\n",
      "  pc_m = tmp_df[ticker].pct_change(periods = 1, freq = freq).dropna()\n",
      "/tmp/ipykernel_2801194/1320677068.py:23: FutureWarning: The default fill_method='pad' in Series.pct_change is deprecated and will be removed in a future version. Either fill in any non-leading NA values prior to calling pct_change or specify 'fill_method=None' to not fill NA values.\n",
      "  pc_m = tmp_df[ticker].pct_change(periods = 1, freq = freq).dropna()\n",
      "/tmp/ipykernel_2801194/1320677068.py:23: FutureWarning: The default fill_method='pad' in Series.pct_change is deprecated and will be removed in a future version. Either fill in any non-leading NA values prior to calling pct_change or specify 'fill_method=None' to not fill NA values.\n",
      "  pc_m = tmp_df[ticker].pct_change(periods = 1, freq = freq).dropna()\n",
      "/tmp/ipykernel_2801194/1320677068.py:23: FutureWarning: The default fill_method='pad' in Series.pct_change is deprecated and will be removed in a future version. Either fill in any non-leading NA values prior to calling pct_change or specify 'fill_method=None' to not fill NA values.\n",
      "  pc_m = tmp_df[ticker].pct_change(periods = 1, freq = freq).dropna()\n",
      "/tmp/ipykernel_2801194/1320677068.py:23: FutureWarning: The default fill_method='pad' in Series.pct_change is deprecated and will be removed in a future version. Either fill in any non-leading NA values prior to calling pct_change or specify 'fill_method=None' to not fill NA values.\n",
      "  pc_m = tmp_df[ticker].pct_change(periods = 1, freq = freq).dropna()\n",
      "/tmp/ipykernel_2801194/1320677068.py:23: FutureWarning: The default fill_method='pad' in Series.pct_change is deprecated and will be removed in a future version. Either fill in any non-leading NA values prior to calling pct_change or specify 'fill_method=None' to not fill NA values.\n",
      "  pc_m = tmp_df[ticker].pct_change(periods = 1, freq = freq).dropna()\n",
      "/tmp/ipykernel_2801194/1320677068.py:23: FutureWarning: The default fill_method='pad' in Series.pct_change is deprecated and will be removed in a future version. Either fill in any non-leading NA values prior to calling pct_change or specify 'fill_method=None' to not fill NA values.\n",
      "  pc_m = tmp_df[ticker].pct_change(periods = 1, freq = freq).dropna()\n",
      "/tmp/ipykernel_2801194/1320677068.py:23: FutureWarning: The default fill_method='pad' in Series.pct_change is deprecated and will be removed in a future version. Either fill in any non-leading NA values prior to calling pct_change or specify 'fill_method=None' to not fill NA values.\n",
      "  pc_m = tmp_df[ticker].pct_change(periods = 1, freq = freq).dropna()\n",
      "/tmp/ipykernel_2801194/1320677068.py:23: FutureWarning: The default fill_method='pad' in Series.pct_change is deprecated and will be removed in a future version. Either fill in any non-leading NA values prior to calling pct_change or specify 'fill_method=None' to not fill NA values.\n",
      "  pc_m = tmp_df[ticker].pct_change(periods = 1, freq = freq).dropna()\n",
      "/tmp/ipykernel_2801194/1320677068.py:23: FutureWarning: The default fill_method='pad' in Series.pct_change is deprecated and will be removed in a future version. Either fill in any non-leading NA values prior to calling pct_change or specify 'fill_method=None' to not fill NA values.\n",
      "  pc_m = tmp_df[ticker].pct_change(periods = 1, freq = freq).dropna()\n",
      "/tmp/ipykernel_2801194/1320677068.py:23: FutureWarning: The default fill_method='pad' in Series.pct_change is deprecated and will be removed in a future version. Either fill in any non-leading NA values prior to calling pct_change or specify 'fill_method=None' to not fill NA values.\n",
      "  pc_m = tmp_df[ticker].pct_change(periods = 1, freq = freq).dropna()\n",
      "/tmp/ipykernel_2801194/1320677068.py:23: FutureWarning: The default fill_method='pad' in Series.pct_change is deprecated and will be removed in a future version. Either fill in any non-leading NA values prior to calling pct_change or specify 'fill_method=None' to not fill NA values.\n",
      "  pc_m = tmp_df[ticker].pct_change(periods = 1, freq = freq).dropna()\n",
      "/tmp/ipykernel_2801194/1320677068.py:23: FutureWarning: The default fill_method='pad' in Series.pct_change is deprecated and will be removed in a future version. Either fill in any non-leading NA values prior to calling pct_change or specify 'fill_method=None' to not fill NA values.\n",
      "  pc_m = tmp_df[ticker].pct_change(periods = 1, freq = freq).dropna()\n",
      "/tmp/ipykernel_2801194/1320677068.py:23: FutureWarning: The default fill_method='pad' in Series.pct_change is deprecated and will be removed in a future version. Either fill in any non-leading NA values prior to calling pct_change or specify 'fill_method=None' to not fill NA values.\n",
      "  pc_m = tmp_df[ticker].pct_change(periods = 1, freq = freq).dropna()\n",
      "/tmp/ipykernel_2801194/1320677068.py:23: FutureWarning: The default fill_method='pad' in Series.pct_change is deprecated and will be removed in a future version. Either fill in any non-leading NA values prior to calling pct_change or specify 'fill_method=None' to not fill NA values.\n",
      "  pc_m = tmp_df[ticker].pct_change(periods = 1, freq = freq).dropna()\n",
      "/tmp/ipykernel_2801194/1320677068.py:23: FutureWarning: The default fill_method='pad' in Series.pct_change is deprecated and will be removed in a future version. Either fill in any non-leading NA values prior to calling pct_change or specify 'fill_method=None' to not fill NA values.\n",
      "  pc_m = tmp_df[ticker].pct_change(periods = 1, freq = freq).dropna()\n",
      "/tmp/ipykernel_2801194/1320677068.py:23: FutureWarning: The default fill_method='pad' in Series.pct_change is deprecated and will be removed in a future version. Either fill in any non-leading NA values prior to calling pct_change or specify 'fill_method=None' to not fill NA values.\n",
      "  pc_m = tmp_df[ticker].pct_change(periods = 1, freq = freq).dropna()\n",
      "/tmp/ipykernel_2801194/1320677068.py:23: FutureWarning: The default fill_method='pad' in Series.pct_change is deprecated and will be removed in a future version. Either fill in any non-leading NA values prior to calling pct_change or specify 'fill_method=None' to not fill NA values.\n",
      "  pc_m = tmp_df[ticker].pct_change(periods = 1, freq = freq).dropna()\n",
      "/tmp/ipykernel_2801194/1320677068.py:23: FutureWarning: The default fill_method='pad' in Series.pct_change is deprecated and will be removed in a future version. Either fill in any non-leading NA values prior to calling pct_change or specify 'fill_method=None' to not fill NA values.\n",
      "  pc_m = tmp_df[ticker].pct_change(periods = 1, freq = freq).dropna()\n",
      "/tmp/ipykernel_2801194/1320677068.py:23: FutureWarning: The default fill_method='pad' in Series.pct_change is deprecated and will be removed in a future version. Either fill in any non-leading NA values prior to calling pct_change or specify 'fill_method=None' to not fill NA values.\n",
      "  pc_m = tmp_df[ticker].pct_change(periods = 1, freq = freq).dropna()\n",
      "/tmp/ipykernel_2801194/1320677068.py:23: FutureWarning: The default fill_method='pad' in Series.pct_change is deprecated and will be removed in a future version. Either fill in any non-leading NA values prior to calling pct_change or specify 'fill_method=None' to not fill NA values.\n",
      "  pc_m = tmp_df[ticker].pct_change(periods = 1, freq = freq).dropna()\n"
     ]
    },
    {
     "name": "stderr",
     "output_type": "stream",
     "text": [
      " 33%|██████████████▋                             | 4/12 [00:06<00:12,  1.50s/it]/tmp/ipykernel_2801194/1320677068.py:23: FutureWarning: The default fill_method='pad' in Series.pct_change is deprecated and will be removed in a future version. Either fill in any non-leading NA values prior to calling pct_change or specify 'fill_method=None' to not fill NA values.\n",
      "  pc_m = tmp_df[ticker].pct_change(periods = 1, freq = freq).dropna()\n"
     ]
    },
    {
     "name": "stdout",
     "output_type": "stream",
     "text": [
      "year {'stocks_dict': ['WM', 'WMB', 'EMR', 'CMI', 'EW', 'PLD', 'DG', 'T', 'EMN', 'RTX', 'KR', 'DLTR', 'SLB', 'GL', 'PH', 'AMP', 'ORCL', 'META', 'BLK', 'CPB', 'RMD', 'GIS', 'IRM', 'KLAC', 'CAT', 'TROW', 'AEE', 'KMB', 'SNPS', 'STLD', 'CVX', 'ISRG', 'GD', 'WFC', 'YUM', 'EVRG', 'ACN', 'PKG', 'TRMB', 'TEL', 'HD', 'SWKS', 'AAL', 'V', 'HAL', 'CBRE', 'ROK', 'AVB', 'WHR', 'MTD', 'TRV', 'XRAY', 'NFLX', 'DOV', 'KMX', 'ULTA', 'LULU', 'AJG', 'LOW', 'ALLE', 'MAA', 'JNJ', 'MTB', 'UHS', 'VTR', 'CNC', 'MNST', 'SCHW', 'NOC', 'MCHP', 'CVS', 'JBHT', 'MCD', 'DPZ', 'DAL', 'ARE', 'IT', 'IFF', 'MCK', 'PAYX', 'PEAK', 'IEX', 'CF', 'VFC', 'HON', 'STE', 'COST', 'HRL', 'CBOE', 'DHR', 'CCI', 'WST', 'UAL', 'L', 'AEP', 'MKTX', 'HLT', 'PNR', 'LRCX', 'FMC', 'NVR', 'LH', 'MPWR', 'BR', 'PNC', 'HAS', 'FSLR', 'UDR', 'MMM', 'WYNN', 'D', 'PXD', 'PM', 'APH', 'MAR', 'WDC', 'NUE', 'PWR', 'PARA', 'TMO'], 'groups': {0: ['WM', 'WMB', 'EMR', 'CMI', 'EW'], 5: ['PLD', 'DG', 'T', 'EMN', 'RTX'], 10: ['KR', 'DLTR', 'SLB', 'GL', 'PH'], 15: ['AMP', 'ORCL', 'META', 'BLK', 'CPB'], 20: ['RMD', 'GIS', 'IRM', 'KLAC', 'CAT'], 25: ['TROW', 'AEE', 'KMB', 'SNPS', 'STLD'], 30: ['CVX', 'ISRG', 'GD', 'WFC', 'YUM'], 35: ['EVRG', 'ACN', 'PKG', 'TRMB', 'TEL'], 40: ['HD', 'SWKS', 'AAL', 'V', 'HAL'], 45: ['CBRE', 'ROK', 'AVB', 'WHR', 'MTD'], 50: ['TRV', 'XRAY', 'NFLX', 'DOV', 'KMX'], 55: ['ULTA', 'LULU', 'AJG', 'LOW', 'ALLE'], 60: ['MAA', 'JNJ', 'MTB', 'UHS', 'VTR'], 65: ['CNC', 'MNST', 'SCHW', 'NOC', 'MCHP'], 70: ['CVS', 'JBHT', 'MCD', 'DPZ', 'DAL'], 75: ['ARE', 'IT', 'IFF', 'MCK', 'PAYX'], 80: ['PEAK', 'IEX', 'CF', 'VFC', 'HON'], 85: ['STE', 'COST', 'HRL', 'CBOE', 'DHR'], 90: ['CCI', 'WST', 'UAL', 'L', 'AEP'], 95: ['MKTX', 'HLT', 'PNR', 'LRCX', 'FMC'], 100: ['NVR', 'LH', 'MPWR', 'BR', 'PNC'], 105: ['HAS', 'FSLR', 'UDR', 'MMM', 'WYNN'], 110: ['D', 'PXD', 'PM', 'APH', 'MAR'], 115: ['WDC', 'NUE', 'PWR', 'PARA', 'TMO']}}\n"
     ]
    },
    {
     "name": "stderr",
     "output_type": "stream",
     "text": [
      "/tmp/ipykernel_2801194/1320677068.py:23: FutureWarning: The default fill_method='pad' in Series.pct_change is deprecated and will be removed in a future version. Either fill in any non-leading NA values prior to calling pct_change or specify 'fill_method=None' to not fill NA values.\n",
      "  pc_m = tmp_df[ticker].pct_change(periods = 1, freq = freq).dropna()\n",
      "/tmp/ipykernel_2801194/1320677068.py:23: FutureWarning: The default fill_method='pad' in Series.pct_change is deprecated and will be removed in a future version. Either fill in any non-leading NA values prior to calling pct_change or specify 'fill_method=None' to not fill NA values.\n",
      "  pc_m = tmp_df[ticker].pct_change(periods = 1, freq = freq).dropna()\n",
      "/tmp/ipykernel_2801194/1320677068.py:23: FutureWarning: The default fill_method='pad' in Series.pct_change is deprecated and will be removed in a future version. Either fill in any non-leading NA values prior to calling pct_change or specify 'fill_method=None' to not fill NA values.\n",
      "  pc_m = tmp_df[ticker].pct_change(periods = 1, freq = freq).dropna()\n",
      "/tmp/ipykernel_2801194/1320677068.py:23: FutureWarning: The default fill_method='pad' in Series.pct_change is deprecated and will be removed in a future version. Either fill in any non-leading NA values prior to calling pct_change or specify 'fill_method=None' to not fill NA values.\n",
      "  pc_m = tmp_df[ticker].pct_change(periods = 1, freq = freq).dropna()\n",
      "/tmp/ipykernel_2801194/1320677068.py:23: FutureWarning: The default fill_method='pad' in Series.pct_change is deprecated and will be removed in a future version. Either fill in any non-leading NA values prior to calling pct_change or specify 'fill_method=None' to not fill NA values.\n",
      "  pc_m = tmp_df[ticker].pct_change(periods = 1, freq = freq).dropna()\n",
      "/tmp/ipykernel_2801194/1320677068.py:23: FutureWarning: The default fill_method='pad' in Series.pct_change is deprecated and will be removed in a future version. Either fill in any non-leading NA values prior to calling pct_change or specify 'fill_method=None' to not fill NA values.\n",
      "  pc_m = tmp_df[ticker].pct_change(periods = 1, freq = freq).dropna()\n",
      "/tmp/ipykernel_2801194/1320677068.py:23: FutureWarning: The default fill_method='pad' in Series.pct_change is deprecated and will be removed in a future version. Either fill in any non-leading NA values prior to calling pct_change or specify 'fill_method=None' to not fill NA values.\n",
      "  pc_m = tmp_df[ticker].pct_change(periods = 1, freq = freq).dropna()\n",
      "/tmp/ipykernel_2801194/1320677068.py:23: FutureWarning: The default fill_method='pad' in Series.pct_change is deprecated and will be removed in a future version. Either fill in any non-leading NA values prior to calling pct_change or specify 'fill_method=None' to not fill NA values.\n",
      "  pc_m = tmp_df[ticker].pct_change(periods = 1, freq = freq).dropna()\n",
      "/tmp/ipykernel_2801194/1320677068.py:23: FutureWarning: The default fill_method='pad' in Series.pct_change is deprecated and will be removed in a future version. Either fill in any non-leading NA values prior to calling pct_change or specify 'fill_method=None' to not fill NA values.\n",
      "  pc_m = tmp_df[ticker].pct_change(periods = 1, freq = freq).dropna()\n",
      "/tmp/ipykernel_2801194/1320677068.py:23: FutureWarning: The default fill_method='pad' in Series.pct_change is deprecated and will be removed in a future version. Either fill in any non-leading NA values prior to calling pct_change or specify 'fill_method=None' to not fill NA values.\n",
      "  pc_m = tmp_df[ticker].pct_change(periods = 1, freq = freq).dropna()\n",
      "/tmp/ipykernel_2801194/1320677068.py:23: FutureWarning: The default fill_method='pad' in Series.pct_change is deprecated and will be removed in a future version. Either fill in any non-leading NA values prior to calling pct_change or specify 'fill_method=None' to not fill NA values.\n",
      "  pc_m = tmp_df[ticker].pct_change(periods = 1, freq = freq).dropna()\n",
      "/tmp/ipykernel_2801194/1320677068.py:23: FutureWarning: The default fill_method='pad' in Series.pct_change is deprecated and will be removed in a future version. Either fill in any non-leading NA values prior to calling pct_change or specify 'fill_method=None' to not fill NA values.\n",
      "  pc_m = tmp_df[ticker].pct_change(periods = 1, freq = freq).dropna()\n",
      "/tmp/ipykernel_2801194/1320677068.py:23: FutureWarning: The default fill_method='pad' in Series.pct_change is deprecated and will be removed in a future version. Either fill in any non-leading NA values prior to calling pct_change or specify 'fill_method=None' to not fill NA values.\n",
      "  pc_m = tmp_df[ticker].pct_change(periods = 1, freq = freq).dropna()\n",
      "/tmp/ipykernel_2801194/1320677068.py:23: FutureWarning: The default fill_method='pad' in Series.pct_change is deprecated and will be removed in a future version. Either fill in any non-leading NA values prior to calling pct_change or specify 'fill_method=None' to not fill NA values.\n",
      "  pc_m = tmp_df[ticker].pct_change(periods = 1, freq = freq).dropna()\n",
      "/tmp/ipykernel_2801194/1320677068.py:23: FutureWarning: The default fill_method='pad' in Series.pct_change is deprecated and will be removed in a future version. Either fill in any non-leading NA values prior to calling pct_change or specify 'fill_method=None' to not fill NA values.\n",
      "  pc_m = tmp_df[ticker].pct_change(periods = 1, freq = freq).dropna()\n",
      "/tmp/ipykernel_2801194/1320677068.py:23: FutureWarning: The default fill_method='pad' in Series.pct_change is deprecated and will be removed in a future version. Either fill in any non-leading NA values prior to calling pct_change or specify 'fill_method=None' to not fill NA values.\n",
      "  pc_m = tmp_df[ticker].pct_change(periods = 1, freq = freq).dropna()\n",
      "/tmp/ipykernel_2801194/1320677068.py:23: FutureWarning: The default fill_method='pad' in Series.pct_change is deprecated and will be removed in a future version. Either fill in any non-leading NA values prior to calling pct_change or specify 'fill_method=None' to not fill NA values.\n",
      "  pc_m = tmp_df[ticker].pct_change(periods = 1, freq = freq).dropna()\n",
      "/tmp/ipykernel_2801194/1320677068.py:23: FutureWarning: The default fill_method='pad' in Series.pct_change is deprecated and will be removed in a future version. Either fill in any non-leading NA values prior to calling pct_change or specify 'fill_method=None' to not fill NA values.\n",
      "  pc_m = tmp_df[ticker].pct_change(periods = 1, freq = freq).dropna()\n",
      "/tmp/ipykernel_2801194/1320677068.py:23: FutureWarning: The default fill_method='pad' in Series.pct_change is deprecated and will be removed in a future version. Either fill in any non-leading NA values prior to calling pct_change or specify 'fill_method=None' to not fill NA values.\n",
      "  pc_m = tmp_df[ticker].pct_change(periods = 1, freq = freq).dropna()\n",
      "/tmp/ipykernel_2801194/1320677068.py:23: FutureWarning: The default fill_method='pad' in Series.pct_change is deprecated and will be removed in a future version. Either fill in any non-leading NA values prior to calling pct_change or specify 'fill_method=None' to not fill NA values.\n",
      "  pc_m = tmp_df[ticker].pct_change(periods = 1, freq = freq).dropna()\n",
      "/tmp/ipykernel_2801194/1320677068.py:23: FutureWarning: The default fill_method='pad' in Series.pct_change is deprecated and will be removed in a future version. Either fill in any non-leading NA values prior to calling pct_change or specify 'fill_method=None' to not fill NA values.\n",
      "  pc_m = tmp_df[ticker].pct_change(periods = 1, freq = freq).dropna()\n",
      " 42%|██████████████████▎                         | 5/12 [00:07<00:10,  1.52s/it]/tmp/ipykernel_2801194/1320677068.py:23: FutureWarning: The default fill_method='pad' in Series.pct_change is deprecated and will be removed in a future version. Either fill in any non-leading NA values prior to calling pct_change or specify 'fill_method=None' to not fill NA values.\n",
      "  pc_m = tmp_df[ticker].pct_change(periods = 1, freq = freq).dropna()\n"
     ]
    },
    {
     "name": "stdout",
     "output_type": "stream",
     "text": [
      "year {'stocks_dict': ['AEE', 'EFX', 'DG', 'DHR', 'CLX', 'LLY', 'CMI', 'ANSS', 'LULU', 'AJG', 'VFC', 'ABT', 'APH', 'KIM', 'BBWI', 'BIIB', 'NSC', 'V', 'AON', 'DVA', 'AME', 'XRAY', 'BDX', 'UAL', 'DAL', 'TROW', 'PKG', 'CMCSA', 'PSX', 'REG', 'GL', 'EL', 'POOL', 'VZ', 'K', 'SBAC', 'SNPS', 'MTD', 'NDAQ', 'MMM', 'META', 'MTB', 'MKC', 'CINF', 'CNP', 'STLD', 'CHRW', 'CBRE', 'PWR', 'NOC', 'PM', 'DFS', 'CL', 'BMY', 'MHK', 'TRMB', 'IEX', 'PAYX', 'ITW', 'EMN', 'VTR', 'PXD', 'EOG', 'SJM', 'AAL', 'APD', 'PLD', 'T', 'WYNN', 'KLAC', 'LIN', 'JPM', 'HUBB', 'NUE', 'EIX', 'ABBV', 'JNJ', 'STE', 'PPG', 'PNC', 'SCHW', 'INCY', 'LOW', 'ARE', 'UHS', 'MCHP', 'JBHT', 'TECH', 'WM', 'RCL', 'HON', 'CSGP', 'SYK', 'DPZ', 'ROK', 'AMZN', 'ORCL', 'DOV', 'CE', 'VRTX', 'NFLX', 'MPWR', 'CBOE', 'IT', 'CNC', 'WHR', 'CVS', 'PNR', 'EMR', 'WDC', 'YUM', 'SBUX', 'KR', 'AMT', 'KMX', 'ISRG', 'PH', 'GD', 'CCI', 'WRB'], 'groups': {0: ['AEE', 'EFX', 'DG', 'DHR', 'CLX'], 5: ['LLY', 'CMI', 'ANSS', 'LULU', 'AJG'], 10: ['VFC', 'ABT', 'APH', 'KIM', 'BBWI'], 15: ['BIIB', 'NSC', 'V', 'AON', 'DVA'], 20: ['AME', 'XRAY', 'BDX', 'UAL', 'DAL'], 25: ['TROW', 'PKG', 'CMCSA', 'PSX', 'REG'], 30: ['GL', 'EL', 'POOL', 'VZ', 'K'], 35: ['SBAC', 'SNPS', 'MTD', 'NDAQ', 'MMM'], 40: ['META', 'MTB', 'MKC', 'CINF', 'CNP'], 45: ['STLD', 'CHRW', 'CBRE', 'PWR', 'NOC'], 50: ['PM', 'DFS', 'CL', 'BMY', 'MHK'], 55: ['TRMB', 'IEX', 'PAYX', 'ITW', 'EMN'], 60: ['VTR', 'PXD', 'EOG', 'SJM', 'AAL'], 65: ['APD', 'PLD', 'T', 'WYNN', 'KLAC'], 70: ['LIN', 'JPM', 'HUBB', 'NUE', 'EIX'], 75: ['ABBV', 'JNJ', 'STE', 'PPG', 'PNC'], 80: ['SCHW', 'INCY', 'LOW', 'ARE', 'UHS'], 85: ['MCHP', 'JBHT', 'TECH', 'WM', 'RCL'], 90: ['HON', 'CSGP', 'SYK', 'DPZ', 'ROK'], 95: ['AMZN', 'ORCL', 'DOV', 'CE', 'VRTX'], 100: ['NFLX', 'MPWR', 'CBOE', 'IT', 'CNC'], 105: ['WHR', 'CVS', 'PNR', 'EMR', 'WDC'], 110: ['YUM', 'SBUX', 'KR', 'AMT', 'KMX'], 115: ['ISRG', 'PH', 'GD', 'CCI', 'WRB']}}\n"
     ]
    },
    {
     "name": "stderr",
     "output_type": "stream",
     "text": [
      "/tmp/ipykernel_2801194/1320677068.py:23: FutureWarning: The default fill_method='pad' in Series.pct_change is deprecated and will be removed in a future version. Either fill in any non-leading NA values prior to calling pct_change or specify 'fill_method=None' to not fill NA values.\n",
      "  pc_m = tmp_df[ticker].pct_change(periods = 1, freq = freq).dropna()\n",
      "/tmp/ipykernel_2801194/1320677068.py:23: FutureWarning: The default fill_method='pad' in Series.pct_change is deprecated and will be removed in a future version. Either fill in any non-leading NA values prior to calling pct_change or specify 'fill_method=None' to not fill NA values.\n",
      "  pc_m = tmp_df[ticker].pct_change(periods = 1, freq = freq).dropna()\n",
      "/tmp/ipykernel_2801194/1320677068.py:23: FutureWarning: The default fill_method='pad' in Series.pct_change is deprecated and will be removed in a future version. Either fill in any non-leading NA values prior to calling pct_change or specify 'fill_method=None' to not fill NA values.\n",
      "  pc_m = tmp_df[ticker].pct_change(periods = 1, freq = freq).dropna()\n",
      "/tmp/ipykernel_2801194/1320677068.py:23: FutureWarning: The default fill_method='pad' in Series.pct_change is deprecated and will be removed in a future version. Either fill in any non-leading NA values prior to calling pct_change or specify 'fill_method=None' to not fill NA values.\n",
      "  pc_m = tmp_df[ticker].pct_change(periods = 1, freq = freq).dropna()\n",
      "/tmp/ipykernel_2801194/1320677068.py:23: FutureWarning: The default fill_method='pad' in Series.pct_change is deprecated and will be removed in a future version. Either fill in any non-leading NA values prior to calling pct_change or specify 'fill_method=None' to not fill NA values.\n",
      "  pc_m = tmp_df[ticker].pct_change(periods = 1, freq = freq).dropna()\n",
      "/tmp/ipykernel_2801194/1320677068.py:23: FutureWarning: The default fill_method='pad' in Series.pct_change is deprecated and will be removed in a future version. Either fill in any non-leading NA values prior to calling pct_change or specify 'fill_method=None' to not fill NA values.\n",
      "  pc_m = tmp_df[ticker].pct_change(periods = 1, freq = freq).dropna()\n",
      "/tmp/ipykernel_2801194/1320677068.py:23: FutureWarning: The default fill_method='pad' in Series.pct_change is deprecated and will be removed in a future version. Either fill in any non-leading NA values prior to calling pct_change or specify 'fill_method=None' to not fill NA values.\n",
      "  pc_m = tmp_df[ticker].pct_change(periods = 1, freq = freq).dropna()\n",
      "/tmp/ipykernel_2801194/1320677068.py:23: FutureWarning: The default fill_method='pad' in Series.pct_change is deprecated and will be removed in a future version. Either fill in any non-leading NA values prior to calling pct_change or specify 'fill_method=None' to not fill NA values.\n",
      "  pc_m = tmp_df[ticker].pct_change(periods = 1, freq = freq).dropna()\n",
      "/tmp/ipykernel_2801194/1320677068.py:23: FutureWarning: The default fill_method='pad' in Series.pct_change is deprecated and will be removed in a future version. Either fill in any non-leading NA values prior to calling pct_change or specify 'fill_method=None' to not fill NA values.\n",
      "  pc_m = tmp_df[ticker].pct_change(periods = 1, freq = freq).dropna()\n",
      "/tmp/ipykernel_2801194/1320677068.py:23: FutureWarning: The default fill_method='pad' in Series.pct_change is deprecated and will be removed in a future version. Either fill in any non-leading NA values prior to calling pct_change or specify 'fill_method=None' to not fill NA values.\n",
      "  pc_m = tmp_df[ticker].pct_change(periods = 1, freq = freq).dropna()\n",
      "/tmp/ipykernel_2801194/1320677068.py:23: FutureWarning: The default fill_method='pad' in Series.pct_change is deprecated and will be removed in a future version. Either fill in any non-leading NA values prior to calling pct_change or specify 'fill_method=None' to not fill NA values.\n",
      "  pc_m = tmp_df[ticker].pct_change(periods = 1, freq = freq).dropna()\n",
      "/tmp/ipykernel_2801194/1320677068.py:23: FutureWarning: The default fill_method='pad' in Series.pct_change is deprecated and will be removed in a future version. Either fill in any non-leading NA values prior to calling pct_change or specify 'fill_method=None' to not fill NA values.\n",
      "  pc_m = tmp_df[ticker].pct_change(periods = 1, freq = freq).dropna()\n",
      "/tmp/ipykernel_2801194/1320677068.py:23: FutureWarning: The default fill_method='pad' in Series.pct_change is deprecated and will be removed in a future version. Either fill in any non-leading NA values prior to calling pct_change or specify 'fill_method=None' to not fill NA values.\n",
      "  pc_m = tmp_df[ticker].pct_change(periods = 1, freq = freq).dropna()\n",
      "/tmp/ipykernel_2801194/1320677068.py:23: FutureWarning: The default fill_method='pad' in Series.pct_change is deprecated and will be removed in a future version. Either fill in any non-leading NA values prior to calling pct_change or specify 'fill_method=None' to not fill NA values.\n",
      "  pc_m = tmp_df[ticker].pct_change(periods = 1, freq = freq).dropna()\n",
      "/tmp/ipykernel_2801194/1320677068.py:23: FutureWarning: The default fill_method='pad' in Series.pct_change is deprecated and will be removed in a future version. Either fill in any non-leading NA values prior to calling pct_change or specify 'fill_method=None' to not fill NA values.\n",
      "  pc_m = tmp_df[ticker].pct_change(periods = 1, freq = freq).dropna()\n",
      "/tmp/ipykernel_2801194/1320677068.py:23: FutureWarning: The default fill_method='pad' in Series.pct_change is deprecated and will be removed in a future version. Either fill in any non-leading NA values prior to calling pct_change or specify 'fill_method=None' to not fill NA values.\n",
      "  pc_m = tmp_df[ticker].pct_change(periods = 1, freq = freq).dropna()\n",
      "/tmp/ipykernel_2801194/1320677068.py:23: FutureWarning: The default fill_method='pad' in Series.pct_change is deprecated and will be removed in a future version. Either fill in any non-leading NA values prior to calling pct_change or specify 'fill_method=None' to not fill NA values.\n",
      "  pc_m = tmp_df[ticker].pct_change(periods = 1, freq = freq).dropna()\n",
      "/tmp/ipykernel_2801194/1320677068.py:23: FutureWarning: The default fill_method='pad' in Series.pct_change is deprecated and will be removed in a future version. Either fill in any non-leading NA values prior to calling pct_change or specify 'fill_method=None' to not fill NA values.\n",
      "  pc_m = tmp_df[ticker].pct_change(periods = 1, freq = freq).dropna()\n",
      " 50%|██████████████████████                      | 6/12 [00:09<00:09,  1.51s/it]/tmp/ipykernel_2801194/1320677068.py:23: FutureWarning: The default fill_method='pad' in Series.pct_change is deprecated and will be removed in a future version. Either fill in any non-leading NA values prior to calling pct_change or specify 'fill_method=None' to not fill NA values.\n",
      "  pc_m = tmp_df[ticker].pct_change(periods = 1, freq = freq).dropna()\n"
     ]
    },
    {
     "name": "stdout",
     "output_type": "stream",
     "text": [
      "year {'stocks_dict': ['IQV', 'HII', 'ES', 'BXP', 'EIX', 'TEL', 'DIS', 'AEP', 'SBUX', 'EMR', 'BMY', 'DG', 'HAS', 'PPG', 'NFLX', 'TXN', 'CCI', 'TRV', 'VTR', 'TMO', 'STX', 'PLD', 'LRCX', 'CMG', 'CPB', 'AAPL', 'GD', 'SCHW', 'NOW', 'NUE', 'ILMN', 'PXD', 'HON', 'ICE', 'ANSS', 'DRI', 'HSIC', 'SNPS', 'CTAS', 'NVDA', 'PWR', 'IFF', 'RCL', 'MAA', 'LIN', 'ITW', 'LULU', 'ADI', 'ARE', 'PNR', 'IT', 'JNJ', 'UAL', 'META', 'TER', 'KLAC', 'EW', 'USB', 'JPM', 'AVB', 'MTB', 'MKC', 'PANW', 'V', 'TFC', 'AMAT', 'CLX', 'WHR', 'CBOE', 'LOW', 'APD', 'POOL', 'TRMB', 'CNC', 'EG', 'ECL', 'UHS', 'EMN', 'CMI', 'APH', 'MCD', 'BR', 'PEAK', 'DAL', 'TRGP', 'EFX', 'CAT', 'PM', 'INCY', 'TROW', 'DLTR', 'CNP', 'FRT', 'CHRW', 'COR', 'MCHP', 'NDAQ', 'YUM', 'STLD', 'ORCL', 'MHK', 'HRL', 'PH', 'CE', 'BRO', 'WST', 'MMM', 'MTD', 'WBA', 'IBM', 'AME', 'AMT', 'UPS', 'HAL', 'CSGP', 'DLR', 'DOV', 'AAL', 'RSG', 'FSLR'], 'groups': {0: ['IQV', 'HII', 'ES', 'BXP', 'EIX'], 5: ['TEL', 'DIS', 'AEP', 'SBUX', 'EMR'], 10: ['BMY', 'DG', 'HAS', 'PPG', 'NFLX'], 15: ['TXN', 'CCI', 'TRV', 'VTR', 'TMO'], 20: ['STX', 'PLD', 'LRCX', 'CMG', 'CPB'], 25: ['AAPL', 'GD', 'SCHW', 'NOW', 'NUE'], 30: ['ILMN', 'PXD', 'HON', 'ICE', 'ANSS'], 35: ['DRI', 'HSIC', 'SNPS', 'CTAS', 'NVDA'], 40: ['PWR', 'IFF', 'RCL', 'MAA', 'LIN'], 45: ['ITW', 'LULU', 'ADI', 'ARE', 'PNR'], 50: ['IT', 'JNJ', 'UAL', 'META', 'TER'], 55: ['KLAC', 'EW', 'USB', 'JPM', 'AVB'], 60: ['MTB', 'MKC', 'PANW', 'V', 'TFC'], 65: ['AMAT', 'CLX', 'WHR', 'CBOE', 'LOW'], 70: ['APD', 'POOL', 'TRMB', 'CNC', 'EG'], 75: ['ECL', 'UHS', 'EMN', 'CMI', 'APH'], 80: ['MCD', 'BR', 'PEAK', 'DAL', 'TRGP'], 85: ['EFX', 'CAT', 'PM', 'INCY', 'TROW'], 90: ['DLTR', 'CNP', 'FRT', 'CHRW', 'COR'], 95: ['MCHP', 'NDAQ', 'YUM', 'STLD', 'ORCL'], 100: ['MHK', 'HRL', 'PH', 'CE', 'BRO'], 105: ['WST', 'MMM', 'MTD', 'WBA', 'IBM'], 110: ['AME', 'AMT', 'UPS', 'HAL', 'CSGP'], 115: ['DLR', 'DOV', 'AAL', 'RSG', 'FSLR']}}\n"
     ]
    },
    {
     "name": "stderr",
     "output_type": "stream",
     "text": [
      "/tmp/ipykernel_2801194/1320677068.py:23: FutureWarning: The default fill_method='pad' in Series.pct_change is deprecated and will be removed in a future version. Either fill in any non-leading NA values prior to calling pct_change or specify 'fill_method=None' to not fill NA values.\n",
      "  pc_m = tmp_df[ticker].pct_change(periods = 1, freq = freq).dropna()\n",
      "/tmp/ipykernel_2801194/1320677068.py:23: FutureWarning: The default fill_method='pad' in Series.pct_change is deprecated and will be removed in a future version. Either fill in any non-leading NA values prior to calling pct_change or specify 'fill_method=None' to not fill NA values.\n",
      "  pc_m = tmp_df[ticker].pct_change(periods = 1, freq = freq).dropna()\n",
      "/tmp/ipykernel_2801194/1320677068.py:23: FutureWarning: The default fill_method='pad' in Series.pct_change is deprecated and will be removed in a future version. Either fill in any non-leading NA values prior to calling pct_change or specify 'fill_method=None' to not fill NA values.\n",
      "  pc_m = tmp_df[ticker].pct_change(periods = 1, freq = freq).dropna()\n",
      "/tmp/ipykernel_2801194/1320677068.py:23: FutureWarning: The default fill_method='pad' in Series.pct_change is deprecated and will be removed in a future version. Either fill in any non-leading NA values prior to calling pct_change or specify 'fill_method=None' to not fill NA values.\n",
      "  pc_m = tmp_df[ticker].pct_change(periods = 1, freq = freq).dropna()\n",
      "/tmp/ipykernel_2801194/1320677068.py:23: FutureWarning: The default fill_method='pad' in Series.pct_change is deprecated and will be removed in a future version. Either fill in any non-leading NA values prior to calling pct_change or specify 'fill_method=None' to not fill NA values.\n",
      "  pc_m = tmp_df[ticker].pct_change(periods = 1, freq = freq).dropna()\n",
      "/tmp/ipykernel_2801194/1320677068.py:23: FutureWarning: The default fill_method='pad' in Series.pct_change is deprecated and will be removed in a future version. Either fill in any non-leading NA values prior to calling pct_change or specify 'fill_method=None' to not fill NA values.\n",
      "  pc_m = tmp_df[ticker].pct_change(periods = 1, freq = freq).dropna()\n",
      "/tmp/ipykernel_2801194/1320677068.py:23: FutureWarning: The default fill_method='pad' in Series.pct_change is deprecated and will be removed in a future version. Either fill in any non-leading NA values prior to calling pct_change or specify 'fill_method=None' to not fill NA values.\n",
      "  pc_m = tmp_df[ticker].pct_change(periods = 1, freq = freq).dropna()\n",
      "/tmp/ipykernel_2801194/1320677068.py:23: FutureWarning: The default fill_method='pad' in Series.pct_change is deprecated and will be removed in a future version. Either fill in any non-leading NA values prior to calling pct_change or specify 'fill_method=None' to not fill NA values.\n",
      "  pc_m = tmp_df[ticker].pct_change(periods = 1, freq = freq).dropna()\n",
      "/tmp/ipykernel_2801194/1320677068.py:23: FutureWarning: The default fill_method='pad' in Series.pct_change is deprecated and will be removed in a future version. Either fill in any non-leading NA values prior to calling pct_change or specify 'fill_method=None' to not fill NA values.\n",
      "  pc_m = tmp_df[ticker].pct_change(periods = 1, freq = freq).dropna()\n",
      "/tmp/ipykernel_2801194/1320677068.py:23: FutureWarning: The default fill_method='pad' in Series.pct_change is deprecated and will be removed in a future version. Either fill in any non-leading NA values prior to calling pct_change or specify 'fill_method=None' to not fill NA values.\n",
      "  pc_m = tmp_df[ticker].pct_change(periods = 1, freq = freq).dropna()\n",
      "/tmp/ipykernel_2801194/1320677068.py:23: FutureWarning: The default fill_method='pad' in Series.pct_change is deprecated and will be removed in a future version. Either fill in any non-leading NA values prior to calling pct_change or specify 'fill_method=None' to not fill NA values.\n",
      "  pc_m = tmp_df[ticker].pct_change(periods = 1, freq = freq).dropna()\n",
      "/tmp/ipykernel_2801194/1320677068.py:23: FutureWarning: The default fill_method='pad' in Series.pct_change is deprecated and will be removed in a future version. Either fill in any non-leading NA values prior to calling pct_change or specify 'fill_method=None' to not fill NA values.\n",
      "  pc_m = tmp_df[ticker].pct_change(periods = 1, freq = freq).dropna()\n",
      "/tmp/ipykernel_2801194/1320677068.py:23: FutureWarning: The default fill_method='pad' in Series.pct_change is deprecated and will be removed in a future version. Either fill in any non-leading NA values prior to calling pct_change or specify 'fill_method=None' to not fill NA values.\n",
      "  pc_m = tmp_df[ticker].pct_change(periods = 1, freq = freq).dropna()\n",
      "/tmp/ipykernel_2801194/1320677068.py:23: FutureWarning: The default fill_method='pad' in Series.pct_change is deprecated and will be removed in a future version. Either fill in any non-leading NA values prior to calling pct_change or specify 'fill_method=None' to not fill NA values.\n",
      "  pc_m = tmp_df[ticker].pct_change(periods = 1, freq = freq).dropna()\n",
      "/tmp/ipykernel_2801194/1320677068.py:23: FutureWarning: The default fill_method='pad' in Series.pct_change is deprecated and will be removed in a future version. Either fill in any non-leading NA values prior to calling pct_change or specify 'fill_method=None' to not fill NA values.\n",
      "  pc_m = tmp_df[ticker].pct_change(periods = 1, freq = freq).dropna()\n",
      "/tmp/ipykernel_2801194/1320677068.py:23: FutureWarning: The default fill_method='pad' in Series.pct_change is deprecated and will be removed in a future version. Either fill in any non-leading NA values prior to calling pct_change or specify 'fill_method=None' to not fill NA values.\n",
      "  pc_m = tmp_df[ticker].pct_change(periods = 1, freq = freq).dropna()\n",
      " 58%|█████████████████████████▋                  | 7/12 [00:10<00:07,  1.51s/it]/tmp/ipykernel_2801194/1320677068.py:23: FutureWarning: The default fill_method='pad' in Series.pct_change is deprecated and will be removed in a future version. Either fill in any non-leading NA values prior to calling pct_change or specify 'fill_method=None' to not fill NA values.\n",
      "  pc_m = tmp_df[ticker].pct_change(periods = 1, freq = freq).dropna()\n"
     ]
    },
    {
     "name": "stdout",
     "output_type": "stream",
     "text": [
      "year {'stocks_dict': ['MNST', 'PHM', 'DHI', 'TXN', 'CLX', 'MCO', 'GNRC', 'ITW', 'CNC', 'APH', 'GPN', 'MAR', 'WMT', 'LEN', 'MU', 'XYL', 'FDX', 'KLAC', 'TROW', 'CHRW', 'ADI', 'DIS', 'CNP', 'GIS', 'EG', 'HON', 'YUM', 'BKNG', 'SWK', 'MHK', 'DAL', 'COO', 'USB', 'WDC', 'BLDR', 'STE', 'HWM', 'ALL', 'SPG', 'PLD', 'ROK', 'PAYC', 'EL', 'TRMB', 'ILMN', 'PAYX', 'TEL', 'ISRG', 'FITB', 'LKQ', 'AVY', 'AMAT', 'RCL', 'EMN', 'BR', 'MA', 'LOW', 'BIO', 'DRI', 'MO', 'TER', 'UPS', 'DLR', 'HII', 'SCHW', 'JBL', 'DOV', 'META', 'MTD', 'MKC', 'AMZN', 'CCI', 'VTR', 'WELL', 'V', 'PGR', 'PM', 'HSY', 'PPG', 'IDXX', 'AMGN', 'TDG', 'PSX', 'PANW', 'COST', 'COF', 'PH', 'AME', 'TRV', 'EW', 'MPWR', 'NFLX', 'JPM', 'AAL', 'PYPL', 'CAT', 'IFF', 'UHS', 'MCHP', 'WFC', 'POOL', 'TTWO', 'ABBV', 'PKG', 'UAL', 'KDP', 'WST', 'HUBB', 'SYK', 'EIX', 'HBAN', 'ORCL', 'NVDA', 'AVB', 'TMO', 'RSG', 'VRTX', 'GPC', 'FRT', 'PNC'], 'groups': {0: ['MNST', 'PHM', 'DHI', 'TXN', 'CLX'], 5: ['MCO', 'GNRC', 'ITW', 'CNC', 'APH'], 10: ['GPN', 'MAR', 'WMT', 'LEN', 'MU'], 15: ['XYL', 'FDX', 'KLAC', 'TROW', 'CHRW'], 20: ['ADI', 'DIS', 'CNP', 'GIS', 'EG'], 25: ['HON', 'YUM', 'BKNG', 'SWK', 'MHK'], 30: ['DAL', 'COO', 'USB', 'WDC', 'BLDR'], 35: ['STE', 'HWM', 'ALL', 'SPG', 'PLD'], 40: ['ROK', 'PAYC', 'EL', 'TRMB', 'ILMN'], 45: ['PAYX', 'TEL', 'ISRG', 'FITB', 'LKQ'], 50: ['AVY', 'AMAT', 'RCL', 'EMN', 'BR'], 55: ['MA', 'LOW', 'BIO', 'DRI', 'MO'], 60: ['TER', 'UPS', 'DLR', 'HII', 'SCHW'], 65: ['JBL', 'DOV', 'META', 'MTD', 'MKC'], 70: ['AMZN', 'CCI', 'VTR', 'WELL', 'V'], 75: ['PGR', 'PM', 'HSY', 'PPG', 'IDXX'], 80: ['AMGN', 'TDG', 'PSX', 'PANW', 'COST'], 85: ['COF', 'PH', 'AME', 'TRV', 'EW'], 90: ['MPWR', 'NFLX', 'JPM', 'AAL', 'PYPL'], 95: ['CAT', 'IFF', 'UHS', 'MCHP', 'WFC'], 100: ['POOL', 'TTWO', 'ABBV', 'PKG', 'UAL'], 105: ['KDP', 'WST', 'HUBB', 'SYK', 'EIX'], 110: ['HBAN', 'ORCL', 'NVDA', 'AVB', 'TMO'], 115: ['RSG', 'VRTX', 'GPC', 'FRT', 'PNC']}}\n"
     ]
    },
    {
     "name": "stderr",
     "output_type": "stream",
     "text": [
      "/tmp/ipykernel_2801194/1320677068.py:23: FutureWarning: The default fill_method='pad' in Series.pct_change is deprecated and will be removed in a future version. Either fill in any non-leading NA values prior to calling pct_change or specify 'fill_method=None' to not fill NA values.\n",
      "  pc_m = tmp_df[ticker].pct_change(periods = 1, freq = freq).dropna()\n",
      "/tmp/ipykernel_2801194/1320677068.py:23: FutureWarning: The default fill_method='pad' in Series.pct_change is deprecated and will be removed in a future version. Either fill in any non-leading NA values prior to calling pct_change or specify 'fill_method=None' to not fill NA values.\n",
      "  pc_m = tmp_df[ticker].pct_change(periods = 1, freq = freq).dropna()\n",
      "/tmp/ipykernel_2801194/1320677068.py:23: FutureWarning: The default fill_method='pad' in Series.pct_change is deprecated and will be removed in a future version. Either fill in any non-leading NA values prior to calling pct_change or specify 'fill_method=None' to not fill NA values.\n",
      "  pc_m = tmp_df[ticker].pct_change(periods = 1, freq = freq).dropna()\n",
      "/tmp/ipykernel_2801194/1320677068.py:23: FutureWarning: The default fill_method='pad' in Series.pct_change is deprecated and will be removed in a future version. Either fill in any non-leading NA values prior to calling pct_change or specify 'fill_method=None' to not fill NA values.\n",
      "  pc_m = tmp_df[ticker].pct_change(periods = 1, freq = freq).dropna()\n",
      "/tmp/ipykernel_2801194/1320677068.py:23: FutureWarning: The default fill_method='pad' in Series.pct_change is deprecated and will be removed in a future version. Either fill in any non-leading NA values prior to calling pct_change or specify 'fill_method=None' to not fill NA values.\n",
      "  pc_m = tmp_df[ticker].pct_change(periods = 1, freq = freq).dropna()\n",
      "/tmp/ipykernel_2801194/1320677068.py:23: FutureWarning: The default fill_method='pad' in Series.pct_change is deprecated and will be removed in a future version. Either fill in any non-leading NA values prior to calling pct_change or specify 'fill_method=None' to not fill NA values.\n",
      "  pc_m = tmp_df[ticker].pct_change(periods = 1, freq = freq).dropna()\n",
      "/tmp/ipykernel_2801194/1320677068.py:23: FutureWarning: The default fill_method='pad' in Series.pct_change is deprecated and will be removed in a future version. Either fill in any non-leading NA values prior to calling pct_change or specify 'fill_method=None' to not fill NA values.\n",
      "  pc_m = tmp_df[ticker].pct_change(periods = 1, freq = freq).dropna()\n",
      "/tmp/ipykernel_2801194/1320677068.py:23: FutureWarning: The default fill_method='pad' in Series.pct_change is deprecated and will be removed in a future version. Either fill in any non-leading NA values prior to calling pct_change or specify 'fill_method=None' to not fill NA values.\n",
      "  pc_m = tmp_df[ticker].pct_change(periods = 1, freq = freq).dropna()\n",
      "/tmp/ipykernel_2801194/1320677068.py:23: FutureWarning: The default fill_method='pad' in Series.pct_change is deprecated and will be removed in a future version. Either fill in any non-leading NA values prior to calling pct_change or specify 'fill_method=None' to not fill NA values.\n",
      "  pc_m = tmp_df[ticker].pct_change(periods = 1, freq = freq).dropna()\n",
      "/tmp/ipykernel_2801194/1320677068.py:23: FutureWarning: The default fill_method='pad' in Series.pct_change is deprecated and will be removed in a future version. Either fill in any non-leading NA values prior to calling pct_change or specify 'fill_method=None' to not fill NA values.\n",
      "  pc_m = tmp_df[ticker].pct_change(periods = 1, freq = freq).dropna()\n",
      "/tmp/ipykernel_2801194/1320677068.py:23: FutureWarning: The default fill_method='pad' in Series.pct_change is deprecated and will be removed in a future version. Either fill in any non-leading NA values prior to calling pct_change or specify 'fill_method=None' to not fill NA values.\n",
      "  pc_m = tmp_df[ticker].pct_change(periods = 1, freq = freq).dropna()\n",
      "/tmp/ipykernel_2801194/1320677068.py:23: FutureWarning: The default fill_method='pad' in Series.pct_change is deprecated and will be removed in a future version. Either fill in any non-leading NA values prior to calling pct_change or specify 'fill_method=None' to not fill NA values.\n",
      "  pc_m = tmp_df[ticker].pct_change(periods = 1, freq = freq).dropna()\n",
      "/tmp/ipykernel_2801194/1320677068.py:23: FutureWarning: The default fill_method='pad' in Series.pct_change is deprecated and will be removed in a future version. Either fill in any non-leading NA values prior to calling pct_change or specify 'fill_method=None' to not fill NA values.\n",
      "  pc_m = tmp_df[ticker].pct_change(periods = 1, freq = freq).dropna()\n",
      " 67%|█████████████████████████████▎              | 8/12 [00:12<00:06,  1.50s/it]/tmp/ipykernel_2801194/1320677068.py:23: FutureWarning: The default fill_method='pad' in Series.pct_change is deprecated and will be removed in a future version. Either fill in any non-leading NA values prior to calling pct_change or specify 'fill_method=None' to not fill NA values.\n",
      "  pc_m = tmp_df[ticker].pct_change(periods = 1, freq = freq).dropna()\n"
     ]
    },
    {
     "name": "stdout",
     "output_type": "stream",
     "text": [
      "year {'stocks_dict': ['REGN', 'UAL', 'TEL', 'STE', 'HUM', 'IT', 'STX', 'PEG', 'MCD', 'UNP', 'NDAQ', 'POOL', 'BA', 'ANSS', 'CLX', 'DHR', 'AAL', 'MTB', 'SBAC', 'HIG', 'TROW', 'SNA', 'LKQ', 'MAA', 'MNST', 'CBRE', 'TFC', 'AMCR', 'TMO', 'HBAN', 'TRMB', 'FITB', 'SCHW', 'RMD', 'AXP', 'PLD', 'NOW', 'YUM', 'EMN', 'EFX', 'FDS', 'DIS', 'SPG', 'PAYX', 'INTC', 'PYPL', 'EIX', 'IPG', 'NSC', 'LOW', 'LULU', 'CE', 'GRMN', 'LLY', 'INTU', 'PXD', 'ZBRA', 'NFLX', 'COST', 'RCL', 'RVTY', 'TSLA', 'FE', 'HUBB', 'ALGN', 'AVB', 'MKC', 'PH', 'MCHP', 'CMI', 'JBL', 'MSCI', 'PAYC', 'EQR', 'SO', 'VRSN', 'JBHT', 'BIO', 'ISRG', 'PSA', 'DXCM', 'GPN', 'AVY', 'IFF', 'DLR', 'OKE', 'DRI', 'ABBV', 'DAL', 'GPC', 'KEYS', 'TT', 'MCO', 'WELL', 'APD', 'PPG', 'SPGI', 'CHTR', 'PODD', 'JNJ', 'ANET', 'CMCSA', 'EL', 'UDR', 'CAT', 'DOV', 'FICO', 'IQV', 'BKNG', 'TER', 'ORCL', 'BRO', 'LUV', 'FFIV', 'KMB', 'AAPL', 'ITW', 'FIS', 'AMAT', 'WAT'], 'groups': {0: ['REGN', 'UAL', 'TEL', 'STE', 'HUM'], 5: ['IT', 'STX', 'PEG', 'MCD', 'UNP'], 10: ['NDAQ', 'POOL', 'BA', 'ANSS', 'CLX'], 15: ['DHR', 'AAL', 'MTB', 'SBAC', 'HIG'], 20: ['TROW', 'SNA', 'LKQ', 'MAA', 'MNST'], 25: ['CBRE', 'TFC', 'AMCR', 'TMO', 'HBAN'], 30: ['TRMB', 'FITB', 'SCHW', 'RMD', 'AXP'], 35: ['PLD', 'NOW', 'YUM', 'EMN', 'EFX'], 40: ['FDS', 'DIS', 'SPG', 'PAYX', 'INTC'], 45: ['PYPL', 'EIX', 'IPG', 'NSC', 'LOW'], 50: ['LULU', 'CE', 'GRMN', 'LLY', 'INTU'], 55: ['PXD', 'ZBRA', 'NFLX', 'COST', 'RCL'], 60: ['RVTY', 'TSLA', 'FE', 'HUBB', 'ALGN'], 65: ['AVB', 'MKC', 'PH', 'MCHP', 'CMI'], 70: ['JBL', 'MSCI', 'PAYC', 'EQR', 'SO'], 75: ['VRSN', 'JBHT', 'BIO', 'ISRG', 'PSA'], 80: ['DXCM', 'GPN', 'AVY', 'IFF', 'DLR'], 85: ['OKE', 'DRI', 'ABBV', 'DAL', 'GPC'], 90: ['KEYS', 'TT', 'MCO', 'WELL', 'APD'], 95: ['PPG', 'SPGI', 'CHTR', 'PODD', 'JNJ'], 100: ['ANET', 'CMCSA', 'EL', 'UDR', 'CAT'], 105: ['DOV', 'FICO', 'IQV', 'BKNG', 'TER'], 110: ['ORCL', 'BRO', 'LUV', 'FFIV', 'KMB'], 115: ['AAPL', 'ITW', 'FIS', 'AMAT', 'WAT']}}\n"
     ]
    },
    {
     "name": "stderr",
     "output_type": "stream",
     "text": [
      "/tmp/ipykernel_2801194/1320677068.py:23: FutureWarning: The default fill_method='pad' in Series.pct_change is deprecated and will be removed in a future version. Either fill in any non-leading NA values prior to calling pct_change or specify 'fill_method=None' to not fill NA values.\n",
      "  pc_m = tmp_df[ticker].pct_change(periods = 1, freq = freq).dropna()\n",
      "/tmp/ipykernel_2801194/1320677068.py:23: FutureWarning: The default fill_method='pad' in Series.pct_change is deprecated and will be removed in a future version. Either fill in any non-leading NA values prior to calling pct_change or specify 'fill_method=None' to not fill NA values.\n",
      "  pc_m = tmp_df[ticker].pct_change(periods = 1, freq = freq).dropna()\n",
      "/tmp/ipykernel_2801194/1320677068.py:23: FutureWarning: The default fill_method='pad' in Series.pct_change is deprecated and will be removed in a future version. Either fill in any non-leading NA values prior to calling pct_change or specify 'fill_method=None' to not fill NA values.\n",
      "  pc_m = tmp_df[ticker].pct_change(periods = 1, freq = freq).dropna()\n",
      "/tmp/ipykernel_2801194/1320677068.py:23: FutureWarning: The default fill_method='pad' in Series.pct_change is deprecated and will be removed in a future version. Either fill in any non-leading NA values prior to calling pct_change or specify 'fill_method=None' to not fill NA values.\n",
      "  pc_m = tmp_df[ticker].pct_change(periods = 1, freq = freq).dropna()\n",
      "/tmp/ipykernel_2801194/1320677068.py:23: FutureWarning: The default fill_method='pad' in Series.pct_change is deprecated and will be removed in a future version. Either fill in any non-leading NA values prior to calling pct_change or specify 'fill_method=None' to not fill NA values.\n",
      "  pc_m = tmp_df[ticker].pct_change(periods = 1, freq = freq).dropna()\n",
      "/tmp/ipykernel_2801194/1320677068.py:23: FutureWarning: The default fill_method='pad' in Series.pct_change is deprecated and will be removed in a future version. Either fill in any non-leading NA values prior to calling pct_change or specify 'fill_method=None' to not fill NA values.\n",
      "  pc_m = tmp_df[ticker].pct_change(periods = 1, freq = freq).dropna()\n",
      "/tmp/ipykernel_2801194/1320677068.py:23: FutureWarning: The default fill_method='pad' in Series.pct_change is deprecated and will be removed in a future version. Either fill in any non-leading NA values prior to calling pct_change or specify 'fill_method=None' to not fill NA values.\n",
      "  pc_m = tmp_df[ticker].pct_change(periods = 1, freq = freq).dropna()\n",
      "/tmp/ipykernel_2801194/1320677068.py:23: FutureWarning: The default fill_method='pad' in Series.pct_change is deprecated and will be removed in a future version. Either fill in any non-leading NA values prior to calling pct_change or specify 'fill_method=None' to not fill NA values.\n",
      "  pc_m = tmp_df[ticker].pct_change(periods = 1, freq = freq).dropna()\n",
      " 75%|█████████████████████████████████           | 9/12 [00:13<00:04,  1.50s/it]"
     ]
    },
    {
     "name": "stdout",
     "output_type": "stream",
     "text": [
      "year {'stocks_dict': ['EPAM', 'CAT', 'CMCSA', 'CDAY', 'ADP', 'LLY', 'PNC', 'TSLA', 'AAPL', 'PANW', 'MCHP', 'KDP', 'CMG', 'TT', 'EA', 'FITB', 'CME', 'BALL', 'SNA', 'HUBB', 'CI', 'BA', 'INVH', 'NXPI', 'YUM', 'ZTS', 'ABBV', 'FLT', 'LYB', 'MOH', 'INTC', 'DG', 'PKG', 'AMZN', 'RMD', 'REGN', 'BIO', 'PWR', 'JBHT', 'DLTR', 'FE', 'PSA', 'ALGN', 'LYV', 'FIS', 'META', 'UNP', 'TSCO', 'PSX', 'ABT', 'AXP', 'APD', 'ICE', 'MPWR', 'AMAT', 'JBL', 'SBAC', 'MAR', 'SWKS', 'UDR', 'TECH', 'CCI', 'MSFT', 'NDSN', 'NVDA', 'NFLX', 'VLO', 'ZBRA', 'MTB', 'ORCL', 'HBAN', 'WTW', 'MKC', 'BDX', 'DHR', 'AVY', 'HSY', 'AOS', 'CSX', 'AKAM', 'STE', 'OKE', 'EL', 'PODD', 'CPT', 'PPG', 'KEYS', 'PLD', 'CBOE', 'ANSS', 'LKQ', 'SYK', 'BKNG', 'TFC', 'ETSY', 'WELL', 'GPC', 'COST', 'ETR', 'TEL', 'ADI', 'EQIX', 'CHD', 'FDS', 'PH', 'ALLE', 'ADBE', 'KMB', 'INTU', 'ITW', 'TER', 'LHX', 'DOV', 'MCD', 'MSCI', 'AMCR', 'IT', 'NSC', 'FICO', 'RCL'], 'groups': {0: ['EPAM', 'CAT', 'CMCSA', 'CDAY', 'ADP'], 5: ['LLY', 'PNC', 'TSLA', 'AAPL', 'PANW'], 10: ['MCHP', 'KDP', 'CMG', 'TT', 'EA'], 15: ['FITB', 'CME', 'BALL', 'SNA', 'HUBB'], 20: ['CI', 'BA', 'INVH', 'NXPI', 'YUM'], 25: ['ZTS', 'ABBV', 'FLT', 'LYB', 'MOH'], 30: ['INTC', 'DG', 'PKG', 'AMZN', 'RMD'], 35: ['REGN', 'BIO', 'PWR', 'JBHT', 'DLTR'], 40: ['FE', 'PSA', 'ALGN', 'LYV', 'FIS'], 45: ['META', 'UNP', 'TSCO', 'PSX', 'ABT'], 50: ['AXP', 'APD', 'ICE', 'MPWR', 'AMAT'], 55: ['JBL', 'SBAC', 'MAR', 'SWKS', 'UDR'], 60: ['TECH', 'CCI', 'MSFT', 'NDSN', 'NVDA'], 65: ['NFLX', 'VLO', 'ZBRA', 'MTB', 'ORCL'], 70: ['HBAN', 'WTW', 'MKC', 'BDX', 'DHR'], 75: ['AVY', 'HSY', 'AOS', 'CSX', 'AKAM'], 80: ['STE', 'OKE', 'EL', 'PODD', 'CPT'], 85: ['PPG', 'KEYS', 'PLD', 'CBOE', 'ANSS'], 90: ['LKQ', 'SYK', 'BKNG', 'TFC', 'ETSY'], 95: ['WELL', 'GPC', 'COST', 'ETR', 'TEL'], 100: ['ADI', 'EQIX', 'CHD', 'FDS', 'PH'], 105: ['ALLE', 'ADBE', 'KMB', 'INTU', 'ITW'], 110: ['TER', 'LHX', 'DOV', 'MCD', 'MSCI'], 115: ['AMCR', 'IT', 'NSC', 'FICO', 'RCL']}}\n"
     ]
    },
    {
     "name": "stderr",
     "output_type": "stream",
     "text": [
      "/tmp/ipykernel_2801194/1320677068.py:23: FutureWarning: The default fill_method='pad' in Series.pct_change is deprecated and will be removed in a future version. Either fill in any non-leading NA values prior to calling pct_change or specify 'fill_method=None' to not fill NA values.\n",
      "  pc_m = tmp_df[ticker].pct_change(periods = 1, freq = freq).dropna()\n",
      "/tmp/ipykernel_2801194/1320677068.py:23: FutureWarning: The default fill_method='pad' in Series.pct_change is deprecated and will be removed in a future version. Either fill in any non-leading NA values prior to calling pct_change or specify 'fill_method=None' to not fill NA values.\n",
      "  pc_m = tmp_df[ticker].pct_change(periods = 1, freq = freq).dropna()\n",
      "/tmp/ipykernel_2801194/1320677068.py:23: FutureWarning: The default fill_method='pad' in Series.pct_change is deprecated and will be removed in a future version. Either fill in any non-leading NA values prior to calling pct_change or specify 'fill_method=None' to not fill NA values.\n",
      "  pc_m = tmp_df[ticker].pct_change(periods = 1, freq = freq).dropna()\n",
      "/tmp/ipykernel_2801194/1320677068.py:23: FutureWarning: The default fill_method='pad' in Series.pct_change is deprecated and will be removed in a future version. Either fill in any non-leading NA values prior to calling pct_change or specify 'fill_method=None' to not fill NA values.\n",
      "  pc_m = tmp_df[ticker].pct_change(periods = 1, freq = freq).dropna()\n",
      "/tmp/ipykernel_2801194/1320677068.py:23: FutureWarning: The default fill_method='pad' in Series.pct_change is deprecated and will be removed in a future version. Either fill in any non-leading NA values prior to calling pct_change or specify 'fill_method=None' to not fill NA values.\n",
      "  pc_m = tmp_df[ticker].pct_change(periods = 1, freq = freq).dropna()\n",
      "/tmp/ipykernel_2801194/1320677068.py:23: FutureWarning: The default fill_method='pad' in Series.pct_change is deprecated and will be removed in a future version. Either fill in any non-leading NA values prior to calling pct_change or specify 'fill_method=None' to not fill NA values.\n",
      "  pc_m = tmp_df[ticker].pct_change(periods = 1, freq = freq).dropna()\n",
      " 83%|███████████████████████████████████▊       | 10/12 [00:15<00:03,  1.50s/it]"
     ]
    },
    {
     "name": "stdout",
     "output_type": "stream",
     "text": [
      "year {'stocks_dict': ['STX', 'FDS', 'DHI', 'INTC', 'ICE', 'EVRG', 'UNP', 'NFLX', 'ROK', 'APH', 'JNJ', 'DXCM', 'CRM', 'VFC', 'COO', 'ADSK', 'D', 'MTCH', 'NDSN', 'PG', 'KEYS', 'PKG', 'CTVA', 'ZTS', 'ES', 'TDG', 'TROW', 'ITW', 'ED', 'GWW', 'DOV', 'XYL', 'AMAT', 'MCHP', 'PHM', 'DUK', 'MCD', 'PEG', 'MKC', 'AME', 'AXON', 'ENPH', 'KDP', 'PLD', 'JBL', 'EA', 'TFX', 'ARE', 'ADI', 'DRI', 'MTD', 'HUBB', 'CNP', 'BALL', 'HPE', 'GL', 'IT', 'FTV', 'DFS', 'NXPI', 'DG', 'MDT', 'SCHW', 'NVR', 'GRMN', 'TT', 'HSY', 'EL', 'IQV', 'TEL', 'AXP', 'CCI', 'CLX', 'QRVO', 'BLK', 'CSCO', 'LHX', 'ZBRA', 'CBOE', 'AOS', 'JBHT', 'AZO', 'FLT', 'LW', 'RMD', 'CMG', 'CTLT', 'SNA', 'ROST', 'EFX', 'ULTA', 'ALGN', 'CMCSA', 'PH', 'WMT', 'CME', 'ADP', 'MOH', 'ABBV', 'ISRG', 'AMCR', 'HUM', 'CSX', 'META', 'FIS', 'DLR', 'REGN', 'HAS', 'BLDR', 'SWKS', 'TSCO', 'BIO', 'BDX', 'CI', 'PEP', 'JKHY', 'KMB', 'UPS', 'AVY', 'SO'], 'groups': {0: ['STX', 'FDS', 'DHI', 'INTC', 'ICE'], 5: ['EVRG', 'UNP', 'NFLX', 'ROK', 'APH'], 10: ['JNJ', 'DXCM', 'CRM', 'VFC', 'COO'], 15: ['ADSK', 'D', 'MTCH', 'NDSN', 'PG'], 20: ['KEYS', 'PKG', 'CTVA', 'ZTS', 'ES'], 25: ['TDG', 'TROW', 'ITW', 'ED', 'GWW'], 30: ['DOV', 'XYL', 'AMAT', 'MCHP', 'PHM'], 35: ['DUK', 'MCD', 'PEG', 'MKC', 'AME'], 40: ['AXON', 'ENPH', 'KDP', 'PLD', 'JBL'], 45: ['EA', 'TFX', 'ARE', 'ADI', 'DRI'], 50: ['MTD', 'HUBB', 'CNP', 'BALL', 'HPE'], 55: ['GL', 'IT', 'FTV', 'DFS', 'NXPI'], 60: ['DG', 'MDT', 'SCHW', 'NVR', 'GRMN'], 65: ['TT', 'HSY', 'EL', 'IQV', 'TEL'], 70: ['AXP', 'CCI', 'CLX', 'QRVO', 'BLK'], 75: ['CSCO', 'LHX', 'ZBRA', 'CBOE', 'AOS'], 80: ['JBHT', 'AZO', 'FLT', 'LW', 'RMD'], 85: ['CMG', 'CTLT', 'SNA', 'ROST', 'EFX'], 90: ['ULTA', 'ALGN', 'CMCSA', 'PH', 'WMT'], 95: ['CME', 'ADP', 'MOH', 'ABBV', 'ISRG'], 100: ['AMCR', 'HUM', 'CSX', 'META', 'FIS'], 105: ['DLR', 'REGN', 'HAS', 'BLDR', 'SWKS'], 110: ['TSCO', 'BIO', 'BDX', 'CI', 'PEP'], 115: ['JKHY', 'KMB', 'UPS', 'AVY', 'SO']}}\n"
     ]
    },
    {
     "name": "stderr",
     "output_type": "stream",
     "text": [
      "/tmp/ipykernel_2801194/1320677068.py:23: FutureWarning: The default fill_method='pad' in Series.pct_change is deprecated and will be removed in a future version. Either fill in any non-leading NA values prior to calling pct_change or specify 'fill_method=None' to not fill NA values.\n",
      "  pc_m = tmp_df[ticker].pct_change(periods = 1, freq = freq).dropna()\n",
      "/tmp/ipykernel_2801194/1320677068.py:23: FutureWarning: The default fill_method='pad' in Series.pct_change is deprecated and will be removed in a future version. Either fill in any non-leading NA values prior to calling pct_change or specify 'fill_method=None' to not fill NA values.\n",
      "  pc_m = tmp_df[ticker].pct_change(periods = 1, freq = freq).dropna()\n",
      "/tmp/ipykernel_2801194/1320677068.py:23: FutureWarning: The default fill_method='pad' in Series.pct_change is deprecated and will be removed in a future version. Either fill in any non-leading NA values prior to calling pct_change or specify 'fill_method=None' to not fill NA values.\n",
      "  pc_m = tmp_df[ticker].pct_change(periods = 1, freq = freq).dropna()\n",
      "/tmp/ipykernel_2801194/1320677068.py:23: FutureWarning: The default fill_method='pad' in Series.pct_change is deprecated and will be removed in a future version. Either fill in any non-leading NA values prior to calling pct_change or specify 'fill_method=None' to not fill NA values.\n",
      "  pc_m = tmp_df[ticker].pct_change(periods = 1, freq = freq).dropna()\n",
      "/tmp/ipykernel_2801194/1320677068.py:23: FutureWarning: The default fill_method='pad' in Series.pct_change is deprecated and will be removed in a future version. Either fill in any non-leading NA values prior to calling pct_change or specify 'fill_method=None' to not fill NA values.\n",
      "  pc_m = tmp_df[ticker].pct_change(periods = 1, freq = freq).dropna()\n",
      "/tmp/ipykernel_2801194/1320677068.py:23: FutureWarning: The default fill_method='pad' in Series.pct_change is deprecated and will be removed in a future version. Either fill in any non-leading NA values prior to calling pct_change or specify 'fill_method=None' to not fill NA values.\n",
      "  pc_m = tmp_df[ticker].pct_change(periods = 1, freq = freq).dropna()\n",
      " 92%|███████████████████████████████████████▍   | 11/12 [00:16<00:01,  1.49s/it]"
     ]
    },
    {
     "name": "stdout",
     "output_type": "stream",
     "text": [
      "year {'stocks_dict': ['ADP', 'ILMN', 'BIO', 'CPT', 'IQV', 'EG', 'PEG', 'FIS', 'AXON', 'GPN', 'AKAM', 'DUK', 'CTVA', 'IT', 'CHD', 'ELV', 'AMD', 'TJX', 'CSCO', 'ROK', 'ES', 'SYK', 'DXCM', 'INTC', 'GWW', 'ZBRA', 'KDP', 'GOOG', 'AMT', 'GOOGL', 'DAL', 'STZ', 'VRTX', 'CME', 'JNJ', 'NSC', 'CSX', 'RVTY', 'XYL', 'MU', 'TDG', 'COO', 'PKG', 'CMCSA', 'HAS', 'LYV', 'FLT', 'ICE', 'ALGN', 'SO', 'URI', 'JPM', 'MOH', 'BDX', 'DHI', 'DOV', 'SBAC', 'PSA', 'DRI', 'AXP', 'SBUX', 'RJF', 'NDSN', 'BLK', 'UBER', 'META', 'JKHY', 'MS', 'AME', 'APTV', 'D', 'ED', 'UPS', 'MKC', 'HSY', 'AOS', 'ULTA', 'KEYS', 'CDAY', 'MCD', 'AEP', 'HIG', 'EVRG', 'MNST', 'ADI', 'AMCR', 'MSI', 'PHM', 'ALLE', 'NXPI', 'MAA', 'BAC', 'AON', 'CNC', 'RHI', 'JBHT', 'LOW', 'BK', 'ECL', 'KMB', 'PNW', 'UNP', 'AZO', 'PNC', 'FICO', 'ISRG', 'GNRC', 'MTCH', 'FITB', 'AFL', 'BALL', 'LEN', 'GL', 'HON', 'TEL', 'PEP', 'JBL', 'BSX', 'TSCO', 'ANSS'], 'groups': {0: ['ADP', 'ILMN', 'BIO', 'CPT', 'IQV'], 5: ['EG', 'PEG', 'FIS', 'AXON', 'GPN'], 10: ['AKAM', 'DUK', 'CTVA', 'IT', 'CHD'], 15: ['ELV', 'AMD', 'TJX', 'CSCO', 'ROK'], 20: ['ES', 'SYK', 'DXCM', 'INTC', 'GWW'], 25: ['ZBRA', 'KDP', 'GOOG', 'AMT', 'GOOGL'], 30: ['DAL', 'STZ', 'VRTX', 'CME', 'JNJ'], 35: ['NSC', 'CSX', 'RVTY', 'XYL', 'MU'], 40: ['TDG', 'COO', 'PKG', 'CMCSA', 'HAS'], 45: ['LYV', 'FLT', 'ICE', 'ALGN', 'SO'], 50: ['URI', 'JPM', 'MOH', 'BDX', 'DHI'], 55: ['DOV', 'SBAC', 'PSA', 'DRI', 'AXP'], 60: ['SBUX', 'RJF', 'NDSN', 'BLK', 'UBER'], 65: ['META', 'JKHY', 'MS', 'AME', 'APTV'], 70: ['D', 'ED', 'UPS', 'MKC', 'HSY'], 75: ['AOS', 'ULTA', 'KEYS', 'CDAY', 'MCD'], 80: ['AEP', 'HIG', 'EVRG', 'MNST', 'ADI'], 85: ['AMCR', 'MSI', 'PHM', 'ALLE', 'NXPI'], 90: ['MAA', 'BAC', 'AON', 'CNC', 'RHI'], 95: ['JBHT', 'LOW', 'BK', 'ECL', 'KMB'], 100: ['PNW', 'UNP', 'AZO', 'PNC', 'FICO'], 105: ['ISRG', 'GNRC', 'MTCH', 'FITB', 'AFL'], 110: ['BALL', 'LEN', 'GL', 'HON', 'TEL'], 115: ['PEP', 'JBL', 'BSX', 'TSCO', 'ANSS']}}\n"
     ]
    },
    {
     "name": "stderr",
     "output_type": "stream",
     "text": [
      "/tmp/ipykernel_2801194/1320677068.py:23: FutureWarning: The default fill_method='pad' in Series.pct_change is deprecated and will be removed in a future version. Either fill in any non-leading NA values prior to calling pct_change or specify 'fill_method=None' to not fill NA values.\n",
      "  pc_m = tmp_df[ticker].pct_change(periods = 1, freq = freq).dropna()\n",
      "/tmp/ipykernel_2801194/1320677068.py:23: FutureWarning: The default fill_method='pad' in Series.pct_change is deprecated and will be removed in a future version. Either fill in any non-leading NA values prior to calling pct_change or specify 'fill_method=None' to not fill NA values.\n",
      "  pc_m = tmp_df[ticker].pct_change(periods = 1, freq = freq).dropna()\n",
      "/tmp/ipykernel_2801194/1320677068.py:23: FutureWarning: The default fill_method='pad' in Series.pct_change is deprecated and will be removed in a future version. Either fill in any non-leading NA values prior to calling pct_change or specify 'fill_method=None' to not fill NA values.\n",
      "  pc_m = tmp_df[ticker].pct_change(periods = 1, freq = freq).dropna()\n",
      "/tmp/ipykernel_2801194/1320677068.py:23: FutureWarning: The default fill_method='pad' in Series.pct_change is deprecated and will be removed in a future version. Either fill in any non-leading NA values prior to calling pct_change or specify 'fill_method=None' to not fill NA values.\n",
      "  pc_m = tmp_df[ticker].pct_change(periods = 1, freq = freq).dropna()\n",
      "100%|███████████████████████████████████████████| 12/12 [00:18<00:00,  1.51s/it]"
     ]
    },
    {
     "name": "stdout",
     "output_type": "stream",
     "text": [
      "year {'stocks_dict': ['CNP', 'JPM', 'BAC', 'BK', 'STE', 'ULTA', 'A', 'COO', 'POOL', 'INTU', 'TSCO', 'STZ', 'PLD', 'PNC', 'RJF', 'SO', 'MKC', 'JKHY', 'ON', 'AXON', 'DG', 'NTAP', 'MTD', 'TT', 'MRK', 'ETSY', 'CNC', 'RHI', 'AMGN', 'UNP', 'AMD', 'BX', 'AVY', 'SBUX', 'IQV', 'SYY', 'HD', 'GOOGL', 'APD', 'MCHP', 'LW', 'AXP', 'PSA', 'SWKS', 'XYL', 'TJX', 'MAA', 'CBOE', 'COR', 'TYL', 'DHI', 'DRI', 'GWW', 'BLDR', 'ETR', 'APH', 'PFE', 'MS', 'HON', 'AMP', 'UPS', 'CMG', 'FI', 'ISRG', 'PFG', 'HPQ', 'AES', 'URI', 'ADI', 'CI', 'KEYS', 'JBL', 'AMCR', 'AMAT', 'DUK', 'DLTR', 'FITB', 'ACGL', 'PG', 'LOW', 'ES', 'NVR', 'KMB', 'AME', 'LDOS', 'JBHT', 'GIS', 'BLK', 'GPN', 'MOH', 'EQIX', 'BMY', 'DE', 'GOOG', 'DOV', 'ADP', 'PKG', 'ROP', 'BSX', 'EVRG', 'MCD', 'STLD', 'TECH', 'EPAM', 'WST', 'ICE', 'CSX', 'ITW', 'CHD', 'HPE', 'AKAM', 'CRM', 'ORCL', 'HII', 'FANG', 'WMT', 'RMD', 'TRV', 'MU', 'IT'], 'groups': {0: ['CNP', 'JPM', 'BAC', 'BK', 'STE'], 5: ['ULTA', 'A', 'COO', 'POOL', 'INTU'], 10: ['TSCO', 'STZ', 'PLD', 'PNC', 'RJF'], 15: ['SO', 'MKC', 'JKHY', 'ON', 'AXON'], 20: ['DG', 'NTAP', 'MTD', 'TT', 'MRK'], 25: ['ETSY', 'CNC', 'RHI', 'AMGN', 'UNP'], 30: ['AMD', 'BX', 'AVY', 'SBUX', 'IQV'], 35: ['SYY', 'HD', 'GOOGL', 'APD', 'MCHP'], 40: ['LW', 'AXP', 'PSA', 'SWKS', 'XYL'], 45: ['TJX', 'MAA', 'CBOE', 'COR', 'TYL'], 50: ['DHI', 'DRI', 'GWW', 'BLDR', 'ETR'], 55: ['APH', 'PFE', 'MS', 'HON', 'AMP'], 60: ['UPS', 'CMG', 'FI', 'ISRG', 'PFG'], 65: ['HPQ', 'AES', 'URI', 'ADI', 'CI'], 70: ['KEYS', 'JBL', 'AMCR', 'AMAT', 'DUK'], 75: ['DLTR', 'FITB', 'ACGL', 'PG', 'LOW'], 80: ['ES', 'NVR', 'KMB', 'AME', 'LDOS'], 85: ['JBHT', 'GIS', 'BLK', 'GPN', 'MOH'], 90: ['EQIX', 'BMY', 'DE', 'GOOG', 'DOV'], 95: ['ADP', 'PKG', 'ROP', 'BSX', 'EVRG'], 100: ['MCD', 'STLD', 'TECH', 'EPAM', 'WST'], 105: ['ICE', 'CSX', 'ITW', 'CHD', 'HPE'], 110: ['AKAM', 'CRM', 'ORCL', 'HII', 'FANG'], 115: ['WMT', 'RMD', 'TRV', 'MU', 'IT']}}\n"
     ]
    },
    {
     "name": "stderr",
     "output_type": "stream",
     "text": [
      "\n"
     ]
    }
   ],
   "source": [
    "# Create a group of stocks\n",
    "min_stocks = 120\n",
    "max_stocks = 240\n",
    "stock_groups = {}\n",
    "basket_size = 5\n",
    "metric = 'sr' # choose between 'av_ret' or 'sr'\n",
    "\n",
    "for year in tqdm.tqdm(range(2012,2024)):\n",
    "\n",
    "    years_tr = list(range(year - 10, year))\n",
    "    stats_tr = get_stats(df_close_stocks, tickers, years = years_tr)\n",
    "    df_stats_tr = df_and_sort(stats_tr, metric)\n",
    "    tst = df_stats_tr.index[min_stocks:max_stocks].values\n",
    "    stock_groups[year] = create_stock_groups(tst,\n",
    "                                             basket_size,\n",
    "                                             min_stocks)\n",
    "    print(\"year\", stock_groups[year])"
   ]
  },
  {
   "cell_type": "code",
   "execution_count": 23,
   "id": "91fa51d0",
   "metadata": {},
   "outputs": [
    {
     "name": "stderr",
     "output_type": "stream",
     "text": [
      "100%|██████████████████████████████████████████| 12/12 [32:46<00:00, 163.89s/it]\n"
     ]
    }
   ],
   "source": [
    "final_stats = []\n",
    "\n",
    "for year in tqdm.tqdm(range(2012,2024)):\n",
    "    for exploration_rate in np.arange(0.01,0.15,0.01):\n",
    "        for p_alpha in np.arange(0.005,0.15,0.005):\n",
    "            st_year = simulate_year(df_2w, [year], n_sims = N_SIMS,\n",
    "                                    stock_groups = stock_groups[year],\n",
    "                                    exploration_rate = exploration_rate,\n",
    "                                    p_alpha = p_alpha\n",
    "                                   )\n",
    "            tmp_year = {\"year\":year,\"ex_rate\":exploration_rate,\n",
    "                        \"alpha\":p_alpha, \"return\": st_year['mean']}\n",
    "            final_stats.append(tmp_year)"
   ]
  },
  {
   "cell_type": "code",
   "execution_count": 24,
   "id": "59163596",
   "metadata": {},
   "outputs": [],
   "source": [
    "df_res = pd.DataFrame(final_stats)\n",
    "df_groups = df_res.groupby(by=['ex_rate','alpha']).mean()['return'].reset_index()"
   ]
  },
  {
   "cell_type": "code",
   "execution_count": 25,
   "id": "551cc188",
   "metadata": {},
   "outputs": [],
   "source": [
    "dict_perf = {}\n",
    "for year in range(2012,2023):\n",
    "    vals = df_res[df_res['year']==year].sort_values(by = 'return').iloc[-1].to_dict()\n",
    "    dict_perf[year] = vals"
   ]
  },
  {
   "cell_type": "code",
   "execution_count": 26,
   "id": "811cbc22",
   "metadata": {},
   "outputs": [],
   "source": [
    "dict_perf_nxt_y = {}\n",
    "for year in range(2012,2023):\n",
    "    alpha = dict_perf[year]['alpha']\n",
    "    ex_rate = dict_perf[year]['ex_rate']\n",
    "    perf_nxt = df_res[(df_res['year'] == year + 1 ) &\\\n",
    "               (df_res['alpha'] == alpha) &\\\n",
    "               (df_res['ex_rate'] == ex_rate)].iloc[0].to_dict()\n",
    "    dict_perf_nxt_y[year+1] = perf_nxt"
   ]
  },
  {
   "cell_type": "code",
   "execution_count": 27,
   "id": "e272130f",
   "metadata": {},
   "outputs": [
    {
     "data": {
      "text/plain": [
       "{2013: {'year': 2013.0,\n",
       "  'ex_rate': 0.03,\n",
       "  'alpha': 0.14,\n",
       "  'return': 0.30331462661866226},\n",
       " 2014: {'year': 2014.0,\n",
       "  'ex_rate': 0.14,\n",
       "  'alpha': 0.065,\n",
       "  'return': 0.19267268316434408},\n",
       " 2015: {'year': 2015.0,\n",
       "  'ex_rate': 0.14,\n",
       "  'alpha': 0.045,\n",
       "  'return': 0.0670778645664077},\n",
       " 2016: {'year': 2016.0,\n",
       "  'ex_rate': 0.01,\n",
       "  'alpha': 0.14,\n",
       "  'return': 0.24506365464843585},\n",
       " 2017: {'year': 2017.0,\n",
       "  'ex_rate': 0.11,\n",
       "  'alpha': 0.14500000000000002,\n",
       "  'return': 0.2691902230097705},\n",
       " 2018: {'year': 2018.0,\n",
       "  'ex_rate': 0.02,\n",
       "  'alpha': 0.034999999999999996,\n",
       "  'return': -0.08938409002895377},\n",
       " 2019: {'year': 2019.0,\n",
       "  'ex_rate': 0.11,\n",
       "  'alpha': 0.125,\n",
       "  'return': 0.3860522090622979},\n",
       " 2020: {'year': 2020.0,\n",
       "  'ex_rate': 0.02,\n",
       "  'alpha': 0.06,\n",
       "  'return': 0.31807292671710413},\n",
       " 2021: {'year': 2021.0,\n",
       "  'ex_rate': 0.11,\n",
       "  'alpha': 0.14,\n",
       "  'return': 0.2503017768601641},\n",
       " 2022: {'year': 2022.0,\n",
       "  'ex_rate': 0.13,\n",
       "  'alpha': 0.034999999999999996,\n",
       "  'return': -0.10506665877267436},\n",
       " 2023: {'year': 2023.0,\n",
       "  'ex_rate': 0.02,\n",
       "  'alpha': 0.01,\n",
       "  'return': 0.10863046593617347}}"
      ]
     },
     "execution_count": 27,
     "metadata": {},
     "output_type": "execute_result"
    }
   ],
   "source": [
    "dict_perf_nxt_y"
   ]
  },
  {
   "cell_type": "code",
   "execution_count": 33,
   "id": "4c7bad29",
   "metadata": {},
   "outputs": [],
   "source": [
    "perf = pd.DataFrame(dict_perf_nxt_y).T"
   ]
  },
  {
   "cell_type": "code",
   "execution_count": 39,
   "id": "fabf89a8",
   "metadata": {},
   "outputs": [
    {
     "data": {
      "text/plain": [
       "2013    1.303315\n",
       "2014    1.554428\n",
       "2015    1.658695\n",
       "2016    2.065181\n",
       "2017    2.621108\n",
       "2018    2.386823\n",
       "2019    3.308261\n",
       "2020    4.360529\n",
       "2021    5.451977\n",
       "Name: return, dtype: float64"
      ]
     },
     "execution_count": 39,
     "metadata": {},
     "output_type": "execute_result"
    }
   ],
   "source": [
    "(perf[0:-2]['return'] + 1).cumprod()"
   ]
  },
  {
   "cell_type": "code",
   "execution_count": 35,
   "id": "eb1e0be9",
   "metadata": {},
   "outputs": [],
   "source": [
    "com_ret = (perf['return'] + 1).cumprod()\n",
    "com_ret_last = com_ret.iloc[-1]"
   ]
  },
  {
   "cell_type": "code",
   "execution_count": 36,
   "id": "90923146",
   "metadata": {},
   "outputs": [
    {
     "data": {
      "text/plain": [
       "<Axes: >"
      ]
     },
     "execution_count": 36,
     "metadata": {},
     "output_type": "execute_result"
    },
    {
     "data": {
      "image/png": "[encoded data removed]",
      "text/plain": [
       "<Figure size 640x480 with 1 Axes>"
      ]
     },
     "metadata": {},
     "output_type": "display_data"
    }
   ],
   "source": [
    "perf['return'].plot.bar()"
   ]
  },
  {
   "cell_type": "code",
   "execution_count": 37,
   "id": "09c59792",
   "metadata": {},
   "outputs": [
    {
     "name": "stdout",
     "output_type": "stream",
     "text": [
      "Return final year  5.40918125992661\n",
      "Average annual return  1.1658651520455217\n"
     ]
    }
   ],
   "source": [
    "N = 11 # number of years (2013 - 2023)\n",
    "av_a_ret = (com_ret_last)**(1/N)\n",
    "\n",
    "print(\"Return final year \", com_ret_last)\n",
    "print(\"Average annual return \", av_a_ret)"
   ]
  },
  {
   "cell_type": "code",
   "execution_count": null,
   "id": "8092e3fa",
   "metadata": {},
   "outputs": [],
   "source": []
  }
 ],
 "metadata": {
  "kernelspec": {
   "display_name": "envtrading",
   "language": "python",
   "name": "envtrading"
  },
  "language_info": {
   "codemirror_mode": {
    "name": "ipython",
    "version": 3
   },
   "file_extension": ".py",
   "mimetype": "text/x-python",
   "name": "python",
   "nbconvert_exporter": "python",
   "pygments_lexer": "ipython3",
   "version": "3.10.6"
  }
 },
 "nbformat": 4,
 "nbformat_minor": 5
}
