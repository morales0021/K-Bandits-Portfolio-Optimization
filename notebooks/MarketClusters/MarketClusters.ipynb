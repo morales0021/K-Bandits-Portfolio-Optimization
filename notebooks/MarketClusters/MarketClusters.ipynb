{
 "cells": [
  {
   "cell_type": "markdown",
   "id": "fae23bd7",
   "metadata": {},
   "source": [
    "## Get Tickers from SP500\n",
    "\n",
    "We will download the current tickers from SP500 and then download the series data realted with those tickers."
   ]
  },
  {
   "cell_type": "code",
   "execution_count": 2,
   "id": "ce4f18ab",
   "metadata": {},
   "outputs": [
    {
     "name": "stdout",
     "output_type": "stream",
     "text": [
      "  Symbol     Security             GICS Sector               GICS Sub-Industry   \n",
      "0    MMM           3M             Industrials        Industrial Conglomerates  \\\n",
      "1    AOS  A. O. Smith             Industrials               Building Products   \n",
      "2    ABT       Abbott             Health Care           Health Care Equipment   \n",
      "3   ABBV       AbbVie             Health Care                   Biotechnology   \n",
      "4    ACN    Accenture  Information Technology  IT Consulting & Other Services   \n",
      "\n",
      "     Headquarters Location  Date added      CIK      Founded  \n",
      "0    Saint Paul, Minnesota  1957-03-04    66740         1902  \n",
      "1     Milwaukee, Wisconsin  2017-07-26    91142         1916  \n",
      "2  North Chicago, Illinois  1957-03-04     1800         1888  \n",
      "3  North Chicago, Illinois  2012-12-31  1551152  2013 (1888)  \n",
      "4          Dublin, Ireland  2011-07-06  1467373         1989  \n"
     ]
    }
   ],
   "source": [
    "# Import packages\n",
    "import yfinance as yf\n",
    "import pandas as pd\n",
    "import json\n",
    "import pickle\n",
    "\n",
    "\n",
    "# Read and print the stock tickers that make up S&P500\n",
    "df_tickers = pd.read_html(\n",
    "    'https://en.wikipedia.org/wiki/List_of_S%26P_500_companies')[0]\n",
    "print(df_tickers.head())\n",
    "tickers = df_tickers[\"Symbol\"].values"
   ]
  },
  {
   "cell_type": "code",
   "execution_count": 13,
   "id": "b84ec961",
   "metadata": {},
   "outputs": [],
   "source": [
    "tick_dic = {'sp500':list(tickers)}\n",
    "with open('../../../datasharing/tickers.json','w') as file:\n",
    "    json.dump(tick_dic, file)"
   ]
  },
  {
   "cell_type": "markdown",
   "id": "4380cdf0",
   "metadata": {},
   "source": [
    "### Downloading stock data\n",
    "\n",
    "We will download the data from the last 2 years."
   ]
  },
  {
   "cell_type": "code",
   "execution_count": 2,
   "id": "fe6427ee",
   "metadata": {},
   "outputs": [],
   "source": [
    "import tqdm, time"
   ]
  },
  {
   "cell_type": "code",
   "execution_count": 4,
   "id": "525fe5ef",
   "metadata": {},
   "outputs": [],
   "source": [
    "time_download = \"max\"\n",
    "\n",
    "df_hst_tickers = {}\n",
    "exc_tickers = []\n",
    "\n",
    "def append_tickers(tickers, df_hst_tickers, exc_tickers):\n",
    "    \"\"\"\n",
    "    Create a dictionary that contains the dataframes\n",
    "    \"\"\"\n",
    "    for idx,ticker in tqdm.tqdm(enumerate(tickers)):\n",
    "        print(idx)\n",
    "        if idx % 20 == 0:\n",
    "            time.sleep(10)\n",
    "        try:\n",
    "            stock = yf.Ticker(ticker)\n",
    "            hist = stock.history(period=time_download)\n",
    "            df_hst_tickers[ticker] = hist\n",
    "        except Exception as e:\n",
    "            print('Exception raised for ticker')\n",
    "            exc_tickers.append(ticker)\n",
    "            \n",
    "    return df_hst_tickers, exc_tickers"
   ]
  },
  {
   "cell_type": "code",
   "execution_count": 5,
   "id": "ac5231b3",
   "metadata": {
    "scrolled": true
   },
   "outputs": [
    {
     "name": "stderr",
     "output_type": "stream",
     "text": [
      "\r",
      "0it [00:00, ?it/s]"
     ]
    },
    {
     "name": "stdout",
     "output_type": "stream",
     "text": [
      "0\n"
     ]
    },
    {
     "name": "stderr",
     "output_type": "stream",
     "text": [
      "\r",
      "1it [00:10, 10.55s/it]"
     ]
    },
    {
     "name": "stdout",
     "output_type": "stream",
     "text": [
      "1\n"
     ]
    },
    {
     "name": "stderr",
     "output_type": "stream",
     "text": [
      "\r",
      "2it [00:10,  4.55s/it]"
     ]
    },
    {
     "name": "stdout",
     "output_type": "stream",
     "text": [
      "2\n"
     ]
    },
    {
     "name": "stderr",
     "output_type": "stream",
     "text": [
      "4it [00:11,  1.66s/it]"
     ]
    },
    {
     "name": "stdout",
     "output_type": "stream",
     "text": [
      "3\n",
      "4\n"
     ]
    },
    {
     "name": "stderr",
     "output_type": "stream",
     "text": [
      "\r",
      "5it [00:11,  1.15s/it]"
     ]
    },
    {
     "name": "stdout",
     "output_type": "stream",
     "text": [
      "5\n"
     ]
    },
    {
     "name": "stderr",
     "output_type": "stream",
     "text": [
      "\r",
      "6it [00:12,  1.13it/s]"
     ]
    },
    {
     "name": "stdout",
     "output_type": "stream",
     "text": [
      "6\n"
     ]
    },
    {
     "name": "stderr",
     "output_type": "stream",
     "text": [
      "\r",
      "7it [00:12,  1.45it/s]"
     ]
    },
    {
     "name": "stdout",
     "output_type": "stream",
     "text": [
      "7\n"
     ]
    },
    {
     "name": "stderr",
     "output_type": "stream",
     "text": [
      "\r",
      "8it [00:12,  1.78it/s]"
     ]
    },
    {
     "name": "stdout",
     "output_type": "stream",
     "text": [
      "8\n"
     ]
    },
    {
     "name": "stderr",
     "output_type": "stream",
     "text": [
      "\r",
      "9it [00:12,  1.99it/s]"
     ]
    },
    {
     "name": "stdout",
     "output_type": "stream",
     "text": [
      "9\n"
     ]
    },
    {
     "name": "stderr",
     "output_type": "stream",
     "text": [
      "\r",
      "10it [00:13,  2.32it/s]"
     ]
    },
    {
     "name": "stdout",
     "output_type": "stream",
     "text": [
      "10\n"
     ]
    },
    {
     "name": "stderr",
     "output_type": "stream",
     "text": [
      "12it [00:13,  3.05it/s]"
     ]
    },
    {
     "name": "stdout",
     "output_type": "stream",
     "text": [
      "11\n",
      "12\n"
     ]
    },
    {
     "name": "stderr",
     "output_type": "stream",
     "text": [
      "\r",
      "13it [00:13,  3.36it/s]"
     ]
    },
    {
     "name": "stdout",
     "output_type": "stream",
     "text": [
      "13\n"
     ]
    },
    {
     "name": "stderr",
     "output_type": "stream",
     "text": [
      "\r",
      "14it [00:14,  3.35it/s]"
     ]
    },
    {
     "name": "stdout",
     "output_type": "stream",
     "text": [
      "14\n"
     ]
    },
    {
     "name": "stderr",
     "output_type": "stream",
     "text": [
      "\r",
      "15it [00:14,  3.29it/s]"
     ]
    },
    {
     "name": "stdout",
     "output_type": "stream",
     "text": [
      "15\n"
     ]
    },
    {
     "name": "stderr",
     "output_type": "stream",
     "text": [
      "\r",
      "16it [00:14,  3.60it/s]"
     ]
    },
    {
     "name": "stdout",
     "output_type": "stream",
     "text": [
      "16\n"
     ]
    },
    {
     "name": "stderr",
     "output_type": "stream",
     "text": [
      "\r",
      "17it [00:15,  3.90it/s]"
     ]
    },
    {
     "name": "stdout",
     "output_type": "stream",
     "text": [
      "17\n"
     ]
    },
    {
     "name": "stderr",
     "output_type": "stream",
     "text": [
      "\r",
      "18it [00:15,  3.35it/s]"
     ]
    },
    {
     "name": "stdout",
     "output_type": "stream",
     "text": [
      "18\n"
     ]
    },
    {
     "name": "stderr",
     "output_type": "stream",
     "text": [
      "\r",
      "19it [00:15,  3.31it/s]"
     ]
    },
    {
     "name": "stdout",
     "output_type": "stream",
     "text": [
      "19\n"
     ]
    },
    {
     "name": "stderr",
     "output_type": "stream",
     "text": [
      "\r",
      "20it [00:15,  3.59it/s]"
     ]
    },
    {
     "name": "stdout",
     "output_type": "stream",
     "text": [
      "20\n"
     ]
    },
    {
     "name": "stderr",
     "output_type": "stream",
     "text": [
      "\r",
      "21it [00:26,  3.29s/it]"
     ]
    },
    {
     "name": "stdout",
     "output_type": "stream",
     "text": [
      "21\n"
     ]
    },
    {
     "name": "stderr",
     "output_type": "stream",
     "text": [
      "\r",
      "22it [00:26,  2.47s/it]"
     ]
    },
    {
     "name": "stdout",
     "output_type": "stream",
     "text": [
      "22\n"
     ]
    },
    {
     "name": "stderr",
     "output_type": "stream",
     "text": [
      "\r",
      "23it [00:27,  1.81s/it]"
     ]
    },
    {
     "name": "stdout",
     "output_type": "stream",
     "text": [
      "23\n"
     ]
    },
    {
     "name": "stderr",
     "output_type": "stream",
     "text": [
      "\r",
      "24it [00:27,  1.33s/it]"
     ]
    },
    {
     "name": "stdout",
     "output_type": "stream",
     "text": [
      "24\n"
     ]
    },
    {
     "name": "stderr",
     "output_type": "stream",
     "text": [
      "\r",
      "25it [00:27,  1.02s/it]"
     ]
    },
    {
     "name": "stdout",
     "output_type": "stream",
     "text": [
      "25\n"
     ]
    },
    {
     "name": "stderr",
     "output_type": "stream",
     "text": [
      "\r",
      "26it [00:27,  1.28it/s]"
     ]
    },
    {
     "name": "stdout",
     "output_type": "stream",
     "text": [
      "26\n"
     ]
    },
    {
     "name": "stderr",
     "output_type": "stream",
     "text": [
      "\r",
      "27it [00:28,  1.45it/s]"
     ]
    },
    {
     "name": "stdout",
     "output_type": "stream",
     "text": [
      "27\n"
     ]
    },
    {
     "name": "stderr",
     "output_type": "stream",
     "text": [
      "\r",
      "28it [00:28,  1.64it/s]"
     ]
    },
    {
     "name": "stdout",
     "output_type": "stream",
     "text": [
      "28\n"
     ]
    },
    {
     "name": "stderr",
     "output_type": "stream",
     "text": [
      "\r",
      "29it [00:29,  1.84it/s]"
     ]
    },
    {
     "name": "stdout",
     "output_type": "stream",
     "text": [
      "29\n"
     ]
    },
    {
     "name": "stderr",
     "output_type": "stream",
     "text": [
      "\r",
      "30it [00:29,  2.20it/s]"
     ]
    },
    {
     "name": "stdout",
     "output_type": "stream",
     "text": [
      "30\n"
     ]
    },
    {
     "name": "stderr",
     "output_type": "stream",
     "text": [
      "\r",
      "31it [00:29,  2.64it/s]"
     ]
    },
    {
     "name": "stdout",
     "output_type": "stream",
     "text": [
      "31\n"
     ]
    },
    {
     "name": "stderr",
     "output_type": "stream",
     "text": [
      "\r",
      "32it [00:29,  2.98it/s]"
     ]
    },
    {
     "name": "stdout",
     "output_type": "stream",
     "text": [
      "32\n"
     ]
    },
    {
     "name": "stderr",
     "output_type": "stream",
     "text": [
      "\r",
      "33it [00:30,  2.75it/s]"
     ]
    },
    {
     "name": "stdout",
     "output_type": "stream",
     "text": [
      "33\n"
     ]
    },
    {
     "name": "stderr",
     "output_type": "stream",
     "text": [
      "\r",
      "34it [00:30,  2.93it/s]"
     ]
    },
    {
     "name": "stdout",
     "output_type": "stream",
     "text": [
      "34\n"
     ]
    },
    {
     "name": "stderr",
     "output_type": "stream",
     "text": [
      "\r",
      "35it [00:30,  3.07it/s]"
     ]
    },
    {
     "name": "stdout",
     "output_type": "stream",
     "text": [
      "35\n"
     ]
    },
    {
     "name": "stderr",
     "output_type": "stream",
     "text": [
      "\r",
      "36it [00:31,  2.99it/s]"
     ]
    },
    {
     "name": "stdout",
     "output_type": "stream",
     "text": [
      "36\n"
     ]
    },
    {
     "name": "stderr",
     "output_type": "stream",
     "text": [
      "\r",
      "37it [00:31,  3.35it/s]"
     ]
    },
    {
     "name": "stdout",
     "output_type": "stream",
     "text": [
      "37\n"
     ]
    },
    {
     "name": "stderr",
     "output_type": "stream",
     "text": [
      "\r",
      "38it [00:31,  3.17it/s]"
     ]
    },
    {
     "name": "stdout",
     "output_type": "stream",
     "text": [
      "38\n"
     ]
    },
    {
     "name": "stderr",
     "output_type": "stream",
     "text": [
      "\r",
      "39it [00:32,  2.98it/s]"
     ]
    },
    {
     "name": "stdout",
     "output_type": "stream",
     "text": [
      "39\n"
     ]
    },
    {
     "name": "stderr",
     "output_type": "stream",
     "text": [
      "\r",
      "40it [00:32,  2.97it/s]"
     ]
    },
    {
     "name": "stdout",
     "output_type": "stream",
     "text": [
      "40\n"
     ]
    },
    {
     "name": "stderr",
     "output_type": "stream",
     "text": [
      "\r",
      "41it [00:42,  3.35s/it]"
     ]
    },
    {
     "name": "stdout",
     "output_type": "stream",
     "text": [
      "41\n"
     ]
    },
    {
     "name": "stderr",
     "output_type": "stream",
     "text": [
      "\r",
      "42it [00:43,  2.41s/it]"
     ]
    },
    {
     "name": "stdout",
     "output_type": "stream",
     "text": [
      "42\n"
     ]
    },
    {
     "name": "stderr",
     "output_type": "stream",
     "text": [
      "\r",
      "43it [00:43,  1.75s/it]"
     ]
    },
    {
     "name": "stdout",
     "output_type": "stream",
     "text": [
      "43\n"
     ]
    },
    {
     "name": "stderr",
     "output_type": "stream",
     "text": [
      "45it [00:43,  1.00it/s]"
     ]
    },
    {
     "name": "stdout",
     "output_type": "stream",
     "text": [
      "44\n",
      "45\n"
     ]
    },
    {
     "name": "stderr",
     "output_type": "stream",
     "text": [
      "\r",
      "46it [00:44,  1.25it/s]"
     ]
    },
    {
     "name": "stdout",
     "output_type": "stream",
     "text": [
      "46\n"
     ]
    },
    {
     "name": "stderr",
     "output_type": "stream",
     "text": [
      "\r",
      "47it [00:44,  1.58it/s]"
     ]
    },
    {
     "name": "stdout",
     "output_type": "stream",
     "text": [
      "47\n"
     ]
    },
    {
     "name": "stderr",
     "output_type": "stream",
     "text": [
      "\r",
      "48it [00:44,  1.84it/s]"
     ]
    },
    {
     "name": "stdout",
     "output_type": "stream",
     "text": [
      "48\n"
     ]
    },
    {
     "name": "stderr",
     "output_type": "stream",
     "text": [
      "\r",
      "49it [00:45,  2.06it/s]"
     ]
    },
    {
     "name": "stdout",
     "output_type": "stream",
     "text": [
      "49\n"
     ]
    },
    {
     "name": "stderr",
     "output_type": "stream",
     "text": [
      "\r",
      "50it [00:45,  2.33it/s]"
     ]
    },
    {
     "name": "stdout",
     "output_type": "stream",
     "text": [
      "50\n"
     ]
    },
    {
     "name": "stderr",
     "output_type": "stream",
     "text": [
      "\r",
      "51it [00:45,  2.42it/s]"
     ]
    },
    {
     "name": "stdout",
     "output_type": "stream",
     "text": [
      "51\n"
     ]
    },
    {
     "name": "stderr",
     "output_type": "stream",
     "text": [
      "\r",
      "52it [00:46,  2.68it/s]"
     ]
    },
    {
     "name": "stdout",
     "output_type": "stream",
     "text": [
      "52\n"
     ]
    },
    {
     "name": "stderr",
     "output_type": "stream",
     "text": [
      "\r",
      "53it [00:46,  2.90it/s]"
     ]
    },
    {
     "name": "stdout",
     "output_type": "stream",
     "text": [
      "53\n"
     ]
    },
    {
     "name": "stderr",
     "output_type": "stream",
     "text": [
      "\r",
      "54it [00:46,  2.79it/s]"
     ]
    },
    {
     "name": "stdout",
     "output_type": "stream",
     "text": [
      "54\n"
     ]
    },
    {
     "name": "stderr",
     "output_type": "stream",
     "text": [
      "\r",
      "55it [00:46,  3.15it/s]"
     ]
    },
    {
     "name": "stdout",
     "output_type": "stream",
     "text": [
      "55\n"
     ]
    },
    {
     "name": "stderr",
     "output_type": "stream",
     "text": [
      "\r",
      "56it [00:47,  3.08it/s]"
     ]
    },
    {
     "name": "stdout",
     "output_type": "stream",
     "text": [
      "56\n"
     ]
    },
    {
     "name": "stderr",
     "output_type": "stream",
     "text": [
      "\r",
      "57it [00:47,  2.76it/s]"
     ]
    },
    {
     "name": "stdout",
     "output_type": "stream",
     "text": [
      "57\n"
     ]
    },
    {
     "name": "stderr",
     "output_type": "stream",
     "text": [
      "\r",
      "58it [00:48,  2.65it/s]"
     ]
    },
    {
     "name": "stdout",
     "output_type": "stream",
     "text": [
      "58\n"
     ]
    },
    {
     "name": "stderr",
     "output_type": "stream",
     "text": [
      "\r",
      "59it [00:48,  2.65it/s]"
     ]
    },
    {
     "name": "stdout",
     "output_type": "stream",
     "text": [
      "59\n"
     ]
    },
    {
     "name": "stderr",
     "output_type": "stream",
     "text": [
      "\r",
      "60it [00:48,  2.66it/s]"
     ]
    },
    {
     "name": "stdout",
     "output_type": "stream",
     "text": [
      "60\n"
     ]
    },
    {
     "name": "stderr",
     "output_type": "stream",
     "text": [
      "\r",
      "61it [00:59,  3.38s/it]"
     ]
    },
    {
     "name": "stdout",
     "output_type": "stream",
     "text": [
      "61\n"
     ]
    },
    {
     "name": "stderr",
     "output_type": "stream",
     "text": [
      "62it [00:59,  2.51s/it]BRK.B: No timezone found, symbol may be delisted\n"
     ]
    },
    {
     "name": "stdout",
     "output_type": "stream",
     "text": [
      "62\n",
      "63\n"
     ]
    },
    {
     "name": "stderr",
     "output_type": "stream",
     "text": [
      "\r",
      "64it [01:00,  1.44s/it]"
     ]
    },
    {
     "name": "stdout",
     "output_type": "stream",
     "text": [
      "64\n"
     ]
    },
    {
     "name": "stderr",
     "output_type": "stream",
     "text": [
      "\r",
      "65it [01:00,  1.16s/it]"
     ]
    },
    {
     "name": "stdout",
     "output_type": "stream",
     "text": [
      "65\n"
     ]
    },
    {
     "name": "stderr",
     "output_type": "stream",
     "text": [
      "\r",
      "66it [01:00,  1.08it/s]"
     ]
    },
    {
     "name": "stdout",
     "output_type": "stream",
     "text": [
      "66\n"
     ]
    },
    {
     "name": "stderr",
     "output_type": "stream",
     "text": [
      "\r",
      "67it [01:01,  1.35it/s]"
     ]
    },
    {
     "name": "stdout",
     "output_type": "stream",
     "text": [
      "67\n"
     ]
    },
    {
     "name": "stderr",
     "output_type": "stream",
     "text": [
      "\r",
      "68it [01:01,  1.66it/s]"
     ]
    },
    {
     "name": "stdout",
     "output_type": "stream",
     "text": [
      "68\n"
     ]
    },
    {
     "name": "stderr",
     "output_type": "stream",
     "text": [
      "\r",
      "69it [01:01,  2.04it/s]"
     ]
    },
    {
     "name": "stdout",
     "output_type": "stream",
     "text": [
      "69\n"
     ]
    },
    {
     "name": "stderr",
     "output_type": "stream",
     "text": [
      "71it [01:02,  2.51it/s]"
     ]
    },
    {
     "name": "stdout",
     "output_type": "stream",
     "text": [
      "70\n",
      "71\n"
     ]
    },
    {
     "name": "stderr",
     "output_type": "stream",
     "text": [
      "\r",
      "72it [01:02,  2.72it/s]"
     ]
    },
    {
     "name": "stdout",
     "output_type": "stream",
     "text": [
      "72\n"
     ]
    },
    {
     "name": "stderr",
     "output_type": "stream",
     "text": [
      "\r",
      "73it [01:02,  2.94it/s]"
     ]
    },
    {
     "name": "stdout",
     "output_type": "stream",
     "text": [
      "73\n"
     ]
    },
    {
     "name": "stderr",
     "output_type": "stream",
     "text": [
      "\r",
      "74it [01:02,  3.10it/s]"
     ]
    },
    {
     "name": "stdout",
     "output_type": "stream",
     "text": [
      "74\n"
     ]
    },
    {
     "name": "stderr",
     "output_type": "stream",
     "text": [
      "76it [01:03,  3.33it/s]"
     ]
    },
    {
     "name": "stdout",
     "output_type": "stream",
     "text": [
      "75\n",
      "76\n"
     ]
    },
    {
     "name": "stderr",
     "output_type": "stream",
     "text": [
      "\r",
      "77it [01:03,  3.55it/s]"
     ]
    },
    {
     "name": "stdout",
     "output_type": "stream",
     "text": [
      "77\n"
     ]
    },
    {
     "name": "stderr",
     "output_type": "stream",
     "text": [
      "78it [01:04,  3.15it/s]BF.B: No price data found, symbol may be delisted (1d 1925-01-10 -> 2023-12-18)\n"
     ]
    },
    {
     "name": "stdout",
     "output_type": "stream",
     "text": [
      "78\n",
      "79\n"
     ]
    },
    {
     "name": "stderr",
     "output_type": "stream",
     "text": [
      "\r",
      "80it [01:04,  4.26it/s]"
     ]
    },
    {
     "name": "stdout",
     "output_type": "stream",
     "text": [
      "80\n"
     ]
    },
    {
     "name": "stderr",
     "output_type": "stream",
     "text": [
      "\r",
      "81it [01:14,  2.71s/it]"
     ]
    },
    {
     "name": "stdout",
     "output_type": "stream",
     "text": [
      "81\n"
     ]
    },
    {
     "name": "stderr",
     "output_type": "stream",
     "text": [
      "83it [01:15,  1.55s/it]"
     ]
    },
    {
     "name": "stdout",
     "output_type": "stream",
     "text": [
      "82\n",
      "83\n"
     ]
    },
    {
     "name": "stderr",
     "output_type": "stream",
     "text": [
      "\r",
      "84it [01:15,  1.19s/it]"
     ]
    },
    {
     "name": "stdout",
     "output_type": "stream",
     "text": [
      "84\n"
     ]
    },
    {
     "name": "stderr",
     "output_type": "stream",
     "text": [
      "\r",
      "85it [01:15,  1.03it/s]"
     ]
    },
    {
     "name": "stdout",
     "output_type": "stream",
     "text": [
      "85\n"
     ]
    },
    {
     "name": "stderr",
     "output_type": "stream",
     "text": [
      "\r",
      "86it [01:16,  1.30it/s]"
     ]
    },
    {
     "name": "stdout",
     "output_type": "stream",
     "text": [
      "86\n"
     ]
    },
    {
     "name": "stderr",
     "output_type": "stream",
     "text": [
      "\r",
      "87it [01:16,  1.54it/s]"
     ]
    },
    {
     "name": "stdout",
     "output_type": "stream",
     "text": [
      "87\n"
     ]
    },
    {
     "name": "stderr",
     "output_type": "stream",
     "text": [
      "\r",
      "88it [01:16,  1.91it/s]"
     ]
    },
    {
     "name": "stdout",
     "output_type": "stream",
     "text": [
      "88\n"
     ]
    },
    {
     "name": "stderr",
     "output_type": "stream",
     "text": [
      "90it [01:17,  2.71it/s]"
     ]
    },
    {
     "name": "stdout",
     "output_type": "stream",
     "text": [
      "89\n",
      "90\n"
     ]
    },
    {
     "name": "stderr",
     "output_type": "stream",
     "text": [
      "\r",
      "91it [01:17,  3.23it/s]"
     ]
    },
    {
     "name": "stdout",
     "output_type": "stream",
     "text": [
      "91\n"
     ]
    },
    {
     "name": "stderr",
     "output_type": "stream",
     "text": [
      "\r",
      "92it [01:17,  2.73it/s]"
     ]
    },
    {
     "name": "stdout",
     "output_type": "stream",
     "text": [
      "92\n"
     ]
    },
    {
     "name": "stderr",
     "output_type": "stream",
     "text": [
      "\r",
      "93it [01:18,  3.14it/s]"
     ]
    },
    {
     "name": "stdout",
     "output_type": "stream",
     "text": [
      "93\n"
     ]
    },
    {
     "name": "stderr",
     "output_type": "stream",
     "text": [
      "95it [01:18,  3.90it/s]"
     ]
    },
    {
     "name": "stdout",
     "output_type": "stream",
     "text": [
      "94\n",
      "95\n"
     ]
    },
    {
     "name": "stderr",
     "output_type": "stream",
     "text": [
      "\r",
      "96it [01:18,  3.93it/s]"
     ]
    },
    {
     "name": "stdout",
     "output_type": "stream",
     "text": [
      "96\n"
     ]
    },
    {
     "name": "stderr",
     "output_type": "stream",
     "text": [
      "\r",
      "97it [01:18,  3.85it/s]"
     ]
    },
    {
     "name": "stdout",
     "output_type": "stream",
     "text": [
      "97\n"
     ]
    },
    {
     "name": "stderr",
     "output_type": "stream",
     "text": [
      "\r",
      "98it [01:19,  4.12it/s]"
     ]
    },
    {
     "name": "stdout",
     "output_type": "stream",
     "text": [
      "98\n"
     ]
    },
    {
     "name": "stderr",
     "output_type": "stream",
     "text": [
      "100it [01:19,  3.79it/s]"
     ]
    },
    {
     "name": "stdout",
     "output_type": "stream",
     "text": [
      "99\n",
      "100\n"
     ]
    },
    {
     "name": "stderr",
     "output_type": "stream",
     "text": [
      "\r",
      "101it [01:30,  3.28s/it]"
     ]
    },
    {
     "name": "stdout",
     "output_type": "stream",
     "text": [
      "101\n"
     ]
    },
    {
     "name": "stderr",
     "output_type": "stream",
     "text": [
      "103it [01:30,  1.72s/it]"
     ]
    },
    {
     "name": "stdout",
     "output_type": "stream",
     "text": [
      "102\n",
      "103\n"
     ]
    },
    {
     "name": "stderr",
     "output_type": "stream",
     "text": [
      "105it [01:31,  1.04it/s]"
     ]
    },
    {
     "name": "stdout",
     "output_type": "stream",
     "text": [
      "104\n",
      "105\n"
     ]
    },
    {
     "name": "stderr",
     "output_type": "stream",
     "text": [
      "\r",
      "106it [01:31,  1.20it/s]"
     ]
    },
    {
     "name": "stdout",
     "output_type": "stream",
     "text": [
      "106\n"
     ]
    },
    {
     "name": "stderr",
     "output_type": "stream",
     "text": [
      "\r",
      "107it [01:31,  1.55it/s]"
     ]
    },
    {
     "name": "stdout",
     "output_type": "stream",
     "text": [
      "107\n"
     ]
    },
    {
     "name": "stderr",
     "output_type": "stream",
     "text": [
      "\r",
      "108it [01:32,  1.83it/s]"
     ]
    },
    {
     "name": "stdout",
     "output_type": "stream",
     "text": [
      "108\n"
     ]
    },
    {
     "name": "stderr",
     "output_type": "stream",
     "text": [
      "\r",
      "109it [01:32,  2.05it/s]"
     ]
    },
    {
     "name": "stdout",
     "output_type": "stream",
     "text": [
      "109\n"
     ]
    },
    {
     "name": "stderr",
     "output_type": "stream",
     "text": [
      "\r",
      "110it [01:32,  2.26it/s]"
     ]
    },
    {
     "name": "stdout",
     "output_type": "stream",
     "text": [
      "110\n"
     ]
    },
    {
     "name": "stderr",
     "output_type": "stream",
     "text": [
      "\r",
      "111it [01:33,  2.46it/s]"
     ]
    },
    {
     "name": "stdout",
     "output_type": "stream",
     "text": [
      "111\n"
     ]
    },
    {
     "name": "stderr",
     "output_type": "stream",
     "text": [
      "\r",
      "112it [01:33,  2.51it/s]"
     ]
    },
    {
     "name": "stdout",
     "output_type": "stream",
     "text": [
      "112\n"
     ]
    },
    {
     "name": "stderr",
     "output_type": "stream",
     "text": [
      "\r",
      "113it [01:33,  2.74it/s]"
     ]
    },
    {
     "name": "stdout",
     "output_type": "stream",
     "text": [
      "113\n"
     ]
    },
    {
     "name": "stderr",
     "output_type": "stream",
     "text": [
      "115it [01:34,  3.20it/s]"
     ]
    },
    {
     "name": "stdout",
     "output_type": "stream",
     "text": [
      "114\n",
      "115\n"
     ]
    },
    {
     "name": "stderr",
     "output_type": "stream",
     "text": [
      "\r",
      "116it [01:34,  2.98it/s]"
     ]
    },
    {
     "name": "stdout",
     "output_type": "stream",
     "text": [
      "116\n"
     ]
    },
    {
     "name": "stderr",
     "output_type": "stream",
     "text": [
      "\r",
      "117it [01:34,  3.22it/s]"
     ]
    },
    {
     "name": "stdout",
     "output_type": "stream",
     "text": [
      "117\n"
     ]
    },
    {
     "name": "stderr",
     "output_type": "stream",
     "text": [
      "\r",
      "118it [01:35,  3.02it/s]"
     ]
    },
    {
     "name": "stdout",
     "output_type": "stream",
     "text": [
      "118\n"
     ]
    },
    {
     "name": "stderr",
     "output_type": "stream",
     "text": [
      "\r",
      "119it [01:35,  2.61it/s]"
     ]
    },
    {
     "name": "stdout",
     "output_type": "stream",
     "text": [
      "119\n"
     ]
    },
    {
     "name": "stderr",
     "output_type": "stream",
     "text": [
      "\r",
      "120it [01:36,  2.90it/s]"
     ]
    },
    {
     "name": "stdout",
     "output_type": "stream",
     "text": [
      "120\n"
     ]
    },
    {
     "name": "stderr",
     "output_type": "stream",
     "text": [
      "\r",
      "121it [01:46,  3.38s/it]"
     ]
    },
    {
     "name": "stdout",
     "output_type": "stream",
     "text": [
      "121\n"
     ]
    },
    {
     "name": "stderr",
     "output_type": "stream",
     "text": [
      "\r",
      "122it [01:47,  2.49s/it]"
     ]
    },
    {
     "name": "stdout",
     "output_type": "stream",
     "text": [
      "122\n"
     ]
    },
    {
     "name": "stderr",
     "output_type": "stream",
     "text": [
      "\r",
      "123it [01:47,  1.84s/it]"
     ]
    },
    {
     "name": "stdout",
     "output_type": "stream",
     "text": [
      "123\n"
     ]
    },
    {
     "name": "stderr",
     "output_type": "stream",
     "text": [
      "\r",
      "124it [01:47,  1.39s/it]"
     ]
    },
    {
     "name": "stdout",
     "output_type": "stream",
     "text": [
      "124\n"
     ]
    },
    {
     "name": "stderr",
     "output_type": "stream",
     "text": [
      "\r",
      "125it [01:48,  1.09s/it]"
     ]
    },
    {
     "name": "stdout",
     "output_type": "stream",
     "text": [
      "125\n"
     ]
    },
    {
     "name": "stderr",
     "output_type": "stream",
     "text": [
      "\r",
      "126it [01:48,  1.11it/s]"
     ]
    },
    {
     "name": "stdout",
     "output_type": "stream",
     "text": [
      "126\n"
     ]
    },
    {
     "name": "stderr",
     "output_type": "stream",
     "text": [
      "128it [01:48,  1.86it/s]"
     ]
    },
    {
     "name": "stdout",
     "output_type": "stream",
     "text": [
      "127\n",
      "128\n"
     ]
    },
    {
     "name": "stderr",
     "output_type": "stream",
     "text": [
      "\r",
      "129it [01:49,  2.06it/s]"
     ]
    },
    {
     "name": "stdout",
     "output_type": "stream",
     "text": [
      "129\n"
     ]
    },
    {
     "name": "stderr",
     "output_type": "stream",
     "text": [
      "\r",
      "130it [01:49,  2.40it/s]"
     ]
    },
    {
     "name": "stdout",
     "output_type": "stream",
     "text": [
      "130\n"
     ]
    },
    {
     "name": "stderr",
     "output_type": "stream",
     "text": [
      "132it [01:50,  3.01it/s]"
     ]
    },
    {
     "name": "stdout",
     "output_type": "stream",
     "text": [
      "131\n",
      "132\n"
     ]
    },
    {
     "name": "stderr",
     "output_type": "stream",
     "text": [
      "\r",
      "133it [01:50,  3.13it/s]"
     ]
    },
    {
     "name": "stdout",
     "output_type": "stream",
     "text": [
      "133\n"
     ]
    },
    {
     "name": "stderr",
     "output_type": "stream",
     "text": [
      "\r",
      "134it [01:50,  3.22it/s]"
     ]
    },
    {
     "name": "stdout",
     "output_type": "stream",
     "text": [
      "134\n"
     ]
    },
    {
     "name": "stderr",
     "output_type": "stream",
     "text": [
      "\r",
      "135it [01:50,  3.38it/s]"
     ]
    },
    {
     "name": "stdout",
     "output_type": "stream",
     "text": [
      "135\n"
     ]
    },
    {
     "name": "stderr",
     "output_type": "stream",
     "text": [
      "\r",
      "136it [01:51,  3.61it/s]"
     ]
    },
    {
     "name": "stdout",
     "output_type": "stream",
     "text": [
      "136\n"
     ]
    },
    {
     "name": "stderr",
     "output_type": "stream",
     "text": [
      "\r",
      "137it [01:51,  3.30it/s]"
     ]
    },
    {
     "name": "stdout",
     "output_type": "stream",
     "text": [
      "137\n"
     ]
    },
    {
     "name": "stderr",
     "output_type": "stream",
     "text": [
      "\r",
      "138it [01:51,  3.12it/s]"
     ]
    },
    {
     "name": "stdout",
     "output_type": "stream",
     "text": [
      "138\n"
     ]
    },
    {
     "name": "stderr",
     "output_type": "stream",
     "text": [
      "\r",
      "139it [01:52,  2.98it/s]"
     ]
    },
    {
     "name": "stdout",
     "output_type": "stream",
     "text": [
      "139\n"
     ]
    },
    {
     "name": "stderr",
     "output_type": "stream",
     "text": [
      "\r",
      "140it [01:52,  2.85it/s]"
     ]
    },
    {
     "name": "stdout",
     "output_type": "stream",
     "text": [
      "140\n"
     ]
    },
    {
     "name": "stderr",
     "output_type": "stream",
     "text": [
      "\r",
      "141it [02:02,  3.34s/it]"
     ]
    },
    {
     "name": "stdout",
     "output_type": "stream",
     "text": [
      "141\n"
     ]
    },
    {
     "name": "stderr",
     "output_type": "stream",
     "text": [
      "\r",
      "142it [02:03,  2.40s/it]"
     ]
    },
    {
     "name": "stdout",
     "output_type": "stream",
     "text": [
      "142\n"
     ]
    },
    {
     "name": "stderr",
     "output_type": "stream",
     "text": [
      "144it [02:03,  1.32s/it]"
     ]
    },
    {
     "name": "stdout",
     "output_type": "stream",
     "text": [
      "143\n",
      "144\n"
     ]
    },
    {
     "name": "stderr",
     "output_type": "stream",
     "text": [
      "\r",
      "145it [02:04,  1.03s/it]"
     ]
    },
    {
     "name": "stdout",
     "output_type": "stream",
     "text": [
      "145\n"
     ]
    },
    {
     "name": "stderr",
     "output_type": "stream",
     "text": [
      "\r",
      "146it [02:04,  1.23it/s]"
     ]
    },
    {
     "name": "stdout",
     "output_type": "stream",
     "text": [
      "146\n"
     ]
    },
    {
     "name": "stderr",
     "output_type": "stream",
     "text": [
      "148it [02:04,  2.00it/s]"
     ]
    },
    {
     "name": "stdout",
     "output_type": "stream",
     "text": [
      "147\n",
      "148\n"
     ]
    },
    {
     "name": "stderr",
     "output_type": "stream",
     "text": [
      "\r",
      "149it [02:05,  2.37it/s]"
     ]
    },
    {
     "name": "stdout",
     "output_type": "stream",
     "text": [
      "149\n"
     ]
    },
    {
     "name": "stderr",
     "output_type": "stream",
     "text": [
      "\r",
      "150it [02:05,  2.75it/s]"
     ]
    },
    {
     "name": "stdout",
     "output_type": "stream",
     "text": [
      "150\n"
     ]
    },
    {
     "name": "stderr",
     "output_type": "stream",
     "text": [
      "\r",
      "151it [02:05,  3.13it/s]"
     ]
    },
    {
     "name": "stdout",
     "output_type": "stream",
     "text": [
      "151\n"
     ]
    },
    {
     "name": "stderr",
     "output_type": "stream",
     "text": [
      "\r",
      "152it [02:05,  3.33it/s]"
     ]
    },
    {
     "name": "stdout",
     "output_type": "stream",
     "text": [
      "152\n"
     ]
    },
    {
     "name": "stderr",
     "output_type": "stream",
     "text": [
      "\r",
      "153it [02:06,  3.17it/s]"
     ]
    },
    {
     "name": "stdout",
     "output_type": "stream",
     "text": [
      "153\n"
     ]
    },
    {
     "name": "stderr",
     "output_type": "stream",
     "text": [
      "\r",
      "154it [02:06,  3.48it/s]"
     ]
    },
    {
     "name": "stdout",
     "output_type": "stream",
     "text": [
      "154\n"
     ]
    },
    {
     "name": "stderr",
     "output_type": "stream",
     "text": [
      "156it [02:06,  3.85it/s]"
     ]
    },
    {
     "name": "stdout",
     "output_type": "stream",
     "text": [
      "155\n",
      "156\n"
     ]
    },
    {
     "name": "stderr",
     "output_type": "stream",
     "text": [
      "\r",
      "157it [02:07,  3.61it/s]"
     ]
    },
    {
     "name": "stdout",
     "output_type": "stream",
     "text": [
      "157\n"
     ]
    },
    {
     "name": "stderr",
     "output_type": "stream",
     "text": [
      "\r",
      "158it [02:07,  2.98it/s]"
     ]
    },
    {
     "name": "stdout",
     "output_type": "stream",
     "text": [
      "158\n"
     ]
    },
    {
     "name": "stderr",
     "output_type": "stream",
     "text": [
      "\r",
      "159it [02:07,  2.92it/s]"
     ]
    },
    {
     "name": "stdout",
     "output_type": "stream",
     "text": [
      "159\n"
     ]
    },
    {
     "name": "stderr",
     "output_type": "stream",
     "text": [
      "\r",
      "160it [02:08,  2.69it/s]"
     ]
    },
    {
     "name": "stdout",
     "output_type": "stream",
     "text": [
      "160\n"
     ]
    },
    {
     "name": "stderr",
     "output_type": "stream",
     "text": [
      "\r",
      "161it [02:18,  3.35s/it]"
     ]
    },
    {
     "name": "stdout",
     "output_type": "stream",
     "text": [
      "161\n"
     ]
    },
    {
     "name": "stderr",
     "output_type": "stream",
     "text": [
      "\r",
      "162it [02:19,  2.49s/it]"
     ]
    },
    {
     "name": "stdout",
     "output_type": "stream",
     "text": [
      "162\n"
     ]
    },
    {
     "name": "stderr",
     "output_type": "stream",
     "text": [
      "\r",
      "163it [02:19,  1.81s/it]"
     ]
    },
    {
     "name": "stdout",
     "output_type": "stream",
     "text": [
      "163\n"
     ]
    },
    {
     "name": "stderr",
     "output_type": "stream",
     "text": [
      "\r",
      "164it [02:19,  1.37s/it]"
     ]
    },
    {
     "name": "stdout",
     "output_type": "stream",
     "text": [
      "164\n"
     ]
    },
    {
     "name": "stderr",
     "output_type": "stream",
     "text": [
      "\r",
      "165it [02:20,  1.09s/it]"
     ]
    },
    {
     "name": "stdout",
     "output_type": "stream",
     "text": [
      "165\n"
     ]
    },
    {
     "name": "stderr",
     "output_type": "stream",
     "text": [
      "\r",
      "166it [02:20,  1.21it/s]"
     ]
    },
    {
     "name": "stdout",
     "output_type": "stream",
     "text": [
      "166\n"
     ]
    },
    {
     "name": "stderr",
     "output_type": "stream",
     "text": [
      "\r",
      "167it [02:20,  1.50it/s]"
     ]
    },
    {
     "name": "stdout",
     "output_type": "stream",
     "text": [
      "167\n"
     ]
    },
    {
     "name": "stderr",
     "output_type": "stream",
     "text": [
      "\r",
      "168it [02:20,  1.85it/s]"
     ]
    },
    {
     "name": "stdout",
     "output_type": "stream",
     "text": [
      "168\n"
     ]
    },
    {
     "name": "stderr",
     "output_type": "stream",
     "text": [
      "\r",
      "169it [02:21,  1.94it/s]"
     ]
    },
    {
     "name": "stdout",
     "output_type": "stream",
     "text": [
      "169\n"
     ]
    },
    {
     "name": "stderr",
     "output_type": "stream",
     "text": [
      "171it [02:22,  2.54it/s]"
     ]
    },
    {
     "name": "stdout",
     "output_type": "stream",
     "text": [
      "170\n",
      "171\n"
     ]
    },
    {
     "name": "stderr",
     "output_type": "stream",
     "text": [
      "\r",
      "172it [02:22,  2.57it/s]"
     ]
    },
    {
     "name": "stdout",
     "output_type": "stream",
     "text": [
      "172\n"
     ]
    },
    {
     "name": "stderr",
     "output_type": "stream",
     "text": [
      "174it [02:22,  3.10it/s]"
     ]
    },
    {
     "name": "stdout",
     "output_type": "stream",
     "text": [
      "173\n",
      "174\n"
     ]
    },
    {
     "name": "stderr",
     "output_type": "stream",
     "text": [
      "\r",
      "175it [02:23,  2.89it/s]"
     ]
    },
    {
     "name": "stdout",
     "output_type": "stream",
     "text": [
      "175\n"
     ]
    },
    {
     "name": "stderr",
     "output_type": "stream",
     "text": [
      "\r",
      "176it [02:23,  2.96it/s]"
     ]
    },
    {
     "name": "stdout",
     "output_type": "stream",
     "text": [
      "176\n"
     ]
    },
    {
     "name": "stderr",
     "output_type": "stream",
     "text": [
      "\r",
      "177it [02:23,  3.26it/s]"
     ]
    },
    {
     "name": "stdout",
     "output_type": "stream",
     "text": [
      "177\n"
     ]
    },
    {
     "name": "stderr",
     "output_type": "stream",
     "text": [
      "\r",
      "178it [02:24,  3.21it/s]"
     ]
    },
    {
     "name": "stdout",
     "output_type": "stream",
     "text": [
      "178\n"
     ]
    },
    {
     "name": "stderr",
     "output_type": "stream",
     "text": [
      "\r",
      "179it [02:24,  3.21it/s]"
     ]
    },
    {
     "name": "stdout",
     "output_type": "stream",
     "text": [
      "179\n"
     ]
    },
    {
     "name": "stderr",
     "output_type": "stream",
     "text": [
      "\r",
      "180it [02:24,  3.29it/s]"
     ]
    },
    {
     "name": "stdout",
     "output_type": "stream",
     "text": [
      "180\n"
     ]
    },
    {
     "name": "stderr",
     "output_type": "stream",
     "text": [
      "\r",
      "181it [02:35,  3.28s/it]"
     ]
    },
    {
     "name": "stdout",
     "output_type": "stream",
     "text": [
      "181\n"
     ]
    },
    {
     "name": "stderr",
     "output_type": "stream",
     "text": [
      "\r",
      "182it [02:35,  2.38s/it]"
     ]
    },
    {
     "name": "stdout",
     "output_type": "stream",
     "text": [
      "182\n"
     ]
    },
    {
     "name": "stderr",
     "output_type": "stream",
     "text": [
      "\r",
      "183it [02:35,  1.80s/it]"
     ]
    },
    {
     "name": "stdout",
     "output_type": "stream",
     "text": [
      "183\n"
     ]
    },
    {
     "name": "stderr",
     "output_type": "stream",
     "text": [
      "\r",
      "184it [02:36,  1.37s/it]"
     ]
    },
    {
     "name": "stdout",
     "output_type": "stream",
     "text": [
      "184\n"
     ]
    },
    {
     "name": "stderr",
     "output_type": "stream",
     "text": [
      "\r",
      "185it [02:36,  1.09s/it]"
     ]
    },
    {
     "name": "stdout",
     "output_type": "stream",
     "text": [
      "185\n"
     ]
    },
    {
     "name": "stderr",
     "output_type": "stream",
     "text": [
      "\r",
      "186it [02:36,  1.20it/s]"
     ]
    },
    {
     "name": "stdout",
     "output_type": "stream",
     "text": [
      "186\n"
     ]
    },
    {
     "name": "stderr",
     "output_type": "stream",
     "text": [
      "\r",
      "187it [02:37,  1.46it/s]"
     ]
    },
    {
     "name": "stdout",
     "output_type": "stream",
     "text": [
      "187\n"
     ]
    },
    {
     "name": "stderr",
     "output_type": "stream",
     "text": [
      "\r",
      "188it [02:37,  1.80it/s]"
     ]
    },
    {
     "name": "stdout",
     "output_type": "stream",
     "text": [
      "188\n"
     ]
    },
    {
     "name": "stderr",
     "output_type": "stream",
     "text": [
      "\r",
      "189it [02:37,  1.89it/s]"
     ]
    },
    {
     "name": "stdout",
     "output_type": "stream",
     "text": [
      "189\n"
     ]
    },
    {
     "name": "stderr",
     "output_type": "stream",
     "text": [
      "\r",
      "190it [02:38,  2.31it/s]"
     ]
    },
    {
     "name": "stdout",
     "output_type": "stream",
     "text": [
      "190\n"
     ]
    },
    {
     "name": "stderr",
     "output_type": "stream",
     "text": [
      "\r",
      "191it [02:38,  2.63it/s]"
     ]
    },
    {
     "name": "stdout",
     "output_type": "stream",
     "text": [
      "191\n"
     ]
    },
    {
     "name": "stderr",
     "output_type": "stream",
     "text": [
      "\r",
      "192it [02:38,  2.78it/s]"
     ]
    },
    {
     "name": "stdout",
     "output_type": "stream",
     "text": [
      "192\n"
     ]
    },
    {
     "name": "stderr",
     "output_type": "stream",
     "text": [
      "\r",
      "193it [02:39,  2.81it/s]"
     ]
    },
    {
     "name": "stdout",
     "output_type": "stream",
     "text": [
      "193\n"
     ]
    },
    {
     "name": "stderr",
     "output_type": "stream",
     "text": [
      "\r",
      "194it [02:39,  2.63it/s]"
     ]
    },
    {
     "name": "stdout",
     "output_type": "stream",
     "text": [
      "194\n"
     ]
    },
    {
     "name": "stderr",
     "output_type": "stream",
     "text": [
      "\r",
      "195it [02:39,  2.77it/s]"
     ]
    },
    {
     "name": "stdout",
     "output_type": "stream",
     "text": [
      "195\n"
     ]
    },
    {
     "name": "stderr",
     "output_type": "stream",
     "text": [
      "\r",
      "196it [02:40,  3.05it/s]"
     ]
    },
    {
     "name": "stdout",
     "output_type": "stream",
     "text": [
      "196\n"
     ]
    },
    {
     "name": "stderr",
     "output_type": "stream",
     "text": [
      "198it [02:40,  3.37it/s]"
     ]
    },
    {
     "name": "stdout",
     "output_type": "stream",
     "text": [
      "197\n",
      "198\n"
     ]
    },
    {
     "name": "stderr",
     "output_type": "stream",
     "text": [
      "\r",
      "199it [02:40,  3.41it/s]"
     ]
    },
    {
     "name": "stdout",
     "output_type": "stream",
     "text": [
      "199\n"
     ]
    },
    {
     "name": "stderr",
     "output_type": "stream",
     "text": [
      "\r",
      "200it [02:41,  3.58it/s]"
     ]
    },
    {
     "name": "stdout",
     "output_type": "stream",
     "text": [
      "200\n"
     ]
    },
    {
     "name": "stderr",
     "output_type": "stream",
     "text": [
      "\r",
      "201it [02:51,  3.25s/it]"
     ]
    },
    {
     "name": "stdout",
     "output_type": "stream",
     "text": [
      "201\n"
     ]
    },
    {
     "name": "stderr",
     "output_type": "stream",
     "text": [
      "\r",
      "202it [02:51,  2.38s/it]"
     ]
    },
    {
     "name": "stdout",
     "output_type": "stream",
     "text": [
      "202\n"
     ]
    },
    {
     "name": "stderr",
     "output_type": "stream",
     "text": [
      "204it [02:52,  1.31s/it]"
     ]
    },
    {
     "name": "stdout",
     "output_type": "stream",
     "text": [
      "203\n",
      "204\n"
     ]
    },
    {
     "name": "stderr",
     "output_type": "stream",
     "text": [
      "206it [02:52,  1.38it/s]"
     ]
    },
    {
     "name": "stdout",
     "output_type": "stream",
     "text": [
      "205\n",
      "206\n"
     ]
    },
    {
     "name": "stderr",
     "output_type": "stream",
     "text": [
      "\r",
      "207it [02:52,  1.80it/s]"
     ]
    },
    {
     "name": "stdout",
     "output_type": "stream",
     "text": [
      "207\n"
     ]
    },
    {
     "name": "stderr",
     "output_type": "stream",
     "text": [
      "\r",
      "208it [02:53,  1.94it/s]"
     ]
    },
    {
     "name": "stdout",
     "output_type": "stream",
     "text": [
      "208\n"
     ]
    },
    {
     "name": "stderr",
     "output_type": "stream",
     "text": [
      "\r",
      "209it [02:53,  2.18it/s]"
     ]
    },
    {
     "name": "stdout",
     "output_type": "stream",
     "text": [
      "209\n"
     ]
    },
    {
     "name": "stderr",
     "output_type": "stream",
     "text": [
      "\r",
      "210it [02:53,  2.57it/s]"
     ]
    },
    {
     "name": "stdout",
     "output_type": "stream",
     "text": [
      "210\n"
     ]
    },
    {
     "name": "stderr",
     "output_type": "stream",
     "text": [
      "212it [02:54,  3.50it/s]"
     ]
    },
    {
     "name": "stdout",
     "output_type": "stream",
     "text": [
      "211\n",
      "212\n"
     ]
    },
    {
     "name": "stderr",
     "output_type": "stream",
     "text": [
      "\r",
      "213it [02:54,  3.48it/s]"
     ]
    },
    {
     "name": "stdout",
     "output_type": "stream",
     "text": [
      "213\n"
     ]
    },
    {
     "name": "stderr",
     "output_type": "stream",
     "text": [
      "\r",
      "214it [02:54,  3.82it/s]"
     ]
    },
    {
     "name": "stdout",
     "output_type": "stream",
     "text": [
      "214\n"
     ]
    },
    {
     "name": "stderr",
     "output_type": "stream",
     "text": [
      "\r",
      "215it [02:55,  3.06it/s]"
     ]
    },
    {
     "name": "stdout",
     "output_type": "stream",
     "text": [
      "215\n"
     ]
    },
    {
     "name": "stderr",
     "output_type": "stream",
     "text": [
      "\r",
      "216it [02:55,  2.61it/s]"
     ]
    },
    {
     "name": "stdout",
     "output_type": "stream",
     "text": [
      "216\n"
     ]
    },
    {
     "name": "stderr",
     "output_type": "stream",
     "text": [
      "218it [02:56,  3.14it/s]"
     ]
    },
    {
     "name": "stdout",
     "output_type": "stream",
     "text": [
      "217\n",
      "218\n"
     ]
    },
    {
     "name": "stderr",
     "output_type": "stream",
     "text": [
      "\r",
      "219it [02:56,  2.93it/s]"
     ]
    },
    {
     "name": "stdout",
     "output_type": "stream",
     "text": [
      "219\n"
     ]
    },
    {
     "name": "stderr",
     "output_type": "stream",
     "text": [
      "\r",
      "220it [02:56,  3.10it/s]"
     ]
    },
    {
     "name": "stdout",
     "output_type": "stream",
     "text": [
      "220\n"
     ]
    },
    {
     "name": "stderr",
     "output_type": "stream",
     "text": [
      "\r",
      "221it [03:07,  3.31s/it]"
     ]
    },
    {
     "name": "stdout",
     "output_type": "stream",
     "text": [
      "221\n"
     ]
    },
    {
     "name": "stderr",
     "output_type": "stream",
     "text": [
      "\r",
      "222it [03:07,  2.45s/it]"
     ]
    },
    {
     "name": "stdout",
     "output_type": "stream",
     "text": [
      "222\n"
     ]
    },
    {
     "name": "stderr",
     "output_type": "stream",
     "text": [
      "\r",
      "223it [03:07,  1.79s/it]"
     ]
    },
    {
     "name": "stdout",
     "output_type": "stream",
     "text": [
      "223\n"
     ]
    },
    {
     "name": "stderr",
     "output_type": "stream",
     "text": [
      "\r",
      "224it [03:08,  1.38s/it]"
     ]
    },
    {
     "name": "stdout",
     "output_type": "stream",
     "text": [
      "224\n"
     ]
    },
    {
     "name": "stderr",
     "output_type": "stream",
     "text": [
      "\r",
      "225it [03:08,  1.05s/it]"
     ]
    },
    {
     "name": "stdout",
     "output_type": "stream",
     "text": [
      "225\n"
     ]
    },
    {
     "name": "stderr",
     "output_type": "stream",
     "text": [
      "227it [03:09,  1.55it/s]"
     ]
    },
    {
     "name": "stdout",
     "output_type": "stream",
     "text": [
      "226\n",
      "227\n"
     ]
    },
    {
     "name": "stderr",
     "output_type": "stream",
     "text": [
      "\r",
      "228it [03:09,  1.81it/s]"
     ]
    },
    {
     "name": "stdout",
     "output_type": "stream",
     "text": [
      "228\n"
     ]
    },
    {
     "name": "stderr",
     "output_type": "stream",
     "text": [
      "\r",
      "229it [03:09,  2.17it/s]"
     ]
    },
    {
     "name": "stdout",
     "output_type": "stream",
     "text": [
      "229\n"
     ]
    },
    {
     "name": "stderr",
     "output_type": "stream",
     "text": [
      "\r",
      "230it [03:09,  2.36it/s]"
     ]
    },
    {
     "name": "stdout",
     "output_type": "stream",
     "text": [
      "230\n"
     ]
    },
    {
     "name": "stderr",
     "output_type": "stream",
     "text": [
      "232it [03:10,  3.00it/s]"
     ]
    },
    {
     "name": "stdout",
     "output_type": "stream",
     "text": [
      "231\n",
      "232\n"
     ]
    },
    {
     "name": "stderr",
     "output_type": "stream",
     "text": [
      "\r",
      "233it [03:10,  3.39it/s]"
     ]
    },
    {
     "name": "stdout",
     "output_type": "stream",
     "text": [
      "233\n"
     ]
    },
    {
     "name": "stderr",
     "output_type": "stream",
     "text": [
      "\r",
      "234it [03:10,  3.47it/s]"
     ]
    },
    {
     "name": "stdout",
     "output_type": "stream",
     "text": [
      "234\n"
     ]
    },
    {
     "name": "stderr",
     "output_type": "stream",
     "text": [
      "\r",
      "235it [03:11,  3.06it/s]"
     ]
    },
    {
     "name": "stdout",
     "output_type": "stream",
     "text": [
      "235\n"
     ]
    },
    {
     "name": "stderr",
     "output_type": "stream",
     "text": [
      "\r",
      "236it [03:11,  2.58it/s]"
     ]
    },
    {
     "name": "stdout",
     "output_type": "stream",
     "text": [
      "236\n"
     ]
    },
    {
     "name": "stderr",
     "output_type": "stream",
     "text": [
      "\r",
      "237it [03:12,  2.74it/s]"
     ]
    },
    {
     "name": "stdout",
     "output_type": "stream",
     "text": [
      "237\n"
     ]
    },
    {
     "name": "stderr",
     "output_type": "stream",
     "text": [
      "239it [03:12,  3.11it/s]"
     ]
    },
    {
     "name": "stdout",
     "output_type": "stream",
     "text": [
      "238\n",
      "239\n"
     ]
    },
    {
     "name": "stderr",
     "output_type": "stream",
     "text": [
      "\r",
      "240it [03:13,  2.58it/s]"
     ]
    },
    {
     "name": "stdout",
     "output_type": "stream",
     "text": [
      "240\n"
     ]
    },
    {
     "name": "stderr",
     "output_type": "stream",
     "text": [
      "\r",
      "241it [03:23,  3.40s/it]"
     ]
    },
    {
     "name": "stdout",
     "output_type": "stream",
     "text": [
      "241\n"
     ]
    },
    {
     "name": "stderr",
     "output_type": "stream",
     "text": [
      "\r",
      "242it [03:24,  2.48s/it]"
     ]
    },
    {
     "name": "stdout",
     "output_type": "stream",
     "text": [
      "242\n"
     ]
    },
    {
     "name": "stderr",
     "output_type": "stream",
     "text": [
      "244it [03:24,  1.36s/it]"
     ]
    },
    {
     "name": "stdout",
     "output_type": "stream",
     "text": [
      "243\n",
      "244\n"
     ]
    },
    {
     "name": "stderr",
     "output_type": "stream",
     "text": [
      "\r",
      "245it [03:25,  1.11s/it]"
     ]
    },
    {
     "name": "stdout",
     "output_type": "stream",
     "text": [
      "245\n"
     ]
    },
    {
     "name": "stderr",
     "output_type": "stream",
     "text": [
      "\r",
      "246it [03:25,  1.15it/s]"
     ]
    },
    {
     "name": "stdout",
     "output_type": "stream",
     "text": [
      "246\n"
     ]
    },
    {
     "name": "stderr",
     "output_type": "stream",
     "text": [
      "\r",
      "247it [03:25,  1.47it/s]"
     ]
    },
    {
     "name": "stdout",
     "output_type": "stream",
     "text": [
      "247\n"
     ]
    },
    {
     "name": "stderr",
     "output_type": "stream",
     "text": [
      "\r",
      "248it [03:26,  1.65it/s]"
     ]
    },
    {
     "name": "stdout",
     "output_type": "stream",
     "text": [
      "248\n"
     ]
    },
    {
     "name": "stderr",
     "output_type": "stream",
     "text": [
      "\r",
      "249it [03:26,  2.03it/s]"
     ]
    },
    {
     "name": "stdout",
     "output_type": "stream",
     "text": [
      "249\n"
     ]
    },
    {
     "name": "stderr",
     "output_type": "stream",
     "text": [
      "251it [03:26,  2.91it/s]"
     ]
    },
    {
     "name": "stdout",
     "output_type": "stream",
     "text": [
      "250\n",
      "251\n"
     ]
    },
    {
     "name": "stderr",
     "output_type": "stream",
     "text": [
      "\r",
      "252it [03:27,  3.29it/s]"
     ]
    },
    {
     "name": "stdout",
     "output_type": "stream",
     "text": [
      "252\n"
     ]
    },
    {
     "name": "stderr",
     "output_type": "stream",
     "text": [
      "\r",
      "253it [03:27,  3.03it/s]"
     ]
    },
    {
     "name": "stdout",
     "output_type": "stream",
     "text": [
      "253\n"
     ]
    },
    {
     "name": "stderr",
     "output_type": "stream",
     "text": [
      "\r",
      "254it [03:27,  3.34it/s]"
     ]
    },
    {
     "name": "stdout",
     "output_type": "stream",
     "text": [
      "254\n"
     ]
    },
    {
     "name": "stderr",
     "output_type": "stream",
     "text": [
      "\r",
      "255it [03:28,  2.97it/s]"
     ]
    },
    {
     "name": "stdout",
     "output_type": "stream",
     "text": [
      "255\n"
     ]
    },
    {
     "name": "stderr",
     "output_type": "stream",
     "text": [
      "\r",
      "256it [03:28,  2.49it/s]"
     ]
    },
    {
     "name": "stdout",
     "output_type": "stream",
     "text": [
      "256\n"
     ]
    },
    {
     "name": "stderr",
     "output_type": "stream",
     "text": [
      "\r",
      "257it [03:29,  2.58it/s]"
     ]
    },
    {
     "name": "stdout",
     "output_type": "stream",
     "text": [
      "257\n"
     ]
    },
    {
     "name": "stderr",
     "output_type": "stream",
     "text": [
      "\r",
      "258it [03:29,  2.84it/s]"
     ]
    },
    {
     "name": "stdout",
     "output_type": "stream",
     "text": [
      "258\n"
     ]
    },
    {
     "name": "stderr",
     "output_type": "stream",
     "text": [
      "\r",
      "259it [03:29,  3.19it/s]"
     ]
    },
    {
     "name": "stdout",
     "output_type": "stream",
     "text": [
      "259\n"
     ]
    },
    {
     "name": "stderr",
     "output_type": "stream",
     "text": [
      "\r",
      "260it [03:29,  3.29it/s]"
     ]
    },
    {
     "name": "stdout",
     "output_type": "stream",
     "text": [
      "260\n"
     ]
    },
    {
     "name": "stderr",
     "output_type": "stream",
     "text": [
      "262it [03:40,  2.36s/it]"
     ]
    },
    {
     "name": "stdout",
     "output_type": "stream",
     "text": [
      "261\n",
      "262\n"
     ]
    },
    {
     "name": "stderr",
     "output_type": "stream",
     "text": [
      "\r",
      "263it [03:40,  1.75s/it]"
     ]
    },
    {
     "name": "stdout",
     "output_type": "stream",
     "text": [
      "263\n"
     ]
    },
    {
     "name": "stderr",
     "output_type": "stream",
     "text": [
      "\r",
      "264it [03:40,  1.33s/it]"
     ]
    },
    {
     "name": "stdout",
     "output_type": "stream",
     "text": [
      "264\n"
     ]
    },
    {
     "name": "stderr",
     "output_type": "stream",
     "text": [
      "\r",
      "265it [03:41,  1.01s/it]"
     ]
    },
    {
     "name": "stdout",
     "output_type": "stream",
     "text": [
      "265\n"
     ]
    },
    {
     "name": "stderr",
     "output_type": "stream",
     "text": [
      "\r",
      "266it [03:41,  1.25it/s]"
     ]
    },
    {
     "name": "stdout",
     "output_type": "stream",
     "text": [
      "266\n"
     ]
    },
    {
     "name": "stderr",
     "output_type": "stream",
     "text": [
      "\r",
      "267it [03:41,  1.53it/s]"
     ]
    },
    {
     "name": "stdout",
     "output_type": "stream",
     "text": [
      "267\n"
     ]
    },
    {
     "name": "stderr",
     "output_type": "stream",
     "text": [
      "\r",
      "268it [03:42,  1.64it/s]"
     ]
    },
    {
     "name": "stdout",
     "output_type": "stream",
     "text": [
      "268\n"
     ]
    },
    {
     "name": "stderr",
     "output_type": "stream",
     "text": [
      "\r",
      "269it [03:42,  1.92it/s]"
     ]
    },
    {
     "name": "stdout",
     "output_type": "stream",
     "text": [
      "269\n"
     ]
    },
    {
     "name": "stderr",
     "output_type": "stream",
     "text": [
      "\r",
      "270it [03:42,  2.13it/s]"
     ]
    },
    {
     "name": "stdout",
     "output_type": "stream",
     "text": [
      "270\n"
     ]
    },
    {
     "name": "stderr",
     "output_type": "stream",
     "text": [
      "\r",
      "271it [03:43,  2.39it/s]"
     ]
    },
    {
     "name": "stdout",
     "output_type": "stream",
     "text": [
      "271\n"
     ]
    },
    {
     "name": "stderr",
     "output_type": "stream",
     "text": [
      "273it [03:43,  3.17it/s]"
     ]
    },
    {
     "name": "stdout",
     "output_type": "stream",
     "text": [
      "272\n",
      "273\n"
     ]
    },
    {
     "name": "stderr",
     "output_type": "stream",
     "text": [
      "\r",
      "274it [03:43,  3.54it/s]"
     ]
    },
    {
     "name": "stdout",
     "output_type": "stream",
     "text": [
      "274\n"
     ]
    },
    {
     "name": "stderr",
     "output_type": "stream",
     "text": [
      "276it [03:44,  3.71it/s]"
     ]
    },
    {
     "name": "stdout",
     "output_type": "stream",
     "text": [
      "275\n",
      "276\n"
     ]
    },
    {
     "name": "stderr",
     "output_type": "stream",
     "text": [
      "\r",
      "277it [03:44,  3.14it/s]"
     ]
    },
    {
     "name": "stdout",
     "output_type": "stream",
     "text": [
      "277\n"
     ]
    },
    {
     "name": "stderr",
     "output_type": "stream",
     "text": [
      "279it [03:45,  3.61it/s]"
     ]
    },
    {
     "name": "stdout",
     "output_type": "stream",
     "text": [
      "278\n",
      "279\n"
     ]
    },
    {
     "name": "stderr",
     "output_type": "stream",
     "text": [
      "\r",
      "280it [03:45,  3.03it/s]"
     ]
    },
    {
     "name": "stdout",
     "output_type": "stream",
     "text": [
      "280\n"
     ]
    },
    {
     "name": "stderr",
     "output_type": "stream",
     "text": [
      "\r",
      "281it [03:56,  3.30s/it]"
     ]
    },
    {
     "name": "stdout",
     "output_type": "stream",
     "text": [
      "281\n"
     ]
    },
    {
     "name": "stderr",
     "output_type": "stream",
     "text": [
      "\r",
      "282it [03:56,  2.46s/it]"
     ]
    },
    {
     "name": "stdout",
     "output_type": "stream",
     "text": [
      "282\n"
     ]
    },
    {
     "name": "stderr",
     "output_type": "stream",
     "text": [
      "\r",
      "283it [03:56,  1.83s/it]"
     ]
    },
    {
     "name": "stdout",
     "output_type": "stream",
     "text": [
      "283\n"
     ]
    },
    {
     "name": "stderr",
     "output_type": "stream",
     "text": [
      "\r",
      "284it [03:57,  1.36s/it]"
     ]
    },
    {
     "name": "stdout",
     "output_type": "stream",
     "text": [
      "284\n"
     ]
    },
    {
     "name": "stderr",
     "output_type": "stream",
     "text": [
      "\r",
      "285it [03:57,  1.04s/it]"
     ]
    },
    {
     "name": "stdout",
     "output_type": "stream",
     "text": [
      "285\n"
     ]
    },
    {
     "name": "stderr",
     "output_type": "stream",
     "text": [
      "\r",
      "286it [03:57,  1.26it/s]"
     ]
    },
    {
     "name": "stdout",
     "output_type": "stream",
     "text": [
      "286\n"
     ]
    },
    {
     "name": "stderr",
     "output_type": "stream",
     "text": [
      "\r",
      "287it [03:57,  1.62it/s]"
     ]
    },
    {
     "name": "stdout",
     "output_type": "stream",
     "text": [
      "287\n"
     ]
    },
    {
     "name": "stderr",
     "output_type": "stream",
     "text": [
      "\r",
      "288it [03:58,  1.97it/s]"
     ]
    },
    {
     "name": "stdout",
     "output_type": "stream",
     "text": [
      "288\n"
     ]
    },
    {
     "name": "stderr",
     "output_type": "stream",
     "text": [
      "\r",
      "289it [03:58,  2.11it/s]"
     ]
    },
    {
     "name": "stdout",
     "output_type": "stream",
     "text": [
      "289\n"
     ]
    },
    {
     "name": "stderr",
     "output_type": "stream",
     "text": [
      "291it [03:59,  2.84it/s]"
     ]
    },
    {
     "name": "stdout",
     "output_type": "stream",
     "text": [
      "290\n",
      "291\n"
     ]
    },
    {
     "name": "stderr",
     "output_type": "stream",
     "text": [
      "\r",
      "292it [03:59,  3.12it/s]"
     ]
    },
    {
     "name": "stdout",
     "output_type": "stream",
     "text": [
      "292\n"
     ]
    },
    {
     "name": "stderr",
     "output_type": "stream",
     "text": [
      "\r",
      "293it [03:59,  2.90it/s]"
     ]
    },
    {
     "name": "stdout",
     "output_type": "stream",
     "text": [
      "293\n"
     ]
    },
    {
     "name": "stderr",
     "output_type": "stream",
     "text": [
      "\r",
      "294it [04:00,  2.57it/s]"
     ]
    },
    {
     "name": "stdout",
     "output_type": "stream",
     "text": [
      "294\n"
     ]
    },
    {
     "name": "stderr",
     "output_type": "stream",
     "text": [
      "\r",
      "295it [04:00,  2.58it/s]"
     ]
    },
    {
     "name": "stdout",
     "output_type": "stream",
     "text": [
      "295\n"
     ]
    },
    {
     "name": "stderr",
     "output_type": "stream",
     "text": [
      "\r",
      "296it [04:00,  2.99it/s]"
     ]
    },
    {
     "name": "stdout",
     "output_type": "stream",
     "text": [
      "296\n"
     ]
    },
    {
     "name": "stderr",
     "output_type": "stream",
     "text": [
      "\r",
      "297it [04:01,  3.35it/s]"
     ]
    },
    {
     "name": "stdout",
     "output_type": "stream",
     "text": [
      "297\n"
     ]
    },
    {
     "name": "stderr",
     "output_type": "stream",
     "text": [
      "\r",
      "298it [04:01,  3.21it/s]"
     ]
    },
    {
     "name": "stdout",
     "output_type": "stream",
     "text": [
      "298\n"
     ]
    },
    {
     "name": "stderr",
     "output_type": "stream",
     "text": [
      "\r",
      "299it [04:01,  2.79it/s]"
     ]
    },
    {
     "name": "stdout",
     "output_type": "stream",
     "text": [
      "299\n"
     ]
    },
    {
     "name": "stderr",
     "output_type": "stream",
     "text": [
      "\r",
      "300it [04:02,  3.16it/s]"
     ]
    },
    {
     "name": "stdout",
     "output_type": "stream",
     "text": [
      "300\n"
     ]
    },
    {
     "name": "stderr",
     "output_type": "stream",
     "text": [
      "\r",
      "301it [04:12,  3.30s/it]"
     ]
    },
    {
     "name": "stdout",
     "output_type": "stream",
     "text": [
      "301\n"
     ]
    },
    {
     "name": "stderr",
     "output_type": "stream",
     "text": [
      "\r",
      "302it [04:12,  2.40s/it]"
     ]
    },
    {
     "name": "stdout",
     "output_type": "stream",
     "text": [
      "302\n"
     ]
    },
    {
     "name": "stderr",
     "output_type": "stream",
     "text": [
      "\r",
      "303it [04:13,  1.79s/it]"
     ]
    },
    {
     "name": "stdout",
     "output_type": "stream",
     "text": [
      "303\n"
     ]
    },
    {
     "name": "stderr",
     "output_type": "stream",
     "text": [
      "\r",
      "304it [04:13,  1.34s/it]"
     ]
    },
    {
     "name": "stdout",
     "output_type": "stream",
     "text": [
      "304\n"
     ]
    },
    {
     "name": "stderr",
     "output_type": "stream",
     "text": [
      "\r",
      "305it [04:13,  1.05s/it]"
     ]
    },
    {
     "name": "stdout",
     "output_type": "stream",
     "text": [
      "305\n"
     ]
    },
    {
     "name": "stderr",
     "output_type": "stream",
     "text": [
      "\r",
      "306it [04:13,  1.24it/s]"
     ]
    },
    {
     "name": "stdout",
     "output_type": "stream",
     "text": [
      "306\n"
     ]
    },
    {
     "name": "stderr",
     "output_type": "stream",
     "text": [
      "\r",
      "307it [04:14,  1.56it/s]"
     ]
    },
    {
     "name": "stdout",
     "output_type": "stream",
     "text": [
      "307\n"
     ]
    },
    {
     "name": "stderr",
     "output_type": "stream",
     "text": [
      "\r",
      "308it [04:14,  1.74it/s]"
     ]
    },
    {
     "name": "stdout",
     "output_type": "stream",
     "text": [
      "308\n"
     ]
    },
    {
     "name": "stderr",
     "output_type": "stream",
     "text": [
      "\r",
      "309it [04:15,  1.87it/s]"
     ]
    },
    {
     "name": "stdout",
     "output_type": "stream",
     "text": [
      "309\n"
     ]
    },
    {
     "name": "stderr",
     "output_type": "stream",
     "text": [
      "\r",
      "310it [04:15,  2.11it/s]"
     ]
    },
    {
     "name": "stdout",
     "output_type": "stream",
     "text": [
      "310\n"
     ]
    },
    {
     "name": "stderr",
     "output_type": "stream",
     "text": [
      "\r",
      "311it [04:15,  2.19it/s]"
     ]
    },
    {
     "name": "stdout",
     "output_type": "stream",
     "text": [
      "311\n"
     ]
    },
    {
     "name": "stderr",
     "output_type": "stream",
     "text": [
      "313it [04:16,  2.63it/s]"
     ]
    },
    {
     "name": "stdout",
     "output_type": "stream",
     "text": [
      "312\n",
      "313\n"
     ]
    },
    {
     "name": "stderr",
     "output_type": "stream",
     "text": [
      "\r",
      "314it [04:16,  2.78it/s]"
     ]
    },
    {
     "name": "stdout",
     "output_type": "stream",
     "text": [
      "314\n"
     ]
    },
    {
     "name": "stderr",
     "output_type": "stream",
     "text": [
      "\r",
      "315it [04:16,  3.16it/s]"
     ]
    },
    {
     "name": "stdout",
     "output_type": "stream",
     "text": [
      "315\n"
     ]
    },
    {
     "name": "stderr",
     "output_type": "stream",
     "text": [
      "\r",
      "316it [04:17,  3.27it/s]"
     ]
    },
    {
     "name": "stdout",
     "output_type": "stream",
     "text": [
      "316\n"
     ]
    },
    {
     "name": "stderr",
     "output_type": "stream",
     "text": [
      "\r",
      "317it [04:17,  3.38it/s]"
     ]
    },
    {
     "name": "stdout",
     "output_type": "stream",
     "text": [
      "317\n"
     ]
    },
    {
     "name": "stderr",
     "output_type": "stream",
     "text": [
      "\r",
      "318it [04:17,  3.22it/s]"
     ]
    },
    {
     "name": "stdout",
     "output_type": "stream",
     "text": [
      "318\n"
     ]
    },
    {
     "name": "stderr",
     "output_type": "stream",
     "text": [
      "\r",
      "319it [04:18,  3.24it/s]"
     ]
    },
    {
     "name": "stdout",
     "output_type": "stream",
     "text": [
      "319\n"
     ]
    },
    {
     "name": "stderr",
     "output_type": "stream",
     "text": [
      "\r",
      "320it [04:18,  3.44it/s]"
     ]
    },
    {
     "name": "stdout",
     "output_type": "stream",
     "text": [
      "320\n"
     ]
    },
    {
     "name": "stderr",
     "output_type": "stream",
     "text": [
      "\r",
      "321it [04:28,  3.25s/it]"
     ]
    },
    {
     "name": "stdout",
     "output_type": "stream",
     "text": [
      "321\n"
     ]
    },
    {
     "name": "stderr",
     "output_type": "stream",
     "text": [
      "\r",
      "322it [04:28,  2.35s/it]"
     ]
    },
    {
     "name": "stdout",
     "output_type": "stream",
     "text": [
      "322\n"
     ]
    },
    {
     "name": "stderr",
     "output_type": "stream",
     "text": [
      "\r",
      "323it [04:29,  1.71s/it]"
     ]
    },
    {
     "name": "stdout",
     "output_type": "stream",
     "text": [
      "323\n"
     ]
    },
    {
     "name": "stderr",
     "output_type": "stream",
     "text": [
      "\r",
      "324it [04:29,  1.34s/it]"
     ]
    },
    {
     "name": "stdout",
     "output_type": "stream",
     "text": [
      "324\n"
     ]
    },
    {
     "name": "stderr",
     "output_type": "stream",
     "text": [
      "326it [04:29,  1.30it/s]"
     ]
    },
    {
     "name": "stdout",
     "output_type": "stream",
     "text": [
      "325\n",
      "326\n"
     ]
    },
    {
     "name": "stderr",
     "output_type": "stream",
     "text": [
      "\r",
      "327it [04:30,  1.62it/s]"
     ]
    },
    {
     "name": "stdout",
     "output_type": "stream",
     "text": [
      "327\n"
     ]
    },
    {
     "name": "stderr",
     "output_type": "stream",
     "text": [
      "\r",
      "328it [04:30,  1.92it/s]"
     ]
    },
    {
     "name": "stdout",
     "output_type": "stream",
     "text": [
      "328\n"
     ]
    },
    {
     "name": "stderr",
     "output_type": "stream",
     "text": [
      "\r",
      "329it [04:30,  2.25it/s]"
     ]
    },
    {
     "name": "stdout",
     "output_type": "stream",
     "text": [
      "329\n"
     ]
    },
    {
     "name": "stderr",
     "output_type": "stream",
     "text": [
      "\r",
      "330it [04:31,  2.46it/s]"
     ]
    },
    {
     "name": "stdout",
     "output_type": "stream",
     "text": [
      "330\n"
     ]
    },
    {
     "name": "stderr",
     "output_type": "stream",
     "text": [
      "\r",
      "331it [04:31,  2.28it/s]"
     ]
    },
    {
     "name": "stdout",
     "output_type": "stream",
     "text": [
      "331\n"
     ]
    },
    {
     "name": "stderr",
     "output_type": "stream",
     "text": [
      "\r",
      "332it [04:31,  2.69it/s]"
     ]
    },
    {
     "name": "stdout",
     "output_type": "stream",
     "text": [
      "332\n"
     ]
    },
    {
     "name": "stderr",
     "output_type": "stream",
     "text": [
      "\r",
      "333it [04:32,  2.82it/s]"
     ]
    },
    {
     "name": "stdout",
     "output_type": "stream",
     "text": [
      "333\n"
     ]
    },
    {
     "name": "stderr",
     "output_type": "stream",
     "text": [
      "\r",
      "334it [04:32,  2.99it/s]"
     ]
    },
    {
     "name": "stdout",
     "output_type": "stream",
     "text": [
      "334\n"
     ]
    },
    {
     "name": "stderr",
     "output_type": "stream",
     "text": [
      "\r",
      "335it [04:32,  3.31it/s]"
     ]
    },
    {
     "name": "stdout",
     "output_type": "stream",
     "text": [
      "335\n"
     ]
    },
    {
     "name": "stderr",
     "output_type": "stream",
     "text": [
      "337it [04:33,  3.54it/s]"
     ]
    },
    {
     "name": "stdout",
     "output_type": "stream",
     "text": [
      "336\n",
      "337\n"
     ]
    },
    {
     "name": "stderr",
     "output_type": "stream",
     "text": [
      "\r",
      "338it [04:33,  4.00it/s]"
     ]
    },
    {
     "name": "stdout",
     "output_type": "stream",
     "text": [
      "338\n"
     ]
    },
    {
     "name": "stderr",
     "output_type": "stream",
     "text": [
      "\r",
      "339it [04:33,  3.44it/s]"
     ]
    },
    {
     "name": "stdout",
     "output_type": "stream",
     "text": [
      "339\n"
     ]
    },
    {
     "name": "stderr",
     "output_type": "stream",
     "text": [
      "\r",
      "340it [04:34,  3.31it/s]"
     ]
    },
    {
     "name": "stdout",
     "output_type": "stream",
     "text": [
      "340\n"
     ]
    },
    {
     "name": "stderr",
     "output_type": "stream",
     "text": [
      "\r",
      "341it [04:44,  3.35s/it]"
     ]
    },
    {
     "name": "stdout",
     "output_type": "stream",
     "text": [
      "341\n"
     ]
    },
    {
     "name": "stderr",
     "output_type": "stream",
     "text": [
      "\r",
      "342it [04:44,  2.45s/it]"
     ]
    },
    {
     "name": "stdout",
     "output_type": "stream",
     "text": [
      "342\n"
     ]
    },
    {
     "name": "stderr",
     "output_type": "stream",
     "text": [
      "\r",
      "343it [04:45,  1.81s/it]"
     ]
    },
    {
     "name": "stdout",
     "output_type": "stream",
     "text": [
      "343\n"
     ]
    },
    {
     "name": "stderr",
     "output_type": "stream",
     "text": [
      "\r",
      "344it [04:45,  1.37s/it]"
     ]
    },
    {
     "name": "stdout",
     "output_type": "stream",
     "text": [
      "344\n"
     ]
    },
    {
     "name": "stderr",
     "output_type": "stream",
     "text": [
      "346it [04:46,  1.23it/s]"
     ]
    },
    {
     "name": "stdout",
     "output_type": "stream",
     "text": [
      "345\n",
      "346\n"
     ]
    },
    {
     "name": "stderr",
     "output_type": "stream",
     "text": [
      "\r",
      "347it [04:46,  1.56it/s]"
     ]
    },
    {
     "name": "stdout",
     "output_type": "stream",
     "text": [
      "347\n"
     ]
    },
    {
     "name": "stderr",
     "output_type": "stream",
     "text": [
      "\r",
      "348it [04:46,  1.74it/s]"
     ]
    },
    {
     "name": "stdout",
     "output_type": "stream",
     "text": [
      "348\n"
     ]
    },
    {
     "name": "stderr",
     "output_type": "stream",
     "text": [
      "\r",
      "349it [04:47,  2.00it/s]"
     ]
    },
    {
     "name": "stdout",
     "output_type": "stream",
     "text": [
      "349\n"
     ]
    },
    {
     "name": "stderr",
     "output_type": "stream",
     "text": [
      "\r",
      "350it [04:47,  2.34it/s]"
     ]
    },
    {
     "name": "stdout",
     "output_type": "stream",
     "text": [
      "350\n"
     ]
    },
    {
     "name": "stderr",
     "output_type": "stream",
     "text": [
      "\r",
      "351it [04:47,  2.76it/s]"
     ]
    },
    {
     "name": "stdout",
     "output_type": "stream",
     "text": [
      "351\n"
     ]
    },
    {
     "name": "stderr",
     "output_type": "stream",
     "text": [
      "\r",
      "352it [04:47,  3.08it/s]"
     ]
    },
    {
     "name": "stdout",
     "output_type": "stream",
     "text": [
      "352\n"
     ]
    },
    {
     "name": "stderr",
     "output_type": "stream",
     "text": [
      "\r",
      "353it [04:48,  2.84it/s]"
     ]
    },
    {
     "name": "stdout",
     "output_type": "stream",
     "text": [
      "353\n"
     ]
    },
    {
     "name": "stderr",
     "output_type": "stream",
     "text": [
      "\r",
      "354it [04:48,  3.06it/s]"
     ]
    },
    {
     "name": "stdout",
     "output_type": "stream",
     "text": [
      "354\n"
     ]
    },
    {
     "name": "stderr",
     "output_type": "stream",
     "text": [
      "\r",
      "355it [04:49,  2.80it/s]"
     ]
    },
    {
     "name": "stdout",
     "output_type": "stream",
     "text": [
      "355\n"
     ]
    },
    {
     "name": "stderr",
     "output_type": "stream",
     "text": [
      "\r",
      "356it [04:49,  3.21it/s]"
     ]
    },
    {
     "name": "stdout",
     "output_type": "stream",
     "text": [
      "356\n"
     ]
    },
    {
     "name": "stderr",
     "output_type": "stream",
     "text": [
      "\r",
      "357it [04:49,  2.98it/s]"
     ]
    },
    {
     "name": "stdout",
     "output_type": "stream",
     "text": [
      "357\n"
     ]
    },
    {
     "name": "stderr",
     "output_type": "stream",
     "text": [
      "359it [04:50,  3.55it/s]"
     ]
    },
    {
     "name": "stdout",
     "output_type": "stream",
     "text": [
      "358\n",
      "359\n"
     ]
    },
    {
     "name": "stderr",
     "output_type": "stream",
     "text": [
      "\r",
      "360it [04:50,  3.14it/s]"
     ]
    },
    {
     "name": "stdout",
     "output_type": "stream",
     "text": [
      "360\n"
     ]
    },
    {
     "name": "stderr",
     "output_type": "stream",
     "text": [
      "362it [05:00,  2.37s/it]"
     ]
    },
    {
     "name": "stdout",
     "output_type": "stream",
     "text": [
      "361\n",
      "362\n"
     ]
    },
    {
     "name": "stderr",
     "output_type": "stream",
     "text": [
      "\r",
      "363it [05:01,  1.74s/it]"
     ]
    },
    {
     "name": "stdout",
     "output_type": "stream",
     "text": [
      "363\n"
     ]
    },
    {
     "name": "stderr",
     "output_type": "stream",
     "text": [
      "\r",
      "364it [05:01,  1.33s/it]"
     ]
    },
    {
     "name": "stdout",
     "output_type": "stream",
     "text": [
      "364\n"
     ]
    },
    {
     "name": "stderr",
     "output_type": "stream",
     "text": [
      "366it [05:02,  1.29it/s]"
     ]
    },
    {
     "name": "stdout",
     "output_type": "stream",
     "text": [
      "365\n",
      "366\n"
     ]
    },
    {
     "name": "stderr",
     "output_type": "stream",
     "text": [
      "\r",
      "367it [05:02,  1.69it/s]"
     ]
    },
    {
     "name": "stdout",
     "output_type": "stream",
     "text": [
      "367\n"
     ]
    },
    {
     "name": "stderr",
     "output_type": "stream",
     "text": [
      "\r",
      "368it [05:02,  1.83it/s]"
     ]
    },
    {
     "name": "stdout",
     "output_type": "stream",
     "text": [
      "368\n"
     ]
    },
    {
     "name": "stderr",
     "output_type": "stream",
     "text": [
      "\r",
      "369it [05:03,  1.90it/s]"
     ]
    },
    {
     "name": "stdout",
     "output_type": "stream",
     "text": [
      "369\n"
     ]
    },
    {
     "name": "stderr",
     "output_type": "stream",
     "text": [
      "\r",
      "370it [05:03,  1.92it/s]"
     ]
    },
    {
     "name": "stdout",
     "output_type": "stream",
     "text": [
      "370\n"
     ]
    },
    {
     "name": "stderr",
     "output_type": "stream",
     "text": [
      "\r",
      "371it [05:04,  2.02it/s]"
     ]
    },
    {
     "name": "stdout",
     "output_type": "stream",
     "text": [
      "371\n"
     ]
    },
    {
     "name": "stderr",
     "output_type": "stream",
     "text": [
      "373it [05:04,  2.87it/s]"
     ]
    },
    {
     "name": "stdout",
     "output_type": "stream",
     "text": [
      "372\n",
      "373\n"
     ]
    },
    {
     "name": "stderr",
     "output_type": "stream",
     "text": [
      "\r",
      "374it [05:04,  2.82it/s]"
     ]
    },
    {
     "name": "stdout",
     "output_type": "stream",
     "text": [
      "374\n"
     ]
    },
    {
     "name": "stderr",
     "output_type": "stream",
     "text": [
      "\r",
      "375it [05:05,  3.05it/s]"
     ]
    },
    {
     "name": "stdout",
     "output_type": "stream",
     "text": [
      "375\n"
     ]
    },
    {
     "name": "stderr",
     "output_type": "stream",
     "text": [
      "\r",
      "376it [05:05,  2.80it/s]"
     ]
    },
    {
     "name": "stdout",
     "output_type": "stream",
     "text": [
      "376\n"
     ]
    },
    {
     "name": "stderr",
     "output_type": "stream",
     "text": [
      "\r",
      "377it [05:05,  2.87it/s]"
     ]
    },
    {
     "name": "stdout",
     "output_type": "stream",
     "text": [
      "377\n"
     ]
    },
    {
     "name": "stderr",
     "output_type": "stream",
     "text": [
      "\r",
      "378it [05:06,  2.74it/s]"
     ]
    },
    {
     "name": "stdout",
     "output_type": "stream",
     "text": [
      "378\n"
     ]
    },
    {
     "name": "stderr",
     "output_type": "stream",
     "text": [
      "\r",
      "379it [05:06,  2.68it/s]"
     ]
    },
    {
     "name": "stdout",
     "output_type": "stream",
     "text": [
      "379\n"
     ]
    },
    {
     "name": "stderr",
     "output_type": "stream",
     "text": [
      "\r",
      "380it [05:07,  2.87it/s]"
     ]
    },
    {
     "name": "stdout",
     "output_type": "stream",
     "text": [
      "380\n"
     ]
    },
    {
     "name": "stderr",
     "output_type": "stream",
     "text": [
      "\r",
      "381it [05:17,  3.40s/it]"
     ]
    },
    {
     "name": "stdout",
     "output_type": "stream",
     "text": [
      "381\n"
     ]
    },
    {
     "name": "stderr",
     "output_type": "stream",
     "text": [
      "\r",
      "382it [05:17,  2.49s/it]"
     ]
    },
    {
     "name": "stdout",
     "output_type": "stream",
     "text": [
      "382\n"
     ]
    },
    {
     "name": "stderr",
     "output_type": "stream",
     "text": [
      "\r",
      "383it [05:18,  1.82s/it]"
     ]
    },
    {
     "name": "stdout",
     "output_type": "stream",
     "text": [
      "383\n"
     ]
    },
    {
     "name": "stderr",
     "output_type": "stream",
     "text": [
      "\r",
      "384it [05:18,  1.36s/it]"
     ]
    },
    {
     "name": "stdout",
     "output_type": "stream",
     "text": [
      "384\n"
     ]
    },
    {
     "name": "stderr",
     "output_type": "stream",
     "text": [
      "\r",
      "385it [05:18,  1.06s/it]"
     ]
    },
    {
     "name": "stdout",
     "output_type": "stream",
     "text": [
      "385\n"
     ]
    },
    {
     "name": "stderr",
     "output_type": "stream",
     "text": [
      "\r",
      "386it [05:19,  1.23it/s]"
     ]
    },
    {
     "name": "stdout",
     "output_type": "stream",
     "text": [
      "386\n"
     ]
    },
    {
     "name": "stderr",
     "output_type": "stream",
     "text": [
      "\r",
      "387it [05:19,  1.47it/s]"
     ]
    },
    {
     "name": "stdout",
     "output_type": "stream",
     "text": [
      "387\n"
     ]
    },
    {
     "name": "stderr",
     "output_type": "stream",
     "text": [
      "389it [05:20,  2.15it/s]"
     ]
    },
    {
     "name": "stdout",
     "output_type": "stream",
     "text": [
      "388\n",
      "389\n"
     ]
    },
    {
     "name": "stderr",
     "output_type": "stream",
     "text": [
      "\r",
      "390it [05:20,  2.50it/s]"
     ]
    },
    {
     "name": "stdout",
     "output_type": "stream",
     "text": [
      "390\n"
     ]
    },
    {
     "name": "stderr",
     "output_type": "stream",
     "text": [
      "\r",
      "391it [05:20,  2.74it/s]"
     ]
    },
    {
     "name": "stdout",
     "output_type": "stream",
     "text": [
      "391\n"
     ]
    },
    {
     "name": "stderr",
     "output_type": "stream",
     "text": [
      "\r",
      "392it [05:20,  3.00it/s]"
     ]
    },
    {
     "name": "stdout",
     "output_type": "stream",
     "text": [
      "392\n"
     ]
    },
    {
     "name": "stderr",
     "output_type": "stream",
     "text": [
      "\r",
      "393it [05:21,  3.25it/s]"
     ]
    },
    {
     "name": "stdout",
     "output_type": "stream",
     "text": [
      "393\n"
     ]
    },
    {
     "name": "stderr",
     "output_type": "stream",
     "text": [
      "\r",
      "394it [05:21,  3.08it/s]"
     ]
    },
    {
     "name": "stdout",
     "output_type": "stream",
     "text": [
      "394\n"
     ]
    },
    {
     "name": "stderr",
     "output_type": "stream",
     "text": [
      "\r",
      "395it [05:21,  2.52it/s]"
     ]
    },
    {
     "name": "stdout",
     "output_type": "stream",
     "text": [
      "395\n"
     ]
    },
    {
     "name": "stderr",
     "output_type": "stream",
     "text": [
      "\r",
      "396it [05:22,  2.74it/s]"
     ]
    },
    {
     "name": "stdout",
     "output_type": "stream",
     "text": [
      "396\n"
     ]
    },
    {
     "name": "stderr",
     "output_type": "stream",
     "text": [
      "\r",
      "397it [05:22,  2.97it/s]"
     ]
    },
    {
     "name": "stdout",
     "output_type": "stream",
     "text": [
      "397\n"
     ]
    },
    {
     "name": "stderr",
     "output_type": "stream",
     "text": [
      "\r",
      "398it [05:22,  3.34it/s]"
     ]
    },
    {
     "name": "stdout",
     "output_type": "stream",
     "text": [
      "398\n"
     ]
    },
    {
     "name": "stderr",
     "output_type": "stream",
     "text": [
      "\r",
      "399it [05:23,  3.10it/s]"
     ]
    },
    {
     "name": "stdout",
     "output_type": "stream",
     "text": [
      "399\n"
     ]
    },
    {
     "name": "stderr",
     "output_type": "stream",
     "text": [
      "\r",
      "400it [05:23,  3.10it/s]"
     ]
    },
    {
     "name": "stdout",
     "output_type": "stream",
     "text": [
      "400\n"
     ]
    },
    {
     "name": "stderr",
     "output_type": "stream",
     "text": [
      "\r",
      "401it [05:33,  3.31s/it]"
     ]
    },
    {
     "name": "stdout",
     "output_type": "stream",
     "text": [
      "401\n"
     ]
    },
    {
     "name": "stderr",
     "output_type": "stream",
     "text": [
      "\r",
      "402it [05:34,  2.43s/it]"
     ]
    },
    {
     "name": "stdout",
     "output_type": "stream",
     "text": [
      "402\n"
     ]
    },
    {
     "name": "stderr",
     "output_type": "stream",
     "text": [
      "\r",
      "403it [05:34,  1.80s/it]"
     ]
    },
    {
     "name": "stdout",
     "output_type": "stream",
     "text": [
      "403\n"
     ]
    },
    {
     "name": "stderr",
     "output_type": "stream",
     "text": [
      "\r",
      "404it [05:34,  1.37s/it]"
     ]
    },
    {
     "name": "stdout",
     "output_type": "stream",
     "text": [
      "404\n"
     ]
    },
    {
     "name": "stderr",
     "output_type": "stream",
     "text": [
      "\r",
      "405it [05:35,  1.07s/it]"
     ]
    },
    {
     "name": "stdout",
     "output_type": "stream",
     "text": [
      "405\n"
     ]
    },
    {
     "name": "stderr",
     "output_type": "stream",
     "text": [
      "\r",
      "406it [05:35,  1.20it/s]"
     ]
    },
    {
     "name": "stdout",
     "output_type": "stream",
     "text": [
      "406\n"
     ]
    },
    {
     "name": "stderr",
     "output_type": "stream",
     "text": [
      "\r",
      "407it [05:35,  1.47it/s]"
     ]
    },
    {
     "name": "stdout",
     "output_type": "stream",
     "text": [
      "407\n"
     ]
    },
    {
     "name": "stderr",
     "output_type": "stream",
     "text": [
      "\r",
      "408it [05:36,  1.79it/s]"
     ]
    },
    {
     "name": "stdout",
     "output_type": "stream",
     "text": [
      "408\n"
     ]
    },
    {
     "name": "stderr",
     "output_type": "stream",
     "text": [
      "\r",
      "409it [05:36,  1.98it/s]"
     ]
    },
    {
     "name": "stdout",
     "output_type": "stream",
     "text": [
      "409\n"
     ]
    },
    {
     "name": "stderr",
     "output_type": "stream",
     "text": [
      "\r",
      "410it [05:36,  2.40it/s]"
     ]
    },
    {
     "name": "stdout",
     "output_type": "stream",
     "text": [
      "410\n"
     ]
    },
    {
     "name": "stderr",
     "output_type": "stream",
     "text": [
      "\r",
      "411it [05:36,  2.71it/s]"
     ]
    },
    {
     "name": "stdout",
     "output_type": "stream",
     "text": [
      "411\n"
     ]
    },
    {
     "name": "stderr",
     "output_type": "stream",
     "text": [
      "\r",
      "412it [05:37,  2.79it/s]"
     ]
    },
    {
     "name": "stdout",
     "output_type": "stream",
     "text": [
      "412\n"
     ]
    },
    {
     "name": "stderr",
     "output_type": "stream",
     "text": [
      "\r",
      "413it [05:37,  2.97it/s]"
     ]
    },
    {
     "name": "stdout",
     "output_type": "stream",
     "text": [
      "413\n"
     ]
    },
    {
     "name": "stderr",
     "output_type": "stream",
     "text": [
      "415it [05:38,  3.51it/s]"
     ]
    },
    {
     "name": "stdout",
     "output_type": "stream",
     "text": [
      "414\n",
      "415\n"
     ]
    },
    {
     "name": "stderr",
     "output_type": "stream",
     "text": [
      "\r",
      "416it [05:38,  3.22it/s]"
     ]
    },
    {
     "name": "stdout",
     "output_type": "stream",
     "text": [
      "416\n"
     ]
    },
    {
     "name": "stderr",
     "output_type": "stream",
     "text": [
      "\r",
      "417it [05:38,  3.36it/s]"
     ]
    },
    {
     "name": "stdout",
     "output_type": "stream",
     "text": [
      "417\n"
     ]
    },
    {
     "name": "stderr",
     "output_type": "stream",
     "text": [
      "\r",
      "418it [05:38,  3.35it/s]"
     ]
    },
    {
     "name": "stdout",
     "output_type": "stream",
     "text": [
      "418\n"
     ]
    },
    {
     "name": "stderr",
     "output_type": "stream",
     "text": [
      "\r",
      "419it [05:39,  3.49it/s]"
     ]
    },
    {
     "name": "stdout",
     "output_type": "stream",
     "text": [
      "419\n"
     ]
    },
    {
     "name": "stderr",
     "output_type": "stream",
     "text": [
      "\r",
      "420it [05:39,  3.25it/s]"
     ]
    },
    {
     "name": "stdout",
     "output_type": "stream",
     "text": [
      "420\n"
     ]
    },
    {
     "name": "stderr",
     "output_type": "stream",
     "text": [
      "\r",
      "421it [05:49,  3.33s/it]"
     ]
    },
    {
     "name": "stdout",
     "output_type": "stream",
     "text": [
      "421\n"
     ]
    },
    {
     "name": "stderr",
     "output_type": "stream",
     "text": [
      "\r",
      "422it [05:50,  2.44s/it]"
     ]
    },
    {
     "name": "stdout",
     "output_type": "stream",
     "text": [
      "422\n"
     ]
    },
    {
     "name": "stderr",
     "output_type": "stream",
     "text": [
      "\r",
      "423it [05:50,  1.82s/it]"
     ]
    },
    {
     "name": "stdout",
     "output_type": "stream",
     "text": [
      "423\n"
     ]
    },
    {
     "name": "stderr",
     "output_type": "stream",
     "text": [
      "\r",
      "424it [05:50,  1.36s/it]"
     ]
    },
    {
     "name": "stdout",
     "output_type": "stream",
     "text": [
      "424\n"
     ]
    },
    {
     "name": "stderr",
     "output_type": "stream",
     "text": [
      "\r",
      "425it [05:51,  1.07s/it]"
     ]
    },
    {
     "name": "stdout",
     "output_type": "stream",
     "text": [
      "425\n"
     ]
    },
    {
     "name": "stderr",
     "output_type": "stream",
     "text": [
      "\r",
      "426it [05:51,  1.21it/s]"
     ]
    },
    {
     "name": "stdout",
     "output_type": "stream",
     "text": [
      "426\n"
     ]
    },
    {
     "name": "stderr",
     "output_type": "stream",
     "text": [
      "\r",
      "427it [05:51,  1.51it/s]"
     ]
    },
    {
     "name": "stdout",
     "output_type": "stream",
     "text": [
      "427\n"
     ]
    },
    {
     "name": "stderr",
     "output_type": "stream",
     "text": [
      "429it [05:52,  2.20it/s]"
     ]
    },
    {
     "name": "stdout",
     "output_type": "stream",
     "text": [
      "428\n",
      "429\n"
     ]
    },
    {
     "name": "stderr",
     "output_type": "stream",
     "text": [
      "\r",
      "430it [05:52,  2.48it/s]"
     ]
    },
    {
     "name": "stdout",
     "output_type": "stream",
     "text": [
      "430\n"
     ]
    },
    {
     "name": "stderr",
     "output_type": "stream",
     "text": [
      "\r",
      "431it [05:53,  2.54it/s]"
     ]
    },
    {
     "name": "stdout",
     "output_type": "stream",
     "text": [
      "431\n"
     ]
    },
    {
     "name": "stderr",
     "output_type": "stream",
     "text": [
      "\r",
      "432it [05:53,  2.92it/s]"
     ]
    },
    {
     "name": "stdout",
     "output_type": "stream",
     "text": [
      "432\n"
     ]
    },
    {
     "name": "stderr",
     "output_type": "stream",
     "text": [
      "\r",
      "433it [05:53,  2.83it/s]"
     ]
    },
    {
     "name": "stdout",
     "output_type": "stream",
     "text": [
      "433\n"
     ]
    },
    {
     "name": "stderr",
     "output_type": "stream",
     "text": [
      "\r",
      "434it [05:53,  3.14it/s]"
     ]
    },
    {
     "name": "stdout",
     "output_type": "stream",
     "text": [
      "434\n"
     ]
    },
    {
     "name": "stderr",
     "output_type": "stream",
     "text": [
      "\r",
      "435it [05:54,  3.27it/s]"
     ]
    },
    {
     "name": "stdout",
     "output_type": "stream",
     "text": [
      "435\n"
     ]
    },
    {
     "name": "stderr",
     "output_type": "stream",
     "text": [
      "\r",
      "436it [05:54,  3.59it/s]"
     ]
    },
    {
     "name": "stdout",
     "output_type": "stream",
     "text": [
      "436\n"
     ]
    },
    {
     "name": "stderr",
     "output_type": "stream",
     "text": [
      "\r",
      "437it [05:54,  3.19it/s]"
     ]
    },
    {
     "name": "stdout",
     "output_type": "stream",
     "text": [
      "437\n"
     ]
    },
    {
     "name": "stderr",
     "output_type": "stream",
     "text": [
      "\r",
      "438it [05:55,  3.48it/s]"
     ]
    },
    {
     "name": "stdout",
     "output_type": "stream",
     "text": [
      "438\n"
     ]
    },
    {
     "name": "stderr",
     "output_type": "stream",
     "text": [
      "\r",
      "439it [05:55,  3.57it/s]"
     ]
    },
    {
     "name": "stdout",
     "output_type": "stream",
     "text": [
      "439\n"
     ]
    },
    {
     "name": "stderr",
     "output_type": "stream",
     "text": [
      "\r",
      "440it [05:55,  3.26it/s]"
     ]
    },
    {
     "name": "stdout",
     "output_type": "stream",
     "text": [
      "440\n"
     ]
    },
    {
     "name": "stderr",
     "output_type": "stream",
     "text": [
      "442it [06:06,  2.37s/it]"
     ]
    },
    {
     "name": "stdout",
     "output_type": "stream",
     "text": [
      "441\n",
      "442\n"
     ]
    },
    {
     "name": "stderr",
     "output_type": "stream",
     "text": [
      "\r",
      "443it [06:06,  1.79s/it]"
     ]
    },
    {
     "name": "stdout",
     "output_type": "stream",
     "text": [
      "443\n"
     ]
    },
    {
     "name": "stderr",
     "output_type": "stream",
     "text": [
      "\r",
      "444it [06:06,  1.36s/it]"
     ]
    },
    {
     "name": "stdout",
     "output_type": "stream",
     "text": [
      "444\n"
     ]
    },
    {
     "name": "stderr",
     "output_type": "stream",
     "text": [
      "\r",
      "445it [06:07,  1.05s/it]"
     ]
    },
    {
     "name": "stdout",
     "output_type": "stream",
     "text": [
      "445\n"
     ]
    },
    {
     "name": "stderr",
     "output_type": "stream",
     "text": [
      "\r",
      "446it [06:07,  1.20it/s]"
     ]
    },
    {
     "name": "stdout",
     "output_type": "stream",
     "text": [
      "446\n"
     ]
    },
    {
     "name": "stderr",
     "output_type": "stream",
     "text": [
      "\r",
      "447it [06:07,  1.48it/s]"
     ]
    },
    {
     "name": "stdout",
     "output_type": "stream",
     "text": [
      "447\n"
     ]
    },
    {
     "name": "stderr",
     "output_type": "stream",
     "text": [
      "\r",
      "448it [06:08,  1.74it/s]"
     ]
    },
    {
     "name": "stdout",
     "output_type": "stream",
     "text": [
      "448\n"
     ]
    },
    {
     "name": "stderr",
     "output_type": "stream",
     "text": [
      "\r",
      "449it [06:08,  2.15it/s]"
     ]
    },
    {
     "name": "stdout",
     "output_type": "stream",
     "text": [
      "449\n"
     ]
    },
    {
     "name": "stderr",
     "output_type": "stream",
     "text": [
      "\r",
      "450it [06:08,  2.32it/s]"
     ]
    },
    {
     "name": "stdout",
     "output_type": "stream",
     "text": [
      "450\n"
     ]
    },
    {
     "name": "stderr",
     "output_type": "stream",
     "text": [
      "\r",
      "451it [06:09,  2.68it/s]"
     ]
    },
    {
     "name": "stdout",
     "output_type": "stream",
     "text": [
      "451\n"
     ]
    },
    {
     "name": "stderr",
     "output_type": "stream",
     "text": [
      "\r",
      "452it [06:09,  2.67it/s]"
     ]
    },
    {
     "name": "stdout",
     "output_type": "stream",
     "text": [
      "452\n"
     ]
    },
    {
     "name": "stderr",
     "output_type": "stream",
     "text": [
      "\r",
      "453it [06:09,  2.81it/s]"
     ]
    },
    {
     "name": "stdout",
     "output_type": "stream",
     "text": [
      "453\n"
     ]
    },
    {
     "name": "stderr",
     "output_type": "stream",
     "text": [
      "\r",
      "454it [06:10,  2.85it/s]"
     ]
    },
    {
     "name": "stdout",
     "output_type": "stream",
     "text": [
      "454\n"
     ]
    },
    {
     "name": "stderr",
     "output_type": "stream",
     "text": [
      "456it [06:10,  3.37it/s]"
     ]
    },
    {
     "name": "stdout",
     "output_type": "stream",
     "text": [
      "455\n",
      "456\n"
     ]
    },
    {
     "name": "stderr",
     "output_type": "stream",
     "text": [
      "458it [06:11,  3.71it/s]"
     ]
    },
    {
     "name": "stdout",
     "output_type": "stream",
     "text": [
      "457\n",
      "458\n"
     ]
    },
    {
     "name": "stderr",
     "output_type": "stream",
     "text": [
      "460it [06:11,  3.67it/s]"
     ]
    },
    {
     "name": "stdout",
     "output_type": "stream",
     "text": [
      "459\n",
      "460\n"
     ]
    },
    {
     "name": "stderr",
     "output_type": "stream",
     "text": [
      "\r",
      "461it [06:22,  3.27s/it]"
     ]
    },
    {
     "name": "stdout",
     "output_type": "stream",
     "text": [
      "461\n"
     ]
    },
    {
     "name": "stderr",
     "output_type": "stream",
     "text": [
      "\r",
      "462it [06:22,  2.37s/it]"
     ]
    },
    {
     "name": "stdout",
     "output_type": "stream",
     "text": [
      "462\n"
     ]
    },
    {
     "name": "stderr",
     "output_type": "stream",
     "text": [
      "\r",
      "463it [06:22,  1.75s/it]"
     ]
    },
    {
     "name": "stdout",
     "output_type": "stream",
     "text": [
      "463\n"
     ]
    },
    {
     "name": "stderr",
     "output_type": "stream",
     "text": [
      "\r",
      "464it [06:22,  1.33s/it]"
     ]
    },
    {
     "name": "stdout",
     "output_type": "stream",
     "text": [
      "464\n"
     ]
    },
    {
     "name": "stderr",
     "output_type": "stream",
     "text": [
      "\r",
      "465it [06:23,  1.04s/it]"
     ]
    },
    {
     "name": "stdout",
     "output_type": "stream",
     "text": [
      "465\n"
     ]
    },
    {
     "name": "stderr",
     "output_type": "stream",
     "text": [
      "467it [06:23,  1.65it/s]"
     ]
    },
    {
     "name": "stdout",
     "output_type": "stream",
     "text": [
      "466\n",
      "467\n"
     ]
    },
    {
     "name": "stderr",
     "output_type": "stream",
     "text": [
      "\r",
      "468it [06:23,  2.04it/s]"
     ]
    },
    {
     "name": "stdout",
     "output_type": "stream",
     "text": [
      "468\n"
     ]
    },
    {
     "name": "stderr",
     "output_type": "stream",
     "text": [
      "\r",
      "469it [06:24,  2.45it/s]"
     ]
    },
    {
     "name": "stdout",
     "output_type": "stream",
     "text": [
      "469\n"
     ]
    },
    {
     "name": "stderr",
     "output_type": "stream",
     "text": [
      "\r",
      "470it [06:24,  2.41it/s]"
     ]
    },
    {
     "name": "stdout",
     "output_type": "stream",
     "text": [
      "470\n"
     ]
    },
    {
     "name": "stderr",
     "output_type": "stream",
     "text": [
      "\r",
      "471it [06:24,  2.72it/s]"
     ]
    },
    {
     "name": "stdout",
     "output_type": "stream",
     "text": [
      "471\n"
     ]
    },
    {
     "name": "stderr",
     "output_type": "stream",
     "text": [
      "\r",
      "472it [06:25,  2.72it/s]"
     ]
    },
    {
     "name": "stdout",
     "output_type": "stream",
     "text": [
      "472\n"
     ]
    },
    {
     "name": "stderr",
     "output_type": "stream",
     "text": [
      "474it [06:25,  3.23it/s]"
     ]
    },
    {
     "name": "stdout",
     "output_type": "stream",
     "text": [
      "473\n",
      "474\n"
     ]
    },
    {
     "name": "stderr",
     "output_type": "stream",
     "text": [
      "\r",
      "475it [06:26,  3.46it/s]"
     ]
    },
    {
     "name": "stdout",
     "output_type": "stream",
     "text": [
      "475\n"
     ]
    },
    {
     "name": "stderr",
     "output_type": "stream",
     "text": [
      "\r",
      "476it [06:26,  3.05it/s]"
     ]
    },
    {
     "name": "stdout",
     "output_type": "stream",
     "text": [
      "476\n"
     ]
    },
    {
     "name": "stderr",
     "output_type": "stream",
     "text": [
      "\r",
      "477it [06:26,  2.72it/s]"
     ]
    },
    {
     "name": "stdout",
     "output_type": "stream",
     "text": [
      "477\n"
     ]
    },
    {
     "name": "stderr",
     "output_type": "stream",
     "text": [
      "\r",
      "478it [06:27,  2.87it/s]"
     ]
    },
    {
     "name": "stdout",
     "output_type": "stream",
     "text": [
      "478\n"
     ]
    },
    {
     "name": "stderr",
     "output_type": "stream",
     "text": [
      "\r",
      "479it [06:27,  2.78it/s]"
     ]
    },
    {
     "name": "stdout",
     "output_type": "stream",
     "text": [
      "479\n"
     ]
    },
    {
     "name": "stderr",
     "output_type": "stream",
     "text": [
      "\r",
      "480it [06:27,  2.72it/s]"
     ]
    },
    {
     "name": "stdout",
     "output_type": "stream",
     "text": [
      "480\n"
     ]
    },
    {
     "name": "stderr",
     "output_type": "stream",
     "text": [
      "482it [06:38,  2.45s/it]"
     ]
    },
    {
     "name": "stdout",
     "output_type": "stream",
     "text": [
      "481\n",
      "482\n"
     ]
    },
    {
     "name": "stderr",
     "output_type": "stream",
     "text": [
      "\r",
      "483it [06:38,  1.80s/it]"
     ]
    },
    {
     "name": "stdout",
     "output_type": "stream",
     "text": [
      "483\n"
     ]
    },
    {
     "name": "stderr",
     "output_type": "stream",
     "text": [
      "\r",
      "484it [06:39,  1.33s/it]"
     ]
    },
    {
     "name": "stdout",
     "output_type": "stream",
     "text": [
      "484\n"
     ]
    },
    {
     "name": "stderr",
     "output_type": "stream",
     "text": [
      "\r",
      "485it [06:39,  1.15s/it]"
     ]
    },
    {
     "name": "stdout",
     "output_type": "stream",
     "text": [
      "485\n"
     ]
    },
    {
     "name": "stderr",
     "output_type": "stream",
     "text": [
      "\r",
      "486it [06:40,  1.09it/s]"
     ]
    },
    {
     "name": "stdout",
     "output_type": "stream",
     "text": [
      "486\n"
     ]
    },
    {
     "name": "stderr",
     "output_type": "stream",
     "text": [
      "\r",
      "487it [06:40,  1.35it/s]"
     ]
    },
    {
     "name": "stdout",
     "output_type": "stream",
     "text": [
      "487\n"
     ]
    },
    {
     "name": "stderr",
     "output_type": "stream",
     "text": [
      "\r",
      "488it [06:40,  1.62it/s]"
     ]
    },
    {
     "name": "stdout",
     "output_type": "stream",
     "text": [
      "488\n"
     ]
    },
    {
     "name": "stderr",
     "output_type": "stream",
     "text": [
      "490it [06:41,  2.35it/s]"
     ]
    },
    {
     "name": "stdout",
     "output_type": "stream",
     "text": [
      "489\n",
      "490\n"
     ]
    },
    {
     "name": "stderr",
     "output_type": "stream",
     "text": [
      "\r",
      "491it [06:41,  2.42it/s]"
     ]
    },
    {
     "name": "stdout",
     "output_type": "stream",
     "text": [
      "491\n"
     ]
    },
    {
     "name": "stderr",
     "output_type": "stream",
     "text": [
      "\r",
      "492it [06:42,  2.50it/s]"
     ]
    },
    {
     "name": "stdout",
     "output_type": "stream",
     "text": [
      "492\n"
     ]
    },
    {
     "name": "stderr",
     "output_type": "stream",
     "text": [
      "\r",
      "493it [06:42,  2.51it/s]"
     ]
    },
    {
     "name": "stdout",
     "output_type": "stream",
     "text": [
      "493\n"
     ]
    },
    {
     "name": "stderr",
     "output_type": "stream",
     "text": [
      "\r",
      "494it [06:42,  2.76it/s]"
     ]
    },
    {
     "name": "stdout",
     "output_type": "stream",
     "text": [
      "494\n"
     ]
    },
    {
     "name": "stderr",
     "output_type": "stream",
     "text": [
      "\r",
      "495it [06:43,  2.75it/s]"
     ]
    },
    {
     "name": "stdout",
     "output_type": "stream",
     "text": [
      "495\n"
     ]
    },
    {
     "name": "stderr",
     "output_type": "stream",
     "text": [
      "\r",
      "496it [06:43,  3.14it/s]"
     ]
    },
    {
     "name": "stdout",
     "output_type": "stream",
     "text": [
      "496\n"
     ]
    },
    {
     "name": "stderr",
     "output_type": "stream",
     "text": [
      "498it [06:44,  3.25it/s]"
     ]
    },
    {
     "name": "stdout",
     "output_type": "stream",
     "text": [
      "497\n",
      "498\n"
     ]
    },
    {
     "name": "stderr",
     "output_type": "stream",
     "text": [
      "\r",
      "499it [06:44,  3.34it/s]"
     ]
    },
    {
     "name": "stdout",
     "output_type": "stream",
     "text": [
      "499\n"
     ]
    },
    {
     "name": "stderr",
     "output_type": "stream",
     "text": [
      "\r",
      "500it [06:44,  3.49it/s]"
     ]
    },
    {
     "name": "stdout",
     "output_type": "stream",
     "text": [
      "500\n"
     ]
    },
    {
     "name": "stderr",
     "output_type": "stream",
     "text": [
      "\r",
      "501it [06:54,  3.29s/it]"
     ]
    },
    {
     "name": "stdout",
     "output_type": "stream",
     "text": [
      "501\n"
     ]
    },
    {
     "name": "stderr",
     "output_type": "stream",
     "text": [
      "503it [06:55,  1.21it/s]"
     ]
    },
    {
     "name": "stdout",
     "output_type": "stream",
     "text": [
      "502\n"
     ]
    },
    {
     "name": "stderr",
     "output_type": "stream",
     "text": [
      "\n"
     ]
    }
   ],
   "source": [
    "df_hst_tickers, exc_tickers = append_tickers(tickers, df_hst_tickers, exc_tickers)"
   ]
  },
  {
   "cell_type": "markdown",
   "id": "0757bca0",
   "metadata": {},
   "source": [
    "## Saving downloaded stock data\n",
    "\n",
    "The following line saves the downloaded data as a pickle file. This is done in order to avoid redownloading all the data again. If you want to save the data, the uncomment it."
   ]
  },
  {
   "cell_type": "code",
   "execution_count": 6,
   "id": "ec45fbe4",
   "metadata": {},
   "outputs": [
    {
     "data": {
      "text/plain": [
       "503"
      ]
     },
     "execution_count": 6,
     "metadata": {},
     "output_type": "execute_result"
    }
   ],
   "source": [
    "len(df_hst_tickers.keys())"
   ]
  },
  {
   "cell_type": "code",
   "execution_count": 7,
   "id": "de254256",
   "metadata": {},
   "outputs": [],
   "source": [
    "with open('../datasharing/hist_stock_data.pkl','wb') as file:\n",
    "    pickle.dump(df_hst_tickers, file)"
   ]
  },
  {
   "cell_type": "markdown",
   "id": "0beb1d42",
   "metadata": {},
   "source": [
    "## Loading downloaded stock data\n",
    "\n",
    "The following line load the pickle file that contains the downloaded data. We will then create a single dataframe."
   ]
  },
  {
   "cell_type": "code",
   "execution_count": 21,
   "id": "892d6615",
   "metadata": {},
   "outputs": [],
   "source": [
    "# Load the pickle file that contains the full data for each stock\n",
    "with open('../../../datasharing/hist_stock_data.pkl','rb') as file:\n",
    "    df_hst_tickers = pickle.load(file)"
   ]
  },
  {
   "cell_type": "code",
   "execution_count": 22,
   "id": "393f478d",
   "metadata": {},
   "outputs": [],
   "source": [
    "# Chose the label \"Close\" as the main label to analyse the price series\n",
    "label = 'Close'\n",
    "df_close_stocks = pd.DataFrame([])\n",
    "for key, df in df_hst_tickers.items():\n",
    "    df_close_stocks = pd.concat([df_close_stocks, df[label]], axis = 1)"
   ]
  },
  {
   "cell_type": "code",
   "execution_count": 23,
   "id": "2142ec1a",
   "metadata": {},
   "outputs": [
    {
     "name": "stderr",
     "output_type": "stream",
     "text": [
      "/tmp/ipykernel_1161031/2935541711.py:3: PerformanceWarning: DataFrame is highly fragmented.  This is usually the result of calling `frame.insert` many times, which has poor performance.  Consider joining all columns at once using pd.concat(axis=1) instead. To get a de-fragmented frame, use `newframe = frame.copy()`\n",
      "  df_close_stocks['date'] = df_close_stocks.index\n"
     ]
    }
   ],
   "source": [
    "# Create a single data frame that cotains the series data from all the SP500 stocks\n",
    "df_close_stocks.columns = list(df_hst_tickers.keys())\n",
    "df_close_stocks['date'] = df_close_stocks.index\n",
    "df_close_stocks.index = pd.to_datetime(df_close_stocks['date'])"
   ]
  },
  {
   "cell_type": "code",
   "execution_count": 24,
   "id": "1bc3a6f4",
   "metadata": {
    "scrolled": true
   },
   "outputs": [
    {
     "data": {
      "text/html": [
       "<div>\n",
       "<style scoped>\n",
       "    .dataframe tbody tr th:only-of-type {\n",
       "        vertical-align: middle;\n",
       "    }\n",
       "\n",
       "    .dataframe tbody tr th {\n",
       "        vertical-align: top;\n",
       "    }\n",
       "\n",
       "    .dataframe thead th {\n",
       "        text-align: right;\n",
       "    }\n",
       "</style>\n",
       "<table border=\"1\" class=\"dataframe\">\n",
       "  <thead>\n",
       "    <tr style=\"text-align: right;\">\n",
       "      <th></th>\n",
       "      <th>MMM</th>\n",
       "      <th>AOS</th>\n",
       "      <th>ABT</th>\n",
       "      <th>ABBV</th>\n",
       "      <th>ACN</th>\n",
       "      <th>ADBE</th>\n",
       "      <th>AMD</th>\n",
       "      <th>AES</th>\n",
       "      <th>AFL</th>\n",
       "      <th>A</th>\n",
       "      <th>...</th>\n",
       "      <th>GWW</th>\n",
       "      <th>WYNN</th>\n",
       "      <th>XEL</th>\n",
       "      <th>XYL</th>\n",
       "      <th>YUM</th>\n",
       "      <th>ZBRA</th>\n",
       "      <th>ZBH</th>\n",
       "      <th>ZION</th>\n",
       "      <th>ZTS</th>\n",
       "      <th>date</th>\n",
       "    </tr>\n",
       "    <tr>\n",
       "      <th>date</th>\n",
       "      <th></th>\n",
       "      <th></th>\n",
       "      <th></th>\n",
       "      <th></th>\n",
       "      <th></th>\n",
       "      <th></th>\n",
       "      <th></th>\n",
       "      <th></th>\n",
       "      <th></th>\n",
       "      <th></th>\n",
       "      <th></th>\n",
       "      <th></th>\n",
       "      <th></th>\n",
       "      <th></th>\n",
       "      <th></th>\n",
       "      <th></th>\n",
       "      <th></th>\n",
       "      <th></th>\n",
       "      <th></th>\n",
       "      <th></th>\n",
       "      <th></th>\n",
       "    </tr>\n",
       "  </thead>\n",
       "  <tbody>\n",
       "    <tr>\n",
       "      <th>1962-01-02 00:00:00-05:00</th>\n",
       "      <td>0.702820</td>\n",
       "      <td>NaN</td>\n",
       "      <td>NaN</td>\n",
       "      <td>NaN</td>\n",
       "      <td>NaN</td>\n",
       "      <td>NaN</td>\n",
       "      <td>NaN</td>\n",
       "      <td>NaN</td>\n",
       "      <td>NaN</td>\n",
       "      <td>NaN</td>\n",
       "      <td>...</td>\n",
       "      <td>NaN</td>\n",
       "      <td>NaN</td>\n",
       "      <td>NaN</td>\n",
       "      <td>NaN</td>\n",
       "      <td>NaN</td>\n",
       "      <td>NaN</td>\n",
       "      <td>NaN</td>\n",
       "      <td>NaN</td>\n",
       "      <td>NaN</td>\n",
       "      <td>1962-01-02 00:00:00-05:00</td>\n",
       "    </tr>\n",
       "    <tr>\n",
       "      <th>1962-01-03 00:00:00-05:00</th>\n",
       "      <td>0.708104</td>\n",
       "      <td>NaN</td>\n",
       "      <td>NaN</td>\n",
       "      <td>NaN</td>\n",
       "      <td>NaN</td>\n",
       "      <td>NaN</td>\n",
       "      <td>NaN</td>\n",
       "      <td>NaN</td>\n",
       "      <td>NaN</td>\n",
       "      <td>NaN</td>\n",
       "      <td>...</td>\n",
       "      <td>NaN</td>\n",
       "      <td>NaN</td>\n",
       "      <td>NaN</td>\n",
       "      <td>NaN</td>\n",
       "      <td>NaN</td>\n",
       "      <td>NaN</td>\n",
       "      <td>NaN</td>\n",
       "      <td>NaN</td>\n",
       "      <td>NaN</td>\n",
       "      <td>1962-01-03 00:00:00-05:00</td>\n",
       "    </tr>\n",
       "    <tr>\n",
       "      <th>1962-01-04 00:00:00-05:00</th>\n",
       "      <td>0.708104</td>\n",
       "      <td>NaN</td>\n",
       "      <td>NaN</td>\n",
       "      <td>NaN</td>\n",
       "      <td>NaN</td>\n",
       "      <td>NaN</td>\n",
       "      <td>NaN</td>\n",
       "      <td>NaN</td>\n",
       "      <td>NaN</td>\n",
       "      <td>NaN</td>\n",
       "      <td>...</td>\n",
       "      <td>NaN</td>\n",
       "      <td>NaN</td>\n",
       "      <td>NaN</td>\n",
       "      <td>NaN</td>\n",
       "      <td>NaN</td>\n",
       "      <td>NaN</td>\n",
       "      <td>NaN</td>\n",
       "      <td>NaN</td>\n",
       "      <td>NaN</td>\n",
       "      <td>1962-01-04 00:00:00-05:00</td>\n",
       "    </tr>\n",
       "    <tr>\n",
       "      <th>1962-01-05 00:00:00-05:00</th>\n",
       "      <td>0.689609</td>\n",
       "      <td>NaN</td>\n",
       "      <td>NaN</td>\n",
       "      <td>NaN</td>\n",
       "      <td>NaN</td>\n",
       "      <td>NaN</td>\n",
       "      <td>NaN</td>\n",
       "      <td>NaN</td>\n",
       "      <td>NaN</td>\n",
       "      <td>NaN</td>\n",
       "      <td>...</td>\n",
       "      <td>NaN</td>\n",
       "      <td>NaN</td>\n",
       "      <td>NaN</td>\n",
       "      <td>NaN</td>\n",
       "      <td>NaN</td>\n",
       "      <td>NaN</td>\n",
       "      <td>NaN</td>\n",
       "      <td>NaN</td>\n",
       "      <td>NaN</td>\n",
       "      <td>1962-01-05 00:00:00-05:00</td>\n",
       "    </tr>\n",
       "    <tr>\n",
       "      <th>1962-01-08 00:00:00-05:00</th>\n",
       "      <td>0.685646</td>\n",
       "      <td>NaN</td>\n",
       "      <td>NaN</td>\n",
       "      <td>NaN</td>\n",
       "      <td>NaN</td>\n",
       "      <td>NaN</td>\n",
       "      <td>NaN</td>\n",
       "      <td>NaN</td>\n",
       "      <td>NaN</td>\n",
       "      <td>NaN</td>\n",
       "      <td>...</td>\n",
       "      <td>NaN</td>\n",
       "      <td>NaN</td>\n",
       "      <td>NaN</td>\n",
       "      <td>NaN</td>\n",
       "      <td>NaN</td>\n",
       "      <td>NaN</td>\n",
       "      <td>NaN</td>\n",
       "      <td>NaN</td>\n",
       "      <td>NaN</td>\n",
       "      <td>1962-01-08 00:00:00-05:00</td>\n",
       "    </tr>\n",
       "    <tr>\n",
       "      <th>...</th>\n",
       "      <td>...</td>\n",
       "      <td>...</td>\n",
       "      <td>...</td>\n",
       "      <td>...</td>\n",
       "      <td>...</td>\n",
       "      <td>...</td>\n",
       "      <td>...</td>\n",
       "      <td>...</td>\n",
       "      <td>...</td>\n",
       "      <td>...</td>\n",
       "      <td>...</td>\n",
       "      <td>...</td>\n",
       "      <td>...</td>\n",
       "      <td>...</td>\n",
       "      <td>...</td>\n",
       "      <td>...</td>\n",
       "      <td>...</td>\n",
       "      <td>...</td>\n",
       "      <td>...</td>\n",
       "      <td>...</td>\n",
       "      <td>...</td>\n",
       "    </tr>\n",
       "    <tr>\n",
       "      <th>2023-12-11 00:00:00-05:00</th>\n",
       "      <td>103.160004</td>\n",
       "      <td>78.040001</td>\n",
       "      <td>106.220001</td>\n",
       "      <td>151.240005</td>\n",
       "      <td>342.309998</td>\n",
       "      <td>625.200012</td>\n",
       "      <td>134.410004</td>\n",
       "      <td>18.049999</td>\n",
       "      <td>83.110001</td>\n",
       "      <td>128.970001</td>\n",
       "      <td>...</td>\n",
       "      <td>817.440002</td>\n",
       "      <td>86.000000</td>\n",
       "      <td>61.549999</td>\n",
       "      <td>107.699997</td>\n",
       "      <td>126.629997</td>\n",
       "      <td>239.649994</td>\n",
       "      <td>117.980003</td>\n",
       "      <td>38.630001</td>\n",
       "      <td>189.460007</td>\n",
       "      <td>2023-12-11 00:00:00-05:00</td>\n",
       "    </tr>\n",
       "    <tr>\n",
       "      <th>2023-12-12 00:00:00-05:00</th>\n",
       "      <td>102.559998</td>\n",
       "      <td>79.480003</td>\n",
       "      <td>106.680000</td>\n",
       "      <td>153.240005</td>\n",
       "      <td>343.220001</td>\n",
       "      <td>633.659973</td>\n",
       "      <td>137.610001</td>\n",
       "      <td>18.209999</td>\n",
       "      <td>84.349998</td>\n",
       "      <td>128.789993</td>\n",
       "      <td>...</td>\n",
       "      <td>821.070007</td>\n",
       "      <td>86.230003</td>\n",
       "      <td>61.160000</td>\n",
       "      <td>107.940002</td>\n",
       "      <td>128.070007</td>\n",
       "      <td>239.380005</td>\n",
       "      <td>117.449997</td>\n",
       "      <td>38.130001</td>\n",
       "      <td>191.470001</td>\n",
       "      <td>2023-12-12 00:00:00-05:00</td>\n",
       "    </tr>\n",
       "    <tr>\n",
       "      <th>2023-12-13 00:00:00-05:00</th>\n",
       "      <td>104.190002</td>\n",
       "      <td>79.529999</td>\n",
       "      <td>107.250000</td>\n",
       "      <td>154.300003</td>\n",
       "      <td>343.640015</td>\n",
       "      <td>624.260010</td>\n",
       "      <td>138.190002</td>\n",
       "      <td>19.330000</td>\n",
       "      <td>84.029999</td>\n",
       "      <td>133.740005</td>\n",
       "      <td>...</td>\n",
       "      <td>818.809998</td>\n",
       "      <td>88.019997</td>\n",
       "      <td>63.330002</td>\n",
       "      <td>109.180000</td>\n",
       "      <td>130.929993</td>\n",
       "      <td>244.429993</td>\n",
       "      <td>117.900002</td>\n",
       "      <td>41.820000</td>\n",
       "      <td>197.410004</td>\n",
       "      <td>2023-12-13 00:00:00-05:00</td>\n",
       "    </tr>\n",
       "    <tr>\n",
       "      <th>2023-12-14 00:00:00-05:00</th>\n",
       "      <td>107.040001</td>\n",
       "      <td>80.589996</td>\n",
       "      <td>108.599998</td>\n",
       "      <td>154.880005</td>\n",
       "      <td>342.730011</td>\n",
       "      <td>584.640015</td>\n",
       "      <td>138.000000</td>\n",
       "      <td>19.629999</td>\n",
       "      <td>81.279999</td>\n",
       "      <td>137.960007</td>\n",
       "      <td>...</td>\n",
       "      <td>828.809998</td>\n",
       "      <td>89.800003</td>\n",
       "      <td>62.570000</td>\n",
       "      <td>110.930000</td>\n",
       "      <td>131.110001</td>\n",
       "      <td>272.160004</td>\n",
       "      <td>118.529999</td>\n",
       "      <td>45.669998</td>\n",
       "      <td>200.089996</td>\n",
       "      <td>2023-12-14 00:00:00-05:00</td>\n",
       "    </tr>\n",
       "    <tr>\n",
       "      <th>2023-12-15 00:00:00-05:00</th>\n",
       "      <td>106.980003</td>\n",
       "      <td>79.199997</td>\n",
       "      <td>107.290001</td>\n",
       "      <td>154.039993</td>\n",
       "      <td>344.149994</td>\n",
       "      <td>584.679993</td>\n",
       "      <td>139.149994</td>\n",
       "      <td>19.350000</td>\n",
       "      <td>80.570000</td>\n",
       "      <td>136.779999</td>\n",
       "      <td>...</td>\n",
       "      <td>823.539978</td>\n",
       "      <td>88.760002</td>\n",
       "      <td>61.580002</td>\n",
       "      <td>110.720001</td>\n",
       "      <td>128.639999</td>\n",
       "      <td>270.179993</td>\n",
       "      <td>118.690002</td>\n",
       "      <td>43.840000</td>\n",
       "      <td>196.289993</td>\n",
       "      <td>2023-12-15 00:00:00-05:00</td>\n",
       "    </tr>\n",
       "  </tbody>\n",
       "</table>\n",
       "<p>15597 rows × 504 columns</p>\n",
       "</div>"
      ],
      "text/plain": [
       "                                  MMM        AOS         ABT        ABBV   \n",
       "date                                                                       \n",
       "1962-01-02 00:00:00-05:00    0.702820        NaN         NaN         NaN  \\\n",
       "1962-01-03 00:00:00-05:00    0.708104        NaN         NaN         NaN   \n",
       "1962-01-04 00:00:00-05:00    0.708104        NaN         NaN         NaN   \n",
       "1962-01-05 00:00:00-05:00    0.689609        NaN         NaN         NaN   \n",
       "1962-01-08 00:00:00-05:00    0.685646        NaN         NaN         NaN   \n",
       "...                               ...        ...         ...         ...   \n",
       "2023-12-11 00:00:00-05:00  103.160004  78.040001  106.220001  151.240005   \n",
       "2023-12-12 00:00:00-05:00  102.559998  79.480003  106.680000  153.240005   \n",
       "2023-12-13 00:00:00-05:00  104.190002  79.529999  107.250000  154.300003   \n",
       "2023-12-14 00:00:00-05:00  107.040001  80.589996  108.599998  154.880005   \n",
       "2023-12-15 00:00:00-05:00  106.980003  79.199997  107.290001  154.039993   \n",
       "\n",
       "                                  ACN        ADBE         AMD        AES   \n",
       "date                                                                       \n",
       "1962-01-02 00:00:00-05:00         NaN         NaN         NaN        NaN  \\\n",
       "1962-01-03 00:00:00-05:00         NaN         NaN         NaN        NaN   \n",
       "1962-01-04 00:00:00-05:00         NaN         NaN         NaN        NaN   \n",
       "1962-01-05 00:00:00-05:00         NaN         NaN         NaN        NaN   \n",
       "1962-01-08 00:00:00-05:00         NaN         NaN         NaN        NaN   \n",
       "...                               ...         ...         ...        ...   \n",
       "2023-12-11 00:00:00-05:00  342.309998  625.200012  134.410004  18.049999   \n",
       "2023-12-12 00:00:00-05:00  343.220001  633.659973  137.610001  18.209999   \n",
       "2023-12-13 00:00:00-05:00  343.640015  624.260010  138.190002  19.330000   \n",
       "2023-12-14 00:00:00-05:00  342.730011  584.640015  138.000000  19.629999   \n",
       "2023-12-15 00:00:00-05:00  344.149994  584.679993  139.149994  19.350000   \n",
       "\n",
       "                                 AFL           A  ...         GWW       WYNN   \n",
       "date                                              ...                          \n",
       "1962-01-02 00:00:00-05:00        NaN         NaN  ...         NaN        NaN  \\\n",
       "1962-01-03 00:00:00-05:00        NaN         NaN  ...         NaN        NaN   \n",
       "1962-01-04 00:00:00-05:00        NaN         NaN  ...         NaN        NaN   \n",
       "1962-01-05 00:00:00-05:00        NaN         NaN  ...         NaN        NaN   \n",
       "1962-01-08 00:00:00-05:00        NaN         NaN  ...         NaN        NaN   \n",
       "...                              ...         ...  ...         ...        ...   \n",
       "2023-12-11 00:00:00-05:00  83.110001  128.970001  ...  817.440002  86.000000   \n",
       "2023-12-12 00:00:00-05:00  84.349998  128.789993  ...  821.070007  86.230003   \n",
       "2023-12-13 00:00:00-05:00  84.029999  133.740005  ...  818.809998  88.019997   \n",
       "2023-12-14 00:00:00-05:00  81.279999  137.960007  ...  828.809998  89.800003   \n",
       "2023-12-15 00:00:00-05:00  80.570000  136.779999  ...  823.539978  88.760002   \n",
       "\n",
       "                                 XEL         XYL         YUM        ZBRA   \n",
       "date                                                                       \n",
       "1962-01-02 00:00:00-05:00        NaN         NaN         NaN         NaN  \\\n",
       "1962-01-03 00:00:00-05:00        NaN         NaN         NaN         NaN   \n",
       "1962-01-04 00:00:00-05:00        NaN         NaN         NaN         NaN   \n",
       "1962-01-05 00:00:00-05:00        NaN         NaN         NaN         NaN   \n",
       "1962-01-08 00:00:00-05:00        NaN         NaN         NaN         NaN   \n",
       "...                              ...         ...         ...         ...   \n",
       "2023-12-11 00:00:00-05:00  61.549999  107.699997  126.629997  239.649994   \n",
       "2023-12-12 00:00:00-05:00  61.160000  107.940002  128.070007  239.380005   \n",
       "2023-12-13 00:00:00-05:00  63.330002  109.180000  130.929993  244.429993   \n",
       "2023-12-14 00:00:00-05:00  62.570000  110.930000  131.110001  272.160004   \n",
       "2023-12-15 00:00:00-05:00  61.580002  110.720001  128.639999  270.179993   \n",
       "\n",
       "                                  ZBH       ZION         ZTS   \n",
       "date                                                           \n",
       "1962-01-02 00:00:00-05:00         NaN        NaN         NaN  \\\n",
       "1962-01-03 00:00:00-05:00         NaN        NaN         NaN   \n",
       "1962-01-04 00:00:00-05:00         NaN        NaN         NaN   \n",
       "1962-01-05 00:00:00-05:00         NaN        NaN         NaN   \n",
       "1962-01-08 00:00:00-05:00         NaN        NaN         NaN   \n",
       "...                               ...        ...         ...   \n",
       "2023-12-11 00:00:00-05:00  117.980003  38.630001  189.460007   \n",
       "2023-12-12 00:00:00-05:00  117.449997  38.130001  191.470001   \n",
       "2023-12-13 00:00:00-05:00  117.900002  41.820000  197.410004   \n",
       "2023-12-14 00:00:00-05:00  118.529999  45.669998  200.089996   \n",
       "2023-12-15 00:00:00-05:00  118.690002  43.840000  196.289993   \n",
       "\n",
       "                                               date  \n",
       "date                                                 \n",
       "1962-01-02 00:00:00-05:00 1962-01-02 00:00:00-05:00  \n",
       "1962-01-03 00:00:00-05:00 1962-01-03 00:00:00-05:00  \n",
       "1962-01-04 00:00:00-05:00 1962-01-04 00:00:00-05:00  \n",
       "1962-01-05 00:00:00-05:00 1962-01-05 00:00:00-05:00  \n",
       "1962-01-08 00:00:00-05:00 1962-01-08 00:00:00-05:00  \n",
       "...                                             ...  \n",
       "2023-12-11 00:00:00-05:00 2023-12-11 00:00:00-05:00  \n",
       "2023-12-12 00:00:00-05:00 2023-12-12 00:00:00-05:00  \n",
       "2023-12-13 00:00:00-05:00 2023-12-13 00:00:00-05:00  \n",
       "2023-12-14 00:00:00-05:00 2023-12-14 00:00:00-05:00  \n",
       "2023-12-15 00:00:00-05:00 2023-12-15 00:00:00-05:00  \n",
       "\n",
       "[15597 rows x 504 columns]"
      ]
     },
     "execution_count": 24,
     "metadata": {},
     "output_type": "execute_result"
    }
   ],
   "source": [
    "df_close_stocks"
   ]
  },
  {
   "cell_type": "markdown",
   "id": "e3428f9a",
   "metadata": {},
   "source": [
    "### Getting statistics from all the stocks\n",
    "\n",
    "We define a function that computes the mean return, and the mean sharpe ratio of the stock series.\n",
    "We can define the frequency of how we want to compute those statistics (yearly, monthly, weekly, ...)\n"
   ]
  },
  {
   "cell_type": "code",
   "execution_count": 25,
   "id": "50311053",
   "metadata": {},
   "outputs": [],
   "source": [
    "# Creating the function that compute the statistics\n",
    "\n",
    "def get_stats(df_close_stocks, tickers, years = None, inter = None, freq = 'M', min_els = 6):\n",
    "    \"\"\"\n",
    "    This function produces some statistics using a dataframe fille with stocks.\n",
    "    Precisely the average mean return and the sharpe ratio.\n",
    "    Args:\n",
    "        df_hst_tickers (dict) - contains dataframes for multiple stocks\n",
    "        tickers (list) - the list of tickers to compute the statistics \n",
    "        years (list) - the list of years to compute the statistics\n",
    "        inter (slice) - A slice that precises the data indexs to compute the statistics\n",
    "        freq (str) - the frequency for the statistics (Y,M,W,2W, ...)\n",
    "        min_els(int) - the minimum quantity of elements in the series required\n",
    "            after the frequency postprocessing.\n",
    "    \"\"\"\n",
    "    st_stats = {}\n",
    "    for ticker in tickers:\n",
    "        if years:\n",
    "            tmp_df = df_close_stocks[df_close_stocks['date'].dt.year.isin(years)]\n",
    "        elif inter:\n",
    "            tmp_df = df_close_stocks.iloc[inter]\n",
    "\n",
    "        pc_m = tmp_df[ticker].pct_change(periods = 1, freq = freq).dropna()\n",
    "\n",
    "        # discart ticket if not enough data\n",
    "        if pc_m.shape[0] < min_els:\n",
    "            continue\n",
    "            \n",
    "        av_ret = pc_m.mean()\n",
    "        sr = av_ret / pc_m.std()\n",
    "        st_stats[ticker] = {\"sr\":sr, 'av_ret':av_ret}\n",
    "            \n",
    "    return st_stats\n",
    "\n",
    "def df_and_sort(st_stats, col):\n",
    "    \"\"\"\n",
    "    Function that creates a dataframe using a dictionary with of stocks with statistics\n",
    "    metrics and sort the dataframe based on the column name precised.\n",
    "    Args:\n",
    "        st_stats (dict) - The dictionary containing the statistics.\n",
    "        col (str) - The name of the column for sorting.\n",
    "    \"\"\"\n",
    "    df_stats = pd.DataFrame(st_stats).transpose()\n",
    "    df_stats.sort_values(by=col, inplace = True, ascending = False)\n",
    "    return df_stats"
   ]
  },
  {
   "cell_type": "code",
   "execution_count": 26,
   "id": "f2ccc750",
   "metadata": {},
   "outputs": [],
   "source": [
    "years_tr = list(range(2003,2014))\n",
    "years_tst = list(range(2014,2024))"
   ]
  },
  {
   "cell_type": "code",
   "execution_count": 27,
   "id": "76145a6b",
   "metadata": {},
   "outputs": [],
   "source": [
    "metric = 'sr' # choose between 'av_ret' or 'sr'\n",
    "stats_tr = get_stats(df_close_stocks, tickers, years = years_tr)\n",
    "stats_tst = get_stats(df_close_stocks, tickers, years = years_tst)\n",
    "df_stats_tr = df_and_sort(stats_tr, metric)\n",
    "df_stats_tst = df_and_sort(stats_tst, metric)"
   ]
  },
  {
   "cell_type": "markdown",
   "id": "47f5eb37",
   "metadata": {},
   "source": [
    "We can observe the mean and the sharpe ratio for those subset of train stocks to be the following values:"
   ]
  },
  {
   "cell_type": "code",
   "execution_count": 28,
   "id": "b8f893a2",
   "metadata": {},
   "outputs": [
    {
     "data": {
      "text/plain": [
       "{'MMM': {'sr': 0.28654688945504986, 'av_ret': 0.016507222599083295},\n",
       " 'AOS': {'sr': 0.24754369768391185, 'av_ret': 0.02350565324006411},\n",
       " 'ABT': {'sr': 0.16426646063274475, 'av_ret': 0.007984124991086887},\n",
       " 'ABBV': {'sr': 0.8176999787772858, 'av_ret': 0.057303852001482185},\n",
       " 'ACN': {'sr': 0.2905031648603829, 'av_ret': 0.017408688996153925},\n",
       " 'ADBE': {'sr': 0.16123455649427468, 'av_ret': 0.01562311719581781},\n",
       " 'AMD': {'sr': 0.040212064330201074, 'av_ret': 0.007496708949827433},\n",
       " 'AES': {'sr': 0.1920067925430727, 'av_ret': 0.02127225448568428},\n",
       " 'AFL': {'sr': 0.18469989295177514, 'av_ret': 0.016618073869953235},\n",
       " 'A': {'sr': 0.15173584974178758, 'av_ret': 0.015243855631629845},\n",
       " 'APD': {'sr': 0.28351870577679594, 'av_ret': 0.01960683054368758},\n",
       " 'AKAM': {'sr': 0.1808002199334386, 'av_ret': 0.03341051170638364},\n",
       " 'ALB': {'sr': 0.21444143764625945, 'av_ret': 0.02061407490235346},\n",
       " 'ARE': {'sr': 0.1884606286611548, 'av_ret': 0.022253398311663206},\n",
       " 'ALGN': {'sr': 0.1698702525374382, 'av_ret': 0.028701986270121094},\n",
       " 'LNT': {'sr': 0.27153565494289905, 'av_ret': 0.013861720882345527},\n",
       " 'ALL': {'sr': 0.16475095916253235, 'av_ret': 0.015310669919390228},\n",
       " 'GOOGL': {'sr': 0.19576843173572064, 'av_ret': 0.019838074332220575},\n",
       " 'GOOG': {'sr': 0.19576837925070475, 'av_ret': 0.019838069514547654},\n",
       " 'MO': {'sr': 0.2631314776296969, 'av_ret': 0.014163579827480278},\n",
       " 'AMZN': {'sr': 0.2789268986214624, 'av_ret': 0.032009352355566095},\n",
       " 'AMCR': {'sr': 0.6005556977647544, 'av_ret': 0.025474284923951908},\n",
       " 'AEE': {'sr': 0.13909007968667245, 'av_ret': 0.00625140915879992},\n",
       " 'AAL': {'sr': 0.23370738090276447, 'av_ret': 0.0557628665624618},\n",
       " 'AEP': {'sr': 0.1348009721611704, 'av_ret': 0.0069660057210409725},\n",
       " 'AXP': {'sr': 0.16708529903929809, 'av_ret': 0.01942038572818751},\n",
       " 'AIG': {'sr': 0.085472764356647, 'av_ret': 0.0281714998480063},\n",
       " 'AMT': {'sr': 0.3531282484635228, 'av_ret': 0.026926701986767946},\n",
       " 'AWK': {'sr': 0.4656150351834736, 'av_ret': 0.023778466856683205},\n",
       " 'AMP': {'sr': 0.20611228697937153, 'av_ret': 0.0257005041151003},\n",
       " 'AME': {'sr': 0.3154299370309812, 'av_ret': 0.022876821830845655},\n",
       " 'AMGN': {'sr': 0.1651788120484448, 'av_ret': 0.011080832131969169},\n",
       " 'APH': {'sr': 0.2692976931520168, 'av_ret': 0.022465174318573134},\n",
       " 'ADI': {'sr': 0.1527729514265915, 'av_ret': 0.012306667565893731},\n",
       " 'ANSS': {'sr': 0.33384232739797803, 'av_ret': 0.03006774979402368},\n",
       " 'AON': {'sr': 0.35801070981615335, 'av_ret': 0.02354653642795704},\n",
       " 'APA': {'sr': 0.1299592875268202, 'av_ret': 0.011937800660597827},\n",
       " 'AAPL': {'sr': 0.32205971640274544, 'av_ret': 0.034453912152381305},\n",
       " 'AMAT': {'sr': 0.1622170367443576, 'av_ret': 0.015380931629145592},\n",
       " 'APTV': {'sr': 0.8355233427770065, 'av_ret': 0.059935816585364024},\n",
       " 'ACGL': {'sr': 0.35883925687103685, 'av_ret': 0.016447780363983137},\n",
       " 'ADM': {'sr': 0.2098361786098921, 'av_ret': 0.01709851068312833},\n",
       " 'AJG': {'sr': 0.25163025445375337, 'av_ret': 0.014846550957127447},\n",
       " 'AIZ': {'sr': 0.21264021271218705, 'av_ret': 0.022236766617322306},\n",
       " 'T': {'sr': 0.1807644750104139, 'av_ret': 0.010711817304194895},\n",
       " 'ATO': {'sr': 0.28242211716143073, 'av_ret': 0.01166615017716002},\n",
       " 'ADSK': {'sr': 0.17196970702040384, 'av_ret': 0.021734819672023536},\n",
       " 'ADP': {'sr': 0.08682271408633625, 'av_ret': 0.004645783913656668},\n",
       " 'AZO': {'sr': 0.25276165550348306, 'av_ret': 0.018064825822674626},\n",
       " 'AVB': {'sr': 0.2501721237214609, 'av_ret': 0.020417891938248986},\n",
       " 'AVY': {'sr': 0.1720866813151588, 'av_ret': 0.013761926584208538},\n",
       " 'AXON': {'sr': 0.22088641331885803, 'av_ret': 0.05439644315107643},\n",
       " 'BKR': {'sr': 0.05640882171583458, 'av_ret': 0.006283557200846898},\n",
       " 'BALL': {'sr': 0.19622022445587714, 'av_ret': 0.012501305981781714},\n",
       " 'BAC': {'sr': 0.14555955441903964, 'av_ret': 0.020246649328742695},\n",
       " 'BK': {'sr': 0.10237763961689814, 'av_ret': 0.007914861402433391},\n",
       " 'BBWI': {'sr': 0.1994754793502793, 'av_ret': 0.02006183523137281},\n",
       " 'BAX': {'sr': 0.1729949425149969, 'av_ret': 0.011984987691573268},\n",
       " 'BDX': {'sr': 0.19692070294314107, 'av_ret': 0.00993673857630535},\n",
       " 'BBY': {'sr': 0.08229304810693465, 'av_ret': 0.010686684754174176},\n",
       " 'BIO': {'sr': 0.22694899816760736, 'av_ret': 0.01751513933406803},\n",
       " 'TECH': {'sr': 0.22337904047858093, 'av_ret': 0.013682518883160199},\n",
       " 'BIIB': {'sr': 0.13727226042662674, 'av_ret': 0.013086251325372292},\n",
       " 'BLK': {'sr': 0.2741859269771511, 'av_ret': 0.0269805843430751},\n",
       " 'BX': {'sr': 0.14280053275292645, 'av_ret': 0.020563652834577468},\n",
       " 'BA': {'sr': 0.17853789188609948, 'av_ret': 0.013502294371629186},\n",
       " 'BKNG': {'sr': 0.28388232774457234, 'av_ret': 0.03944376797645587},\n",
       " 'BWA': {'sr': 0.18733688293755948, 'av_ret': 0.02005914649831167},\n",
       " 'BXP': {'sr': 0.2703209305879219, 'av_ret': 0.021569377690668343},\n",
       " 'BSX': {'sr': 0.08513957151815642, 'av_ret': 0.008261260596711874},\n",
       " 'BMY': {'sr': 0.18052846582405102, 'av_ret': 0.013021131045939717},\n",
       " 'AVGO': {'sr': 0.39317913210704775, 'av_ret': 0.03608900842736134},\n",
       " 'BR': {'sr': 0.20984189935731104, 'av_ret': 0.01829501783842213},\n",
       " 'BRO': {'sr': 0.2006471623228389, 'av_ret': 0.013315572742608589},\n",
       " 'BLDR': {'sr': 0.12300122151439485, 'av_ret': 0.025689803871050687},\n",
       " 'BG': {'sr': 0.08866484078519561, 'av_ret': 0.009254566437182149},\n",
       " 'CDNS': {'sr': 0.06430668368274267, 'av_ret': 0.006770639286565798},\n",
       " 'CPT': {'sr': 0.26778783260599637, 'av_ret': 0.02452455402769717},\n",
       " 'CPB': {'sr': 0.28406509408798536, 'av_ret': 0.012873098790718995},\n",
       " 'COF': {'sr': 0.16804208540520665, 'av_ret': 0.018224496001546228},\n",
       " 'CAH': {'sr': 0.1605038671720929, 'av_ret': 0.010288174605624886},\n",
       " 'KMX': {'sr': 0.16804417770708358, 'av_ret': 0.021822371375342858},\n",
       " 'CCL': {'sr': 0.11718660958143587, 'av_ret': 0.010333339722151893},\n",
       " 'CAT': {'sr': 0.2817803359332262, 'av_ret': 0.02915747868107901},\n",
       " 'CBOE': {'sr': 0.19830000047952723, 'av_ret': 0.01693249357984461},\n",
       " 'CBRE': {'sr': 0.25096611623283627, 'av_ret': 0.04244855584324978},\n",
       " 'CE': {'sr': 0.19620271843280518, 'av_ret': 0.030276164415969295},\n",
       " 'COR': {'sr': 0.2442562653143919, 'av_ret': 0.01516135679095451},\n",
       " 'CNC': {'sr': 0.24805770990484868, 'av_ret': 0.03221771233417173},\n",
       " 'CNP': {'sr': 0.16667455952880922, 'av_ret': 0.014793920612394384},\n",
       " 'CF': {'sr': 0.22368662582659515, 'av_ret': 0.028716687501555482},\n",
       " 'CHRW': {'sr': 0.26435039994434545, 'av_ret': 0.0204288489166417},\n",
       " 'CRL': {'sr': 0.0571965706375752, 'av_ret': 0.005242383847445172},\n",
       " 'SCHW': {'sr': 0.1690788682479528, 'av_ret': 0.015784266304842153},\n",
       " 'CHTR': {'sr': 0.44717202556089497, 'av_ret': 0.031850549728758545},\n",
       " 'CVX': {'sr': 0.22921073682485688, 'av_ret': 0.013328447898474797},\n",
       " 'CMG': {'sr': 0.2910704685896095, 'av_ret': 0.03847579075372958},\n",
       " 'CB': {'sr': 0.324182684002638, 'av_ret': 0.0187451509377835},\n",
       " 'CHD': {'sr': 0.3742802925530388, 'av_ret': 0.01827399155529881},\n",
       " 'CI': {'sr': 0.26140322602593097, 'av_ret': 0.029298961889669323},\n",
       " 'CINF': {'sr': 0.20162516940049174, 'av_ret': 0.01151544772820262},\n",
       " 'CTAS': {'sr': 0.11183100598155156, 'av_ret': 0.007818820039219956},\n",
       " 'CSCO': {'sr': 0.1000188525305784, 'av_ret': 0.008881092976710935},\n",
       " 'C': {'sr': 0.09279068056960113, 'av_ret': 0.015103599797468925},\n",
       " 'CLX': {'sr': 0.20703244399750784, 'av_ret': 0.008946652986889878},\n",
       " 'CME': {'sr': 0.26436561138117054, 'av_ret': 0.028201547527144558},\n",
       " 'CMS': {'sr': 0.1246732287749603, 'av_ret': 0.011145673454126122},\n",
       " 'KO': {'sr': 0.11976709485110393, 'av_ret': 0.0052394450382679085},\n",
       " 'CTSH': {'sr': 0.22118033485074887, 'av_ret': 0.02408441391054154},\n",
       " 'CL': {'sr': 0.19558370079405316, 'av_ret': 0.008813410753027783},\n",
       " 'CMCSA': {'sr': 0.2305106653200105, 'av_ret': 0.015955780921933966},\n",
       " 'CMA': {'sr': 0.10153426439347518, 'av_ret': 0.008440662995350949},\n",
       " 'CAG': {'sr': 0.07185561544414718, 'av_ret': 0.004424631964855218},\n",
       " 'COP': {'sr': 0.19288171668233853, 'av_ret': 0.01415234090970262},\n",
       " 'ED': {'sr': 0.19211415563482476, 'av_ret': 0.0075326440895912014},\n",
       " 'STZ': {'sr': 0.12120699516518578, 'av_ret': 0.011683388459506363},\n",
       " 'COO': {'sr': 0.144733597394829, 'av_ret': 0.016027587252185706},\n",
       " 'CPRT': {'sr': 0.25836374808676105, 'av_ret': 0.022691619002555313},\n",
       " 'GLW': {'sr': 0.1395243323294188, 'av_ret': 0.01568288142855317},\n",
       " 'CSGP': {'sr': 0.2565966600001316, 'av_ret': 0.026217345132731246},\n",
       " 'COST': {'sr': 0.27309738886826945, 'av_ret': 0.0153309782748052},\n",
       " 'CTRA': {'sr': 0.2975261839536569, 'av_ret': 0.03419003788288022},\n",
       " 'CCI': {'sr': 0.30697361448418947, 'av_ret': 0.0336574065376059},\n",
       " 'CSX': {'sr': 0.30885034132176414, 'av_ret': 0.02166184299301094},\n",
       " 'CMI': {'sr': 0.2605150583972152, 'av_ret': 0.03233534061863598},\n",
       " 'CVS': {'sr': 0.2261625819717255, 'av_ret': 0.015730096011543532},\n",
       " 'DHR': {'sr': 0.26544697980992554, 'av_ret': 0.015247522129712804},\n",
       " 'DRI': {'sr': 0.11212276604214415, 'av_ret': 0.012812571305386187},\n",
       " 'DVA': {'sr': 0.3145941507133047, 'av_ret': 0.019321567227390864},\n",
       " 'DE': {'sr': 0.20870335845345514, 'av_ret': 0.02011531593857978},\n",
       " 'DAL': {'sr': 0.214151612805387, 'av_ret': 0.036437005474056476},\n",
       " 'XRAY': {'sr': 0.27260646541132055, 'av_ret': 0.01726045968039853},\n",
       " 'DVN': {'sr': 0.17898368833210204, 'av_ret': 0.015449370891242677},\n",
       " 'DXCM': {'sr': 0.11560296655431085, 'av_ret': 0.02139634502795034},\n",
       " 'FANG': {'sr': 0.9402783332296955, 'av_ret': 0.09478417481247828},\n",
       " 'DLR': {'sr': 0.30817402062044946, 'av_ret': 0.028995165965963406},\n",
       " 'DFS': {'sr': 0.2826368214416201, 'av_ret': 0.02878226227241168},\n",
       " 'DG': {'sr': 0.2666830118553233, 'av_ret': 0.018734014733044382},\n",
       " 'DLTR': {'sr': 0.16752978305236946, 'av_ret': 0.014074726927489074},\n",
       " 'D': {'sr': 0.25309230334158594, 'av_ret': 0.011306998233153587},\n",
       " 'DPZ': {'sr': 0.2459246979930611, 'av_ret': 0.030558180655149546},\n",
       " 'DOV': {'sr': 0.23132969335358974, 'av_ret': 0.019093191404673606},\n",
       " 'DHI': {'sr': 0.16928415205656783, 'av_ret': 0.02091969702673178},\n",
       " 'DTE': {'sr': 0.18020171739692428, 'av_ret': 0.008367329349720377},\n",
       " 'DUK': {'sr': 0.19930654570669676, 'av_ret': 0.010730340599114265},\n",
       " 'DD': {'sr': 0.16634804279177381, 'av_ret': 0.02168130060158385},\n",
       " 'EMN': {'sr': 0.22865587447576766, 'av_ret': 0.025060666781980524},\n",
       " 'ETN': {'sr': 0.19978674246372694, 'av_ret': 0.017604082704500566},\n",
       " 'EBAY': {'sr': 0.1651057368283842, 'av_ret': 0.01711553697358561},\n",
       " 'ECL': {'sr': 0.2955376383912384, 'av_ret': 0.015172723970509802},\n",
       " 'EIX': {'sr': 0.27668115251013714, 'av_ret': 0.013827351995308573},\n",
       " 'EW': {'sr': 0.18087248273684475, 'av_ret': 0.013661002573762598},\n",
       " 'EA': {'sr': 0.10097793345986313, 'av_ret': 0.010995321568252347},\n",
       " 'ELV': {'sr': 0.1775101135850557, 'av_ret': 0.01571988745461125},\n",
       " 'LLY': {'sr': 0.060525035965482504, 'av_ret': 0.004036890210150002},\n",
       " 'EMR': {'sr': 0.2609426101075042, 'av_ret': 0.01833792925462524},\n",
       " 'ENPH': {'sr': 0.08625583569041742, 'av_ret': 0.015017443371484888},\n",
       " 'ETR': {'sr': 0.06776076400656347, 'av_ret': 0.00316452786388489},\n",
       " 'EOG': {'sr': 0.2703420951517422, 'av_ret': 0.028185737156457898},\n",
       " 'EPAM': {'sr': 0.16984989330299247, 'av_ret': 0.016548191644838412},\n",
       " 'EQT': {'sr': 0.24796034844789733, 'av_ret': 0.018057328745556593},\n",
       " 'EFX': {'sr': 0.17298303689227543, 'av_ret': 0.012416195636713982},\n",
       " 'EQIX': {'sr': 0.20441330203524172, 'av_ret': 0.03815167756683712},\n",
       " 'EQR': {'sr': 0.2529116485726676, 'av_ret': 0.01909923665573924},\n",
       " 'ESS': {'sr': 0.27892525446558175, 'av_ret': 0.01920794852212453},\n",
       " 'EL': {'sr': 0.2731338480205267, 'av_ret': 0.02179334405486802},\n",
       " 'EG': {'sr': 0.2519055441047565, 'av_ret': 0.013993742058642183},\n",
       " 'EVRG': {'sr': 0.35115706212789877, 'av_ret': 0.01746968800431335},\n",
       " 'ES': {'sr': 0.22358205843769288, 'av_ret': 0.009891553323853648},\n",
       " 'EXC': {'sr': 0.06878467283698533, 'av_ret': 0.003630001077268787},\n",
       " 'EXPE': {'sr': 0.12262972303713693, 'av_ret': 0.018252935342175643},\n",
       " 'EXPD': {'sr': 0.17553405567041955, 'av_ret': 0.0139945725033163},\n",
       " 'EXR': {'sr': 0.3376478081853683, 'av_ret': 0.031009296107155526},\n",
       " 'XOM': {'sr': 0.19672378516865408, 'av_ret': 0.010163689213292746},\n",
       " 'FFIV': {'sr': 0.19406745787168497, 'av_ret': 0.026277989662384867},\n",
       " 'FDS': {'sr': 0.21252734017548885, 'av_ret': 0.01937134738000644},\n",
       " 'FICO': {'sr': 0.1638949075059768, 'av_ret': 0.01864562965350495},\n",
       " 'FAST': {'sr': 0.34807527933209503, 'av_ret': 0.030038626071250688},\n",
       " 'FRT': {'sr': 0.27958911789983676, 'av_ret': 0.022325349308287033},\n",
       " 'FDX': {'sr': 0.20870816234720047, 'av_ret': 0.016051342863094224},\n",
       " 'FIS': {'sr': 0.13352102782540656, 'av_ret': 0.008586837802377994},\n",
       " 'FITB': {'sr': 0.08518269614997165, 'av_ret': 0.01086790613376026},\n",
       " 'FSLR': {'sr': 0.2853011786280507, 'av_ret': 0.06072525032338106},\n",
       " 'FE': {'sr': 0.12501166279273826, 'av_ret': 0.007291754392806078},\n",
       " 'FI': {'sr': 0.12359466834176809, 'av_ret': 0.008125923743064006},\n",
       " 'FLT': {'sr': 0.49374517480726143, 'av_ret': 0.0372402917819365},\n",
       " 'FMC': {'sr': 0.25203782820381804, 'av_ret': 0.02189235811202292},\n",
       " 'F': {'sr': 0.11194977789816708, 'av_ret': 0.021219154043879494},\n",
       " 'FTNT': {'sr': 0.39028375722566916, 'av_ret': 0.047470929093430876},\n",
       " 'BEN': {'sr': 0.26048968665758065, 'av_ret': 0.02061975673972385},\n",
       " 'FCX': {'sr': 0.12439752350681307, 'av_ret': 0.0168152300408815},\n",
       " 'GRMN': {'sr': 0.13749555091040036, 'av_ret': 0.016411928319504575},\n",
       " 'IT': {'sr': 0.24450167821328092, 'av_ret': 0.022783944141320893},\n",
       " 'GEN': {'sr': 0.09334260783158728, 'av_ret': 0.008773955149750275},\n",
       " 'GNRC': {'sr': 0.5173416402369683, 'av_ret': 0.06221678561257451},\n",
       " 'GD': {'sr': 0.17503792337896107, 'av_ret': 0.012664824502826563},\n",
       " 'GE': {'sr': 0.14066190019794914, 'av_ret': 0.01154327268175921},\n",
       " 'GIS': {'sr': 0.23751808160706567, 'av_ret': 0.009211807039939304},\n",
       " 'GM': {'sr': 0.12705559865845367, 'av_ret': 0.013261647324589922},\n",
       " 'GPC': {'sr': 0.2740517352794253, 'av_ret': 0.012260481276253747},\n",
       " 'GILD': {'sr': 0.3937279662366669, 'av_ret': 0.029152013216163765},\n",
       " 'GPN': {'sr': 0.2142672164270585, 'av_ret': 0.01641443396811527},\n",
       " 'GL': {'sr': 0.2245614351414359, 'av_ret': 0.0179515524362276},\n",
       " 'GS': {'sr': 0.12920045344676967, 'av_ret': 0.012215378954057814},\n",
       " 'HAL': {'sr': 0.2196952495067433, 'av_ret': 0.02451044808656512},\n",
       " 'HIG': {'sr': 0.11730107428004, 'av_ret': 0.025355819264084558},\n",
       " 'HAS': {'sr': 0.3042670257097577, 'av_ret': 0.022936284792227084},\n",
       " 'HCA': {'sr': 0.340964789793016, 'av_ret': 0.03441659734555908},\n",
       " 'PEAK': {'sr': 0.23670437504019348, 'av_ret': 0.023168911831012686},\n",
       " 'HSIC': {'sr': 0.2642433843835424, 'av_ret': 0.014738031651298496},\n",
       " 'HSY': {'sr': 0.18427142036042415, 'av_ret': 0.009166034749629862},\n",
       " 'HES': {'sr': 0.17675073641231384, 'av_ret': 0.019152609215701902},\n",
       " 'HOLX': {'sr': 0.187347956610954, 'av_ret': 0.023329480747187298},\n",
       " 'HD': {'sr': 0.23822228415622174, 'av_ret': 0.016730916068874523},\n",
       " 'HON': {'sr': 0.22055655955391618, 'av_ret': 0.01694530853289832},\n",
       " 'HRL': {'sr': 0.1891292860104232, 'av_ret': 0.010574100976946783},\n",
       " 'HST': {'sr': 0.18451332562909378, 'av_ret': 0.02489131995756853},\n",
       " 'HPQ': {'sr': 0.13712470938957652, 'av_ret': 0.012292446055330123},\n",
       " 'HUBB': {'sr': 0.29256945100201837, 'av_ret': 0.021585441689368844},\n",
       " 'HUM': {'sr': 0.1967952048548381, 'av_ret': 0.020536310691446708},\n",
       " 'HBAN': {'sr': 0.13538111234390998, 'av_ret': 0.015154450417080533},\n",
       " 'HII': {'sr': 0.18021839536250925, 'av_ret': 0.016188713473091986},\n",
       " 'IBM': {'sr': 0.17455080670961756, 'av_ret': 0.008800785773684218},\n",
       " 'IEX': {'sr': 0.26578511507404995, 'av_ret': 0.021149683096228757},\n",
       " 'IDXX': {'sr': 0.3117428569243269, 'av_ret': 0.025972342156362457},\n",
       " 'ITW': {'sr': 0.22109236287822467, 'av_ret': 0.014950221547349266},\n",
       " 'ILMN': {'sr': 0.28931965809294635, 'av_ret': 0.04305820071522705},\n",
       " 'INCY': {'sr': 0.18507244921813384, 'av_ret': 0.029118175168051114},\n",
       " 'PODD': {'sr': 0.15614645759274778, 'av_ret': 0.031036030211425435},\n",
       " 'INTC': {'sr': 0.09794369965287039, 'av_ret': 0.008273514184813454},\n",
       " 'ICE': {'sr': 0.3255493642375023, 'av_ret': 0.0391592544420464},\n",
       " 'IFF': {'sr': 0.22743447336607941, 'av_ret': 0.01264973950178618},\n",
       " 'IP': {'sr': 0.16490145596378608, 'av_ret': 0.02026095627166418},\n",
       " 'IPG': {'sr': 0.09028601851401757, 'av_ret': 0.010578793558888307},\n",
       " 'INTU': {'sr': 0.13191496065871802, 'av_ret': 0.009715019620399378},\n",
       " 'ISRG': {'sr': 0.23995298016467406, 'av_ret': 0.04069160853618986},\n",
       " 'IVZ': {'sr': 0.14307422644523682, 'av_ret': 0.015465196497759457},\n",
       " 'IRM': {'sr': 0.2299622727025699, 'av_ret': 0.019188856610151742},\n",
       " 'JBHT': {'sr': 0.2989091750433555, 'av_ret': 0.026335966375500282},\n",
       " 'JBL': {'sr': 0.14761867000796988, 'av_ret': 0.02131737621216169},\n",
       " 'JKHY': {'sr': 0.29741452946625174, 'av_ret': 0.019347223167276634},\n",
       " 'J': {'sr': 0.21786947253677702, 'av_ret': 0.022055443400113284},\n",
       " 'JNJ': {'sr': 0.23261523788743138, 'av_ret': 0.009019915263219032},\n",
       " 'JCI': {'sr': 0.1342937624442617, 'av_ret': 0.010171292326437953},\n",
       " 'JPM': {'sr': 0.19415173259057225, 'av_ret': 0.017393778319049688},\n",
       " 'JNPR': {'sr': 0.14730180897732997, 'av_ret': 0.018310582562960323},\n",
       " 'K': {'sr': 0.19049916086346916, 'av_ret': 0.008464555209458945},\n",
       " 'KDP': {'sr': 0.24981719143668435, 'av_ret': 0.018600794091841327},\n",
       " 'KEY': {'sr': 0.040552579601183004, 'av_ret': 0.0036544434059415905},\n",
       " 'KMB': {'sr': 0.26178411481655506, 'av_ret': 0.009867676272471376},\n",
       " 'KIM': {'sr': 0.1867806652676653, 'av_ret': 0.022875014428897462},\n",
       " 'KMI': {'sr': 0.09809556280612193, 'av_ret': 0.005039669166486409},\n",
       " 'KLAC': {'sr': 0.19028194518057626, 'av_ret': 0.02027355982835207},\n",
       " 'KR': {'sr': 0.10893536875900947, 'av_ret': 0.006293789121779609},\n",
       " 'LHX': {'sr': 0.1873552115739541, 'av_ret': 0.014659175619969314},\n",
       " 'LH': {'sr': 0.23833201300568152, 'av_ret': 0.01345016219701231},\n",
       " 'LRCX': {'sr': 0.2350170882775582, 'av_ret': 0.026018065135217237},\n",
       " 'LVS': {'sr': 0.17946420702886554, 'av_ret': 0.04448278884474646},\n",
       " 'LDOS': {'sr': 0.0115566310848745, 'av_ret': 0.0007914785926256939},\n",
       " 'LEN': {'sr': 0.17284392215187766, 'av_ret': 0.0216873261967765},\n",
       " 'LIN': {'sr': 0.3336368012974242, 'av_ret': 0.018742714729885056},\n",
       " 'LYV': {'sr': 0.1811395944055571, 'av_ret': 0.027188328802173024},\n",
       " 'LKQ': {'sr': 0.39099668388546566, 'av_ret': 0.03428567986444561},\n",
       " 'LMT': {'sr': 0.25361145915857497, 'av_ret': 0.016203445895987642},\n",
       " 'L': {'sr': 0.2353584860819672, 'av_ret': 0.014644949319317615},\n",
       " 'LOW': {'sr': 0.21883146246904114, 'av_ret': 0.018120045241751963},\n",
       " 'LULU': {'sr': 0.2684653417131583, 'av_ret': 0.05646814748260671},\n",
       " 'LYB': {'sr': 0.35594584126900997, 'av_ret': 0.044639058466436884},\n",
       " 'MTB': {'sr': 0.1849426525130028, 'av_ret': 0.012530840530541468},\n",
       " 'MRO': {'sr': 0.22375127921817659, 'av_ret': 0.021803442551108446},\n",
       " 'MPC': {'sr': 0.164455047057759, 'av_ret': 0.022409819132502697},\n",
       " 'MKTX': {'sr': 0.19900111848119992, 'av_ret': 0.026021411334425315},\n",
       " 'MAR': {'sr': 0.22183896334899486, 'av_ret': 0.020746771488580548},\n",
       " 'MMC': {'sr': 0.23272183479041111, 'av_ret': 0.013664101924022454},\n",
       " 'MLM': {'sr': 0.1601244738745578, 'av_ret': 0.01376397966678711},\n",
       " 'MAS': {'sr': 0.14575919341604487, 'av_ret': 0.018229270129788783},\n",
       " 'MA': {'sr': 0.3833451356374471, 'av_ret': 0.042076321996016644},\n",
       " 'MTCH': {'sr': 0.0941443675846189, 'av_ret': 0.0078097092200181345},\n",
       " 'MKC': {'sr': 0.1637831425532591, 'av_ret': 0.007715827359245114},\n",
       " 'MCD': {'sr': 0.2586699613751871, 'av_ret': 0.013300003585941512},\n",
       " 'MCK': {'sr': 0.22211159816027692, 'av_ret': 0.017702436736023067},\n",
       " 'MDT': {'sr': 0.11350669309893666, 'av_ret': 0.007020419970378919},\n",
       " 'MRK': {'sr': 0.08071692577880711, 'av_ret': 0.006181728716472386},\n",
       " 'META': {'sr': 0.22322538107680212, 'av_ret': 0.048177640690064576},\n",
       " 'MET': {'sr': 0.1738810059356385, 'av_ret': 0.018236732868930728},\n",
       " 'MTD': {'sr': 0.27900780041309137, 'av_ret': 0.020482807013077108},\n",
       " 'MGM': {'sr': 0.12632608581531907, 'av_ret': 0.038886210065077705},\n",
       " 'MCHP': {'sr': 0.19451389330026023, 'av_ret': 0.01730768523915599},\n",
       " 'MU': {'sr': 0.11869569839209433, 'av_ret': 0.016519252065478343},\n",
       " 'MSFT': {'sr': 0.12856519928250298, 'av_ret': 0.008692798056337417},\n",
       " 'MAA': {'sr': 0.24041822445131053, 'av_ret': 0.018987668240392396},\n",
       " 'MHK': {'sr': 0.20200876526534978, 'av_ret': 0.027001038002687865},\n",
       " 'MOH': {'sr': 0.20692667906591194, 'av_ret': 0.025572916282833393},\n",
       " 'TAP': {'sr': 0.0742744558448752, 'av_ret': 0.0051033945486044065},\n",
       " 'MDLZ': {'sr': 0.04611720115614884, 'av_ret': 0.0025412021885510604},\n",
       " 'MPWR': {'sr': 0.21917710676963542, 'av_ret': 0.031995531423613735},\n",
       " 'MNST': {'sr': 0.3106474615824062, 'av_ret': 0.0430475736706725},\n",
       " 'MCO': {'sr': 0.15809243867703715, 'av_ret': 0.015967772104063502},\n",
       " 'MS': {'sr': 0.01944612902217693, 'av_ret': 0.002289481486813012},\n",
       " 'MOS': {'sr': 0.13653991703681295, 'av_ret': 0.019140008032908468},\n",
       " 'MSI': {'sr': 0.10251800127464614, 'av_ret': 0.009969183518292199},\n",
       " 'MSCI': {'sr': 0.13978568954452, 'av_ret': 0.017172121408326},\n",
       " 'NDAQ': {'sr': 0.2563438623538914, 'av_ret': 0.028820230887863348},\n",
       " 'NTAP': {'sr': 0.13300876955740912, 'av_ret': 0.015469850936676043},\n",
       " 'NFLX': {'sr': 0.2854918894414343, 'av_ret': 0.05735596420922882},\n",
       " 'NEM': {'sr': 0.0147613980683909, 'av_ret': 0.0014257838891057963},\n",
       " 'NEE': {'sr': 0.31225598806053184, 'av_ret': 0.01425261938061702},\n",
       " 'NKE': {'sr': 0.3625374421194406, 'av_ret': 0.02305891933066044},\n",
       " 'NI': {'sr': 0.238089593822477, 'av_ret': 0.013070693825485702},\n",
       " 'NDSN': {'sr': 0.32035266745438506, 'av_ret': 0.03028831918183415},\n",
       " 'NSC': {'sr': 0.31041765482552647, 'av_ret': 0.02278556744044839},\n",
       " 'NTRS': {'sr': 0.07697511801625624, 'av_ret': 0.0056543531217548015},\n",
       " 'NOC': {'sr': 0.1848699500665645, 'av_ret': 0.011877271405736982},\n",
       " 'NCLH': {'sr': 0.5061566607266837, 'av_ret': 0.034277592510713224},\n",
       " 'NRG': {'sr': 0.20235910808571836, 'av_ret': 0.01680224316436574},\n",
       " 'NUE': {'sr': 0.27258203285312516, 'av_ret': 0.02893708032693769},\n",
       " 'NVDA': {'sr': 0.17061025443488526, 'av_ret': 0.027242257358443597},\n",
       " 'NVR': {'sr': 0.23981722582473522, 'av_ret': 0.02133108396596305},\n",
       " 'NXPI': {'sr': 0.3559049163307451, 'av_ret': 0.06184500904380487},\n",
       " 'ORLY': {'sr': 0.33680640772042825, 'av_ret': 0.025222419618776498},\n",
       " 'OXY': {'sr': 0.24156451854816766, 'av_ret': 0.020391215116598343},\n",
       " 'ODFL': {'sr': 0.31974810713205243, 'av_ret': 0.034662195521142226},\n",
       " 'OMC': {'sr': 0.15864814865019264, 'av_ret': 0.011823181011487844},\n",
       " 'ON': {'sr': 0.08913282103144823, 'av_ret': 0.012570013363003627},\n",
       " 'OKE': {'sr': 0.3414368026604918, 'av_ret': 0.025428958417439963},\n",
       " 'ORCL': {'sr': 0.20620263723737586, 'av_ret': 0.014558053519662996},\n",
       " 'PCAR': {'sr': 0.22009213519260779, 'av_ret': 0.020615370559674877},\n",
       " 'PKG': {'sr': 0.2520306425278769, 'av_ret': 0.020217540468674574},\n",
       " 'PANW': {'sr': 0.21382165759257565, 'av_ret': 0.020499861299533507},\n",
       " 'PARA': {'sr': 0.23016818174630368, 'av_ret': 0.035042968978103946},\n",
       " 'PH': {'sr': 0.2123152871379031, 'av_ret': 0.01928467423557778},\n",
       " 'PAYX': {'sr': 0.23349614853945228, 'av_ret': 0.016170904599120486},\n",
       " 'PNR': {'sr': 0.3228597699876624, 'av_ret': 0.024860090297972183},\n",
       " 'PEP': {'sr': 0.18480560698390883, 'av_ret': 0.007553828537510786},\n",
       " 'PFE': {'sr': 0.12462232351123545, 'av_ret': 0.006923481663131684},\n",
       " 'PCG': {'sr': 0.16221610056284191, 'av_ret': 0.007951824292317639},\n",
       " 'PM': {'sr': 0.25563718945129826, 'av_ret': 0.015235668551358095},\n",
       " 'PSX': {'sr': 0.5566711487587683, 'av_ret': 0.04639873763279227},\n",
       " 'PNW': {'sr': 0.25525711997117934, 'av_ret': 0.011731096999222075},\n",
       " 'PXD': {'sr': 0.22553402541195605, 'av_ret': 0.027206796113421926},\n",
       " 'PNC': {'sr': 0.2185799398637868, 'av_ret': 0.016703054438350844},\n",
       " 'POOL': {'sr': 0.22999759786084928, 'av_ret': 0.02393457167906793},\n",
       " 'PPG': {'sr': 0.3004934821069309, 'av_ret': 0.020514163455333148},\n",
       " 'PPL': {'sr': 0.1385263142223363, 'av_ret': 0.006823638731061326},\n",
       " 'PFG': {'sr': 0.15537279891501588, 'av_ret': 0.026264111108976782},\n",
       " 'PG': {'sr': 0.17363963687960798, 'av_ret': 0.007412064975707703},\n",
       " 'PGR': {'sr': 0.1960302716380903, 'av_ret': 0.012855505810442676},\n",
       " 'PLD': {'sr': 0.20223263654999782, 'av_ret': 0.025323026790186488},\n",
       " 'PRU': {'sr': 0.18928702257611643, 'av_ret': 0.026156709060173065},\n",
       " 'PEG': {'sr': 0.18147920249778512, 'av_ret': 0.010231125490180362},\n",
       " 'PTC': {'sr': 0.18025930163495912, 'av_ret': 0.021412679778600698},\n",
       " 'PSA': {'sr': 0.31625043378290574, 'av_ret': 0.023514900110447073},\n",
       " 'PHM': {'sr': 0.1530037016693727, 'av_ret': 0.021375356990386403},\n",
       " 'PWR': {'sr': 0.18464253358151636, 'av_ret': 0.019809454142879112},\n",
       " 'QCOM': {'sr': 0.217125598972872, 'av_ret': 0.01762114727717949},\n",
       " 'DGX': {'sr': 0.12859586878910367, 'av_ret': 0.00800532343333426},\n",
       " 'RL': {'sr': 0.22728041627047213, 'av_ret': 0.021434043090523876},\n",
       " 'RJF': {'sr': 0.21373005022319258, 'av_ret': 0.02117305592895832},\n",
       " 'RTX': {'sr': 0.29339411134987436, 'av_ret': 0.01607091030855688},\n",
       " 'O': {'sr': 0.31384079784975466, 'av_ret': 0.02251479546468852},\n",
       " 'REG': {'sr': 0.1800699654668642, 'av_ret': 0.020046412919971637},\n",
       " 'REGN': {'sr': 0.2446042664925048, 'av_ret': 0.04286545285128328},\n",
       " 'RF': {'sr': 0.07111730256223615, 'av_ret': 0.007568867290304573},\n",
       " 'RSG': {'sr': 0.1623506994661047, 'av_ret': 0.009698832113475615},\n",
       " 'RMD': {'sr': 0.23892696537887168, 'av_ret': 0.017838116245927384},\n",
       " 'RVTY': {'sr': 0.17190247981742998, 'av_ret': 0.012838656044176774},\n",
       " 'RHI': {'sr': 0.14358324313858853, 'av_ret': 0.014268625893096468},\n",
       " 'ROK': {'sr': 0.3259045138581671, 'av_ret': 0.03355671366163707},\n",
       " 'ROL': {'sr': 0.30953151443253035, 'av_ret': 0.019455574507611335},\n",
       " 'ROP': {'sr': 0.2947570121349908, 'av_ret': 0.0179130766116401},\n",
       " 'ROST': {'sr': 0.2926016234200302, 'av_ret': 0.02090860203105372},\n",
       " 'RCL': {'sr': 0.18448839360635783, 'av_ret': 0.03085833550782223},\n",
       " 'SPGI': {'sr': 0.1187406451192841, 'av_ret': 0.010447120568400295},\n",
       " 'CRM': {'sr': 0.2985307064074469, 'av_ret': 0.041014275292309645},\n",
       " 'SBAC': {'sr': 0.3471322796329616, 'av_ret': 0.0514598515626752},\n",
       " 'SLB': {'sr': 0.19751832148919485, 'av_ret': 0.019127875843594745},\n",
       " 'STX': {'sr': 0.21940417294694417, 'av_ret': 0.03669306344482532},\n",
       " 'SRE': {'sr': 0.3505985701357091, 'av_ret': 0.018068860998256105},\n",
       " 'NOW': {'sr': 0.3662118234601925, 'av_ret': 0.03991706720266583},\n",
       " 'SHW': {'sr': 0.3983695456206953, 'av_ret': 0.02563040597086203},\n",
       " 'SPG': {'sr': 0.27220630565575565, 'av_ret': 0.025438156107596935},\n",
       " 'SWKS': {'sr': 0.10107956257957663, 'av_ret': 0.013428430129488385},\n",
       " 'SJM': {'sr': 0.1989121450963628, 'av_ret': 0.01261234532829732},\n",
       " 'SNA': {'sr': 0.2543344870906086, 'av_ret': 0.02235615788221144},\n",
       " 'SO': {'sr': 0.23440848752343002, 'av_ret': 0.0073815595178437525},\n",
       " 'LUV': {'sr': 0.24519729708559113, 'av_ret': 0.020304449916393214},\n",
       " 'SWK': {'sr': 0.13543801590417803, 'av_ret': 0.012271585997004618},\n",
       " 'SBUX': {'sr': 0.2425318493819016, 'av_ret': 0.02163420018809883},\n",
       " 'STT': {'sr': 0.12385805590269845, 'av_ret': 0.011057915527416862},\n",
       " 'STLD': {'sr': 0.2542948816597961, 'av_ret': 0.03609114823079005},\n",
       " 'STE': {'sr': 0.13865985787482407, 'av_ret': 0.009562273555940115},\n",
       " 'SYK': {'sr': 0.23573595521626434, 'av_ret': 0.015367089497117282},\n",
       " 'SNPS': {'sr': 0.1649279349005343, 'av_ret': 0.012338621672928596},\n",
       " 'SYY': {'sr': -0.009932508623153329, 'av_ret': -0.0005496133399437644},\n",
       " 'TMUS': {'sr': 0.06461930411933749, 'av_ret': 0.010039257084840552},\n",
       " 'TROW': {'sr': 0.26847588783341714, 'av_ret': 0.023225375976759253},\n",
       " 'TTWO': {'sr': 0.0836387245207221, 'av_ret': 0.012479154427397823},\n",
       " 'TPR': {'sr': 0.19165270940586085, 'av_ret': 0.021715700920437522},\n",
       " 'TRGP': {'sr': 0.5072270376865041, 'av_ret': 0.03395722713958351},\n",
       " 'TGT': {'sr': 0.09382504043832976, 'av_ret': 0.006692071946754386},\n",
       " 'TEL': {'sr': 0.2097861207094014, 'av_ret': 0.026591161092691162},\n",
       " 'TDY': {'sr': 0.28713863742014994, 'av_ret': 0.025463911282072045},\n",
       " 'TFX': {'sr': 0.07469706098393926, 'av_ret': 0.00555865665124611},\n",
       " 'TER': {'sr': 0.11130904008782494, 'av_ret': 0.013885502015582352},\n",
       " 'TSLA': {'sr': 0.3291113740473938, 'av_ret': 0.07219742291676083},\n",
       " 'TXN': {'sr': 0.13455122793656224, 'av_ret': 0.011350845152584003},\n",
       " 'TXT': {'sr': 0.15939198810835994, 'av_ret': 0.024540408963036584},\n",
       " 'TMO': {'sr': 0.2453391675914398, 'av_ret': 0.015612795984003334},\n",
       " 'TJX': {'sr': 0.26083354787249874, 'av_ret': 0.01586827743404997},\n",
       " 'TSCO': {'sr': 0.2952491866585882, 'av_ret': 0.030208047817321997},\n",
       " 'TT': {'sr': 0.184111339851133, 'av_ret': 0.02112148778183876},\n",
       " 'TDG': {'sr': 0.27794422633792787, 'av_ret': 0.021502754722775255},\n",
       " 'TRV': {'sr': 0.20596940881318515, 'av_ret': 0.011857429625620914},\n",
       " 'TRMB': {'sr': 0.36735156581510664, 'av_ret': 0.04271911904535673},\n",
       " 'TFC': {'sr': 0.14025401330703097, 'av_ret': 0.01261648968915048},\n",
       " 'TYL': {'sr': 0.4341201561267347, 'av_ret': 0.03479585190653559},\n",
       " 'TSN': {'sr': 0.102972634355865, 'av_ret': 0.010530313170380936},\n",
       " 'USB': {'sr': 0.19861586917475624, 'av_ret': 0.012695369134701722},\n",
       " 'UDR': {'sr': 0.24248421404320686, 'av_ret': 0.019527600901249897},\n",
       " 'ULTA': {'sr': 0.23883819616926377, 'av_ret': 0.038996272449047215},\n",
       " 'UNP': {'sr': 0.35484425167560285, 'av_ret': 0.02290067384645669},\n",
       " 'UAL': {'sr': 0.19830270262050714, 'av_ret': 0.04211840303584846},\n",
       " 'UPS': {'sr': 0.18250495998341, 'av_ret': 0.010719301555741174},\n",
       " 'URI': {'sr': 0.27673427524099065, 'av_ret': 0.04416233099856347},\n",
       " 'UNH': {'sr': 0.16566095073172024, 'av_ret': 0.01336310702266244},\n",
       " 'UHS': {'sr': 0.18504640883359008, 'av_ret': 0.01751381862137373},\n",
       " 'VLO': {'sr': 0.2061290031421292, 'av_ret': 0.026615520533589777},\n",
       " 'VTR': {'sr': 0.26465780769843456, 'av_ret': 0.030284190128376517},\n",
       " 'VRSN': {'sr': 0.16314079678890522, 'av_ret': 0.01766925549601885},\n",
       " 'VRSK': {'sr': 0.5053562023619973, 'av_ret': 0.023799247346542436},\n",
       " 'VZ': {'sr': 0.15562395099283236, 'av_ret': 0.008351499401453005},\n",
       " 'VRTX': {'sr': 0.23410138198985692, 'av_ret': 0.03609598700968895},\n",
       " 'VFC': {'sr': 0.2726648332021439, 'av_ret': 0.020368232541177617},\n",
       " 'VTRS': {'sr': 0.15932032762608953, 'av_ret': 0.013249450071792918},\n",
       " 'V': {'sr': 0.2854318705428214, 'av_ret': 0.022934304466989082},\n",
       " 'VMC': {'sr': 0.1250001454435772, 'av_ret': 0.012152524559141214},\n",
       " 'WRB': {'sr': 0.3259362458925491, 'av_ret': 0.018149907325926345},\n",
       " 'WAB': {'sr': 0.29354835469914425, 'av_ret': 0.028786053027333305},\n",
       " 'WBA': {'sr': 0.1477397585934287, 'av_ret': 0.011245177151388735},\n",
       " 'WMT': {'sr': 0.11560206290980546, 'av_ret': 0.005302731498576335},\n",
       " 'DIS': {'sr': 0.273559543777459, 'av_ret': 0.017607543896423626},\n",
       " 'WBD': {'sr': 0.18057858284351783, 'av_ret': 0.015181647522755007},\n",
       " 'WM': {'sr': 0.17984721257359781, 'av_ret': 0.008701562902916122},\n",
       " 'WAT': {'sr': 0.14834555508900546, 'av_ret': 0.012762419656723426},\n",
       " 'WEC': {'sr': 0.3713516809243695, 'av_ret': 0.01410343206196651},\n",
       " 'WFC': {'sr': 0.24477286902832954, 'av_ret': 0.021003901917105203},\n",
       " 'WELL': {'sr': 0.2704596679130726, 'av_ret': 0.01818428789731244},\n",
       " 'WST': {'sr': 0.2887884314422159, 'av_ret': 0.021618469617088285},\n",
       " 'WDC': {'sr': 0.2377441473431117, 'av_ret': 0.030456692302867492},\n",
       " 'WY': {'sr': 0.1513813678315716, 'av_ret': 0.013633987694398147},\n",
       " 'WHR': {'sr': 0.26151614690889585, 'av_ret': 0.03340237671921853},\n",
       " 'WMB': {'sr': 0.29181426414948686, 'av_ret': 0.03045837334060798},\n",
       " 'WTW': {'sr': 0.15195631380295602, 'av_ret': 0.010097006714347115},\n",
       " 'GWW': {'sr': 0.2989851339321695, 'av_ret': 0.02019705969138766},\n",
       " 'WYNN': {'sr': 0.2958598383762411, 'av_ret': 0.04792006100744144},\n",
       " 'XEL': {'sr': 0.291532739784415, 'av_ret': 0.012463081399261599},\n",
       " 'XYL': {'sr': 0.14734317026114785, 'av_ret': 0.011845934094949155},\n",
       " 'YUM': {'sr': 0.2876360919451056, 'av_ret': 0.019735347947740668},\n",
       " 'ZBRA': {'sr': 0.1656897420060088, 'av_ret': 0.012396836429364295},\n",
       " 'ZBH': {'sr': 0.17248082257755723, 'av_ret': 0.013588173264364834},\n",
       " 'ZION': {'sr': 0.12122017382709988, 'av_ret': 0.012559513033203362},\n",
       " 'ZTS': {'sr': 0.3962082539287392, 'av_ret': 0.014430332803826698}}"
      ]
     },
     "execution_count": 28,
     "metadata": {},
     "output_type": "execute_result"
    }
   ],
   "source": [
    "stats_tr"
   ]
  },
  {
   "cell_type": "code",
   "execution_count": 29,
   "id": "edea1382",
   "metadata": {},
   "outputs": [
    {
     "data": {
      "text/plain": [
       "<AxesSubplot: >"
      ]
     },
     "execution_count": 29,
     "metadata": {},
     "output_type": "execute_result"
    },
    {
     "data": {
      "image/png": "[encoded data removed]",
      "text/plain": [
       "<Figure size 640x480 with 1 Axes>"
      ]
     },
     "metadata": {},
     "output_type": "display_data"
    }
   ],
   "source": [
    "df_stats_tr['sr'].plot()"
   ]
  },
  {
   "cell_type": "code",
   "execution_count": 30,
   "id": "5bd543a9",
   "metadata": {},
   "outputs": [
    {
     "data": {
      "text/plain": [
       "<AxesSubplot: >"
      ]
     },
     "execution_count": 30,
     "metadata": {},
     "output_type": "execute_result"
    },
    {
     "data": {
      "image/png": "[encoded data removed]",
      "text/plain": [
       "<Figure size 640x480 with 1 Axes>"
      ]
     },
     "metadata": {},
     "output_type": "display_data"
    }
   ],
   "source": [
    "df_stats_tr['av_ret'].plot()"
   ]
  },
  {
   "cell_type": "markdown",
   "id": "4ab7aae8",
   "metadata": {},
   "source": [
    "### Creating stock of baskets\n",
    "\n",
    "We create a basket of stocks using the following parameters. We choose among the best N stocks (sorted by your choosen column)."
   ]
  },
  {
   "cell_type": "code",
   "execution_count": 31,
   "id": "45211c57",
   "metadata": {},
   "outputs": [],
   "source": [
    "max_stocks = 100\n",
    "basket_size = 5"
   ]
  },
  {
   "cell_type": "markdown",
   "id": "702401bc",
   "metadata": {},
   "source": [
    "Using this group of stocks, we can check how they performed the following year.\n",
    "We then save the results for using them for another notebook."
   ]
  },
  {
   "cell_type": "code",
   "execution_count": 32,
   "id": "d83f8636",
   "metadata": {},
   "outputs": [
    {
     "data": {
      "text/plain": [
       "sr        0.354306\n",
       "av_ret    0.030217\n",
       "dtype: float64"
      ]
     },
     "execution_count": 32,
     "metadata": {},
     "output_type": "execute_result"
    }
   ],
   "source": [
    "df_stats_tr[0:max_stocks].mean()"
   ]
  },
  {
   "cell_type": "code",
   "execution_count": 33,
   "id": "c0ac96c9",
   "metadata": {},
   "outputs": [],
   "source": [
    "lst_vals = range(0,max_stocks)"
   ]
  },
  {
   "cell_type": "code",
   "execution_count": 34,
   "id": "89dd7666",
   "metadata": {},
   "outputs": [
    {
     "data": {
      "text/plain": [
       "<AxesSubplot: >"
      ]
     },
     "execution_count": 34,
     "metadata": {},
     "output_type": "execute_result"
    },
    {
     "data": {
      "image/png": "[encoded data removed]",
      "text/plain": [
       "<Figure size 640x480 with 1 Axes>"
      ]
     },
     "metadata": {},
     "output_type": "display_data"
    }
   ],
   "source": [
    "df_stats_tr.plot()"
   ]
  },
  {
   "cell_type": "code",
   "execution_count": 35,
   "id": "366a5a27",
   "metadata": {},
   "outputs": [
    {
     "data": {
      "text/plain": [
       "sr        0.144862\n",
       "av_ret    0.011369\n",
       "dtype: float64"
      ]
     },
     "execution_count": 35,
     "metadata": {},
     "output_type": "execute_result"
    }
   ],
   "source": [
    "tst = df_stats_tr.index[lst_vals].values\n",
    "df_stats_tst.loc[tst].dropna().mean()"
   ]
  },
  {
   "cell_type": "code",
   "execution_count": 36,
   "id": "22310575",
   "metadata": {},
   "outputs": [
    {
     "data": {
      "text/plain": [
       "array(['FANG', 'APTV', 'ABBV', 'AMCR', 'PSX', 'GNRC', 'TRGP', 'NCLH',\n",
       "       'VRSK', 'FLT', 'AWK', 'CHTR', 'TYL', 'SHW', 'ZTS', 'GILD', 'AVGO',\n",
       "       'LKQ', 'FTNT', 'MA', 'CHD', 'WEC', 'TRMB', 'NOW', 'NKE', 'ACGL',\n",
       "       'AON', 'LYB', 'NXPI', 'UNP', 'AMT', 'EVRG', 'SRE', 'FAST', 'SBAC',\n",
       "       'OKE', 'HCA', 'EXR', 'ORLY', 'ANSS', 'LIN', 'TSLA', 'WRB', 'ROK',\n",
       "       'ICE', 'CB', 'PNR', 'AAPL', 'NDSN', 'ODFL', 'PSA', 'AME', 'DVA',\n",
       "       'O', 'NEE', 'IDXX', 'MNST', 'NSC', 'ROL', 'CSX', 'DLR', 'CCI',\n",
       "       'HAS', 'PPG', 'GWW', 'JBHT', 'CRM', 'CTRA', 'JKHY', 'WYNN', 'ECL',\n",
       "       'TSCO', 'ROP', 'WAB', 'RTX', 'ROST', 'HUBB', 'WMB', 'XEL', 'CMG',\n",
       "       'ACN', 'ILMN', 'WST', 'YUM', 'TDY', 'MMM', 'NFLX', 'V', 'FSLR',\n",
       "       'CPB', 'BKNG', 'APD', 'DFS', 'ATO', 'CAT', 'FRT', 'MTD', 'AMZN',\n",
       "       'ESS', 'TDG'], dtype=object)"
      ]
     },
     "execution_count": 36,
     "metadata": {},
     "output_type": "execute_result"
    }
   ],
   "source": [
    "tst"
   ]
  },
  {
   "cell_type": "code",
   "execution_count": 37,
   "id": "b1b266f5",
   "metadata": {},
   "outputs": [
    {
     "data": {
      "text/plain": [
       "<AxesSubplot: >"
      ]
     },
     "execution_count": 37,
     "metadata": {},
     "output_type": "execute_result"
    },
    {
     "data": {
      "image/png": "[encoded data removed]",
      "text/plain": [
       "<Figure size 640x480 with 1 Axes>"
      ]
     },
     "metadata": {},
     "output_type": "display_data"
    }
   ],
   "source": [
    "df_stats_tst.loc[tst].plot()"
   ]
  },
  {
   "cell_type": "code",
   "execution_count": 38,
   "id": "cc3695f1",
   "metadata": {},
   "outputs": [],
   "source": [
    "import random\n",
    "\n",
    "random.shuffle(tst)\n",
    "stcks = {'stocks_dict':list(tst), 'groups':{}}\n",
    "\n",
    "for i in range(0,max_stocks,basket_size):\n",
    "    stcks['groups'].update({i:list(tst[i:i+basket_size])})"
   ]
  },
  {
   "cell_type": "code",
   "execution_count": 41,
   "id": "3ccd97d5",
   "metadata": {},
   "outputs": [],
   "source": [
    "with open('../../../datasharing/stock_tst_group.json','w') as file:\n",
    "    file.write(json.dumps(stcks))"
   ]
  },
  {
   "cell_type": "code",
   "execution_count": null,
   "id": "6d7c7ce1",
   "metadata": {},
   "outputs": [],
   "source": []
  }
 ],
 "metadata": {
  "kernelspec": {
   "display_name": "Python 3 (ipykernel)",
   "language": "python",
   "name": "python3"
  },
  "language_info": {
   "codemirror_mode": {
    "name": "ipython",
    "version": 3
   },
   "file_extension": ".py",
   "mimetype": "text/x-python",
   "name": "python",
   "nbconvert_exporter": "python",
   "pygments_lexer": "ipython3",
   "version": "3.10.6"
  }
 },
 "nbformat": 4,
 "nbformat_minor": 5
}
